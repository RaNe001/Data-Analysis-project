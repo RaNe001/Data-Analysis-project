{
 "cells": [
  {
   "cell_type": "markdown",
   "metadata": {},
   "source": [
    "Fake Buyer Identification, Find the order id satisfying following conditions:\n",
    "1.The shipping address differs from the billing address.\n",
    "2.Unusually large orders.(cut off Rs 50000)\n",
    "3.Multiple orders to the same address with different payment method.\n",
    "4.Unexpected international orders.\n",
    "Present all the subtasks in the form of charts"
   ]
  },
  {
   "cell_type": "code",
   "execution_count": 1,
   "metadata": {},
   "outputs": [],
   "source": [
    "import pandas as pd\n",
    "import numpy as np\n",
    "import seaborn as sns\n",
    "import matplotlib.pyplot as plt\n",
    "%matplotlib inline"
   ]
  },
  {
   "cell_type": "code",
   "execution_count": 2,
   "metadata": {},
   "outputs": [
    {
     "data": {
      "text/html": [
       "<div><div id=04fdee9c-ef43-49ea-8db0-2ac5d732b9ce style=\"display:none; background-color:#9D6CFF; color:white; width:200px; height:30px; padding-left:5px; border-radius:4px; flex-direction:row; justify-content:space-around; align-items:center;\" onmouseover=\"this.style.backgroundColor='#BA9BF8'\" onmouseout=\"this.style.backgroundColor='#9D6CFF'\" onclick=\"window.commands?.execute('create-mitosheet-from-dataframe-output');\">See Full Dataframe in Mito</div> <script> if (window.commands?.hasCommand('create-mitosheet-from-dataframe-output')) document.getElementById('04fdee9c-ef43-49ea-8db0-2ac5d732b9ce').style.display = 'flex' </script> <table border=\"1\" class=\"dataframe\">\n",
       "  <thead>\n",
       "    <tr style=\"text-align: right;\">\n",
       "      <th></th>\n",
       "      <th>Order #</th>\n",
       "      <th>Fulfillment Date and Time Stamp</th>\n",
       "      <th>Currency</th>\n",
       "      <th>Subtotal</th>\n",
       "      <th>Shipping Method</th>\n",
       "      <th>Shipping Cost</th>\n",
       "      <th>Tax Method</th>\n",
       "      <th>Taxes</th>\n",
       "      <th>Total</th>\n",
       "      <th>Coupon Code</th>\n",
       "      <th>...</th>\n",
       "      <th>Tracking #</th>\n",
       "      <th>Special Instructions</th>\n",
       "      <th>LineItem Name</th>\n",
       "      <th>LineItem SKU</th>\n",
       "      <th>LineItem Options</th>\n",
       "      <th>LineItem Add-ons</th>\n",
       "      <th>LineItem Qty</th>\n",
       "      <th>LineItem Sale Price</th>\n",
       "      <th>Download Status</th>\n",
       "      <th>LineItem Type</th>\n",
       "    </tr>\n",
       "  </thead>\n",
       "  <tbody>\n",
       "    <tr>\n",
       "      <th>0</th>\n",
       "      <td>R121113121</td>\n",
       "      <td>NaN</td>\n",
       "      <td>INR</td>\n",
       "      <td>2299</td>\n",
       "      <td>Ships Free</td>\n",
       "      <td>0</td>\n",
       "      <td>NaN</td>\n",
       "      <td>0.0</td>\n",
       "      <td>2299</td>\n",
       "      <td>NaN</td>\n",
       "      <td>...</td>\n",
       "      <td>NaN</td>\n",
       "      <td>NaN</td>\n",
       "      <td>Falcon Drone Four Axis Aircraft with 2.4 GHz RC, Blade Guard, Headless Mode LED Without Camera</td>\n",
       "      <td>PL0093416</td>\n",
       "      <td>NaN</td>\n",
       "      <td>NaN</td>\n",
       "      <td>1</td>\n",
       "      <td>2299</td>\n",
       "      <td>NaN</td>\n",
       "      <td>physical</td>\n",
       "    </tr>\n",
       "    <tr>\n",
       "      <th>1</th>\n",
       "      <td>R472890631</td>\n",
       "      <td>NaN</td>\n",
       "      <td>INR</td>\n",
       "      <td>2299</td>\n",
       "      <td>Ships Free</td>\n",
       "      <td>0</td>\n",
       "      <td>NaN</td>\n",
       "      <td>0.0</td>\n",
       "      <td>2299</td>\n",
       "      <td>NaN</td>\n",
       "      <td>...</td>\n",
       "      <td>NaN</td>\n",
       "      <td>NaN</td>\n",
       "      <td>Falcon Drone Four Axis Aircraft with 2.4 GHz RC, Blade Guard, Headless Mode LED Without Camera</td>\n",
       "      <td>PL0093416</td>\n",
       "      <td>NaN</td>\n",
       "      <td>NaN</td>\n",
       "      <td>1</td>\n",
       "      <td>2299</td>\n",
       "      <td>NaN</td>\n",
       "      <td>physical</td>\n",
       "    </tr>\n",
       "    <tr>\n",
       "      <th>2</th>\n",
       "      <td>R004476488</td>\n",
       "      <td>NaN</td>\n",
       "      <td>INR</td>\n",
       "      <td>2299</td>\n",
       "      <td>Ships Free</td>\n",
       "      <td>0</td>\n",
       "      <td>NaN</td>\n",
       "      <td>0.0</td>\n",
       "      <td>2299</td>\n",
       "      <td>NaN</td>\n",
       "      <td>...</td>\n",
       "      <td>NaN</td>\n",
       "      <td>NaN</td>\n",
       "      <td>Falcon Drone Four Axis Aircraft with 2.4 GHz RC, Blade Guard, Headless Mode LED Without Camera</td>\n",
       "      <td>PL0093416</td>\n",
       "      <td>NaN</td>\n",
       "      <td>NaN</td>\n",
       "      <td>1</td>\n",
       "      <td>2299</td>\n",
       "      <td>NaN</td>\n",
       "      <td>physical</td>\n",
       "    </tr>\n",
       "    <tr>\n",
       "      <th>3</th>\n",
       "      <td>R526038353</td>\n",
       "      <td>NaN</td>\n",
       "      <td>INR</td>\n",
       "      <td>2299</td>\n",
       "      <td>Ships Free</td>\n",
       "      <td>0</td>\n",
       "      <td>NaN</td>\n",
       "      <td>0.0</td>\n",
       "      <td>2299</td>\n",
       "      <td>NaN</td>\n",
       "      <td>...</td>\n",
       "      <td>NaN</td>\n",
       "      <td>NaN</td>\n",
       "      <td>Falcon Drone Four Axis Aircraft with 2.4 GHz RC, Blade Guard, Headless Mode LED Without Camera</td>\n",
       "      <td>PL0093416</td>\n",
       "      <td>NaN</td>\n",
       "      <td>NaN</td>\n",
       "      <td>1</td>\n",
       "      <td>2299</td>\n",
       "      <td>NaN</td>\n",
       "      <td>physical</td>\n",
       "    </tr>\n",
       "    <tr>\n",
       "      <th>4</th>\n",
       "      <td>R658530771</td>\n",
       "      <td>NaN</td>\n",
       "      <td>INR</td>\n",
       "      <td>349</td>\n",
       "      <td>Ships Free</td>\n",
       "      <td>0</td>\n",
       "      <td>NaN</td>\n",
       "      <td>0.0</td>\n",
       "      <td>349</td>\n",
       "      <td>NaN</td>\n",
       "      <td>...</td>\n",
       "      <td>NaN</td>\n",
       "      <td>NaN</td>\n",
       "      <td>Barbie Doll (pink)</td>\n",
       "      <td>PL00098</td>\n",
       "      <td>NaN</td>\n",
       "      <td>NaN</td>\n",
       "      <td>1</td>\n",
       "      <td>349</td>\n",
       "      <td>NaN</td>\n",
       "      <td>physical</td>\n",
       "    </tr>\n",
       "  </tbody>\n",
       "</table></div>"
      ],
      "text/plain": [
       "      Order # Fulfillment Date and Time Stamp Currency Subtotal  \\\n",
       "0  R121113121                             NaN      INR     2299   \n",
       "1  R472890631                             NaN      INR     2299   \n",
       "2  R004476488                             NaN      INR     2299   \n",
       "3  R526038353                             NaN      INR     2299   \n",
       "4  R658530771                             NaN      INR      349   \n",
       "\n",
       "  Shipping Method  Shipping Cost Tax Method  Taxes Total Coupon Code  ...  \\\n",
       "0      Ships Free              0        NaN    0.0  2299         NaN  ...   \n",
       "1      Ships Free              0        NaN    0.0  2299         NaN  ...   \n",
       "2      Ships Free              0        NaN    0.0  2299         NaN  ...   \n",
       "3      Ships Free              0        NaN    0.0  2299         NaN  ...   \n",
       "4      Ships Free              0        NaN    0.0   349         NaN  ...   \n",
       "\n",
       "  Tracking #  Special Instructions  \\\n",
       "0        NaN                   NaN   \n",
       "1        NaN                   NaN   \n",
       "2        NaN                   NaN   \n",
       "3        NaN                   NaN   \n",
       "4        NaN                   NaN   \n",
       "\n",
       "                                       LineItem Name LineItem SKU  \\\n",
       "0  Falcon Drone Four Axis Aircraft with 2.4 GHz R...    PL0093416   \n",
       "1  Falcon Drone Four Axis Aircraft with 2.4 GHz R...    PL0093416   \n",
       "2  Falcon Drone Four Axis Aircraft with 2.4 GHz R...    PL0093416   \n",
       "3  Falcon Drone Four Axis Aircraft with 2.4 GHz R...    PL0093416   \n",
       "4                                 Barbie Doll (pink)      PL00098   \n",
       "\n",
       "  LineItem Options LineItem Add-ons LineItem Qty LineItem Sale Price  \\\n",
       "0              NaN              NaN            1                2299   \n",
       "1              NaN              NaN            1                2299   \n",
       "2              NaN              NaN            1                2299   \n",
       "3              NaN              NaN            1                2299   \n",
       "4              NaN              NaN            1                 349   \n",
       "\n",
       "  Download Status LineItem Type  \n",
       "0             NaN      physical  \n",
       "1             NaN      physical  \n",
       "2             NaN      physical  \n",
       "3             NaN      physical  \n",
       "4             NaN      physical  \n",
       "\n",
       "[5 rows x 38 columns]"
      ]
     },
     "execution_count": 2,
     "metadata": {},
     "output_type": "execute_result"
    }
   ],
   "source": [
    "data = pd.read_csv('orders_2020_2021_DataSet_Updated.csv')\n",
    "data.head()"
   ]
  },
  {
   "cell_type": "code",
   "execution_count": 3,
   "metadata": {},
   "outputs": [
    {
     "data": {
      "text/plain": [
       "Index(['Order #', 'Fulfillment Date and Time Stamp', 'Currency', 'Subtotal',\n",
       "       'Shipping Method', 'Shipping Cost', 'Tax Method', 'Taxes', 'Total',\n",
       "       'Coupon Code', 'Coupon Code Name', ' ', 'Billing Name',\n",
       "       'Billing Country', 'Billing Street Address', 'Billing Street Address 2',\n",
       "       'Billing City', 'Billing State', 'Billing Zip', 'Shipping Name',\n",
       "       'Shipping Country', 'Shipping Street Address',\n",
       "       'Shipping Street Address 2', 'Shipping City', 'Shipping State',\n",
       "       'Shipping Zip', 'Gift Cards', 'Payment Method', 'Tracking #',\n",
       "       'Special Instructions', 'LineItem Name', 'LineItem SKU',\n",
       "       'LineItem Options', 'LineItem Add-ons', 'LineItem Qty',\n",
       "       'LineItem Sale Price', 'Download Status', 'LineItem Type'],\n",
       "      dtype='object')"
      ]
     },
     "execution_count": 3,
     "metadata": {},
     "output_type": "execute_result"
    }
   ],
   "source": [
    "data.columns"
   ]
  },
  {
   "cell_type": "code",
   "execution_count": 4,
   "metadata": {},
   "outputs": [
    {
     "data": {
      "text/plain": [
       "(3039, 38)"
      ]
     },
     "execution_count": 4,
     "metadata": {},
     "output_type": "execute_result"
    }
   ],
   "source": [
    "data.shape"
   ]
  },
  {
   "cell_type": "code",
   "execution_count": 5,
   "metadata": {},
   "outputs": [
    {
     "data": {
      "text/html": [
       "<div><div id=244fd6d7-78a5-47c2-a8d9-db3e73ae0f85 style=\"display:none; background-color:#9D6CFF; color:white; width:200px; height:30px; padding-left:5px; border-radius:4px; flex-direction:row; justify-content:space-around; align-items:center;\" onmouseover=\"this.style.backgroundColor='#BA9BF8'\" onmouseout=\"this.style.backgroundColor='#9D6CFF'\" onclick=\"window.commands?.execute('create-mitosheet-from-dataframe-output');\">See Full Dataframe in Mito</div> <script> if (window.commands?.hasCommand('create-mitosheet-from-dataframe-output')) document.getElementById('244fd6d7-78a5-47c2-a8d9-db3e73ae0f85').style.display = 'flex' </script> <table border=\"1\" class=\"dataframe\">\n",
       "  <thead>\n",
       "    <tr style=\"text-align: right;\">\n",
       "      <th></th>\n",
       "      <th>Billing Street Address</th>\n",
       "      <th>Billing Street Address 2</th>\n",
       "      <th>Shipping Street Address</th>\n",
       "      <th>Shipping Street Address 2</th>\n",
       "    </tr>\n",
       "  </thead>\n",
       "  <tbody>\n",
       "    <tr>\n",
       "      <th>0</th>\n",
       "      <td>Maharashtra chandrapur ghugus</td>\n",
       "      <td>Rajiv colony Gopal Nagar Bachelor guest House 2</td>\n",
       "      <td>Maharashtra chandrapur ghugus</td>\n",
       "      <td>Rajiv colony Gopal Nagar Bachelor guest House 2</td>\n",
       "    </tr>\n",
       "    <tr>\n",
       "      <th>1</th>\n",
       "      <td>NaN</td>\n",
       "      <td>NaN</td>\n",
       "      <td>Maharashtra chandrapur ghugus</td>\n",
       "      <td>Rajiv colony Gopal Nagar guest House 2</td>\n",
       "    </tr>\n",
       "    <tr>\n",
       "      <th>2</th>\n",
       "      <td>NaN</td>\n",
       "      <td>NaN</td>\n",
       "      <td>Maharashtra chandrapur ghugus</td>\n",
       "      <td>Rajiv colony Gopal Nagar guest House 2</td>\n",
       "    </tr>\n",
       "  </tbody>\n",
       "</table></div>"
      ],
      "text/plain": [
       "          Billing Street Address  \\\n",
       "0  Maharashtra chandrapur ghugus   \n",
       "1                            NaN   \n",
       "2                            NaN   \n",
       "\n",
       "                          Billing Street Address 2  \\\n",
       "0  Rajiv colony Gopal Nagar Bachelor guest House 2   \n",
       "1                                              NaN   \n",
       "2                                              NaN   \n",
       "\n",
       "         Shipping Street Address  \\\n",
       "0  Maharashtra chandrapur ghugus   \n",
       "1  Maharashtra chandrapur ghugus   \n",
       "2  Maharashtra chandrapur ghugus   \n",
       "\n",
       "                         Shipping Street Address 2  \n",
       "0  Rajiv colony Gopal Nagar Bachelor guest House 2  \n",
       "1           Rajiv colony Gopal Nagar guest House 2  \n",
       "2           Rajiv colony Gopal Nagar guest House 2  "
      ]
     },
     "execution_count": 5,
     "metadata": {},
     "output_type": "execute_result"
    }
   ],
   "source": [
    "fake_idnt_1 = data[['Billing Street Address', 'Billing Street Address 2', 'Shipping Street Address',\n",
    "       'Shipping Street Address 2']]\n",
    "fake_idnt_1.head(3)\n"
   ]
  },
  {
   "cell_type": "code",
   "execution_count": 6,
   "metadata": {},
   "outputs": [
    {
     "name": "stdout",
     "output_type": "stream",
     "text": [
      "<class 'pandas.core.frame.DataFrame'>\n",
      "RangeIndex: 3039 entries, 0 to 3038\n",
      "Data columns (total 4 columns):\n",
      " #   Column                     Non-Null Count  Dtype \n",
      "---  ------                     --------------  ----- \n",
      " 0   Billing Street Address     375 non-null    object\n",
      " 1   Billing Street Address 2   228 non-null    object\n",
      " 2   Shipping Street Address    3020 non-null   object\n",
      " 3   Shipping Street Address 2  2057 non-null   object\n",
      "dtypes: object(4)\n",
      "memory usage: 95.1+ KB\n"
     ]
    }
   ],
   "source": [
    "fake_idnt_1.info()"
   ]
  },
  {
   "cell_type": "code",
   "execution_count": 7,
   "metadata": {},
   "outputs": [
    {
     "data": {
      "text/plain": [
       "Billing Street Address       2664\n",
       "Billing Street Address 2     2811\n",
       "Shipping Street Address        19\n",
       "Shipping Street Address 2     982\n",
       "dtype: int64"
      ]
     },
     "execution_count": 7,
     "metadata": {},
     "output_type": "execute_result"
    }
   ],
   "source": [
    "fake_idnt_1.isnull().sum()"
   ]
  },
  {
   "cell_type": "code",
   "execution_count": 8,
   "metadata": {},
   "outputs": [
    {
     "data": {
      "text/plain": [
       "(3039, 4)"
      ]
     },
     "execution_count": 8,
     "metadata": {},
     "output_type": "execute_result"
    }
   ],
   "source": [
    "fake_idnt_1.shape"
   ]
  },
  {
   "cell_type": "code",
   "execution_count": 9,
   "metadata": {},
   "outputs": [
    {
     "name": "stderr",
     "output_type": "stream",
     "text": [
      "C:\\Users\\Admin\\AppData\\Local\\Temp\\ipykernel_2764\\915846081.py:1: SettingWithCopyWarning: \n",
      "A value is trying to be set on a copy of a slice from a DataFrame\n",
      "\n",
      "See the caveats in the documentation: https://pandas.pydata.org/pandas-docs/stable/user_guide/indexing.html#returning-a-view-versus-a-copy\n",
      "  fake_idnt_1.rename(columns={'Billing Street Address':'Billing Street Address 1',\n"
     ]
    }
   ],
   "source": [
    "fake_idnt_1.rename(columns={'Billing Street Address':'Billing Street Address 1',\n",
    "        'Shipping Street Address':'Shipping Street Address 1'}, inplace=True)"
   ]
  },
  {
   "cell_type": "code",
   "execution_count": null,
   "metadata": {},
   "outputs": [],
   "source": []
  }
 ],
 "metadata": {
  "kernelspec": {
   "display_name": "Python 3 (ipykernel)",
   "language": "python",
   "name": "python3"
  },
  "language_info": {
   "codemirror_mode": {
    "name": "ipython",
    "version": 3
   },
   "file_extension": ".py",
   "mimetype": "text/x-python",
   "name": "python",
   "nbconvert_exporter": "python",
   "pygments_lexer": "ipython3",
   "version": "3.10.0"
  },
  "vscode": {
   "interpreter": {
    "hash": "a42ccb73e7d9bfdf27e036f1d2b8b681e55fc0743cc5586bc2474d4a60f4b886"
   }
  }
 },
 "nbformat": 4,
 "nbformat_minor": 2
}
