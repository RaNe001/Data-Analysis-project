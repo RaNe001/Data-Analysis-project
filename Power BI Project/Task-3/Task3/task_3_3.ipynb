{
 "cells": [
  {
   "cell_type": "markdown",
   "metadata": {},
   "source": [
    "##### Sub-Task\n",
    "##### Multiple Orders to the same Address with different Payment Methods"
   ]
  },
  {
   "cell_type": "code",
   "execution_count": 1,
   "metadata": {},
   "outputs": [],
   "source": [
    "import pandas as pd\n",
    "import numpy as np\n",
    "import matplotlib.pyplot as plt\n",
    "import seaborn as sns\n",
    "%matplotlib inline"
   ]
  },
  {
   "cell_type": "code",
   "execution_count": 2,
   "metadata": {},
   "outputs": [
    {
     "data": {
      "text/html": [
       "<div><div id=eb48b9a9-62f9-47e5-a138-bc98006e79b7 style=\"display:none; background-color:#9D6CFF; color:white; width:200px; height:30px; padding-left:5px; border-radius:4px; flex-direction:row; justify-content:space-around; align-items:center;\" onmouseover=\"this.style.backgroundColor='#BA9BF8'\" onmouseout=\"this.style.backgroundColor='#9D6CFF'\" onclick=\"window.commands?.execute('create-mitosheet-from-dataframe-output');\">See Full Dataframe in Mito</div> <script> if (window.commands?.hasCommand('create-mitosheet-from-dataframe-output')) document.getElementById('eb48b9a9-62f9-47e5-a138-bc98006e79b7').style.display = 'flex' </script> <table border=\"1\" class=\"dataframe\">\n",
       "  <thead>\n",
       "    <tr style=\"text-align: right;\">\n",
       "      <th></th>\n",
       "      <th>Order #</th>\n",
       "      <th>Fulfillment Date and Time Stamp</th>\n",
       "      <th>Currency</th>\n",
       "      <th>Subtotal</th>\n",
       "      <th>Shipping Method</th>\n",
       "      <th>Shipping Cost</th>\n",
       "      <th>Tax Method</th>\n",
       "      <th>Taxes</th>\n",
       "      <th>Total</th>\n",
       "      <th>Coupon Code</th>\n",
       "      <th>...</th>\n",
       "      <th>Tracking #</th>\n",
       "      <th>Special Instructions</th>\n",
       "      <th>LineItem Name</th>\n",
       "      <th>LineItem SKU</th>\n",
       "      <th>LineItem Options</th>\n",
       "      <th>LineItem Add-ons</th>\n",
       "      <th>LineItem Qty</th>\n",
       "      <th>LineItem Sale Price</th>\n",
       "      <th>Download Status</th>\n",
       "      <th>LineItem Type</th>\n",
       "    </tr>\n",
       "  </thead>\n",
       "  <tbody>\n",
       "    <tr>\n",
       "      <th>0</th>\n",
       "      <td>R121113121</td>\n",
       "      <td>NaN</td>\n",
       "      <td>INR</td>\n",
       "      <td>2299</td>\n",
       "      <td>Ships Free</td>\n",
       "      <td>0</td>\n",
       "      <td>NaN</td>\n",
       "      <td>0.0</td>\n",
       "      <td>2299</td>\n",
       "      <td>NaN</td>\n",
       "      <td>...</td>\n",
       "      <td>NaN</td>\n",
       "      <td>NaN</td>\n",
       "      <td>Falcon Drone Four Axis Aircraft with 2.4 GHz RC, Blade Guard, Headless Mode LED Without Camera</td>\n",
       "      <td>PL0093416</td>\n",
       "      <td>NaN</td>\n",
       "      <td>NaN</td>\n",
       "      <td>1</td>\n",
       "      <td>2299</td>\n",
       "      <td>NaN</td>\n",
       "      <td>physical</td>\n",
       "    </tr>\n",
       "    <tr>\n",
       "      <th>1</th>\n",
       "      <td>R472890631</td>\n",
       "      <td>NaN</td>\n",
       "      <td>INR</td>\n",
       "      <td>2299</td>\n",
       "      <td>Ships Free</td>\n",
       "      <td>0</td>\n",
       "      <td>NaN</td>\n",
       "      <td>0.0</td>\n",
       "      <td>2299</td>\n",
       "      <td>NaN</td>\n",
       "      <td>...</td>\n",
       "      <td>NaN</td>\n",
       "      <td>NaN</td>\n",
       "      <td>Falcon Drone Four Axis Aircraft with 2.4 GHz RC, Blade Guard, Headless Mode LED Without Camera</td>\n",
       "      <td>PL0093416</td>\n",
       "      <td>NaN</td>\n",
       "      <td>NaN</td>\n",
       "      <td>1</td>\n",
       "      <td>2299</td>\n",
       "      <td>NaN</td>\n",
       "      <td>physical</td>\n",
       "    </tr>\n",
       "  </tbody>\n",
       "</table></div>"
      ],
      "text/plain": [
       "      Order # Fulfillment Date and Time Stamp Currency Subtotal  \\\n",
       "0  R121113121                             NaN      INR     2299   \n",
       "1  R472890631                             NaN      INR     2299   \n",
       "\n",
       "  Shipping Method  Shipping Cost Tax Method  Taxes Total Coupon Code  ...  \\\n",
       "0      Ships Free              0        NaN    0.0  2299         NaN  ...   \n",
       "1      Ships Free              0        NaN    0.0  2299         NaN  ...   \n",
       "\n",
       "  Tracking #  Special Instructions  \\\n",
       "0        NaN                   NaN   \n",
       "1        NaN                   NaN   \n",
       "\n",
       "                                       LineItem Name LineItem SKU  \\\n",
       "0  Falcon Drone Four Axis Aircraft with 2.4 GHz R...    PL0093416   \n",
       "1  Falcon Drone Four Axis Aircraft with 2.4 GHz R...    PL0093416   \n",
       "\n",
       "  LineItem Options LineItem Add-ons LineItem Qty LineItem Sale Price  \\\n",
       "0              NaN              NaN            1                2299   \n",
       "1              NaN              NaN            1                2299   \n",
       "\n",
       "  Download Status LineItem Type  \n",
       "0             NaN      physical  \n",
       "1             NaN      physical  \n",
       "\n",
       "[2 rows x 38 columns]"
      ]
     },
     "execution_count": 2,
     "metadata": {},
     "output_type": "execute_result"
    }
   ],
   "source": [
    "data=pd.read_csv('orders_2020_2021_DataSet_Updated.csv')\n",
    "data.head(2)"
   ]
  },
  {
   "cell_type": "code",
   "execution_count": 3,
   "metadata": {},
   "outputs": [
    {
     "data": {
      "text/plain": [
       "Index(['Order #', 'Fulfillment Date and Time Stamp', 'Currency', 'Subtotal',\n",
       "       'Shipping Method', 'Shipping Cost', 'Tax Method', 'Taxes', 'Total',\n",
       "       'Coupon Code', 'Coupon Code Name', ' ', 'Billing Name',\n",
       "       'Billing Country', 'Billing Street Address', 'Billing Street Address 2',\n",
       "       'Billing City', 'Billing State', 'Billing Zip', 'Shipping Name',\n",
       "       'Shipping Country', 'Shipping Street Address',\n",
       "       'Shipping Street Address 2', 'Shipping City', 'Shipping State',\n",
       "       'Shipping Zip', 'Gift Cards', 'Payment Method', 'Tracking #',\n",
       "       'Special Instructions', 'LineItem Name', 'LineItem SKU',\n",
       "       'LineItem Options', 'LineItem Add-ons', 'LineItem Qty',\n",
       "       'LineItem Sale Price', 'Download Status', 'LineItem Type'],\n",
       "      dtype='object')"
      ]
     },
     "execution_count": 3,
     "metadata": {},
     "output_type": "execute_result"
    }
   ],
   "source": [
    "data.columns"
   ]
  },
  {
   "cell_type": "code",
   "execution_count": 4,
   "metadata": {},
   "outputs": [
    {
     "data": {
      "text/html": [
       "<div><div id=82c4d2ea-20e0-4b97-8c90-aae7cb3186b5 style=\"display:none; background-color:#9D6CFF; color:white; width:200px; height:30px; padding-left:5px; border-radius:4px; flex-direction:row; justify-content:space-around; align-items:center;\" onmouseover=\"this.style.backgroundColor='#BA9BF8'\" onmouseout=\"this.style.backgroundColor='#9D6CFF'\" onclick=\"window.commands?.execute('create-mitosheet-from-dataframe-output');\">See Full Dataframe in Mito</div> <script> if (window.commands?.hasCommand('create-mitosheet-from-dataframe-output')) document.getElementById('82c4d2ea-20e0-4b97-8c90-aae7cb3186b5').style.display = 'flex' </script> <table border=\"1\" class=\"dataframe\">\n",
       "  <thead>\n",
       "    <tr style=\"text-align: right;\">\n",
       "      <th></th>\n",
       "      <th>Order #</th>\n",
       "      <th>LineItem Name</th>\n",
       "      <th>Billing Street Address</th>\n",
       "      <th>Billing Street Address 2</th>\n",
       "      <th>Shipping Street Address</th>\n",
       "      <th>Shipping Street Address 2</th>\n",
       "      <th>Payment Method</th>\n",
       "    </tr>\n",
       "  </thead>\n",
       "  <tbody>\n",
       "    <tr>\n",
       "      <th>0</th>\n",
       "      <td>R121113121</td>\n",
       "      <td>Falcon Drone Four Axis Aircraft with 2.4 GHz RC, Blade Guard, Headless Mode LED Without Camera</td>\n",
       "      <td>Maharashtra chandrapur ghugus</td>\n",
       "      <td>Rajiv colony Gopal Nagar Bachelor guest House 2</td>\n",
       "      <td>Maharashtra chandrapur ghugus</td>\n",
       "      <td>Rajiv colony Gopal Nagar Bachelor guest House 2</td>\n",
       "      <td>NaN</td>\n",
       "    </tr>\n",
       "    <tr>\n",
       "      <th>1</th>\n",
       "      <td>R472890631</td>\n",
       "      <td>Falcon Drone Four Axis Aircraft with 2.4 GHz RC, Blade Guard, Headless Mode LED Without Camera</td>\n",
       "      <td>NaN</td>\n",
       "      <td>NaN</td>\n",
       "      <td>Maharashtra chandrapur ghugus</td>\n",
       "      <td>Rajiv colony Gopal Nagar guest House 2</td>\n",
       "      <td>NaN</td>\n",
       "    </tr>\n",
       "  </tbody>\n",
       "</table></div>"
      ],
      "text/plain": [
       "      Order #                                      LineItem Name  \\\n",
       "0  R121113121  Falcon Drone Four Axis Aircraft with 2.4 GHz R...   \n",
       "1  R472890631  Falcon Drone Four Axis Aircraft with 2.4 GHz R...   \n",
       "\n",
       "          Billing Street Address  \\\n",
       "0  Maharashtra chandrapur ghugus   \n",
       "1                            NaN   \n",
       "\n",
       "                          Billing Street Address 2  \\\n",
       "0  Rajiv colony Gopal Nagar Bachelor guest House 2   \n",
       "1                                              NaN   \n",
       "\n",
       "         Shipping Street Address  \\\n",
       "0  Maharashtra chandrapur ghugus   \n",
       "1  Maharashtra chandrapur ghugus   \n",
       "\n",
       "                         Shipping Street Address 2 Payment Method  \n",
       "0  Rajiv colony Gopal Nagar Bachelor guest House 2            NaN  \n",
       "1           Rajiv colony Gopal Nagar guest House 2            NaN  "
      ]
     },
     "execution_count": 4,
     "metadata": {},
     "output_type": "execute_result"
    }
   ],
   "source": [
    "fake_idnt_3 = data[['Order #', 'LineItem Name', 'Billing Street Address', 'Billing Street Address 2', 'Shipping Street Address',\n",
    "       'Shipping Street Address 2', 'Payment Method']]\n",
    "fake_idnt_3.head(2)"
   ]
  },
  {
   "cell_type": "code",
   "execution_count": 5,
   "metadata": {},
   "outputs": [
    {
     "name": "stderr",
     "output_type": "stream",
     "text": [
      "C:\\Users\\Admin\\AppData\\Local\\Temp\\ipykernel_19124\\2675976536.py:1: SettingWithCopyWarning: \n",
      "A value is trying to be set on a copy of a slice from a DataFrame\n",
      "\n",
      "See the caveats in the documentation: https://pandas.pydata.org/pandas-docs/stable/user_guide/indexing.html#returning-a-view-versus-a-copy\n",
      "  fake_idnt_3.rename(columns={'Order #':'Order No', 'LineItem Name':'Product Name', 'Billing Street Address':\n"
     ]
    },
    {
     "data": {
      "text/plain": [
       "Index(['Order No', 'Product Name', 'Billing Street Address 1',\n",
       "       'Billing Street Address 2', 'Shipping Street Address 1',\n",
       "       'Shipping Street Address 2', 'Payment Method'],\n",
       "      dtype='object')"
      ]
     },
     "execution_count": 5,
     "metadata": {},
     "output_type": "execute_result"
    }
   ],
   "source": [
    "fake_idnt_3.rename(columns={'Order #':'Order No', 'LineItem Name':'Product Name', 'Billing Street Address':\n",
    "        'Billing Street Address 1', 'Shipping Street Address':'Shipping Street Address 1'}, inplace=True)\n",
    "fake_idnt_3.columns"
   ]
  },
  {
   "cell_type": "code",
   "execution_count": 6,
   "metadata": {},
   "outputs": [
    {
     "data": {
      "text/plain": [
       "Order No                        0\n",
       "Product Name                    0\n",
       "Billing Street Address 1     2664\n",
       "Billing Street Address 2     2811\n",
       "Shipping Street Address 1      19\n",
       "Shipping Street Address 2     982\n",
       "Payment Method               2780\n",
       "dtype: int64"
      ]
     },
     "execution_count": 6,
     "metadata": {},
     "output_type": "execute_result"
    }
   ],
   "source": [
    "fake_idnt_3.isnull().sum()"
   ]
  },
  {
   "cell_type": "code",
   "execution_count": 7,
   "metadata": {},
   "outputs": [
    {
     "name": "stderr",
     "output_type": "stream",
     "text": [
      "C:\\Users\\Admin\\AppData\\Local\\Temp\\ipykernel_19124\\1543946677.py:1: SettingWithCopyWarning: \n",
      "A value is trying to be set on a copy of a slice from a DataFrame\n",
      "\n",
      "See the caveats in the documentation: https://pandas.pydata.org/pandas-docs/stable/user_guide/indexing.html#returning-a-view-versus-a-copy\n",
      "  fake_idnt_3['Payment Method'].fillna('Not Available', inplace=True)\n"
     ]
    }
   ],
   "source": [
    "fake_idnt_3['Payment Method'].fillna('Not Available', inplace=True)"
   ]
  },
  {
   "cell_type": "code",
   "execution_count": 8,
   "metadata": {},
   "outputs": [
    {
     "data": {
      "text/plain": [
       "Order No                        0\n",
       "Product Name                    0\n",
       "Billing Street Address 1     2664\n",
       "Billing Street Address 2     2811\n",
       "Shipping Street Address 1      19\n",
       "Shipping Street Address 2     982\n",
       "Payment Method                  0\n",
       "dtype: int64"
      ]
     },
     "execution_count": 8,
     "metadata": {},
     "output_type": "execute_result"
    }
   ],
   "source": [
    "fake_idnt_3.isnull().sum()"
   ]
  },
  {
   "cell_type": "code",
   "execution_count": 9,
   "metadata": {},
   "outputs": [
    {
     "name": "stderr",
     "output_type": "stream",
     "text": [
      "C:\\Users\\Admin\\AppData\\Local\\Temp\\ipykernel_19124\\1391357966.py:1: SettingWithCopyWarning: \n",
      "A value is trying to be set on a copy of a slice from a DataFrame\n",
      "\n",
      "See the caveats in the documentation: https://pandas.pydata.org/pandas-docs/stable/user_guide/indexing.html#returning-a-view-versus-a-copy\n",
      "  fake_idnt_3.fillna('', inplace=True)\n"
     ]
    }
   ],
   "source": [
    "fake_idnt_3.fillna('', inplace=True)"
   ]
  },
  {
   "cell_type": "code",
   "execution_count": 10,
   "metadata": {},
   "outputs": [
    {
     "name": "stderr",
     "output_type": "stream",
     "text": [
      "C:\\Users\\Admin\\AppData\\Local\\Temp\\ipykernel_19124\\614717276.py:1: SettingWithCopyWarning: \n",
      "A value is trying to be set on a copy of a slice from a DataFrame.\n",
      "Try using .loc[row_indexer,col_indexer] = value instead\n",
      "\n",
      "See the caveats in the documentation: https://pandas.pydata.org/pandas-docs/stable/user_guide/indexing.html#returning-a-view-versus-a-copy\n",
      "  fake_idnt_3['Billing Street Address 1_2'] = fake_idnt_3['Billing Street Address 1'] + \" / \" + fake_idnt_3['Billing Street Address 2']\n",
      "C:\\Users\\Admin\\AppData\\Local\\Temp\\ipykernel_19124\\614717276.py:2: SettingWithCopyWarning: \n",
      "A value is trying to be set on a copy of a slice from a DataFrame.\n",
      "Try using .loc[row_indexer,col_indexer] = value instead\n",
      "\n",
      "See the caveats in the documentation: https://pandas.pydata.org/pandas-docs/stable/user_guide/indexing.html#returning-a-view-versus-a-copy\n",
      "  fake_idnt_3['Shipping Street Address 1_2'] = fake_idnt_3['Shipping Street Address 1'] + \" / \"+ fake_idnt_3['Shipping Street Address 2']\n"
     ]
    },
    {
     "data": {
      "text/html": [
       "<div><div id=bb882a25-1f08-42f3-9dd8-2a651c4a34df style=\"display:none; background-color:#9D6CFF; color:white; width:200px; height:30px; padding-left:5px; border-radius:4px; flex-direction:row; justify-content:space-around; align-items:center;\" onmouseover=\"this.style.backgroundColor='#BA9BF8'\" onmouseout=\"this.style.backgroundColor='#9D6CFF'\" onclick=\"window.commands?.execute('create-mitosheet-from-dataframe-output');\">See Full Dataframe in Mito</div> <script> if (window.commands?.hasCommand('create-mitosheet-from-dataframe-output')) document.getElementById('bb882a25-1f08-42f3-9dd8-2a651c4a34df').style.display = 'flex' </script> <table border=\"1\" class=\"dataframe\">\n",
       "  <thead>\n",
       "    <tr style=\"text-align: right;\">\n",
       "      <th></th>\n",
       "      <th>Order No</th>\n",
       "      <th>Product Name</th>\n",
       "      <th>Billing Street Address 1</th>\n",
       "      <th>Billing Street Address 2</th>\n",
       "      <th>Shipping Street Address 1</th>\n",
       "      <th>Shipping Street Address 2</th>\n",
       "      <th>Payment Method</th>\n",
       "      <th>Billing Street Address 1_2</th>\n",
       "      <th>Shipping Street Address 1_2</th>\n",
       "    </tr>\n",
       "  </thead>\n",
       "  <tbody>\n",
       "    <tr>\n",
       "      <th>0</th>\n",
       "      <td>R121113121</td>\n",
       "      <td>Falcon Drone Four Axis Aircraft with 2.4 GHz RC, Blade Guard, Headless Mode LED Without Camera</td>\n",
       "      <td>Maharashtra chandrapur ghugus</td>\n",
       "      <td>Rajiv colony Gopal Nagar Bachelor guest House 2</td>\n",
       "      <td>Maharashtra chandrapur ghugus</td>\n",
       "      <td>Rajiv colony Gopal Nagar Bachelor guest House 2</td>\n",
       "      <td>Not Available</td>\n",
       "      <td>Maharashtra chandrapur ghugus / Rajiv colony Gopal Nagar Bachelor guest House 2</td>\n",
       "      <td>Maharashtra chandrapur ghugus / Rajiv colony Gopal Nagar Bachelor guest House 2</td>\n",
       "    </tr>\n",
       "    <tr>\n",
       "      <th>1</th>\n",
       "      <td>R472890631</td>\n",
       "      <td>Falcon Drone Four Axis Aircraft with 2.4 GHz RC, Blade Guard, Headless Mode LED Without Camera</td>\n",
       "      <td></td>\n",
       "      <td></td>\n",
       "      <td>Maharashtra chandrapur ghugus</td>\n",
       "      <td>Rajiv colony Gopal Nagar guest House 2</td>\n",
       "      <td>Not Available</td>\n",
       "      <td>/</td>\n",
       "      <td>Maharashtra chandrapur ghugus / Rajiv colony Gopal Nagar guest House 2</td>\n",
       "    </tr>\n",
       "  </tbody>\n",
       "</table></div>"
      ],
      "text/plain": [
       "     Order No                                       Product Name  \\\n",
       "0  R121113121  Falcon Drone Four Axis Aircraft with 2.4 GHz R...   \n",
       "1  R472890631  Falcon Drone Four Axis Aircraft with 2.4 GHz R...   \n",
       "\n",
       "        Billing Street Address 1  \\\n",
       "0  Maharashtra chandrapur ghugus   \n",
       "1                                  \n",
       "\n",
       "                          Billing Street Address 2  \\\n",
       "0  Rajiv colony Gopal Nagar Bachelor guest House 2   \n",
       "1                                                    \n",
       "\n",
       "       Shipping Street Address 1  \\\n",
       "0  Maharashtra chandrapur ghugus   \n",
       "1  Maharashtra chandrapur ghugus   \n",
       "\n",
       "                         Shipping Street Address 2 Payment Method  \\\n",
       "0  Rajiv colony Gopal Nagar Bachelor guest House 2  Not Available   \n",
       "1           Rajiv colony Gopal Nagar guest House 2  Not Available   \n",
       "\n",
       "                          Billing Street Address 1_2  \\\n",
       "0  Maharashtra chandrapur ghugus / Rajiv colony G...   \n",
       "1                                                 /    \n",
       "\n",
       "                         Shipping Street Address 1_2  \n",
       "0  Maharashtra chandrapur ghugus / Rajiv colony G...  \n",
       "1  Maharashtra chandrapur ghugus / Rajiv colony G...  "
      ]
     },
     "execution_count": 10,
     "metadata": {},
     "output_type": "execute_result"
    }
   ],
   "source": [
    "fake_idnt_3['Billing Street Address 1_2'] = fake_idnt_3['Billing Street Address 1'] + \" / \" + fake_idnt_3['Billing Street Address 2']\n",
    "fake_idnt_3['Shipping Street Address 1_2'] = fake_idnt_3['Shipping Street Address 1'] + \" / \"+ fake_idnt_3['Shipping Street Address 2']\n",
    "fake_idnt_3.head(2)"
   ]
  },
  {
   "cell_type": "code",
   "execution_count": 11,
   "metadata": {},
   "outputs": [
    {
     "name": "stderr",
     "output_type": "stream",
     "text": [
      "C:\\Users\\Admin\\AppData\\Local\\Temp\\ipykernel_19124\\3265263964.py:1: SettingWithCopyWarning: \n",
      "A value is trying to be set on a copy of a slice from a DataFrame\n",
      "\n",
      "See the caveats in the documentation: https://pandas.pydata.org/pandas-docs/stable/user_guide/indexing.html#returning-a-view-versus-a-copy\n",
      "  fake_idnt_3.drop(columns=['Billing Street Address 1','Billing Street Address 2',\n"
     ]
    },
    {
     "data": {
      "text/html": [
       "<div><div id=c72b3b42-1e2b-4fad-8b69-5f570396c6ea style=\"display:none; background-color:#9D6CFF; color:white; width:200px; height:30px; padding-left:5px; border-radius:4px; flex-direction:row; justify-content:space-around; align-items:center;\" onmouseover=\"this.style.backgroundColor='#BA9BF8'\" onmouseout=\"this.style.backgroundColor='#9D6CFF'\" onclick=\"window.commands?.execute('create-mitosheet-from-dataframe-output');\">See Full Dataframe in Mito</div> <script> if (window.commands?.hasCommand('create-mitosheet-from-dataframe-output')) document.getElementById('c72b3b42-1e2b-4fad-8b69-5f570396c6ea').style.display = 'flex' </script> <table border=\"1\" class=\"dataframe\">\n",
       "  <thead>\n",
       "    <tr style=\"text-align: right;\">\n",
       "      <th></th>\n",
       "      <th>Order No</th>\n",
       "      <th>Product Name</th>\n",
       "      <th>Payment Method</th>\n",
       "      <th>Billing Street Address 1_2</th>\n",
       "      <th>Shipping Street Address 1_2</th>\n",
       "    </tr>\n",
       "  </thead>\n",
       "  <tbody>\n",
       "    <tr>\n",
       "      <th>0</th>\n",
       "      <td>R121113121</td>\n",
       "      <td>Falcon Drone Four Axis Aircraft with 2.4 GHz RC, Blade Guard, Headless Mode LED Without Camera</td>\n",
       "      <td>Not Available</td>\n",
       "      <td>Maharashtra chandrapur ghugus / Rajiv colony Gopal Nagar Bachelor guest House 2</td>\n",
       "      <td>Maharashtra chandrapur ghugus / Rajiv colony Gopal Nagar Bachelor guest House 2</td>\n",
       "    </tr>\n",
       "    <tr>\n",
       "      <th>1</th>\n",
       "      <td>R472890631</td>\n",
       "      <td>Falcon Drone Four Axis Aircraft with 2.4 GHz RC, Blade Guard, Headless Mode LED Without Camera</td>\n",
       "      <td>Not Available</td>\n",
       "      <td>/</td>\n",
       "      <td>Maharashtra chandrapur ghugus / Rajiv colony Gopal Nagar guest House 2</td>\n",
       "    </tr>\n",
       "    <tr>\n",
       "      <th>2</th>\n",
       "      <td>R004476488</td>\n",
       "      <td>Falcon Drone Four Axis Aircraft with 2.4 GHz RC, Blade Guard, Headless Mode LED Without Camera</td>\n",
       "      <td>Not Available</td>\n",
       "      <td>/</td>\n",
       "      <td>Maharashtra chandrapur ghugus / Rajiv colony Gopal Nagar guest House 2</td>\n",
       "    </tr>\n",
       "    <tr>\n",
       "      <th>3</th>\n",
       "      <td>R526038353</td>\n",
       "      <td>Falcon Drone Four Axis Aircraft with 2.4 GHz RC, Blade Guard, Headless Mode LED Without Camera</td>\n",
       "      <td>Not Available</td>\n",
       "      <td>/</td>\n",
       "      <td>Chandrapur, ghugus, indra Nagar, Rajiv colony, / Bachler guest House 2</td>\n",
       "    </tr>\n",
       "    <tr>\n",
       "      <th>4</th>\n",
       "      <td>R658530771</td>\n",
       "      <td>Barbie Doll (pink)</td>\n",
       "      <td>Not Available</td>\n",
       "      <td>/</td>\n",
       "      <td>D-6 SIR SYED APT,FLAT NO 401,THOKAR NO 7,NEAR FIRDAUS MASJID,SHAHEEN BAGH,NEW DELHI 110025 / D-6 SIR SYED APT</td>\n",
       "    </tr>\n",
       "  </tbody>\n",
       "</table></div>"
      ],
      "text/plain": [
       "     Order No                                       Product Name  \\\n",
       "0  R121113121  Falcon Drone Four Axis Aircraft with 2.4 GHz R...   \n",
       "1  R472890631  Falcon Drone Four Axis Aircraft with 2.4 GHz R...   \n",
       "2  R004476488  Falcon Drone Four Axis Aircraft with 2.4 GHz R...   \n",
       "3  R526038353  Falcon Drone Four Axis Aircraft with 2.4 GHz R...   \n",
       "4  R658530771                                 Barbie Doll (pink)   \n",
       "\n",
       "  Payment Method                         Billing Street Address 1_2  \\\n",
       "0  Not Available  Maharashtra chandrapur ghugus / Rajiv colony G...   \n",
       "1  Not Available                                                 /    \n",
       "2  Not Available                                                 /    \n",
       "3  Not Available                                                 /    \n",
       "4  Not Available                                                 /    \n",
       "\n",
       "                         Shipping Street Address 1_2  \n",
       "0  Maharashtra chandrapur ghugus / Rajiv colony G...  \n",
       "1  Maharashtra chandrapur ghugus / Rajiv colony G...  \n",
       "2  Maharashtra chandrapur ghugus / Rajiv colony G...  \n",
       "3  Chandrapur, ghugus, indra Nagar, Rajiv colony,...  \n",
       "4  D-6 SIR SYED APT,FLAT NO 401,THOKAR NO 7,NEAR ...  "
      ]
     },
     "execution_count": 11,
     "metadata": {},
     "output_type": "execute_result"
    }
   ],
   "source": [
    "fake_idnt_3.drop(columns=['Billing Street Address 1','Billing Street Address 2',\n",
    "        'Shipping Street Address 1','Shipping Street Address 2'], inplace=True)\n",
    "fake_idnt_3.head()"
   ]
  },
  {
   "cell_type": "code",
   "execution_count": 12,
   "metadata": {},
   "outputs": [
    {
     "data": {
      "text/html": [
       "<div><div id=aa4546c2-574e-47be-bbc0-aed7f2498ff9 style=\"display:none; background-color:#9D6CFF; color:white; width:200px; height:30px; padding-left:5px; border-radius:4px; flex-direction:row; justify-content:space-around; align-items:center;\" onmouseover=\"this.style.backgroundColor='#BA9BF8'\" onmouseout=\"this.style.backgroundColor='#9D6CFF'\" onclick=\"window.commands?.execute('create-mitosheet-from-dataframe-output');\">See Full Dataframe in Mito</div> <script> if (window.commands?.hasCommand('create-mitosheet-from-dataframe-output')) document.getElementById('aa4546c2-574e-47be-bbc0-aed7f2498ff9').style.display = 'flex' </script> <table border=\"1\" class=\"dataframe\">\n",
       "  <thead>\n",
       "    <tr style=\"text-align: right;\">\n",
       "      <th></th>\n",
       "      <th>Order No</th>\n",
       "      <th>Product Name</th>\n",
       "      <th>Payment Method</th>\n",
       "      <th>Billing Street Address 1_2</th>\n",
       "      <th>Shipping Street Address 1_2</th>\n",
       "    </tr>\n",
       "  </thead>\n",
       "  <tbody>\n",
       "    <tr>\n",
       "      <th>0</th>\n",
       "      <td>R121113121</td>\n",
       "      <td>Falcon Drone Four Axis Aircraft with 2.4 GHz RC, Blade Guard, Headless Mode LED Without Camera</td>\n",
       "      <td>Not Available</td>\n",
       "      <td>Maharashtra chandrapur ghugus / Rajiv colony Gopal Nagar Bachelor guest House 2</td>\n",
       "      <td>Maharashtra chandrapur ghugus / Rajiv colony Gopal Nagar Bachelor guest House 2</td>\n",
       "    </tr>\n",
       "    <tr>\n",
       "      <th>1</th>\n",
       "      <td>R472890631</td>\n",
       "      <td>Falcon Drone Four Axis Aircraft with 2.4 GHz RC, Blade Guard, Headless Mode LED Without Camera</td>\n",
       "      <td>Not Available</td>\n",
       "      <td>/</td>\n",
       "      <td>Maharashtra chandrapur ghugus / Rajiv colony Gopal Nagar guest House 2</td>\n",
       "    </tr>\n",
       "    <tr>\n",
       "      <th>2</th>\n",
       "      <td>R004476488</td>\n",
       "      <td>Falcon Drone Four Axis Aircraft with 2.4 GHz RC, Blade Guard, Headless Mode LED Without Camera</td>\n",
       "      <td>Not Available</td>\n",
       "      <td>/</td>\n",
       "      <td>Maharashtra chandrapur ghugus / Rajiv colony Gopal Nagar guest House 2</td>\n",
       "    </tr>\n",
       "    <tr>\n",
       "      <th>3</th>\n",
       "      <td>R526038353</td>\n",
       "      <td>Falcon Drone Four Axis Aircraft with 2.4 GHz RC, Blade Guard, Headless Mode LED Without Camera</td>\n",
       "      <td>Not Available</td>\n",
       "      <td>/</td>\n",
       "      <td>Chandrapur, ghugus, indra Nagar, Rajiv colony, / Bachler guest House 2</td>\n",
       "    </tr>\n",
       "    <tr>\n",
       "      <th>4</th>\n",
       "      <td>R658530771</td>\n",
       "      <td>Barbie Doll (pink)</td>\n",
       "      <td>Not Available</td>\n",
       "      <td>/</td>\n",
       "      <td>D-6 SIR SYED APT,FLAT NO 401,THOKAR NO 7,NEAR FIRDAUS MASJID,SHAHEEN BAGH,NEW DELHI 110025 / D-6 SIR SYED APT</td>\n",
       "    </tr>\n",
       "    <tr>\n",
       "      <th>...</th>\n",
       "      <td>...</td>\n",
       "      <td>...</td>\n",
       "      <td>...</td>\n",
       "      <td>...</td>\n",
       "      <td>...</td>\n",
       "    </tr>\n",
       "    <tr>\n",
       "      <th>3034</th>\n",
       "      <td>R243395005</td>\n",
       "      <td>Ear Wired Earphones With Mic White</td>\n",
       "      <td>Not Available</td>\n",
       "      <td>Gcc / Ggggh</td>\n",
       "      <td>Gcc / Ggggh</td>\n",
       "    </tr>\n",
       "    <tr>\n",
       "      <th>3035</th>\n",
       "      <td>R607209508</td>\n",
       "      <td>I Kall K-66 White</td>\n",
       "      <td>Not Available</td>\n",
       "      <td>Mayuree bihar,1st lane,near somnathnagar / Mayuree Bihar 1st line,near mayurapartment,po/st-Sriram Naga</td>\n",
       "      <td>Mayuree bihar,1st lane,near somnathnagar / Mayuree Bihar 1st line,near mayurapartment,po/st-Sriram Naga</td>\n",
       "    </tr>\n",
       "    <tr>\n",
       "      <th>3036</th>\n",
       "      <td>R140316623</td>\n",
       "      <td>Electric Steam Cooker Maestro MC1</td>\n",
       "      <td>Not Available</td>\n",
       "      <td>mayuree vihar 1st lane /</td>\n",
       "      <td>mayuree vihar 1st lane /</td>\n",
       "    </tr>\n",
       "    <tr>\n",
       "      <th>3037</th>\n",
       "      <td>R192037084</td>\n",
       "      <td>Electric Steam Cooker Maestro MC1</td>\n",
       "      <td>Not Available</td>\n",
       "      <td>test / gast</td>\n",
       "      <td>test / gast</td>\n",
       "    </tr>\n",
       "    <tr>\n",
       "      <th>3038</th>\n",
       "      <td>R414254148</td>\n",
       "      <td>Electric Steam Cooker Maestro MC1</td>\n",
       "      <td>Offline Payment ₹2,000.00</td>\n",
       "      <td>test / gast</td>\n",
       "      <td>test / gast</td>\n",
       "    </tr>\n",
       "  </tbody>\n",
       "</table></div>"
      ],
      "text/plain": [
       "        Order No                                       Product Name  \\\n",
       "0     R121113121  Falcon Drone Four Axis Aircraft with 2.4 GHz R...   \n",
       "1     R472890631  Falcon Drone Four Axis Aircraft with 2.4 GHz R...   \n",
       "2     R004476488  Falcon Drone Four Axis Aircraft with 2.4 GHz R...   \n",
       "3     R526038353  Falcon Drone Four Axis Aircraft with 2.4 GHz R...   \n",
       "4     R658530771                                 Barbie Doll (pink)   \n",
       "...          ...                                                ...   \n",
       "3034  R243395005                 Ear Wired Earphones With Mic White   \n",
       "3035  R607209508                                  I Kall K-66 White   \n",
       "3036  R140316623                  Electric Steam Cooker Maestro MC1   \n",
       "3037  R192037084                  Electric Steam Cooker Maestro MC1   \n",
       "3038  R414254148                  Electric Steam Cooker Maestro MC1   \n",
       "\n",
       "                 Payment Method  \\\n",
       "0                 Not Available   \n",
       "1                 Not Available   \n",
       "2                 Not Available   \n",
       "3                 Not Available   \n",
       "4                 Not Available   \n",
       "...                         ...   \n",
       "3034              Not Available   \n",
       "3035              Not Available   \n",
       "3036              Not Available   \n",
       "3037              Not Available   \n",
       "3038  Offline Payment ₹2,000.00   \n",
       "\n",
       "                             Billing Street Address 1_2  \\\n",
       "0     Maharashtra chandrapur ghugus / Rajiv colony G...   \n",
       "1                                                    /    \n",
       "2                                                    /    \n",
       "3                                                    /    \n",
       "4                                                    /    \n",
       "...                                                 ...   \n",
       "3034                                        Gcc / Ggggh   \n",
       "3035  Mayuree bihar,1st lane,near somnathnagar / May...   \n",
       "3036                          mayuree vihar 1st lane /    \n",
       "3037                                        test / gast   \n",
       "3038                                        test / gast   \n",
       "\n",
       "                            Shipping Street Address 1_2  \n",
       "0     Maharashtra chandrapur ghugus / Rajiv colony G...  \n",
       "1     Maharashtra chandrapur ghugus / Rajiv colony G...  \n",
       "2     Maharashtra chandrapur ghugus / Rajiv colony G...  \n",
       "3     Chandrapur, ghugus, indra Nagar, Rajiv colony,...  \n",
       "4     D-6 SIR SYED APT,FLAT NO 401,THOKAR NO 7,NEAR ...  \n",
       "...                                                 ...  \n",
       "3034                                        Gcc / Ggggh  \n",
       "3035  Mayuree bihar,1st lane,near somnathnagar / May...  \n",
       "3036                          mayuree vihar 1st lane /   \n",
       "3037                                        test / gast  \n",
       "3038                                        test / gast  \n",
       "\n",
       "[3039 rows x 5 columns]"
      ]
     },
     "execution_count": 12,
     "metadata": {},
     "output_type": "execute_result"
    }
   ],
   "source": [
    "fake_idnt_3"
   ]
  },
  {
   "cell_type": "code",
   "execution_count": 13,
   "metadata": {},
   "outputs": [
    {
     "name": "stderr",
     "output_type": "stream",
     "text": [
      "C:\\Users\\Admin\\AppData\\Local\\Temp\\ipykernel_19124\\695979854.py:1: SettingWithCopyWarning: \n",
      "A value is trying to be set on a copy of a slice from a DataFrame.\n",
      "Try using .loc[row_indexer,col_indexer] = value instead\n",
      "\n",
      "See the caveats in the documentation: https://pandas.pydata.org/pandas-docs/stable/user_guide/indexing.html#returning-a-view-versus-a-copy\n",
      "  fake_idnt_3['Duplicate Address']=fake_idnt_3.duplicated(subset=['Billing Street Address 1_2','Shipping Street Address 1_2'])\n"
     ]
    },
    {
     "data": {
      "text/html": [
       "<div><div id=d983408b-c758-488c-ac6b-9733ab22b8e5 style=\"display:none; background-color:#9D6CFF; color:white; width:200px; height:30px; padding-left:5px; border-radius:4px; flex-direction:row; justify-content:space-around; align-items:center;\" onmouseover=\"this.style.backgroundColor='#BA9BF8'\" onmouseout=\"this.style.backgroundColor='#9D6CFF'\" onclick=\"window.commands?.execute('create-mitosheet-from-dataframe-output');\">See Full Dataframe in Mito</div> <script> if (window.commands?.hasCommand('create-mitosheet-from-dataframe-output')) document.getElementById('d983408b-c758-488c-ac6b-9733ab22b8e5').style.display = 'flex' </script> <table border=\"1\" class=\"dataframe\">\n",
       "  <thead>\n",
       "    <tr style=\"text-align: right;\">\n",
       "      <th></th>\n",
       "      <th>Order No</th>\n",
       "      <th>Product Name</th>\n",
       "      <th>Payment Method</th>\n",
       "      <th>Billing Street Address 1_2</th>\n",
       "      <th>Shipping Street Address 1_2</th>\n",
       "      <th>Duplicate Address</th>\n",
       "    </tr>\n",
       "  </thead>\n",
       "  <tbody>\n",
       "    <tr>\n",
       "      <th>0</th>\n",
       "      <td>R121113121</td>\n",
       "      <td>Falcon Drone Four Axis Aircraft with 2.4 GHz RC, Blade Guard, Headless Mode LED Without Camera</td>\n",
       "      <td>Not Available</td>\n",
       "      <td>Maharashtra chandrapur ghugus / Rajiv colony Gopal Nagar Bachelor guest House 2</td>\n",
       "      <td>Maharashtra chandrapur ghugus / Rajiv colony Gopal Nagar Bachelor guest House 2</td>\n",
       "      <td>False</td>\n",
       "    </tr>\n",
       "    <tr>\n",
       "      <th>1</th>\n",
       "      <td>R472890631</td>\n",
       "      <td>Falcon Drone Four Axis Aircraft with 2.4 GHz RC, Blade Guard, Headless Mode LED Without Camera</td>\n",
       "      <td>Not Available</td>\n",
       "      <td>/</td>\n",
       "      <td>Maharashtra chandrapur ghugus / Rajiv colony Gopal Nagar guest House 2</td>\n",
       "      <td>False</td>\n",
       "    </tr>\n",
       "    <tr>\n",
       "      <th>2</th>\n",
       "      <td>R004476488</td>\n",
       "      <td>Falcon Drone Four Axis Aircraft with 2.4 GHz RC, Blade Guard, Headless Mode LED Without Camera</td>\n",
       "      <td>Not Available</td>\n",
       "      <td>/</td>\n",
       "      <td>Maharashtra chandrapur ghugus / Rajiv colony Gopal Nagar guest House 2</td>\n",
       "      <td>True</td>\n",
       "    </tr>\n",
       "    <tr>\n",
       "      <th>3</th>\n",
       "      <td>R526038353</td>\n",
       "      <td>Falcon Drone Four Axis Aircraft with 2.4 GHz RC, Blade Guard, Headless Mode LED Without Camera</td>\n",
       "      <td>Not Available</td>\n",
       "      <td>/</td>\n",
       "      <td>Chandrapur, ghugus, indra Nagar, Rajiv colony, / Bachler guest House 2</td>\n",
       "      <td>False</td>\n",
       "    </tr>\n",
       "    <tr>\n",
       "      <th>4</th>\n",
       "      <td>R658530771</td>\n",
       "      <td>Barbie Doll (pink)</td>\n",
       "      <td>Not Available</td>\n",
       "      <td>/</td>\n",
       "      <td>D-6 SIR SYED APT,FLAT NO 401,THOKAR NO 7,NEAR FIRDAUS MASJID,SHAHEEN BAGH,NEW DELHI 110025 / D-6 SIR SYED APT</td>\n",
       "      <td>False</td>\n",
       "    </tr>\n",
       "  </tbody>\n",
       "</table></div>"
      ],
      "text/plain": [
       "     Order No                                       Product Name  \\\n",
       "0  R121113121  Falcon Drone Four Axis Aircraft with 2.4 GHz R...   \n",
       "1  R472890631  Falcon Drone Four Axis Aircraft with 2.4 GHz R...   \n",
       "2  R004476488  Falcon Drone Four Axis Aircraft with 2.4 GHz R...   \n",
       "3  R526038353  Falcon Drone Four Axis Aircraft with 2.4 GHz R...   \n",
       "4  R658530771                                 Barbie Doll (pink)   \n",
       "\n",
       "  Payment Method                         Billing Street Address 1_2  \\\n",
       "0  Not Available  Maharashtra chandrapur ghugus / Rajiv colony G...   \n",
       "1  Not Available                                                 /    \n",
       "2  Not Available                                                 /    \n",
       "3  Not Available                                                 /    \n",
       "4  Not Available                                                 /    \n",
       "\n",
       "                         Shipping Street Address 1_2  Duplicate Address  \n",
       "0  Maharashtra chandrapur ghugus / Rajiv colony G...              False  \n",
       "1  Maharashtra chandrapur ghugus / Rajiv colony G...              False  \n",
       "2  Maharashtra chandrapur ghugus / Rajiv colony G...               True  \n",
       "3  Chandrapur, ghugus, indra Nagar, Rajiv colony,...              False  \n",
       "4  D-6 SIR SYED APT,FLAT NO 401,THOKAR NO 7,NEAR ...              False  "
      ]
     },
     "execution_count": 13,
     "metadata": {},
     "output_type": "execute_result"
    }
   ],
   "source": [
    "fake_idnt_3['Duplicate Address']=fake_idnt_3.duplicated(subset=['Billing Street Address 1_2','Shipping Street Address 1_2'])\n",
    "fake_idnt_3.head()"
   ]
  },
  {
   "cell_type": "code",
   "execution_count": 27,
   "metadata": {},
   "outputs": [
    {
     "data": {
      "text/plain": [
       "(3039, 6)"
      ]
     },
     "execution_count": 27,
     "metadata": {},
     "output_type": "execute_result"
    }
   ],
   "source": [
    "fake_idnt_3.shape"
   ]
  },
  {
   "cell_type": "code",
   "execution_count": 25,
   "metadata": {},
   "outputs": [
    {
     "data": {
      "text/plain": [
       "68"
      ]
     },
     "execution_count": 25,
     "metadata": {},
     "output_type": "execute_result"
    }
   ],
   "source": [
    "fake_idnt_3['Order No'].duplicated().sum()"
   ]
  },
  {
   "cell_type": "code",
   "execution_count": 28,
   "metadata": {},
   "outputs": [
    {
     "name": "stderr",
     "output_type": "stream",
     "text": [
      "C:\\Users\\Admin\\AppData\\Local\\Temp\\ipykernel_19124\\407052637.py:1: SettingWithCopyWarning: \n",
      "A value is trying to be set on a copy of a slice from a DataFrame\n",
      "\n",
      "See the caveats in the documentation: https://pandas.pydata.org/pandas-docs/stable/user_guide/indexing.html#returning-a-view-versus-a-copy\n",
      "  fake_idnt_3.drop_duplicates(subset=['Order No'], keep='last', inplace=True)\n"
     ]
    },
    {
     "data": {
      "text/plain": [
       "(2971, 6)"
      ]
     },
     "execution_count": 28,
     "metadata": {},
     "output_type": "execute_result"
    }
   ],
   "source": [
    "fake_idnt_3.drop_duplicates(subset=['Order No'], keep='last', inplace=True)\n",
    "fake_idnt_3.shape"
   ]
  },
  {
   "cell_type": "code",
   "execution_count": 29,
   "metadata": {},
   "outputs": [],
   "source": [
    "fake_idnt_3.to_excel('Duplicate_address.xlsx')"
   ]
  },
  {
   "cell_type": "code",
   "execution_count": 30,
   "metadata": {},
   "outputs": [
    {
     "data": {
      "text/html": [
       "<div><div id=e7218455-20aa-4aa6-8939-685fa47197eb style=\"display:none; background-color:#9D6CFF; color:white; width:200px; height:30px; padding-left:5px; border-radius:4px; flex-direction:row; justify-content:space-around; align-items:center;\" onmouseover=\"this.style.backgroundColor='#BA9BF8'\" onmouseout=\"this.style.backgroundColor='#9D6CFF'\" onclick=\"window.commands?.execute('create-mitosheet-from-dataframe-output');\">See Full Dataframe in Mito</div> <script> if (window.commands?.hasCommand('create-mitosheet-from-dataframe-output')) document.getElementById('e7218455-20aa-4aa6-8939-685fa47197eb').style.display = 'flex' </script> <table border=\"1\" class=\"dataframe\">\n",
       "  <thead>\n",
       "    <tr style=\"text-align: right;\">\n",
       "      <th></th>\n",
       "      <th>Order No</th>\n",
       "      <th>Product Name</th>\n",
       "      <th>Payment Method</th>\n",
       "      <th>Billing Street Address 1_2</th>\n",
       "      <th>Shipping Street Address 1_2</th>\n",
       "      <th>Duplicate Address</th>\n",
       "    </tr>\n",
       "  </thead>\n",
       "  <tbody>\n",
       "    <tr>\n",
       "      <th>0</th>\n",
       "      <td>R121113121</td>\n",
       "      <td>Falcon Drone Four Axis Aircraft with 2.4 GHz RC, Blade Guard, Headless Mode LED Without Camera</td>\n",
       "      <td>Not Available</td>\n",
       "      <td>Maharashtra chandrapur ghugus / Rajiv colony Gopal Nagar Bachelor guest House 2</td>\n",
       "      <td>Maharashtra chandrapur ghugus / Rajiv colony Gopal Nagar Bachelor guest House 2</td>\n",
       "      <td>False</td>\n",
       "    </tr>\n",
       "    <tr>\n",
       "      <th>1</th>\n",
       "      <td>R472890631</td>\n",
       "      <td>Falcon Drone Four Axis Aircraft with 2.4 GHz RC, Blade Guard, Headless Mode LED Without Camera</td>\n",
       "      <td>Not Available</td>\n",
       "      <td>/</td>\n",
       "      <td>Maharashtra chandrapur ghugus / Rajiv colony Gopal Nagar guest House 2</td>\n",
       "      <td>False</td>\n",
       "    </tr>\n",
       "    <tr>\n",
       "      <th>2</th>\n",
       "      <td>R004476488</td>\n",
       "      <td>Falcon Drone Four Axis Aircraft with 2.4 GHz RC, Blade Guard, Headless Mode LED Without Camera</td>\n",
       "      <td>Not Available</td>\n",
       "      <td>/</td>\n",
       "      <td>Maharashtra chandrapur ghugus / Rajiv colony Gopal Nagar guest House 2</td>\n",
       "      <td>True</td>\n",
       "    </tr>\n",
       "    <tr>\n",
       "      <th>3</th>\n",
       "      <td>R526038353</td>\n",
       "      <td>Falcon Drone Four Axis Aircraft with 2.4 GHz RC, Blade Guard, Headless Mode LED Without Camera</td>\n",
       "      <td>Not Available</td>\n",
       "      <td>/</td>\n",
       "      <td>Chandrapur, ghugus, indra Nagar, Rajiv colony, / Bachler guest House 2</td>\n",
       "      <td>False</td>\n",
       "    </tr>\n",
       "    <tr>\n",
       "      <th>4</th>\n",
       "      <td>R658530771</td>\n",
       "      <td>Barbie Doll (pink)</td>\n",
       "      <td>Not Available</td>\n",
       "      <td>/</td>\n",
       "      <td>D-6 SIR SYED APT,FLAT NO 401,THOKAR NO 7,NEAR FIRDAUS MASJID,SHAHEEN BAGH,NEW DELHI 110025 / D-6 SIR SYED APT</td>\n",
       "      <td>False</td>\n",
       "    </tr>\n",
       "    <tr>\n",
       "      <th>...</th>\n",
       "      <td>...</td>\n",
       "      <td>...</td>\n",
       "      <td>...</td>\n",
       "      <td>...</td>\n",
       "      <td>...</td>\n",
       "      <td>...</td>\n",
       "    </tr>\n",
       "    <tr>\n",
       "      <th>3034</th>\n",
       "      <td>R243395005</td>\n",
       "      <td>Ear Wired Earphones With Mic White</td>\n",
       "      <td>Not Available</td>\n",
       "      <td>Gcc / Ggggh</td>\n",
       "      <td>Gcc / Ggggh</td>\n",
       "      <td>False</td>\n",
       "    </tr>\n",
       "    <tr>\n",
       "      <th>3035</th>\n",
       "      <td>R607209508</td>\n",
       "      <td>I Kall K-66 White</td>\n",
       "      <td>Not Available</td>\n",
       "      <td>Mayuree bihar,1st lane,near somnathnagar / Mayuree Bihar 1st line,near mayurapartment,po/st-Sriram Naga</td>\n",
       "      <td>Mayuree bihar,1st lane,near somnathnagar / Mayuree Bihar 1st line,near mayurapartment,po/st-Sriram Naga</td>\n",
       "      <td>False</td>\n",
       "    </tr>\n",
       "    <tr>\n",
       "      <th>3036</th>\n",
       "      <td>R140316623</td>\n",
       "      <td>Electric Steam Cooker Maestro MC1</td>\n",
       "      <td>Not Available</td>\n",
       "      <td>mayuree vihar 1st lane /</td>\n",
       "      <td>mayuree vihar 1st lane /</td>\n",
       "      <td>False</td>\n",
       "    </tr>\n",
       "    <tr>\n",
       "      <th>3037</th>\n",
       "      <td>R192037084</td>\n",
       "      <td>Electric Steam Cooker Maestro MC1</td>\n",
       "      <td>Not Available</td>\n",
       "      <td>test / gast</td>\n",
       "      <td>test / gast</td>\n",
       "      <td>True</td>\n",
       "    </tr>\n",
       "    <tr>\n",
       "      <th>3038</th>\n",
       "      <td>R414254148</td>\n",
       "      <td>Electric Steam Cooker Maestro MC1</td>\n",
       "      <td>Offline Payment ₹2,000.00</td>\n",
       "      <td>test / gast</td>\n",
       "      <td>test / gast</td>\n",
       "      <td>True</td>\n",
       "    </tr>\n",
       "  </tbody>\n",
       "</table></div>"
      ],
      "text/plain": [
       "        Order No                                       Product Name  \\\n",
       "0     R121113121  Falcon Drone Four Axis Aircraft with 2.4 GHz R...   \n",
       "1     R472890631  Falcon Drone Four Axis Aircraft with 2.4 GHz R...   \n",
       "2     R004476488  Falcon Drone Four Axis Aircraft with 2.4 GHz R...   \n",
       "3     R526038353  Falcon Drone Four Axis Aircraft with 2.4 GHz R...   \n",
       "4     R658530771                                 Barbie Doll (pink)   \n",
       "...          ...                                                ...   \n",
       "3034  R243395005                 Ear Wired Earphones With Mic White   \n",
       "3035  R607209508                                  I Kall K-66 White   \n",
       "3036  R140316623                  Electric Steam Cooker Maestro MC1   \n",
       "3037  R192037084                  Electric Steam Cooker Maestro MC1   \n",
       "3038  R414254148                  Electric Steam Cooker Maestro MC1   \n",
       "\n",
       "                 Payment Method  \\\n",
       "0                 Not Available   \n",
       "1                 Not Available   \n",
       "2                 Not Available   \n",
       "3                 Not Available   \n",
       "4                 Not Available   \n",
       "...                         ...   \n",
       "3034              Not Available   \n",
       "3035              Not Available   \n",
       "3036              Not Available   \n",
       "3037              Not Available   \n",
       "3038  Offline Payment ₹2,000.00   \n",
       "\n",
       "                             Billing Street Address 1_2  \\\n",
       "0     Maharashtra chandrapur ghugus / Rajiv colony G...   \n",
       "1                                                    /    \n",
       "2                                                    /    \n",
       "3                                                    /    \n",
       "4                                                    /    \n",
       "...                                                 ...   \n",
       "3034                                        Gcc / Ggggh   \n",
       "3035  Mayuree bihar,1st lane,near somnathnagar / May...   \n",
       "3036                          mayuree vihar 1st lane /    \n",
       "3037                                        test / gast   \n",
       "3038                                        test / gast   \n",
       "\n",
       "                            Shipping Street Address 1_2  Duplicate Address  \n",
       "0     Maharashtra chandrapur ghugus / Rajiv colony G...              False  \n",
       "1     Maharashtra chandrapur ghugus / Rajiv colony G...              False  \n",
       "2     Maharashtra chandrapur ghugus / Rajiv colony G...               True  \n",
       "3     Chandrapur, ghugus, indra Nagar, Rajiv colony,...              False  \n",
       "4     D-6 SIR SYED APT,FLAT NO 401,THOKAR NO 7,NEAR ...              False  \n",
       "...                                                 ...                ...  \n",
       "3034                                        Gcc / Ggggh              False  \n",
       "3035  Mayuree bihar,1st lane,near somnathnagar / May...              False  \n",
       "3036                          mayuree vihar 1st lane /               False  \n",
       "3037                                        test / gast               True  \n",
       "3038                                        test / gast               True  \n",
       "\n",
       "[2971 rows x 6 columns]"
      ]
     },
     "execution_count": 30,
     "metadata": {},
     "output_type": "execute_result"
    }
   ],
   "source": [
    "fake_idnt_3"
   ]
  },
  {
   "cell_type": "code",
   "execution_count": null,
   "metadata": {},
   "outputs": [],
   "source": []
  }
 ],
 "metadata": {
  "kernelspec": {
   "display_name": "Python 3.10.0 64-bit",
   "language": "python",
   "name": "python3"
  },
  "language_info": {
   "codemirror_mode": {
    "name": "ipython",
    "version": 3
   },
   "file_extension": ".py",
   "mimetype": "text/x-python",
   "name": "python",
   "nbconvert_exporter": "python",
   "pygments_lexer": "ipython3",
   "version": "3.10.0"
  },
  "orig_nbformat": 4,
  "vscode": {
   "interpreter": {
    "hash": "a42ccb73e7d9bfdf27e036f1d2b8b681e55fc0743cc5586bc2474d4a60f4b886"
   }
  }
 },
 "nbformat": 4,
 "nbformat_minor": 2
}
