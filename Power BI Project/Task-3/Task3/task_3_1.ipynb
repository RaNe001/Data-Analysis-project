{
 "cells": [
  {
   "cell_type": "markdown",
   "metadata": {},
   "source": [
    "##### Fake Buyer Identification, Find the order id satisfying following conditions:\n",
    "##### 1.The shipping address differs from the billing address.\n",
    "##### 2.Unusually large orders.(cut off Rs 50000)\n",
    "##### 3.Multiple orders to the same address with different payment method.\n",
    "##### 4.Unexpected international orders.\n",
    "##### Present all the subtasks in the form of charts"
   ]
  },
  {
   "cell_type": "markdown",
   "metadata": {},
   "source": [
    "#### Importing all libraries"
   ]
  },
  {
   "cell_type": "code",
   "execution_count": 1,
   "metadata": {},
   "outputs": [],
   "source": [
    "import pandas as pd\n",
    "import numpy as np\n",
    "import seaborn as sns\n",
    "import matplotlib.pyplot as plt\n",
    "%matplotlib inline"
   ]
  },
  {
   "cell_type": "markdown",
   "metadata": {},
   "source": [
    "#### Reading the csv file and Looking at top 5 Rows"
   ]
  },
  {
   "cell_type": "code",
   "execution_count": 2,
   "metadata": {},
   "outputs": [
    {
     "data": {
      "text/html": [
       "<div><div id=5009fe90-683e-4831-a004-62087a14b28d style=\"display:none; background-color:#9D6CFF; color:white; width:200px; height:30px; padding-left:5px; border-radius:4px; flex-direction:row; justify-content:space-around; align-items:center;\" onmouseover=\"this.style.backgroundColor='#BA9BF8'\" onmouseout=\"this.style.backgroundColor='#9D6CFF'\" onclick=\"window.commands?.execute('create-mitosheet-from-dataframe-output');\">See Full Dataframe in Mito</div> <script> if (window.commands?.hasCommand('create-mitosheet-from-dataframe-output')) document.getElementById('5009fe90-683e-4831-a004-62087a14b28d').style.display = 'flex' </script> <table border=\"1\" class=\"dataframe\">\n",
       "  <thead>\n",
       "    <tr style=\"text-align: right;\">\n",
       "      <th></th>\n",
       "      <th>Order #</th>\n",
       "      <th>Fulfillment Date and Time Stamp</th>\n",
       "      <th>Currency</th>\n",
       "      <th>Subtotal</th>\n",
       "      <th>Shipping Method</th>\n",
       "      <th>Shipping Cost</th>\n",
       "      <th>Tax Method</th>\n",
       "      <th>Taxes</th>\n",
       "      <th>Total</th>\n",
       "      <th>Coupon Code</th>\n",
       "      <th>...</th>\n",
       "      <th>Tracking #</th>\n",
       "      <th>Special Instructions</th>\n",
       "      <th>LineItem Name</th>\n",
       "      <th>LineItem SKU</th>\n",
       "      <th>LineItem Options</th>\n",
       "      <th>LineItem Add-ons</th>\n",
       "      <th>LineItem Qty</th>\n",
       "      <th>LineItem Sale Price</th>\n",
       "      <th>Download Status</th>\n",
       "      <th>LineItem Type</th>\n",
       "    </tr>\n",
       "  </thead>\n",
       "  <tbody>\n",
       "    <tr>\n",
       "      <th>0</th>\n",
       "      <td>R121113121</td>\n",
       "      <td>NaN</td>\n",
       "      <td>INR</td>\n",
       "      <td>2299</td>\n",
       "      <td>Ships Free</td>\n",
       "      <td>0</td>\n",
       "      <td>NaN</td>\n",
       "      <td>0.0</td>\n",
       "      <td>2299</td>\n",
       "      <td>NaN</td>\n",
       "      <td>...</td>\n",
       "      <td>NaN</td>\n",
       "      <td>NaN</td>\n",
       "      <td>Falcon Drone Four Axis Aircraft with 2.4 GHz RC, Blade Guard, Headless Mode LED Without Camera</td>\n",
       "      <td>PL0093416</td>\n",
       "      <td>NaN</td>\n",
       "      <td>NaN</td>\n",
       "      <td>1</td>\n",
       "      <td>2299</td>\n",
       "      <td>NaN</td>\n",
       "      <td>physical</td>\n",
       "    </tr>\n",
       "    <tr>\n",
       "      <th>1</th>\n",
       "      <td>R472890631</td>\n",
       "      <td>NaN</td>\n",
       "      <td>INR</td>\n",
       "      <td>2299</td>\n",
       "      <td>Ships Free</td>\n",
       "      <td>0</td>\n",
       "      <td>NaN</td>\n",
       "      <td>0.0</td>\n",
       "      <td>2299</td>\n",
       "      <td>NaN</td>\n",
       "      <td>...</td>\n",
       "      <td>NaN</td>\n",
       "      <td>NaN</td>\n",
       "      <td>Falcon Drone Four Axis Aircraft with 2.4 GHz RC, Blade Guard, Headless Mode LED Without Camera</td>\n",
       "      <td>PL0093416</td>\n",
       "      <td>NaN</td>\n",
       "      <td>NaN</td>\n",
       "      <td>1</td>\n",
       "      <td>2299</td>\n",
       "      <td>NaN</td>\n",
       "      <td>physical</td>\n",
       "    </tr>\n",
       "  </tbody>\n",
       "</table></div>"
      ],
      "text/plain": [
       "      Order # Fulfillment Date and Time Stamp Currency Subtotal  \\\n",
       "0  R121113121                             NaN      INR     2299   \n",
       "1  R472890631                             NaN      INR     2299   \n",
       "\n",
       "  Shipping Method  Shipping Cost Tax Method  Taxes Total Coupon Code  ...  \\\n",
       "0      Ships Free              0        NaN    0.0  2299         NaN  ...   \n",
       "1      Ships Free              0        NaN    0.0  2299         NaN  ...   \n",
       "\n",
       "  Tracking #  Special Instructions  \\\n",
       "0        NaN                   NaN   \n",
       "1        NaN                   NaN   \n",
       "\n",
       "                                       LineItem Name LineItem SKU  \\\n",
       "0  Falcon Drone Four Axis Aircraft with 2.4 GHz R...    PL0093416   \n",
       "1  Falcon Drone Four Axis Aircraft with 2.4 GHz R...    PL0093416   \n",
       "\n",
       "  LineItem Options LineItem Add-ons LineItem Qty LineItem Sale Price  \\\n",
       "0              NaN              NaN            1                2299   \n",
       "1              NaN              NaN            1                2299   \n",
       "\n",
       "  Download Status LineItem Type  \n",
       "0             NaN      physical  \n",
       "1             NaN      physical  \n",
       "\n",
       "[2 rows x 38 columns]"
      ]
     },
     "execution_count": 2,
     "metadata": {},
     "output_type": "execute_result"
    }
   ],
   "source": [
    "data = pd.read_csv('orders_2020_2021_DataSet_Updated.csv')\n",
    "data.head(2)"
   ]
  },
  {
   "cell_type": "markdown",
   "metadata": {},
   "source": [
    "#### Looking at all Columns"
   ]
  },
  {
   "cell_type": "code",
   "execution_count": 3,
   "metadata": {},
   "outputs": [
    {
     "data": {
      "text/plain": [
       "Index(['Order #', 'Fulfillment Date and Time Stamp', 'Currency', 'Subtotal',\n",
       "       'Shipping Method', 'Shipping Cost', 'Tax Method', 'Taxes', 'Total',\n",
       "       'Coupon Code', 'Coupon Code Name', ' ', 'Billing Name',\n",
       "       'Billing Country', 'Billing Street Address', 'Billing Street Address 2',\n",
       "       'Billing City', 'Billing State', 'Billing Zip', 'Shipping Name',\n",
       "       'Shipping Country', 'Shipping Street Address',\n",
       "       'Shipping Street Address 2', 'Shipping City', 'Shipping State',\n",
       "       'Shipping Zip', 'Gift Cards', 'Payment Method', 'Tracking #',\n",
       "       'Special Instructions', 'LineItem Name', 'LineItem SKU',\n",
       "       'LineItem Options', 'LineItem Add-ons', 'LineItem Qty',\n",
       "       'LineItem Sale Price', 'Download Status', 'LineItem Type'],\n",
       "      dtype='object')"
      ]
     },
     "execution_count": 3,
     "metadata": {},
     "output_type": "execute_result"
    }
   ],
   "source": [
    "data.columns"
   ]
  },
  {
   "cell_type": "markdown",
   "metadata": {},
   "source": [
    "#### Printing the Number of Rows and Columns of Dataframe"
   ]
  },
  {
   "cell_type": "code",
   "execution_count": 4,
   "metadata": {},
   "outputs": [
    {
     "data": {
      "text/plain": [
       "(3039, 38)"
      ]
     },
     "execution_count": 4,
     "metadata": {},
     "output_type": "execute_result"
    }
   ],
   "source": [
    "data.shape"
   ]
  },
  {
   "cell_type": "markdown",
   "metadata": {},
   "source": [
    "#### Assigning a new variable/dataframe of important columns from data dataframe"
   ]
  },
  {
   "cell_type": "code",
   "execution_count": 5,
   "metadata": {},
   "outputs": [
    {
     "data": {
      "text/html": [
       "<div><div id=d4c10322-c974-4cf2-994c-eabc2020eadb style=\"display:none; background-color:#9D6CFF; color:white; width:200px; height:30px; padding-left:5px; border-radius:4px; flex-direction:row; justify-content:space-around; align-items:center;\" onmouseover=\"this.style.backgroundColor='#BA9BF8'\" onmouseout=\"this.style.backgroundColor='#9D6CFF'\" onclick=\"window.commands?.execute('create-mitosheet-from-dataframe-output');\">See Full Dataframe in Mito</div> <script> if (window.commands?.hasCommand('create-mitosheet-from-dataframe-output')) document.getElementById('d4c10322-c974-4cf2-994c-eabc2020eadb').style.display = 'flex' </script> <table border=\"1\" class=\"dataframe\">\n",
       "  <thead>\n",
       "    <tr style=\"text-align: right;\">\n",
       "      <th></th>\n",
       "      <th>Order #</th>\n",
       "      <th>Billing Street Address</th>\n",
       "      <th>Billing Street Address 2</th>\n",
       "      <th>Shipping Street Address</th>\n",
       "      <th>Shipping Street Address 2</th>\n",
       "    </tr>\n",
       "  </thead>\n",
       "  <tbody>\n",
       "    <tr>\n",
       "      <th>0</th>\n",
       "      <td>R121113121</td>\n",
       "      <td>Maharashtra chandrapur ghugus</td>\n",
       "      <td>Rajiv colony Gopal Nagar Bachelor guest House 2</td>\n",
       "      <td>Maharashtra chandrapur ghugus</td>\n",
       "      <td>Rajiv colony Gopal Nagar Bachelor guest House 2</td>\n",
       "    </tr>\n",
       "    <tr>\n",
       "      <th>1</th>\n",
       "      <td>R472890631</td>\n",
       "      <td>NaN</td>\n",
       "      <td>NaN</td>\n",
       "      <td>Maharashtra chandrapur ghugus</td>\n",
       "      <td>Rajiv colony Gopal Nagar guest House 2</td>\n",
       "    </tr>\n",
       "    <tr>\n",
       "      <th>2</th>\n",
       "      <td>R004476488</td>\n",
       "      <td>NaN</td>\n",
       "      <td>NaN</td>\n",
       "      <td>Maharashtra chandrapur ghugus</td>\n",
       "      <td>Rajiv colony Gopal Nagar guest House 2</td>\n",
       "    </tr>\n",
       "  </tbody>\n",
       "</table></div>"
      ],
      "text/plain": [
       "      Order #         Billing Street Address  \\\n",
       "0  R121113121  Maharashtra chandrapur ghugus   \n",
       "1  R472890631                            NaN   \n",
       "2  R004476488                            NaN   \n",
       "\n",
       "                          Billing Street Address 2  \\\n",
       "0  Rajiv colony Gopal Nagar Bachelor guest House 2   \n",
       "1                                              NaN   \n",
       "2                                              NaN   \n",
       "\n",
       "         Shipping Street Address  \\\n",
       "0  Maharashtra chandrapur ghugus   \n",
       "1  Maharashtra chandrapur ghugus   \n",
       "2  Maharashtra chandrapur ghugus   \n",
       "\n",
       "                         Shipping Street Address 2  \n",
       "0  Rajiv colony Gopal Nagar Bachelor guest House 2  \n",
       "1           Rajiv colony Gopal Nagar guest House 2  \n",
       "2           Rajiv colony Gopal Nagar guest House 2  "
      ]
     },
     "execution_count": 5,
     "metadata": {},
     "output_type": "execute_result"
    }
   ],
   "source": [
    "fake_idnt_1 = data[['Order #', 'Billing Street Address', 'Billing Street Address 2', 'Shipping Street Address',\n",
    "       'Shipping Street Address 2']]\n",
    "fake_idnt_1.head(3)\n"
   ]
  },
  {
   "cell_type": "markdown",
   "metadata": {},
   "source": [
    "#### This function Shows some Information about the dataframe"
   ]
  },
  {
   "cell_type": "code",
   "execution_count": 6,
   "metadata": {},
   "outputs": [
    {
     "name": "stdout",
     "output_type": "stream",
     "text": [
      "<class 'pandas.core.frame.DataFrame'>\n",
      "RangeIndex: 3039 entries, 0 to 3038\n",
      "Data columns (total 5 columns):\n",
      " #   Column                     Non-Null Count  Dtype \n",
      "---  ------                     --------------  ----- \n",
      " 0   Order #                    3039 non-null   object\n",
      " 1   Billing Street Address     375 non-null    object\n",
      " 2   Billing Street Address 2   228 non-null    object\n",
      " 3   Shipping Street Address    3020 non-null   object\n",
      " 4   Shipping Street Address 2  2057 non-null   object\n",
      "dtypes: object(5)\n",
      "memory usage: 118.8+ KB\n"
     ]
    }
   ],
   "source": [
    "fake_idnt_1.info()"
   ]
  },
  {
   "cell_type": "markdown",
   "metadata": {},
   "source": [
    "#### Checking the Number of null values in Columns"
   ]
  },
  {
   "cell_type": "code",
   "execution_count": 7,
   "metadata": {},
   "outputs": [
    {
     "data": {
      "text/plain": [
       "Order #                         0\n",
       "Billing Street Address       2664\n",
       "Billing Street Address 2     2811\n",
       "Shipping Street Address        19\n",
       "Shipping Street Address 2     982\n",
       "dtype: int64"
      ]
     },
     "execution_count": 7,
     "metadata": {},
     "output_type": "execute_result"
    }
   ],
   "source": [
    "fake_idnt_1.isnull().sum()"
   ]
  },
  {
   "cell_type": "code",
   "execution_count": 8,
   "metadata": {},
   "outputs": [
    {
     "data": {
      "text/plain": [
       "(3039, 5)"
      ]
     },
     "execution_count": 8,
     "metadata": {},
     "output_type": "execute_result"
    }
   ],
   "source": [
    "fake_idnt_1.shape"
   ]
  },
  {
   "cell_type": "markdown",
   "metadata": {},
   "source": [
    "#### Renaming some Columns"
   ]
  },
  {
   "cell_type": "code",
   "execution_count": 9,
   "metadata": {},
   "outputs": [
    {
     "name": "stderr",
     "output_type": "stream",
     "text": [
      "C:\\Users\\Admin\\AppData\\Local\\Temp\\ipykernel_17252\\2899242308.py:1: SettingWithCopyWarning: \n",
      "A value is trying to be set on a copy of a slice from a DataFrame\n",
      "\n",
      "See the caveats in the documentation: https://pandas.pydata.org/pandas-docs/stable/user_guide/indexing.html#returning-a-view-versus-a-copy\n",
      "  fake_idnt_1.rename(columns={'Order #':'Order No', 'Billing Street Address':'Billing Street Address 1',\n"
     ]
    }
   ],
   "source": [
    "fake_idnt_1.rename(columns={'Order #':'Order No', 'Billing Street Address':'Billing Street Address 1',\n",
    "        'Shipping Street Address':'Shipping Street Address 1'}, inplace=True)"
   ]
  },
  {
   "cell_type": "code",
   "execution_count": 10,
   "metadata": {},
   "outputs": [
    {
     "data": {
      "text/plain": [
       "Index(['Order No', 'Billing Street Address 1', 'Billing Street Address 2',\n",
       "       'Shipping Street Address 1', 'Shipping Street Address 2'],\n",
       "      dtype='object')"
      ]
     },
     "execution_count": 10,
     "metadata": {},
     "output_type": "execute_result"
    }
   ],
   "source": [
    "fake_idnt_1.columns"
   ]
  },
  {
   "cell_type": "code",
   "execution_count": 11,
   "metadata": {},
   "outputs": [
    {
     "data": {
      "text/html": [
       "<div><div id=36e196e6-0548-4cd4-89ad-effb4ae7a774 style=\"display:none; background-color:#9D6CFF; color:white; width:200px; height:30px; padding-left:5px; border-radius:4px; flex-direction:row; justify-content:space-around; align-items:center;\" onmouseover=\"this.style.backgroundColor='#BA9BF8'\" onmouseout=\"this.style.backgroundColor='#9D6CFF'\" onclick=\"window.commands?.execute('create-mitosheet-from-dataframe-output');\">See Full Dataframe in Mito</div> <script> if (window.commands?.hasCommand('create-mitosheet-from-dataframe-output')) document.getElementById('36e196e6-0548-4cd4-89ad-effb4ae7a774').style.display = 'flex' </script> <table border=\"1\" class=\"dataframe\">\n",
       "  <thead>\n",
       "    <tr style=\"text-align: right;\">\n",
       "      <th></th>\n",
       "      <th>Order No</th>\n",
       "      <th>Billing Street Address 1</th>\n",
       "      <th>Billing Street Address 2</th>\n",
       "      <th>Shipping Street Address 1</th>\n",
       "      <th>Shipping Street Address 2</th>\n",
       "    </tr>\n",
       "  </thead>\n",
       "  <tbody>\n",
       "    <tr>\n",
       "      <th>0</th>\n",
       "      <td>R121113121</td>\n",
       "      <td>Maharashtra chandrapur ghugus</td>\n",
       "      <td>Rajiv colony Gopal Nagar Bachelor guest House 2</td>\n",
       "      <td>Maharashtra chandrapur ghugus</td>\n",
       "      <td>Rajiv colony Gopal Nagar Bachelor guest House 2</td>\n",
       "    </tr>\n",
       "    <tr>\n",
       "      <th>1</th>\n",
       "      <td>R472890631</td>\n",
       "      <td>NaN</td>\n",
       "      <td>NaN</td>\n",
       "      <td>Maharashtra chandrapur ghugus</td>\n",
       "      <td>Rajiv colony Gopal Nagar guest House 2</td>\n",
       "    </tr>\n",
       "    <tr>\n",
       "      <th>2</th>\n",
       "      <td>R004476488</td>\n",
       "      <td>NaN</td>\n",
       "      <td>NaN</td>\n",
       "      <td>Maharashtra chandrapur ghugus</td>\n",
       "      <td>Rajiv colony Gopal Nagar guest House 2</td>\n",
       "    </tr>\n",
       "    <tr>\n",
       "      <th>3</th>\n",
       "      <td>R526038353</td>\n",
       "      <td>NaN</td>\n",
       "      <td>NaN</td>\n",
       "      <td>Chandrapur, ghugus, indra Nagar, Rajiv colony,</td>\n",
       "      <td>Bachler guest House 2</td>\n",
       "    </tr>\n",
       "    <tr>\n",
       "      <th>4</th>\n",
       "      <td>R658530771</td>\n",
       "      <td>NaN</td>\n",
       "      <td>NaN</td>\n",
       "      <td>D-6 SIR SYED APT,FLAT NO 401,THOKAR NO 7,NEAR FIRDAUS MASJID,SHAHEEN BAGH,NEW DELHI 110025</td>\n",
       "      <td>D-6 SIR SYED APT</td>\n",
       "    </tr>\n",
       "  </tbody>\n",
       "</table></div>"
      ],
      "text/plain": [
       "     Order No       Billing Street Address 1  \\\n",
       "0  R121113121  Maharashtra chandrapur ghugus   \n",
       "1  R472890631                            NaN   \n",
       "2  R004476488                            NaN   \n",
       "3  R526038353                            NaN   \n",
       "4  R658530771                            NaN   \n",
       "\n",
       "                          Billing Street Address 2  \\\n",
       "0  Rajiv colony Gopal Nagar Bachelor guest House 2   \n",
       "1                                              NaN   \n",
       "2                                              NaN   \n",
       "3                                              NaN   \n",
       "4                                              NaN   \n",
       "\n",
       "                           Shipping Street Address 1  \\\n",
       "0                      Maharashtra chandrapur ghugus   \n",
       "1                      Maharashtra chandrapur ghugus   \n",
       "2                      Maharashtra chandrapur ghugus   \n",
       "3     Chandrapur, ghugus, indra Nagar, Rajiv colony,   \n",
       "4  D-6 SIR SYED APT,FLAT NO 401,THOKAR NO 7,NEAR ...   \n",
       "\n",
       "                         Shipping Street Address 2  \n",
       "0  Rajiv colony Gopal Nagar Bachelor guest House 2  \n",
       "1           Rajiv colony Gopal Nagar guest House 2  \n",
       "2           Rajiv colony Gopal Nagar guest House 2  \n",
       "3                            Bachler guest House 2  \n",
       "4                                 D-6 SIR SYED APT  "
      ]
     },
     "execution_count": 11,
     "metadata": {},
     "output_type": "execute_result"
    }
   ],
   "source": [
    "fake_idnt_1.head()"
   ]
  },
  {
   "cell_type": "markdown",
   "metadata": {},
   "source": [
    "#### Keeping the Rows with at least 1 non-na in Some Columns"
   ]
  },
  {
   "cell_type": "code",
   "execution_count": 12,
   "metadata": {},
   "outputs": [
    {
     "name": "stderr",
     "output_type": "stream",
     "text": [
      "C:\\Users\\Admin\\AppData\\Local\\Temp\\ipykernel_17252\\3017623196.py:1: SettingWithCopyWarning: \n",
      "A value is trying to be set on a copy of a slice from a DataFrame\n",
      "\n",
      "See the caveats in the documentation: https://pandas.pydata.org/pandas-docs/stable/user_guide/indexing.html#returning-a-view-versus-a-copy\n",
      "  fake_idnt_1.dropna(subset=['Billing Street Address 1', 'Billing Street Address 2'], thresh=1, inplace=True)\n"
     ]
    },
    {
     "data": {
      "text/plain": [
       "(375, 5)"
      ]
     },
     "execution_count": 12,
     "metadata": {},
     "output_type": "execute_result"
    }
   ],
   "source": [
    "fake_idnt_1.dropna(subset=['Billing Street Address 1', 'Billing Street Address 2'], thresh=1, inplace=True)\n",
    "fake_idnt_1.shape\n"
   ]
  },
  {
   "cell_type": "code",
   "execution_count": 13,
   "metadata": {},
   "outputs": [
    {
     "name": "stderr",
     "output_type": "stream",
     "text": [
      "C:\\Users\\Admin\\AppData\\Local\\Temp\\ipykernel_17252\\1900289337.py:1: SettingWithCopyWarning: \n",
      "A value is trying to be set on a copy of a slice from a DataFrame\n",
      "\n",
      "See the caveats in the documentation: https://pandas.pydata.org/pandas-docs/stable/user_guide/indexing.html#returning-a-view-versus-a-copy\n",
      "  fake_idnt_1.dropna(subset=['Shipping Street Address 1', 'Shipping Street Address 2'], thresh=1, inplace=True)\n"
     ]
    },
    {
     "data": {
      "text/plain": [
       "(375, 5)"
      ]
     },
     "execution_count": 13,
     "metadata": {},
     "output_type": "execute_result"
    }
   ],
   "source": [
    "fake_idnt_1.dropna(subset=['Shipping Street Address 1', 'Shipping Street Address 2'], thresh=1, inplace=True)\n",
    "fake_idnt_1.shape"
   ]
  },
  {
   "cell_type": "code",
   "execution_count": 14,
   "metadata": {},
   "outputs": [
    {
     "data": {
      "text/html": [
       "<div><div id=944d2a7d-a392-4e9a-920b-b7d70306a287 style=\"display:none; background-color:#9D6CFF; color:white; width:200px; height:30px; padding-left:5px; border-radius:4px; flex-direction:row; justify-content:space-around; align-items:center;\" onmouseover=\"this.style.backgroundColor='#BA9BF8'\" onmouseout=\"this.style.backgroundColor='#9D6CFF'\" onclick=\"window.commands?.execute('create-mitosheet-from-dataframe-output');\">See Full Dataframe in Mito</div> <script> if (window.commands?.hasCommand('create-mitosheet-from-dataframe-output')) document.getElementById('944d2a7d-a392-4e9a-920b-b7d70306a287').style.display = 'flex' </script> <table border=\"1\" class=\"dataframe\">\n",
       "  <thead>\n",
       "    <tr style=\"text-align: right;\">\n",
       "      <th></th>\n",
       "      <th>Order No</th>\n",
       "      <th>Billing Street Address 1</th>\n",
       "      <th>Billing Street Address 2</th>\n",
       "      <th>Shipping Street Address 1</th>\n",
       "      <th>Shipping Street Address 2</th>\n",
       "    </tr>\n",
       "  </thead>\n",
       "  <tbody>\n",
       "    <tr>\n",
       "      <th>0</th>\n",
       "      <td>R121113121</td>\n",
       "      <td>Maharashtra chandrapur ghugus</td>\n",
       "      <td>Rajiv colony Gopal Nagar Bachelor guest House 2</td>\n",
       "      <td>Maharashtra chandrapur ghugus</td>\n",
       "      <td>Rajiv colony Gopal Nagar Bachelor guest House 2</td>\n",
       "    </tr>\n",
       "    <tr>\n",
       "      <th>6</th>\n",
       "      <td>R711371655</td>\n",
       "      <td>Wehntalerstrasse 527</td>\n",
       "      <td>NaN</td>\n",
       "      <td>Wehntalerstrasse 527</td>\n",
       "      <td>NaN</td>\n",
       "    </tr>\n",
       "    <tr>\n",
       "      <th>10</th>\n",
       "      <td>R728042506</td>\n",
       "      <td>vinoba nagar gali no 1</td>\n",
       "      <td>betul</td>\n",
       "      <td>vinoba nagar gali no 1</td>\n",
       "      <td>betul</td>\n",
       "    </tr>\n",
       "    <tr>\n",
       "      <th>26</th>\n",
       "      <td>R113535804</td>\n",
       "      <td>Gaondevi mandir</td>\n",
       "      <td>401 shiv palace</td>\n",
       "      <td>Gaondevi mandir</td>\n",
       "      <td>401 shiv palace</td>\n",
       "    </tr>\n",
       "    <tr>\n",
       "      <th>43</th>\n",
       "      <td>R046814280</td>\n",
       "      <td>Amsterdamsestraatweg 455A</td>\n",
       "      <td>NaN</td>\n",
       "      <td>Amsterdamsestraatweg 455A</td>\n",
       "      <td>NaN</td>\n",
       "    </tr>\n",
       "    <tr>\n",
       "      <th>...</th>\n",
       "      <td>...</td>\n",
       "      <td>...</td>\n",
       "      <td>...</td>\n",
       "      <td>...</td>\n",
       "      <td>...</td>\n",
       "    </tr>\n",
       "    <tr>\n",
       "      <th>3034</th>\n",
       "      <td>R243395005</td>\n",
       "      <td>Gcc</td>\n",
       "      <td>Ggggh</td>\n",
       "      <td>Gcc</td>\n",
       "      <td>Ggggh</td>\n",
       "    </tr>\n",
       "    <tr>\n",
       "      <th>3035</th>\n",
       "      <td>R607209508</td>\n",
       "      <td>Mayuree bihar,1st lane,near somnathnagar</td>\n",
       "      <td>Mayuree Bihar 1st line,near mayurapartment,po/st-Sriram Naga</td>\n",
       "      <td>Mayuree bihar,1st lane,near somnathnagar</td>\n",
       "      <td>Mayuree Bihar 1st line,near mayurapartment,po/st-Sriram Naga</td>\n",
       "    </tr>\n",
       "    <tr>\n",
       "      <th>3036</th>\n",
       "      <td>R140316623</td>\n",
       "      <td>mayuree vihar 1st lane</td>\n",
       "      <td>NaN</td>\n",
       "      <td>mayuree vihar 1st lane</td>\n",
       "      <td>NaN</td>\n",
       "    </tr>\n",
       "    <tr>\n",
       "      <th>3037</th>\n",
       "      <td>R192037084</td>\n",
       "      <td>test</td>\n",
       "      <td>gast</td>\n",
       "      <td>test</td>\n",
       "      <td>gast</td>\n",
       "    </tr>\n",
       "    <tr>\n",
       "      <th>3038</th>\n",
       "      <td>R414254148</td>\n",
       "      <td>test</td>\n",
       "      <td>gast</td>\n",
       "      <td>test</td>\n",
       "      <td>gast</td>\n",
       "    </tr>\n",
       "  </tbody>\n",
       "</table></div>"
      ],
      "text/plain": [
       "        Order No                  Billing Street Address 1  \\\n",
       "0     R121113121             Maharashtra chandrapur ghugus   \n",
       "6     R711371655                      Wehntalerstrasse 527   \n",
       "10    R728042506                    vinoba nagar gali no 1   \n",
       "26    R113535804                           Gaondevi mandir   \n",
       "43    R046814280                 Amsterdamsestraatweg 455A   \n",
       "...          ...                                       ...   \n",
       "3034  R243395005                                       Gcc   \n",
       "3035  R607209508  Mayuree bihar,1st lane,near somnathnagar   \n",
       "3036  R140316623                    mayuree vihar 1st lane   \n",
       "3037  R192037084                                      test   \n",
       "3038  R414254148                                      test   \n",
       "\n",
       "                               Billing Street Address 2  \\\n",
       "0       Rajiv colony Gopal Nagar Bachelor guest House 2   \n",
       "6                                                   NaN   \n",
       "10                                                betul   \n",
       "26                                      401 shiv palace   \n",
       "43                                                  NaN   \n",
       "...                                                 ...   \n",
       "3034                                              Ggggh   \n",
       "3035  Mayuree Bihar 1st line,near mayurapartment,po/...   \n",
       "3036                                                NaN   \n",
       "3037                                               gast   \n",
       "3038                                               gast   \n",
       "\n",
       "                     Shipping Street Address 1  \\\n",
       "0                Maharashtra chandrapur ghugus   \n",
       "6                         Wehntalerstrasse 527   \n",
       "10                      vinoba nagar gali no 1   \n",
       "26                             Gaondevi mandir   \n",
       "43                   Amsterdamsestraatweg 455A   \n",
       "...                                        ...   \n",
       "3034                                       Gcc   \n",
       "3035  Mayuree bihar,1st lane,near somnathnagar   \n",
       "3036                    mayuree vihar 1st lane   \n",
       "3037                                      test   \n",
       "3038                                      test   \n",
       "\n",
       "                              Shipping Street Address 2  \n",
       "0       Rajiv colony Gopal Nagar Bachelor guest House 2  \n",
       "6                                                   NaN  \n",
       "10                                                betul  \n",
       "26                                      401 shiv palace  \n",
       "43                                                  NaN  \n",
       "...                                                 ...  \n",
       "3034                                              Ggggh  \n",
       "3035  Mayuree Bihar 1st line,near mayurapartment,po/...  \n",
       "3036                                                NaN  \n",
       "3037                                               gast  \n",
       "3038                                               gast  \n",
       "\n",
       "[375 rows x 5 columns]"
      ]
     },
     "execution_count": 14,
     "metadata": {},
     "output_type": "execute_result"
    }
   ],
   "source": [
    "fake_idnt_1"
   ]
  },
  {
   "cell_type": "code",
   "execution_count": 15,
   "metadata": {},
   "outputs": [
    {
     "data": {
      "text/plain": [
       "Order No                       0\n",
       "Billing Street Address 1       0\n",
       "Billing Street Address 2     147\n",
       "Shipping Street Address 1      0\n",
       "Shipping Street Address 2    146\n",
       "dtype: int64"
      ]
     },
     "execution_count": 15,
     "metadata": {},
     "output_type": "execute_result"
    }
   ],
   "source": [
    "fake_idnt_1.isnull().sum()"
   ]
  },
  {
   "cell_type": "markdown",
   "metadata": {},
   "source": [
    "#### Filling NaN Values with Empty Element"
   ]
  },
  {
   "cell_type": "code",
   "execution_count": 16,
   "metadata": {},
   "outputs": [
    {
     "name": "stderr",
     "output_type": "stream",
     "text": [
      "C:\\Users\\Admin\\AppData\\Local\\Temp\\ipykernel_17252\\372864636.py:1: SettingWithCopyWarning: \n",
      "A value is trying to be set on a copy of a slice from a DataFrame\n",
      "\n",
      "See the caveats in the documentation: https://pandas.pydata.org/pandas-docs/stable/user_guide/indexing.html#returning-a-view-versus-a-copy\n",
      "  fake_idnt_1.fillna('', inplace=True)\n"
     ]
    }
   ],
   "source": [
    "fake_idnt_1.fillna('', inplace=True)"
   ]
  },
  {
   "cell_type": "code",
   "execution_count": 17,
   "metadata": {},
   "outputs": [
    {
     "data": {
      "text/plain": [
       "Order No                     0\n",
       "Billing Street Address 1     0\n",
       "Billing Street Address 2     0\n",
       "Shipping Street Address 1    0\n",
       "Shipping Street Address 2    0\n",
       "dtype: int64"
      ]
     },
     "execution_count": 17,
     "metadata": {},
     "output_type": "execute_result"
    }
   ],
   "source": [
    "fake_idnt_1.isnull().sum()"
   ]
  },
  {
   "cell_type": "markdown",
   "metadata": {},
   "source": [
    "#### Concatinating the Two Columns into a Column"
   ]
  },
  {
   "cell_type": "code",
   "execution_count": 18,
   "metadata": {},
   "outputs": [
    {
     "name": "stderr",
     "output_type": "stream",
     "text": [
      "C:\\Users\\Admin\\AppData\\Local\\Temp\\ipykernel_17252\\4085331019.py:1: SettingWithCopyWarning: \n",
      "A value is trying to be set on a copy of a slice from a DataFrame.\n",
      "Try using .loc[row_indexer,col_indexer] = value instead\n",
      "\n",
      "See the caveats in the documentation: https://pandas.pydata.org/pandas-docs/stable/user_guide/indexing.html#returning-a-view-versus-a-copy\n",
      "  fake_idnt_1['Billing_Street_Address_1_2'] = fake_idnt_1['Billing Street Address 1'] +\"/ \"+ fake_idnt_1['Billing Street Address 2']\n",
      "C:\\Users\\Admin\\AppData\\Local\\Temp\\ipykernel_17252\\4085331019.py:2: SettingWithCopyWarning: \n",
      "A value is trying to be set on a copy of a slice from a DataFrame.\n",
      "Try using .loc[row_indexer,col_indexer] = value instead\n",
      "\n",
      "See the caveats in the documentation: https://pandas.pydata.org/pandas-docs/stable/user_guide/indexing.html#returning-a-view-versus-a-copy\n",
      "  fake_idnt_1['Shipping_Street_Address_1_2'] = fake_idnt_1['Shipping Street Address 1'] +\"/ \"+ fake_idnt_1['Shipping Street Address 2']\n"
     ]
    },
    {
     "data": {
      "text/html": [
       "<div><div id=07cb13a3-a7d1-4091-9fdf-8d8b541cba40 style=\"display:none; background-color:#9D6CFF; color:white; width:200px; height:30px; padding-left:5px; border-radius:4px; flex-direction:row; justify-content:space-around; align-items:center;\" onmouseover=\"this.style.backgroundColor='#BA9BF8'\" onmouseout=\"this.style.backgroundColor='#9D6CFF'\" onclick=\"window.commands?.execute('create-mitosheet-from-dataframe-output');\">See Full Dataframe in Mito</div> <script> if (window.commands?.hasCommand('create-mitosheet-from-dataframe-output')) document.getElementById('07cb13a3-a7d1-4091-9fdf-8d8b541cba40').style.display = 'flex' </script> <table border=\"1\" class=\"dataframe\">\n",
       "  <thead>\n",
       "    <tr style=\"text-align: right;\">\n",
       "      <th></th>\n",
       "      <th>Order No</th>\n",
       "      <th>Billing Street Address 1</th>\n",
       "      <th>Billing Street Address 2</th>\n",
       "      <th>Shipping Street Address 1</th>\n",
       "      <th>Shipping Street Address 2</th>\n",
       "      <th>Billing_Street_Address_1_2</th>\n",
       "      <th>Shipping_Street_Address_1_2</th>\n",
       "    </tr>\n",
       "  </thead>\n",
       "  <tbody>\n",
       "    <tr>\n",
       "      <th>0</th>\n",
       "      <td>R121113121</td>\n",
       "      <td>Maharashtra chandrapur ghugus</td>\n",
       "      <td>Rajiv colony Gopal Nagar Bachelor guest House 2</td>\n",
       "      <td>Maharashtra chandrapur ghugus</td>\n",
       "      <td>Rajiv colony Gopal Nagar Bachelor guest House 2</td>\n",
       "      <td>Maharashtra chandrapur ghugus/ Rajiv colony Gopal Nagar Bachelor guest House 2</td>\n",
       "      <td>Maharashtra chandrapur ghugus/ Rajiv colony Gopal Nagar Bachelor guest House 2</td>\n",
       "    </tr>\n",
       "    <tr>\n",
       "      <th>6</th>\n",
       "      <td>R711371655</td>\n",
       "      <td>Wehntalerstrasse 527</td>\n",
       "      <td></td>\n",
       "      <td>Wehntalerstrasse 527</td>\n",
       "      <td></td>\n",
       "      <td>Wehntalerstrasse 527/</td>\n",
       "      <td>Wehntalerstrasse 527/</td>\n",
       "    </tr>\n",
       "    <tr>\n",
       "      <th>10</th>\n",
       "      <td>R728042506</td>\n",
       "      <td>vinoba nagar gali no 1</td>\n",
       "      <td>betul</td>\n",
       "      <td>vinoba nagar gali no 1</td>\n",
       "      <td>betul</td>\n",
       "      <td>vinoba nagar gali no 1/ betul</td>\n",
       "      <td>vinoba nagar gali no 1/ betul</td>\n",
       "    </tr>\n",
       "    <tr>\n",
       "      <th>26</th>\n",
       "      <td>R113535804</td>\n",
       "      <td>Gaondevi mandir</td>\n",
       "      <td>401 shiv palace</td>\n",
       "      <td>Gaondevi mandir</td>\n",
       "      <td>401 shiv palace</td>\n",
       "      <td>Gaondevi mandir/ 401 shiv palace</td>\n",
       "      <td>Gaondevi mandir/ 401 shiv palace</td>\n",
       "    </tr>\n",
       "    <tr>\n",
       "      <th>43</th>\n",
       "      <td>R046814280</td>\n",
       "      <td>Amsterdamsestraatweg 455A</td>\n",
       "      <td></td>\n",
       "      <td>Amsterdamsestraatweg 455A</td>\n",
       "      <td></td>\n",
       "      <td>Amsterdamsestraatweg 455A/</td>\n",
       "      <td>Amsterdamsestraatweg 455A/</td>\n",
       "    </tr>\n",
       "  </tbody>\n",
       "</table></div>"
      ],
      "text/plain": [
       "      Order No       Billing Street Address 1  \\\n",
       "0   R121113121  Maharashtra chandrapur ghugus   \n",
       "6   R711371655           Wehntalerstrasse 527   \n",
       "10  R728042506         vinoba nagar gali no 1   \n",
       "26  R113535804                Gaondevi mandir   \n",
       "43  R046814280      Amsterdamsestraatweg 455A   \n",
       "\n",
       "                           Billing Street Address 2  \\\n",
       "0   Rajiv colony Gopal Nagar Bachelor guest House 2   \n",
       "6                                                     \n",
       "10                                            betul   \n",
       "26                                  401 shiv palace   \n",
       "43                                                    \n",
       "\n",
       "        Shipping Street Address 1  \\\n",
       "0   Maharashtra chandrapur ghugus   \n",
       "6            Wehntalerstrasse 527   \n",
       "10         vinoba nagar gali no 1   \n",
       "26                Gaondevi mandir   \n",
       "43      Amsterdamsestraatweg 455A   \n",
       "\n",
       "                          Shipping Street Address 2  \\\n",
       "0   Rajiv colony Gopal Nagar Bachelor guest House 2   \n",
       "6                                                     \n",
       "10                                            betul   \n",
       "26                                  401 shiv palace   \n",
       "43                                                    \n",
       "\n",
       "                           Billing_Street_Address_1_2  \\\n",
       "0   Maharashtra chandrapur ghugus/ Rajiv colony Go...   \n",
       "6                              Wehntalerstrasse 527/    \n",
       "10                      vinoba nagar gali no 1/ betul   \n",
       "26                   Gaondevi mandir/ 401 shiv palace   \n",
       "43                        Amsterdamsestraatweg 455A/    \n",
       "\n",
       "                          Shipping_Street_Address_1_2  \n",
       "0   Maharashtra chandrapur ghugus/ Rajiv colony Go...  \n",
       "6                              Wehntalerstrasse 527/   \n",
       "10                      vinoba nagar gali no 1/ betul  \n",
       "26                   Gaondevi mandir/ 401 shiv palace  \n",
       "43                        Amsterdamsestraatweg 455A/   "
      ]
     },
     "execution_count": 18,
     "metadata": {},
     "output_type": "execute_result"
    }
   ],
   "source": [
    "fake_idnt_1['Billing_Street_Address_1_2'] = fake_idnt_1['Billing Street Address 1'] +\"/ \"+ fake_idnt_1['Billing Street Address 2']\n",
    "fake_idnt_1['Shipping_Street_Address_1_2'] = fake_idnt_1['Shipping Street Address 1'] +\"/ \"+ fake_idnt_1['Shipping Street Address 2']\n",
    "fake_idnt_1.head()"
   ]
  },
  {
   "cell_type": "markdown",
   "metadata": {},
   "source": [
    "#### Dropping the Unimportant Columns"
   ]
  },
  {
   "cell_type": "code",
   "execution_count": 19,
   "metadata": {},
   "outputs": [
    {
     "name": "stderr",
     "output_type": "stream",
     "text": [
      "C:\\Users\\Admin\\AppData\\Local\\Temp\\ipykernel_17252\\4277988064.py:1: SettingWithCopyWarning: \n",
      "A value is trying to be set on a copy of a slice from a DataFrame\n",
      "\n",
      "See the caveats in the documentation: https://pandas.pydata.org/pandas-docs/stable/user_guide/indexing.html#returning-a-view-versus-a-copy\n",
      "  fake_idnt_1.drop(columns=['Billing Street Address 1','Billing Street Address 2',\n"
     ]
    }
   ],
   "source": [
    "fake_idnt_1.drop(columns=['Billing Street Address 1','Billing Street Address 2',\n",
    "        'Shipping Street Address 1','Shipping Street Address 2'], inplace=True)"
   ]
  },
  {
   "cell_type": "code",
   "execution_count": 20,
   "metadata": {},
   "outputs": [
    {
     "data": {
      "text/plain": [
       "Index(['Order No', 'Billing_Street_Address_1_2',\n",
       "       'Shipping_Street_Address_1_2'],\n",
       "      dtype='object')"
      ]
     },
     "execution_count": 20,
     "metadata": {},
     "output_type": "execute_result"
    }
   ],
   "source": [
    "fake_idnt_1.columns"
   ]
  },
  {
   "cell_type": "markdown",
   "metadata": {},
   "source": [
    "#### Checking Which Row Two Columns is Unequal with Boolean"
   ]
  },
  {
   "cell_type": "code",
   "execution_count": 21,
   "metadata": {},
   "outputs": [
    {
     "name": "stderr",
     "output_type": "stream",
     "text": [
      "C:\\Users\\Admin\\AppData\\Local\\Temp\\ipykernel_17252\\2937663663.py:1: SettingWithCopyWarning: \n",
      "A value is trying to be set on a copy of a slice from a DataFrame.\n",
      "Try using .loc[row_indexer,col_indexer] = value instead\n",
      "\n",
      "See the caveats in the documentation: https://pandas.pydata.org/pandas-docs/stable/user_guide/indexing.html#returning-a-view-versus-a-copy\n",
      "  fake_idnt_1['Billing and Shipping Unequal'] = fake_idnt_1['Billing_Street_Address_1_2'] != fake_idnt_1['Shipping_Street_Address_1_2']\n"
     ]
    },
    {
     "data": {
      "text/html": [
       "<div><div id=ff111e29-2c35-476a-81dd-b8261bf1479b style=\"display:none; background-color:#9D6CFF; color:white; width:200px; height:30px; padding-left:5px; border-radius:4px; flex-direction:row; justify-content:space-around; align-items:center;\" onmouseover=\"this.style.backgroundColor='#BA9BF8'\" onmouseout=\"this.style.backgroundColor='#9D6CFF'\" onclick=\"window.commands?.execute('create-mitosheet-from-dataframe-output');\">See Full Dataframe in Mito</div> <script> if (window.commands?.hasCommand('create-mitosheet-from-dataframe-output')) document.getElementById('ff111e29-2c35-476a-81dd-b8261bf1479b').style.display = 'flex' </script> <table border=\"1\" class=\"dataframe\">\n",
       "  <thead>\n",
       "    <tr style=\"text-align: right;\">\n",
       "      <th></th>\n",
       "      <th>Order No</th>\n",
       "      <th>Billing_Street_Address_1_2</th>\n",
       "      <th>Shipping_Street_Address_1_2</th>\n",
       "      <th>Billing and Shipping Unequal</th>\n",
       "    </tr>\n",
       "  </thead>\n",
       "  <tbody>\n",
       "    <tr>\n",
       "      <th>0</th>\n",
       "      <td>R121113121</td>\n",
       "      <td>Maharashtra chandrapur ghugus/ Rajiv colony Gopal Nagar Bachelor guest House 2</td>\n",
       "      <td>Maharashtra chandrapur ghugus/ Rajiv colony Gopal Nagar Bachelor guest House 2</td>\n",
       "      <td>False</td>\n",
       "    </tr>\n",
       "    <tr>\n",
       "      <th>6</th>\n",
       "      <td>R711371655</td>\n",
       "      <td>Wehntalerstrasse 527/</td>\n",
       "      <td>Wehntalerstrasse 527/</td>\n",
       "      <td>False</td>\n",
       "    </tr>\n",
       "    <tr>\n",
       "      <th>10</th>\n",
       "      <td>R728042506</td>\n",
       "      <td>vinoba nagar gali no 1/ betul</td>\n",
       "      <td>vinoba nagar gali no 1/ betul</td>\n",
       "      <td>False</td>\n",
       "    </tr>\n",
       "    <tr>\n",
       "      <th>26</th>\n",
       "      <td>R113535804</td>\n",
       "      <td>Gaondevi mandir/ 401 shiv palace</td>\n",
       "      <td>Gaondevi mandir/ 401 shiv palace</td>\n",
       "      <td>False</td>\n",
       "    </tr>\n",
       "    <tr>\n",
       "      <th>43</th>\n",
       "      <td>R046814280</td>\n",
       "      <td>Amsterdamsestraatweg 455A/</td>\n",
       "      <td>Amsterdamsestraatweg 455A/</td>\n",
       "      <td>False</td>\n",
       "    </tr>\n",
       "  </tbody>\n",
       "</table></div>"
      ],
      "text/plain": [
       "      Order No                         Billing_Street_Address_1_2  \\\n",
       "0   R121113121  Maharashtra chandrapur ghugus/ Rajiv colony Go...   \n",
       "6   R711371655                             Wehntalerstrasse 527/    \n",
       "10  R728042506                      vinoba nagar gali no 1/ betul   \n",
       "26  R113535804                   Gaondevi mandir/ 401 shiv palace   \n",
       "43  R046814280                        Amsterdamsestraatweg 455A/    \n",
       "\n",
       "                          Shipping_Street_Address_1_2  \\\n",
       "0   Maharashtra chandrapur ghugus/ Rajiv colony Go...   \n",
       "6                              Wehntalerstrasse 527/    \n",
       "10                      vinoba nagar gali no 1/ betul   \n",
       "26                   Gaondevi mandir/ 401 shiv palace   \n",
       "43                        Amsterdamsestraatweg 455A/    \n",
       "\n",
       "    Billing and Shipping Unequal  \n",
       "0                          False  \n",
       "6                          False  \n",
       "10                         False  \n",
       "26                         False  \n",
       "43                         False  "
      ]
     },
     "execution_count": 21,
     "metadata": {},
     "output_type": "execute_result"
    }
   ],
   "source": [
    "fake_idnt_1['Billing and Shipping Unequal'] = fake_idnt_1['Billing_Street_Address_1_2'] != fake_idnt_1['Shipping_Street_Address_1_2']\n",
    "fake_idnt_1.head()"
   ]
  },
  {
   "cell_type": "code",
   "execution_count": 22,
   "metadata": {},
   "outputs": [
    {
     "data": {
      "text/html": [
       "<div><div id=dac0f220-9350-4e21-9cb3-1c9ada8b4d92 style=\"display:none; background-color:#9D6CFF; color:white; width:200px; height:30px; padding-left:5px; border-radius:4px; flex-direction:row; justify-content:space-around; align-items:center;\" onmouseover=\"this.style.backgroundColor='#BA9BF8'\" onmouseout=\"this.style.backgroundColor='#9D6CFF'\" onclick=\"window.commands?.execute('create-mitosheet-from-dataframe-output');\">See Full Dataframe in Mito</div> <script> if (window.commands?.hasCommand('create-mitosheet-from-dataframe-output')) document.getElementById('dac0f220-9350-4e21-9cb3-1c9ada8b4d92').style.display = 'flex' </script> <table border=\"1\" class=\"dataframe\">\n",
       "  <thead>\n",
       "    <tr style=\"text-align: right;\">\n",
       "      <th></th>\n",
       "      <th>Order No</th>\n",
       "      <th>Billing_Street_Address_1_2</th>\n",
       "      <th>Shipping_Street_Address_1_2</th>\n",
       "      <th>Billing and Shipping Unequal</th>\n",
       "    </tr>\n",
       "  </thead>\n",
       "  <tbody>\n",
       "    <tr>\n",
       "      <th>0</th>\n",
       "      <td>R121113121</td>\n",
       "      <td>Maharashtra chandrapur ghugus/ Rajiv colony Gopal Nagar Bachelor guest House 2</td>\n",
       "      <td>Maharashtra chandrapur ghugus/ Rajiv colony Gopal Nagar Bachelor guest House 2</td>\n",
       "      <td>False</td>\n",
       "    </tr>\n",
       "    <tr>\n",
       "      <th>6</th>\n",
       "      <td>R711371655</td>\n",
       "      <td>Wehntalerstrasse 527/</td>\n",
       "      <td>Wehntalerstrasse 527/</td>\n",
       "      <td>False</td>\n",
       "    </tr>\n",
       "    <tr>\n",
       "      <th>10</th>\n",
       "      <td>R728042506</td>\n",
       "      <td>vinoba nagar gali no 1/ betul</td>\n",
       "      <td>vinoba nagar gali no 1/ betul</td>\n",
       "      <td>False</td>\n",
       "    </tr>\n",
       "    <tr>\n",
       "      <th>26</th>\n",
       "      <td>R113535804</td>\n",
       "      <td>Gaondevi mandir/ 401 shiv palace</td>\n",
       "      <td>Gaondevi mandir/ 401 shiv palace</td>\n",
       "      <td>False</td>\n",
       "    </tr>\n",
       "    <tr>\n",
       "      <th>43</th>\n",
       "      <td>R046814280</td>\n",
       "      <td>Amsterdamsestraatweg 455A/</td>\n",
       "      <td>Amsterdamsestraatweg 455A/</td>\n",
       "      <td>False</td>\n",
       "    </tr>\n",
       "    <tr>\n",
       "      <th>...</th>\n",
       "      <td>...</td>\n",
       "      <td>...</td>\n",
       "      <td>...</td>\n",
       "      <td>...</td>\n",
       "    </tr>\n",
       "    <tr>\n",
       "      <th>3034</th>\n",
       "      <td>R243395005</td>\n",
       "      <td>Gcc/ Ggggh</td>\n",
       "      <td>Gcc/ Ggggh</td>\n",
       "      <td>False</td>\n",
       "    </tr>\n",
       "    <tr>\n",
       "      <th>3035</th>\n",
       "      <td>R607209508</td>\n",
       "      <td>Mayuree bihar,1st lane,near somnathnagar/ Mayuree Bihar 1st line,near mayurapartment,po/st-Sriram Naga</td>\n",
       "      <td>Mayuree bihar,1st lane,near somnathnagar/ Mayuree Bihar 1st line,near mayurapartment,po/st-Sriram Naga</td>\n",
       "      <td>False</td>\n",
       "    </tr>\n",
       "    <tr>\n",
       "      <th>3036</th>\n",
       "      <td>R140316623</td>\n",
       "      <td>mayuree vihar 1st lane/</td>\n",
       "      <td>mayuree vihar 1st lane/</td>\n",
       "      <td>False</td>\n",
       "    </tr>\n",
       "    <tr>\n",
       "      <th>3037</th>\n",
       "      <td>R192037084</td>\n",
       "      <td>test/ gast</td>\n",
       "      <td>test/ gast</td>\n",
       "      <td>False</td>\n",
       "    </tr>\n",
       "    <tr>\n",
       "      <th>3038</th>\n",
       "      <td>R414254148</td>\n",
       "      <td>test/ gast</td>\n",
       "      <td>test/ gast</td>\n",
       "      <td>False</td>\n",
       "    </tr>\n",
       "  </tbody>\n",
       "</table></div>"
      ],
      "text/plain": [
       "        Order No                         Billing_Street_Address_1_2  \\\n",
       "0     R121113121  Maharashtra chandrapur ghugus/ Rajiv colony Go...   \n",
       "6     R711371655                             Wehntalerstrasse 527/    \n",
       "10    R728042506                      vinoba nagar gali no 1/ betul   \n",
       "26    R113535804                   Gaondevi mandir/ 401 shiv palace   \n",
       "43    R046814280                        Amsterdamsestraatweg 455A/    \n",
       "...          ...                                                ...   \n",
       "3034  R243395005                                         Gcc/ Ggggh   \n",
       "3035  R607209508  Mayuree bihar,1st lane,near somnathnagar/ Mayu...   \n",
       "3036  R140316623                           mayuree vihar 1st lane/    \n",
       "3037  R192037084                                         test/ gast   \n",
       "3038  R414254148                                         test/ gast   \n",
       "\n",
       "                            Shipping_Street_Address_1_2  \\\n",
       "0     Maharashtra chandrapur ghugus/ Rajiv colony Go...   \n",
       "6                                Wehntalerstrasse 527/    \n",
       "10                        vinoba nagar gali no 1/ betul   \n",
       "26                     Gaondevi mandir/ 401 shiv palace   \n",
       "43                          Amsterdamsestraatweg 455A/    \n",
       "...                                                 ...   \n",
       "3034                                         Gcc/ Ggggh   \n",
       "3035  Mayuree bihar,1st lane,near somnathnagar/ Mayu...   \n",
       "3036                           mayuree vihar 1st lane/    \n",
       "3037                                         test/ gast   \n",
       "3038                                         test/ gast   \n",
       "\n",
       "      Billing and Shipping Unequal  \n",
       "0                            False  \n",
       "6                            False  \n",
       "10                           False  \n",
       "26                           False  \n",
       "43                           False  \n",
       "...                            ...  \n",
       "3034                         False  \n",
       "3035                         False  \n",
       "3036                         False  \n",
       "3037                         False  \n",
       "3038                         False  \n",
       "\n",
       "[375 rows x 4 columns]"
      ]
     },
     "execution_count": 22,
     "metadata": {},
     "output_type": "execute_result"
    }
   ],
   "source": [
    "fake_idnt_1"
   ]
  },
  {
   "cell_type": "code",
   "execution_count": 23,
   "metadata": {},
   "outputs": [],
   "source": [
    "fake_idnt_1.to_csv('Billing_Shipping_Differ_Address.csv')"
   ]
  },
  {
   "cell_type": "code",
   "execution_count": null,
   "metadata": {},
   "outputs": [],
   "source": []
  }
 ],
 "metadata": {
  "kernelspec": {
   "display_name": "Python 3.10.0 64-bit",
   "language": "python",
   "name": "python3"
  },
  "language_info": {
   "codemirror_mode": {
    "name": "ipython",
    "version": 3
   },
   "file_extension": ".py",
   "mimetype": "text/x-python",
   "name": "python",
   "nbconvert_exporter": "python",
   "pygments_lexer": "ipython3",
   "version": "3.10.0"
  },
  "orig_nbformat": 4,
  "vscode": {
   "interpreter": {
    "hash": "a42ccb73e7d9bfdf27e036f1d2b8b681e55fc0743cc5586bc2474d4a60f4b886"
   }
  }
 },
 "nbformat": 4,
 "nbformat_minor": 2
}
