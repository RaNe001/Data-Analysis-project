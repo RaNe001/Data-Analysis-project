{
 "cells": [
  {
   "cell_type": "markdown",
   "metadata": {},
   "source": [
    "##### Sub-Task\n",
    "##### Unexpected International Orders"
   ]
  },
  {
   "cell_type": "code",
   "execution_count": 1,
   "metadata": {},
   "outputs": [],
   "source": [
    "import pandas as pd\n",
    "import numpy as np\n",
    "import matplotlib.pyplot as plt\n",
    "import seaborn as sns\n",
    "%matplotlib inline"
   ]
  },
  {
   "cell_type": "code",
   "execution_count": 2,
   "metadata": {},
   "outputs": [
    {
     "data": {
      "text/html": [
       "<div><div id=76b9dead-fbd3-472f-aad6-76a906e86842 style=\"display:none; background-color:#9D6CFF; color:white; width:200px; height:30px; padding-left:5px; border-radius:4px; flex-direction:row; justify-content:space-around; align-items:center;\" onmouseover=\"this.style.backgroundColor='#BA9BF8'\" onmouseout=\"this.style.backgroundColor='#9D6CFF'\" onclick=\"window.commands?.execute('create-mitosheet-from-dataframe-output');\">See Full Dataframe in Mito</div> <script> if (window.commands?.hasCommand('create-mitosheet-from-dataframe-output')) document.getElementById('76b9dead-fbd3-472f-aad6-76a906e86842').style.display = 'flex' </script> <table border=\"1\" class=\"dataframe\">\n",
       "  <thead>\n",
       "    <tr style=\"text-align: right;\">\n",
       "      <th></th>\n",
       "      <th>Order #</th>\n",
       "      <th>Fulfillment Date and Time Stamp</th>\n",
       "      <th>Currency</th>\n",
       "      <th>Subtotal</th>\n",
       "      <th>Shipping Method</th>\n",
       "      <th>Shipping Cost</th>\n",
       "      <th>Tax Method</th>\n",
       "      <th>Taxes</th>\n",
       "      <th>Total</th>\n",
       "      <th>Coupon Code</th>\n",
       "      <th>...</th>\n",
       "      <th>Tracking #</th>\n",
       "      <th>Special Instructions</th>\n",
       "      <th>LineItem Name</th>\n",
       "      <th>LineItem SKU</th>\n",
       "      <th>LineItem Options</th>\n",
       "      <th>LineItem Add-ons</th>\n",
       "      <th>LineItem Qty</th>\n",
       "      <th>LineItem Sale Price</th>\n",
       "      <th>Download Status</th>\n",
       "      <th>LineItem Type</th>\n",
       "    </tr>\n",
       "  </thead>\n",
       "  <tbody>\n",
       "    <tr>\n",
       "      <th>0</th>\n",
       "      <td>R121113121</td>\n",
       "      <td>NaN</td>\n",
       "      <td>INR</td>\n",
       "      <td>2299</td>\n",
       "      <td>Ships Free</td>\n",
       "      <td>0</td>\n",
       "      <td>NaN</td>\n",
       "      <td>0.0</td>\n",
       "      <td>2299</td>\n",
       "      <td>NaN</td>\n",
       "      <td>...</td>\n",
       "      <td>NaN</td>\n",
       "      <td>NaN</td>\n",
       "      <td>Falcon Drone Four Axis Aircraft with 2.4 GHz RC, Blade Guard, Headless Mode LED Without Camera</td>\n",
       "      <td>PL0093416</td>\n",
       "      <td>NaN</td>\n",
       "      <td>NaN</td>\n",
       "      <td>1</td>\n",
       "      <td>2299</td>\n",
       "      <td>NaN</td>\n",
       "      <td>physical</td>\n",
       "    </tr>\n",
       "    <tr>\n",
       "      <th>1</th>\n",
       "      <td>R472890631</td>\n",
       "      <td>NaN</td>\n",
       "      <td>INR</td>\n",
       "      <td>2299</td>\n",
       "      <td>Ships Free</td>\n",
       "      <td>0</td>\n",
       "      <td>NaN</td>\n",
       "      <td>0.0</td>\n",
       "      <td>2299</td>\n",
       "      <td>NaN</td>\n",
       "      <td>...</td>\n",
       "      <td>NaN</td>\n",
       "      <td>NaN</td>\n",
       "      <td>Falcon Drone Four Axis Aircraft with 2.4 GHz RC, Blade Guard, Headless Mode LED Without Camera</td>\n",
       "      <td>PL0093416</td>\n",
       "      <td>NaN</td>\n",
       "      <td>NaN</td>\n",
       "      <td>1</td>\n",
       "      <td>2299</td>\n",
       "      <td>NaN</td>\n",
       "      <td>physical</td>\n",
       "    </tr>\n",
       "    <tr>\n",
       "      <th>2</th>\n",
       "      <td>R004476488</td>\n",
       "      <td>NaN</td>\n",
       "      <td>INR</td>\n",
       "      <td>2299</td>\n",
       "      <td>Ships Free</td>\n",
       "      <td>0</td>\n",
       "      <td>NaN</td>\n",
       "      <td>0.0</td>\n",
       "      <td>2299</td>\n",
       "      <td>NaN</td>\n",
       "      <td>...</td>\n",
       "      <td>NaN</td>\n",
       "      <td>NaN</td>\n",
       "      <td>Falcon Drone Four Axis Aircraft with 2.4 GHz RC, Blade Guard, Headless Mode LED Without Camera</td>\n",
       "      <td>PL0093416</td>\n",
       "      <td>NaN</td>\n",
       "      <td>NaN</td>\n",
       "      <td>1</td>\n",
       "      <td>2299</td>\n",
       "      <td>NaN</td>\n",
       "      <td>physical</td>\n",
       "    </tr>\n",
       "    <tr>\n",
       "      <th>3</th>\n",
       "      <td>R526038353</td>\n",
       "      <td>NaN</td>\n",
       "      <td>INR</td>\n",
       "      <td>2299</td>\n",
       "      <td>Ships Free</td>\n",
       "      <td>0</td>\n",
       "      <td>NaN</td>\n",
       "      <td>0.0</td>\n",
       "      <td>2299</td>\n",
       "      <td>NaN</td>\n",
       "      <td>...</td>\n",
       "      <td>NaN</td>\n",
       "      <td>NaN</td>\n",
       "      <td>Falcon Drone Four Axis Aircraft with 2.4 GHz RC, Blade Guard, Headless Mode LED Without Camera</td>\n",
       "      <td>PL0093416</td>\n",
       "      <td>NaN</td>\n",
       "      <td>NaN</td>\n",
       "      <td>1</td>\n",
       "      <td>2299</td>\n",
       "      <td>NaN</td>\n",
       "      <td>physical</td>\n",
       "    </tr>\n",
       "  </tbody>\n",
       "</table></div>"
      ],
      "text/plain": [
       "      Order # Fulfillment Date and Time Stamp Currency Subtotal  \\\n",
       "0  R121113121                             NaN      INR     2299   \n",
       "1  R472890631                             NaN      INR     2299   \n",
       "2  R004476488                             NaN      INR     2299   \n",
       "3  R526038353                             NaN      INR     2299   \n",
       "\n",
       "  Shipping Method  Shipping Cost Tax Method  Taxes Total Coupon Code  ...  \\\n",
       "0      Ships Free              0        NaN    0.0  2299         NaN  ...   \n",
       "1      Ships Free              0        NaN    0.0  2299         NaN  ...   \n",
       "2      Ships Free              0        NaN    0.0  2299         NaN  ...   \n",
       "3      Ships Free              0        NaN    0.0  2299         NaN  ...   \n",
       "\n",
       "  Tracking #  Special Instructions  \\\n",
       "0        NaN                   NaN   \n",
       "1        NaN                   NaN   \n",
       "2        NaN                   NaN   \n",
       "3        NaN                   NaN   \n",
       "\n",
       "                                       LineItem Name LineItem SKU  \\\n",
       "0  Falcon Drone Four Axis Aircraft with 2.4 GHz R...    PL0093416   \n",
       "1  Falcon Drone Four Axis Aircraft with 2.4 GHz R...    PL0093416   \n",
       "2  Falcon Drone Four Axis Aircraft with 2.4 GHz R...    PL0093416   \n",
       "3  Falcon Drone Four Axis Aircraft with 2.4 GHz R...    PL0093416   \n",
       "\n",
       "  LineItem Options LineItem Add-ons LineItem Qty LineItem Sale Price  \\\n",
       "0              NaN              NaN            1                2299   \n",
       "1              NaN              NaN            1                2299   \n",
       "2              NaN              NaN            1                2299   \n",
       "3              NaN              NaN            1                2299   \n",
       "\n",
       "  Download Status LineItem Type  \n",
       "0             NaN      physical  \n",
       "1             NaN      physical  \n",
       "2             NaN      physical  \n",
       "3             NaN      physical  \n",
       "\n",
       "[4 rows x 38 columns]"
      ]
     },
     "execution_count": 2,
     "metadata": {},
     "output_type": "execute_result"
    }
   ],
   "source": [
    "data = pd.read_csv('orders_2020_2021_DataSet_Updated.csv')\n",
    "data.head(4)"
   ]
  },
  {
   "cell_type": "code",
   "execution_count": 3,
   "metadata": {},
   "outputs": [
    {
     "data": {
      "text/plain": [
       "Index(['Order #', 'Fulfillment Date and Time Stamp', 'Currency', 'Subtotal',\n",
       "       'Shipping Method', 'Shipping Cost', 'Tax Method', 'Taxes', 'Total',\n",
       "       'Coupon Code', 'Coupon Code Name', ' ', 'Billing Name',\n",
       "       'Billing Country', 'Billing Street Address', 'Billing Street Address 2',\n",
       "       'Billing City', 'Billing State', 'Billing Zip', 'Shipping Name',\n",
       "       'Shipping Country', 'Shipping Street Address',\n",
       "       'Shipping Street Address 2', 'Shipping City', 'Shipping State',\n",
       "       'Shipping Zip', 'Gift Cards', 'Payment Method', 'Tracking #',\n",
       "       'Special Instructions', 'LineItem Name', 'LineItem SKU',\n",
       "       'LineItem Options', 'LineItem Add-ons', 'LineItem Qty',\n",
       "       'LineItem Sale Price', 'Download Status', 'LineItem Type'],\n",
       "      dtype='object')"
      ]
     },
     "execution_count": 3,
     "metadata": {},
     "output_type": "execute_result"
    }
   ],
   "source": [
    "data.columns"
   ]
  },
  {
   "cell_type": "code",
   "execution_count": 4,
   "metadata": {},
   "outputs": [
    {
     "data": {
      "text/plain": [
       "(3039, 38)"
      ]
     },
     "execution_count": 4,
     "metadata": {},
     "output_type": "execute_result"
    }
   ],
   "source": [
    "data.shape"
   ]
  },
  {
   "cell_type": "code",
   "execution_count": 5,
   "metadata": {},
   "outputs": [
    {
     "data": {
      "text/plain": [
       "Index(['Order #', 'Fulfillment Date and Time Stamp', 'Currency', 'Subtotal',\n",
       "       'Shipping Method', 'Shipping Cost', 'Tax Method', 'Taxes', 'Total',\n",
       "       'Coupon Code', 'Coupon Code Name', ' ', 'Billing Name',\n",
       "       'Billing Country', 'Billing Street Address', 'Billing Street Address 2',\n",
       "       'Billing City', 'Billing State', 'Billing Zip', 'Shipping Name',\n",
       "       'Shipping Country', 'Shipping Street Address',\n",
       "       'Shipping Street Address 2', 'Shipping City', 'Shipping State',\n",
       "       'Shipping Zip', 'Gift Cards', 'Payment Method', 'Tracking #',\n",
       "       'Special Instructions', 'LineItem Name', 'LineItem SKU',\n",
       "       'LineItem Options', 'LineItem Add-ons', 'LineItem Qty',\n",
       "       'LineItem Sale Price', 'Download Status', 'LineItem Type'],\n",
       "      dtype='object')"
      ]
     },
     "execution_count": 5,
     "metadata": {},
     "output_type": "execute_result"
    }
   ],
   "source": [
    "other_country=data[data['Shipping Country'] != 'IND']\n",
    "other_country.columns"
   ]
  },
  {
   "cell_type": "code",
   "execution_count": 6,
   "metadata": {},
   "outputs": [
    {
     "data": {
      "text/plain": [
       "Index(['Order #', 'LineItem Name', 'LineItem Qty', 'Total', 'Payment Method',\n",
       "       'Billing Country', 'Billing Street Address', 'Billing Street Address 2',\n",
       "       'Shipping Country', 'Shipping Street Address',\n",
       "       'Shipping Street Address 2'],\n",
       "      dtype='object')"
      ]
     },
     "execution_count": 6,
     "metadata": {},
     "output_type": "execute_result"
    }
   ],
   "source": [
    "other_country = other_country[['Order #', 'LineItem Name', 'LineItem Qty', 'Total', 'Payment Method',\n",
    "        'Billing Country','Billing Street Address', 'Billing Street Address 2',\n",
    "        'Shipping Country', 'Shipping Street Address', 'Shipping Street Address 2']]\n",
    "other_country.columns"
   ]
  },
  {
   "cell_type": "code",
   "execution_count": 7,
   "metadata": {},
   "outputs": [
    {
     "data": {
      "text/plain": [
       "(40, 11)"
      ]
     },
     "execution_count": 7,
     "metadata": {},
     "output_type": "execute_result"
    }
   ],
   "source": [
    "other_country.shape"
   ]
  },
  {
   "cell_type": "code",
   "execution_count": 8,
   "metadata": {},
   "outputs": [
    {
     "data": {
      "text/html": [
       "<div><div id=838d6961-b531-4fbf-8f7d-3837af5444d7 style=\"display:none; background-color:#9D6CFF; color:white; width:200px; height:30px; padding-left:5px; border-radius:4px; flex-direction:row; justify-content:space-around; align-items:center;\" onmouseover=\"this.style.backgroundColor='#BA9BF8'\" onmouseout=\"this.style.backgroundColor='#9D6CFF'\" onclick=\"window.commands?.execute('create-mitosheet-from-dataframe-output');\">See Full Dataframe in Mito</div> <script> if (window.commands?.hasCommand('create-mitosheet-from-dataframe-output')) document.getElementById('838d6961-b531-4fbf-8f7d-3837af5444d7').style.display = 'flex' </script> <table border=\"1\" class=\"dataframe\">\n",
       "  <thead>\n",
       "    <tr style=\"text-align: right;\">\n",
       "      <th></th>\n",
       "      <th>Order #</th>\n",
       "      <th>LineItem Name</th>\n",
       "      <th>LineItem Qty</th>\n",
       "      <th>Total</th>\n",
       "      <th>Payment Method</th>\n",
       "      <th>Billing Country</th>\n",
       "      <th>Billing Street Address</th>\n",
       "      <th>Billing Street Address 2</th>\n",
       "      <th>Shipping Country</th>\n",
       "      <th>Shipping Street Address</th>\n",
       "      <th>Shipping Street Address 2</th>\n",
       "    </tr>\n",
       "  </thead>\n",
       "  <tbody>\n",
       "    <tr>\n",
       "      <th>6</th>\n",
       "      <td>R711371655</td>\n",
       "      <td>Reliance Jio Phone 2</td>\n",
       "      <td>1</td>\n",
       "      <td>3199</td>\n",
       "      <td>NaN</td>\n",
       "      <td>CHE</td>\n",
       "      <td>Wehntalerstrasse 527</td>\n",
       "      <td>NaN</td>\n",
       "      <td>CHE</td>\n",
       "      <td>Wehntalerstrasse 527</td>\n",
       "      <td>NaN</td>\n",
       "    </tr>\n",
       "    <tr>\n",
       "      <th>39</th>\n",
       "      <td>R159642587</td>\n",
       "      <td>Nova NHC-3791 Electric Hair Trimmer (Black)</td>\n",
       "      <td>1</td>\n",
       "      <td>399</td>\n",
       "      <td>NaN</td>\n",
       "      <td>NaN</td>\n",
       "      <td>NaN</td>\n",
       "      <td>NaN</td>\n",
       "      <td>ZAF</td>\n",
       "      <td>Plot 70 Rietfontein</td>\n",
       "      <td>NaN</td>\n",
       "    </tr>\n",
       "    <tr>\n",
       "      <th>43</th>\n",
       "      <td>R046814280</td>\n",
       "      <td>Reliance Jio Phone</td>\n",
       "      <td>1</td>\n",
       "      <td>1899</td>\n",
       "      <td>NaN</td>\n",
       "      <td>NLD</td>\n",
       "      <td>Amsterdamsestraatweg 455A</td>\n",
       "      <td>NaN</td>\n",
       "      <td>NLD</td>\n",
       "      <td>Amsterdamsestraatweg 455A</td>\n",
       "      <td>NaN</td>\n",
       "    </tr>\n",
       "    <tr>\n",
       "      <th>143</th>\n",
       "      <td>R537836718</td>\n",
       "      <td>Men Formal Shoes Black Color With Free Sunglasses</td>\n",
       "      <td>1</td>\n",
       "      <td>499</td>\n",
       "      <td>NaN</td>\n",
       "      <td>NaN</td>\n",
       "      <td>NaN</td>\n",
       "      <td>NaN</td>\n",
       "      <td>COL</td>\n",
       "      <td>Carrera 16#49a 14</td>\n",
       "      <td>Casa</td>\n",
       "    </tr>\n",
       "    <tr>\n",
       "      <th>145</th>\n",
       "      <td>R645155068</td>\n",
       "      <td>Reliance Jio Phone</td>\n",
       "      <td>1</td>\n",
       "      <td>1899</td>\n",
       "      <td>NaN</td>\n",
       "      <td>FRA</td>\n",
       "      <td>125 place thermidor</td>\n",
       "      <td>CCAS MONTPELLIER</td>\n",
       "      <td>FRA</td>\n",
       "      <td>125 place thermidor</td>\n",
       "      <td>CCAS MONTPELLIER</td>\n",
       "    </tr>\n",
       "  </tbody>\n",
       "</table></div>"
      ],
      "text/plain": [
       "        Order #                                      LineItem Name  \\\n",
       "6    R711371655                               Reliance Jio Phone 2   \n",
       "39   R159642587        Nova NHC-3791 Electric Hair Trimmer (Black)   \n",
       "43   R046814280                                 Reliance Jio Phone   \n",
       "143  R537836718  Men Formal Shoes Black Color With Free Sunglasses   \n",
       "145  R645155068                                 Reliance Jio Phone   \n",
       "\n",
       "     LineItem Qty Total Payment Method Billing Country  \\\n",
       "6               1  3199            NaN             CHE   \n",
       "39              1   399            NaN             NaN   \n",
       "43              1  1899            NaN             NLD   \n",
       "143             1   499            NaN             NaN   \n",
       "145             1  1899            NaN             FRA   \n",
       "\n",
       "        Billing Street Address Billing Street Address 2 Shipping Country  \\\n",
       "6         Wehntalerstrasse 527                      NaN              CHE   \n",
       "39                         NaN                      NaN              ZAF   \n",
       "43   Amsterdamsestraatweg 455A                      NaN              NLD   \n",
       "143                        NaN                      NaN              COL   \n",
       "145        125 place thermidor         CCAS MONTPELLIER              FRA   \n",
       "\n",
       "       Shipping Street Address Shipping Street Address 2  \n",
       "6         Wehntalerstrasse 527                       NaN  \n",
       "39         Plot 70 Rietfontein                       NaN  \n",
       "43   Amsterdamsestraatweg 455A                       NaN  \n",
       "143          Carrera 16#49a 14                      Casa  \n",
       "145        125 place thermidor          CCAS MONTPELLIER  "
      ]
     },
     "execution_count": 8,
     "metadata": {},
     "output_type": "execute_result"
    }
   ],
   "source": [
    "other_country.head()"
   ]
  },
  {
   "cell_type": "code",
   "execution_count": 10,
   "metadata": {},
   "outputs": [
    {
     "data": {
      "text/html": [
       "<div><div id=d110ecf1-4bfe-4b07-a19a-6cf7b2a59958 style=\"display:none; background-color:#9D6CFF; color:white; width:200px; height:30px; padding-left:5px; border-radius:4px; flex-direction:row; justify-content:space-around; align-items:center;\" onmouseover=\"this.style.backgroundColor='#BA9BF8'\" onmouseout=\"this.style.backgroundColor='#9D6CFF'\" onclick=\"window.commands?.execute('create-mitosheet-from-dataframe-output');\">See Full Dataframe in Mito</div> <script> if (window.commands?.hasCommand('create-mitosheet-from-dataframe-output')) document.getElementById('d110ecf1-4bfe-4b07-a19a-6cf7b2a59958').style.display = 'flex' </script> <table border=\"1\" class=\"dataframe\">\n",
       "  <thead>\n",
       "    <tr style=\"text-align: right;\">\n",
       "      <th></th>\n",
       "      <th>Order #</th>\n",
       "      <th>LineItem Name</th>\n",
       "      <th>LineItem Qty</th>\n",
       "      <th>Total</th>\n",
       "      <th>Payment Method</th>\n",
       "      <th>Billing Country</th>\n",
       "      <th>Billing Street Address</th>\n",
       "      <th>Billing Street Address 2</th>\n",
       "      <th>Shipping Country</th>\n",
       "      <th>Shipping Street Address</th>\n",
       "      <th>Shipping Street Address 2</th>\n",
       "    </tr>\n",
       "  </thead>\n",
       "  <tbody>\n",
       "    <tr>\n",
       "      <th>6</th>\n",
       "      <td>R711371655</td>\n",
       "      <td>Reliance Jio Phone 2</td>\n",
       "      <td>1</td>\n",
       "      <td>3199</td>\n",
       "      <td>NaN</td>\n",
       "      <td>CHE</td>\n",
       "      <td>Wehntalerstrasse 527</td>\n",
       "      <td>-</td>\n",
       "      <td>CHE</td>\n",
       "      <td>Wehntalerstrasse 527</td>\n",
       "      <td>NaN</td>\n",
       "    </tr>\n",
       "    <tr>\n",
       "      <th>39</th>\n",
       "      <td>R159642587</td>\n",
       "      <td>Nova NHC-3791 Electric Hair Trimmer (Black)</td>\n",
       "      <td>1</td>\n",
       "      <td>399</td>\n",
       "      <td>NaN</td>\n",
       "      <td>NaN</td>\n",
       "      <td>-</td>\n",
       "      <td>-</td>\n",
       "      <td>ZAF</td>\n",
       "      <td>Plot 70 Rietfontein</td>\n",
       "      <td>NaN</td>\n",
       "    </tr>\n",
       "    <tr>\n",
       "      <th>43</th>\n",
       "      <td>R046814280</td>\n",
       "      <td>Reliance Jio Phone</td>\n",
       "      <td>1</td>\n",
       "      <td>1899</td>\n",
       "      <td>NaN</td>\n",
       "      <td>NLD</td>\n",
       "      <td>Amsterdamsestraatweg 455A</td>\n",
       "      <td>-</td>\n",
       "      <td>NLD</td>\n",
       "      <td>Amsterdamsestraatweg 455A</td>\n",
       "      <td>NaN</td>\n",
       "    </tr>\n",
       "    <tr>\n",
       "      <th>143</th>\n",
       "      <td>R537836718</td>\n",
       "      <td>Men Formal Shoes Black Color With Free Sunglasses</td>\n",
       "      <td>1</td>\n",
       "      <td>499</td>\n",
       "      <td>NaN</td>\n",
       "      <td>NaN</td>\n",
       "      <td>-</td>\n",
       "      <td>-</td>\n",
       "      <td>COL</td>\n",
       "      <td>Carrera 16#49a 14</td>\n",
       "      <td>Casa</td>\n",
       "    </tr>\n",
       "    <tr>\n",
       "      <th>145</th>\n",
       "      <td>R645155068</td>\n",
       "      <td>Reliance Jio Phone</td>\n",
       "      <td>1</td>\n",
       "      <td>1899</td>\n",
       "      <td>NaN</td>\n",
       "      <td>FRA</td>\n",
       "      <td>125 place thermidor</td>\n",
       "      <td>CCAS MONTPELLIER</td>\n",
       "      <td>FRA</td>\n",
       "      <td>125 place thermidor</td>\n",
       "      <td>CCAS MONTPELLIER</td>\n",
       "    </tr>\n",
       "  </tbody>\n",
       "</table></div>"
      ],
      "text/plain": [
       "        Order #                                      LineItem Name  \\\n",
       "6    R711371655                               Reliance Jio Phone 2   \n",
       "39   R159642587        Nova NHC-3791 Electric Hair Trimmer (Black)   \n",
       "43   R046814280                                 Reliance Jio Phone   \n",
       "143  R537836718  Men Formal Shoes Black Color With Free Sunglasses   \n",
       "145  R645155068                                 Reliance Jio Phone   \n",
       "\n",
       "     LineItem Qty Total Payment Method Billing Country  \\\n",
       "6               1  3199            NaN             CHE   \n",
       "39              1   399            NaN             NaN   \n",
       "43              1  1899            NaN             NLD   \n",
       "143             1   499            NaN             NaN   \n",
       "145             1  1899            NaN             FRA   \n",
       "\n",
       "        Billing Street Address Billing Street Address 2 Shipping Country  \\\n",
       "6         Wehntalerstrasse 527                        -              CHE   \n",
       "39                           -                        -              ZAF   \n",
       "43   Amsterdamsestraatweg 455A                        -              NLD   \n",
       "143                          -                        -              COL   \n",
       "145        125 place thermidor         CCAS MONTPELLIER              FRA   \n",
       "\n",
       "       Shipping Street Address Shipping Street Address 2  \n",
       "6         Wehntalerstrasse 527                       NaN  \n",
       "39         Plot 70 Rietfontein                       NaN  \n",
       "43   Amsterdamsestraatweg 455A                       NaN  \n",
       "143          Carrera 16#49a 14                      Casa  \n",
       "145        125 place thermidor          CCAS MONTPELLIER  "
      ]
     },
     "execution_count": 10,
     "metadata": {},
     "output_type": "execute_result"
    }
   ],
   "source": [
    "other_country[['Billing Street Address', 'Billing Street Address 2']]=other_country[['Billing Street Address', 'Billing Street Address 2']].fillna(value='-')\n",
    "other_country.head()"
   ]
  },
  {
   "cell_type": "code",
   "execution_count": 11,
   "metadata": {},
   "outputs": [],
   "source": [
    "other_country[['Shipping Street Address', 'Shipping Street Address 2']]=other_country[['Shipping Street Address', 'Shipping Street Address 2']].fillna(value='-')\n"
   ]
  },
  {
   "cell_type": "code",
   "execution_count": 14,
   "metadata": {},
   "outputs": [
    {
     "data": {
      "text/plain": [
       "Index(['Order #', 'LineItem Name', 'LineItem Qty', 'Total', 'Payment Method',\n",
       "       'Billing Country', 'Billing Street Address', 'Billing Street Address 2',\n",
       "       'Shipping Country', 'Shipping Street Address',\n",
       "       'Shipping Street Address 2', 'Billing Street Address 1_2',\n",
       "       'Shipping Street Address 1_2'],\n",
       "      dtype='object')"
      ]
     },
     "execution_count": 14,
     "metadata": {},
     "output_type": "execute_result"
    }
   ],
   "source": [
    "other_country['Billing Street Address 1_2'] = other_country['Billing Street Address'] + other_country['Billing Street Address 2']\n",
    "other_country['Shipping Street Address 1_2'] = other_country['Shipping Street Address']+other_country['Shipping Street Address 2']\n",
    "other_country.columns"
   ]
  },
  {
   "cell_type": "code",
   "execution_count": 16,
   "metadata": {},
   "outputs": [],
   "source": [
    "other_country['Billing Shipping Equal Address']= other_country['Billing Street Address 1_2']==other_country['Shipping Street Address 1_2']"
   ]
  },
  {
   "cell_type": "code",
   "execution_count": 17,
   "metadata": {},
   "outputs": [
    {
     "data": {
      "text/html": [
       "<div><div id=67b58981-6932-40ca-8221-71db0f0b7f62 style=\"display:none; background-color:#9D6CFF; color:white; width:200px; height:30px; padding-left:5px; border-radius:4px; flex-direction:row; justify-content:space-around; align-items:center;\" onmouseover=\"this.style.backgroundColor='#BA9BF8'\" onmouseout=\"this.style.backgroundColor='#9D6CFF'\" onclick=\"window.commands?.execute('create-mitosheet-from-dataframe-output');\">See Full Dataframe in Mito</div> <script> if (window.commands?.hasCommand('create-mitosheet-from-dataframe-output')) document.getElementById('67b58981-6932-40ca-8221-71db0f0b7f62').style.display = 'flex' </script> <table border=\"1\" class=\"dataframe\">\n",
       "  <thead>\n",
       "    <tr style=\"text-align: right;\">\n",
       "      <th></th>\n",
       "      <th>Order #</th>\n",
       "      <th>LineItem Name</th>\n",
       "      <th>LineItem Qty</th>\n",
       "      <th>Total</th>\n",
       "      <th>Payment Method</th>\n",
       "      <th>Billing Country</th>\n",
       "      <th>Billing Street Address</th>\n",
       "      <th>Billing Street Address 2</th>\n",
       "      <th>Shipping Country</th>\n",
       "      <th>Shipping Street Address</th>\n",
       "      <th>Shipping Street Address 2</th>\n",
       "      <th>Billing Street Address 1_2</th>\n",
       "      <th>Shipping Street Address 1_2</th>\n",
       "      <th>Billing Shipping Equal Address</th>\n",
       "    </tr>\n",
       "  </thead>\n",
       "  <tbody>\n",
       "    <tr>\n",
       "      <th>6</th>\n",
       "      <td>R711371655</td>\n",
       "      <td>Reliance Jio Phone 2</td>\n",
       "      <td>1</td>\n",
       "      <td>3199</td>\n",
       "      <td>NaN</td>\n",
       "      <td>CHE</td>\n",
       "      <td>Wehntalerstrasse 527</td>\n",
       "      <td>-</td>\n",
       "      <td>CHE</td>\n",
       "      <td>Wehntalerstrasse 527</td>\n",
       "      <td>-</td>\n",
       "      <td>Wehntalerstrasse 527-</td>\n",
       "      <td>Wehntalerstrasse 527-</td>\n",
       "      <td>True</td>\n",
       "    </tr>\n",
       "    <tr>\n",
       "      <th>39</th>\n",
       "      <td>R159642587</td>\n",
       "      <td>Nova NHC-3791 Electric Hair Trimmer (Black)</td>\n",
       "      <td>1</td>\n",
       "      <td>399</td>\n",
       "      <td>NaN</td>\n",
       "      <td>NaN</td>\n",
       "      <td>-</td>\n",
       "      <td>-</td>\n",
       "      <td>ZAF</td>\n",
       "      <td>Plot 70 Rietfontein</td>\n",
       "      <td>-</td>\n",
       "      <td>--</td>\n",
       "      <td>Plot 70 Rietfontein-</td>\n",
       "      <td>False</td>\n",
       "    </tr>\n",
       "    <tr>\n",
       "      <th>43</th>\n",
       "      <td>R046814280</td>\n",
       "      <td>Reliance Jio Phone</td>\n",
       "      <td>1</td>\n",
       "      <td>1899</td>\n",
       "      <td>NaN</td>\n",
       "      <td>NLD</td>\n",
       "      <td>Amsterdamsestraatweg 455A</td>\n",
       "      <td>-</td>\n",
       "      <td>NLD</td>\n",
       "      <td>Amsterdamsestraatweg 455A</td>\n",
       "      <td>-</td>\n",
       "      <td>Amsterdamsestraatweg 455A-</td>\n",
       "      <td>Amsterdamsestraatweg 455A-</td>\n",
       "      <td>True</td>\n",
       "    </tr>\n",
       "    <tr>\n",
       "      <th>143</th>\n",
       "      <td>R537836718</td>\n",
       "      <td>Men Formal Shoes Black Color With Free Sunglasses</td>\n",
       "      <td>1</td>\n",
       "      <td>499</td>\n",
       "      <td>NaN</td>\n",
       "      <td>NaN</td>\n",
       "      <td>-</td>\n",
       "      <td>-</td>\n",
       "      <td>COL</td>\n",
       "      <td>Carrera 16#49a 14</td>\n",
       "      <td>Casa</td>\n",
       "      <td>--</td>\n",
       "      <td>Carrera 16#49a 14Casa</td>\n",
       "      <td>False</td>\n",
       "    </tr>\n",
       "    <tr>\n",
       "      <th>145</th>\n",
       "      <td>R645155068</td>\n",
       "      <td>Reliance Jio Phone</td>\n",
       "      <td>1</td>\n",
       "      <td>1899</td>\n",
       "      <td>NaN</td>\n",
       "      <td>FRA</td>\n",
       "      <td>125 place thermidor</td>\n",
       "      <td>CCAS MONTPELLIER</td>\n",
       "      <td>FRA</td>\n",
       "      <td>125 place thermidor</td>\n",
       "      <td>CCAS MONTPELLIER</td>\n",
       "      <td>125 place thermidorCCAS MONTPELLIER</td>\n",
       "      <td>125 place thermidorCCAS MONTPELLIER</td>\n",
       "      <td>True</td>\n",
       "    </tr>\n",
       "  </tbody>\n",
       "</table></div>"
      ],
      "text/plain": [
       "        Order #                                      LineItem Name  \\\n",
       "6    R711371655                               Reliance Jio Phone 2   \n",
       "39   R159642587        Nova NHC-3791 Electric Hair Trimmer (Black)   \n",
       "43   R046814280                                 Reliance Jio Phone   \n",
       "143  R537836718  Men Formal Shoes Black Color With Free Sunglasses   \n",
       "145  R645155068                                 Reliance Jio Phone   \n",
       "\n",
       "     LineItem Qty Total Payment Method Billing Country  \\\n",
       "6               1  3199            NaN             CHE   \n",
       "39              1   399            NaN             NaN   \n",
       "43              1  1899            NaN             NLD   \n",
       "143             1   499            NaN             NaN   \n",
       "145             1  1899            NaN             FRA   \n",
       "\n",
       "        Billing Street Address Billing Street Address 2 Shipping Country  \\\n",
       "6         Wehntalerstrasse 527                        -              CHE   \n",
       "39                           -                        -              ZAF   \n",
       "43   Amsterdamsestraatweg 455A                        -              NLD   \n",
       "143                          -                        -              COL   \n",
       "145        125 place thermidor         CCAS MONTPELLIER              FRA   \n",
       "\n",
       "       Shipping Street Address Shipping Street Address 2  \\\n",
       "6         Wehntalerstrasse 527                         -   \n",
       "39         Plot 70 Rietfontein                         -   \n",
       "43   Amsterdamsestraatweg 455A                         -   \n",
       "143          Carrera 16#49a 14                      Casa   \n",
       "145        125 place thermidor          CCAS MONTPELLIER   \n",
       "\n",
       "              Billing Street Address 1_2          Shipping Street Address 1_2  \\\n",
       "6                  Wehntalerstrasse 527-                Wehntalerstrasse 527-   \n",
       "39                                    --                 Plot 70 Rietfontein-   \n",
       "43            Amsterdamsestraatweg 455A-           Amsterdamsestraatweg 455A-   \n",
       "143                                   --                Carrera 16#49a 14Casa   \n",
       "145  125 place thermidorCCAS MONTPELLIER  125 place thermidorCCAS MONTPELLIER   \n",
       "\n",
       "     Billing Shipping Equal Address  \n",
       "6                              True  \n",
       "39                            False  \n",
       "43                             True  \n",
       "143                           False  \n",
       "145                            True  "
      ]
     },
     "execution_count": 17,
     "metadata": {},
     "output_type": "execute_result"
    }
   ],
   "source": [
    "other_country.head()"
   ]
  },
  {
   "cell_type": "code",
   "execution_count": 18,
   "metadata": {},
   "outputs": [
    {
     "data": {
      "text/plain": [
       "array(['CHE', 'ZAF', 'NLD', 'COL', 'FRA', 'HUN', 'PAK', 'NGA', 'GBR',\n",
       "       'PRI', 'USA', 'ARE', 'SGP', 'CZE', 'SHN', 'GRD', 'CAN', 'MYS',\n",
       "       'AFG', 'GNB'], dtype=object)"
      ]
     },
     "execution_count": 18,
     "metadata": {},
     "output_type": "execute_result"
    }
   ],
   "source": [
    "other_country['Shipping Country'].unique()"
   ]
  },
  {
   "cell_type": "code",
   "execution_count": 19,
   "metadata": {},
   "outputs": [],
   "source": [
    "other_country.to_csv('other_country.csv')"
   ]
  },
  {
   "cell_type": "code",
   "execution_count": null,
   "metadata": {},
   "outputs": [],
   "source": []
  },
  {
   "cell_type": "code",
   "execution_count": null,
   "metadata": {},
   "outputs": [],
   "source": []
  }
 ],
 "metadata": {
  "kernelspec": {
   "display_name": "Python 3.10.0 64-bit",
   "language": "python",
   "name": "python3"
  },
  "language_info": {
   "codemirror_mode": {
    "name": "ipython",
    "version": 3
   },
   "file_extension": ".py",
   "mimetype": "text/x-python",
   "name": "python",
   "nbconvert_exporter": "python",
   "pygments_lexer": "ipython3",
   "version": "3.10.0"
  },
  "orig_nbformat": 4,
  "vscode": {
   "interpreter": {
    "hash": "a42ccb73e7d9bfdf27e036f1d2b8b681e55fc0743cc5586bc2474d4a60f4b886"
   }
  }
 },
 "nbformat": 4,
 "nbformat_minor": 2
}
