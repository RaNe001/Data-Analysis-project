{
 "cells": [
  {
   "cell_type": "markdown",
   "metadata": {},
   "source": [
    "#### Importing The All Important Libraries"
   ]
  },
  {
   "cell_type": "code",
   "execution_count": null,
   "metadata": {},
   "outputs": [],
   "source": [
    "import pandas as pd\n",
    "import numpy as np\n",
    "import seaborn as sns\n",
    "import matplotlib.pyplot as plt\n",
    "%matplotlib inline"
   ]
  },
  {
   "cell_type": "markdown",
   "metadata": {},
   "source": [
    "#### Reading The CSV File"
   ]
  },
  {
   "cell_type": "code",
   "execution_count": null,
   "metadata": {},
   "outputs": [],
   "source": [
    "data = pd.read_csv('mobile- Mobile.csv')"
   ]
  },
  {
   "cell_type": "code",
   "execution_count": null,
   "metadata": {},
   "outputs": [
    {
     "data": {
      "text/html": [
       "<div><div id=72efc452-1f85-487f-b07e-5de8a312e2f1 style=\"display:none; background-color:#9D6CFF; color:white; width:200px; height:30px; padding-left:5px; border-radius:4px; flex-direction:row; justify-content:space-around; align-items:center;\" onmouseover=\"this.style.backgroundColor='#BA9BF8'\" onmouseout=\"this.style.backgroundColor='#9D6CFF'\" onclick=\"window.commands?.execute('create-mitosheet-from-dataframe-output');\">See Full Dataframe in Mito</div> <script> if (window.commands?.hasCommand('create-mitosheet-from-dataframe-output')) document.getElementById('72efc452-1f85-487f-b07e-5de8a312e2f1').style.display = 'flex' </script> <table border=\"1\" class=\"dataframe\">\n",
       "  <thead>\n",
       "    <tr style=\"text-align: right;\">\n",
       "      <th></th>\n",
       "      <th>Name</th>\n",
       "      <th>Address 1</th>\n",
       "      <th>Adress 2</th>\n",
       "      <th>Adress 3</th>\n",
       "      <th>City</th>\n",
       "      <th>pincode</th>\n",
       "      <th>state</th>\n",
       "    </tr>\n",
       "  </thead>\n",
       "  <tbody>\n",
       "    <tr>\n",
       "      <th>0</th>\n",
       "      <td>HARMESH RANI GABA</td>\n",
       "      <td>316 JAGRATI ENCLAVE</td>\n",
       "      <td>0</td>\n",
       "      <td>0</td>\n",
       "      <td>NEWDELHI</td>\n",
       "      <td>110092.0</td>\n",
       "      <td>DELHI</td>\n",
       "    </tr>\n",
       "    <tr>\n",
       "      <th>1</th>\n",
       "      <td>B KRISHNA BAI</td>\n",
       "      <td>204 CHITRAPUR HSG SOCIETY</td>\n",
       "      <td>15TH CROSS RD MALLESWARAM</td>\n",
       "      <td>BANGALORE</td>\n",
       "      <td>BANGALORE</td>\n",
       "      <td>560055.0</td>\n",
       "      <td>KARNATAKA</td>\n",
       "    </tr>\n",
       "    <tr>\n",
       "      <th>2</th>\n",
       "      <td>GANGA SHREEDHAR</td>\n",
       "      <td>6 NUNGAMBAKKAM HIGH RD</td>\n",
       "      <td>MADRAS</td>\n",
       "      <td>0</td>\n",
       "      <td>CHENNAI</td>\n",
       "      <td>600034.0</td>\n",
       "      <td>TAMIL NADU</td>\n",
       "    </tr>\n",
       "    <tr>\n",
       "      <th>3</th>\n",
       "      <td>JOHN PINTO</td>\n",
       "      <td>NaN</td>\n",
       "      <td>NaN</td>\n",
       "      <td>NaN</td>\n",
       "      <td>NaN</td>\n",
       "      <td>NaN</td>\n",
       "      <td>NaN</td>\n",
       "    </tr>\n",
       "    <tr>\n",
       "      <th>4</th>\n",
       "      <td>ROBIN GHOSH</td>\n",
       "      <td>C-O MR JOY DEEP KAR ADVOCATE</td>\n",
       "      <td>7 OLD POST OFFICE STREET</td>\n",
       "      <td>0</td>\n",
       "      <td>KOLKATTA</td>\n",
       "      <td>700001.0</td>\n",
       "      <td>WEST BENGAL</td>\n",
       "    </tr>\n",
       "  </tbody>\n",
       "</table></div>"
      ],
      "text/plain": [
       "                Name                     Address 1                   Adress 2  \\\n",
       "0  HARMESH RANI GABA           316 JAGRATI ENCLAVE                          0   \n",
       "1      B KRISHNA BAI     204 CHITRAPUR HSG SOCIETY  15TH CROSS RD MALLESWARAM   \n",
       "2    GANGA SHREEDHAR        6 NUNGAMBAKKAM HIGH RD                     MADRAS   \n",
       "3         JOHN PINTO                           NaN                        NaN   \n",
       "4        ROBIN GHOSH  C-O MR JOY DEEP KAR ADVOCATE   7 OLD POST OFFICE STREET   \n",
       "\n",
       "    Adress 3       City   pincode        state  \n",
       "0          0   NEWDELHI  110092.0        DELHI  \n",
       "1  BANGALORE  BANGALORE  560055.0    KARNATAKA  \n",
       "2          0    CHENNAI  600034.0   TAMIL NADU  \n",
       "3        NaN        NaN       NaN          NaN  \n",
       "4          0   KOLKATTA  700001.0  WEST BENGAL  "
      ]
     },
     "execution_count": 3,
     "metadata": {},
     "output_type": "execute_result"
    }
   ],
   "source": [
    "data.head()"
   ]
  },
  {
   "cell_type": "markdown",
   "metadata": {},
   "source": [
    "#### Calculating The Sum Of All Null Values In Every Column"
   ]
  },
  {
   "cell_type": "code",
   "execution_count": null,
   "metadata": {},
   "outputs": [
    {
     "data": {
      "text/plain": [
       "Name         0\n",
       "Address 1    1\n",
       "Adress 2     1\n",
       "Adress 3     1\n",
       "City         1\n",
       "pincode      1\n",
       "state        1\n",
       "dtype: int64"
      ]
     },
     "execution_count": 4,
     "metadata": {},
     "output_type": "execute_result"
    }
   ],
   "source": [
    "data.isnull().sum()"
   ]
  },
  {
   "cell_type": "markdown",
   "metadata": {},
   "source": [
    "#### Dropping The Nan Values "
   ]
  },
  {
   "cell_type": "code",
   "execution_count": null,
   "metadata": {},
   "outputs": [],
   "source": [
    "data.dropna(axis=0, how='any', inplace=True)"
   ]
  },
  {
   "cell_type": "code",
   "execution_count": null,
   "metadata": {},
   "outputs": [
    {
     "data": {
      "text/plain": [
       "(370, 7)"
      ]
     },
     "execution_count": 6,
     "metadata": {},
     "output_type": "execute_result"
    }
   ],
   "source": [
    "data.shape"
   ]
  },
  {
   "cell_type": "markdown",
   "metadata": {},
   "source": [
    "#### It Shows The All The Duplicates"
   ]
  },
  {
   "cell_type": "code",
   "execution_count": null,
   "metadata": {},
   "outputs": [
    {
     "data": {
      "text/plain": [
       "3"
      ]
     },
     "execution_count": 8,
     "metadata": {},
     "output_type": "execute_result"
    }
   ],
   "source": [
    "data.duplicated().sum()"
   ]
  },
  {
   "cell_type": "markdown",
   "metadata": {},
   "source": [
    "#### This Will Drop The Duplicate Rows"
   ]
  },
  {
   "cell_type": "code",
   "execution_count": null,
   "metadata": {},
   "outputs": [],
   "source": [
    "data.drop_duplicates(inplace=True)"
   ]
  },
  {
   "cell_type": "code",
   "execution_count": null,
   "metadata": {},
   "outputs": [
    {
     "data": {
      "text/plain": [
       "(367, 7)"
      ]
     },
     "execution_count": 11,
     "metadata": {},
     "output_type": "execute_result"
    }
   ],
   "source": [
    "data.shape"
   ]
  },
  {
   "cell_type": "markdown",
   "metadata": {},
   "source": [
    "#### Getting The Top 10 Rows"
   ]
  },
  {
   "cell_type": "code",
   "execution_count": null,
   "metadata": {},
   "outputs": [
    {
     "data": {
      "text/html": [
       "<div><div id=635d6dbf-bc11-448d-810e-7935c66d1cdf style=\"display:none; background-color:#9D6CFF; color:white; width:200px; height:30px; padding-left:5px; border-radius:4px; flex-direction:row; justify-content:space-around; align-items:center;\" onmouseover=\"this.style.backgroundColor='#BA9BF8'\" onmouseout=\"this.style.backgroundColor='#9D6CFF'\" onclick=\"window.commands?.execute('create-mitosheet-from-dataframe-output');\">See Full Dataframe in Mito</div> <script> if (window.commands?.hasCommand('create-mitosheet-from-dataframe-output')) document.getElementById('635d6dbf-bc11-448d-810e-7935c66d1cdf').style.display = 'flex' </script> <table border=\"1\" class=\"dataframe\">\n",
       "  <thead>\n",
       "    <tr style=\"text-align: right;\">\n",
       "      <th></th>\n",
       "      <th>Name</th>\n",
       "      <th>Address 1</th>\n",
       "      <th>Adress 2</th>\n",
       "      <th>Adress 3</th>\n",
       "      <th>City</th>\n",
       "      <th>pincode</th>\n",
       "      <th>state</th>\n",
       "    </tr>\n",
       "  </thead>\n",
       "  <tbody>\n",
       "    <tr>\n",
       "      <th>0</th>\n",
       "      <td>HARMESH RANI GABA</td>\n",
       "      <td>316 JAGRATI ENCLAVE</td>\n",
       "      <td>0</td>\n",
       "      <td>0</td>\n",
       "      <td>NEWDELHI</td>\n",
       "      <td>110092.0</td>\n",
       "      <td>DELHI</td>\n",
       "    </tr>\n",
       "    <tr>\n",
       "      <th>1</th>\n",
       "      <td>B KRISHNA BAI</td>\n",
       "      <td>204 CHITRAPUR HSG SOCIETY</td>\n",
       "      <td>15TH CROSS RD MALLESWARAM</td>\n",
       "      <td>BANGALORE</td>\n",
       "      <td>BANGALORE</td>\n",
       "      <td>560055.0</td>\n",
       "      <td>KARNATAKA</td>\n",
       "    </tr>\n",
       "    <tr>\n",
       "      <th>2</th>\n",
       "      <td>GANGA SHREEDHAR</td>\n",
       "      <td>6 NUNGAMBAKKAM HIGH RD</td>\n",
       "      <td>MADRAS</td>\n",
       "      <td>0</td>\n",
       "      <td>CHENNAI</td>\n",
       "      <td>600034.0</td>\n",
       "      <td>TAMIL NADU</td>\n",
       "    </tr>\n",
       "    <tr>\n",
       "      <th>4</th>\n",
       "      <td>ROBIN GHOSH</td>\n",
       "      <td>C-O MR JOY DEEP KAR ADVOCATE</td>\n",
       "      <td>7 OLD POST OFFICE STREET</td>\n",
       "      <td>0</td>\n",
       "      <td>KOLKATTA</td>\n",
       "      <td>700001.0</td>\n",
       "      <td>WEST BENGAL</td>\n",
       "    </tr>\n",
       "    <tr>\n",
       "      <th>5</th>\n",
       "      <td>SARASWATEWWA H ATHANI</td>\n",
       "      <td>23-2 SIMPI GALLI</td>\n",
       "      <td>KARNATAKA</td>\n",
       "      <td>0</td>\n",
       "      <td>HUBLI</td>\n",
       "      <td>580020.0</td>\n",
       "      <td>KARNATAKA</td>\n",
       "    </tr>\n",
       "    <tr>\n",
       "      <th>6</th>\n",
       "      <td>AJIT RAMAKANT KULKARNI</td>\n",
       "      <td>SAHAKAR NGR NO 2 BLDG NO A-16</td>\n",
       "      <td>BLOCK NO 591 NEAR SHELL</td>\n",
       "      <td>COLONY CHEMBUR BOMBAY</td>\n",
       "      <td>MUMBAI</td>\n",
       "      <td>400071.0</td>\n",
       "      <td>MAHARASHTRA</td>\n",
       "    </tr>\n",
       "    <tr>\n",
       "      <th>7</th>\n",
       "      <td>SHAILENDRA SHANKAR KALE</td>\n",
       "      <td>G-1-1 KALPITA ENCLAVE</td>\n",
       "      <td>S N MARG</td>\n",
       "      <td>ANDHERI E  BOMBAY</td>\n",
       "      <td>MUMBAI</td>\n",
       "      <td>400069.0</td>\n",
       "      <td>MAHARASHTRA</td>\n",
       "    </tr>\n",
       "    <tr>\n",
       "      <th>8</th>\n",
       "      <td>SHIBANI MAITRA</td>\n",
       "      <td>6D-202 DAMODAR PARK</td>\n",
       "      <td>GHATKOPAR WEST</td>\n",
       "      <td>BOMBAY</td>\n",
       "      <td>MUMBAI</td>\n",
       "      <td>400086.0</td>\n",
       "      <td>MAHARASHTRA</td>\n",
       "    </tr>\n",
       "    <tr>\n",
       "      <th>9</th>\n",
       "      <td>VYAS ABHISHEK ATULBHAI</td>\n",
       "      <td>SAMARPAN</td>\n",
       "      <td>MATURINAGAR</td>\n",
       "      <td>AERODROME ROAD</td>\n",
       "      <td>RAJKOT</td>\n",
       "      <td>360009.0</td>\n",
       "      <td>GUJARAT</td>\n",
       "    </tr>\n",
       "    <tr>\n",
       "      <th>10</th>\n",
       "      <td>RAMANLAL NATHUBHAI PATEL</td>\n",
       "      <td>AT POST AMBHETI VIA PUNI</td>\n",
       "      <td>TAL PALASANA</td>\n",
       "      <td>DIST</td>\n",
       "      <td>SURAT</td>\n",
       "      <td>494350.0</td>\n",
       "      <td>GUJARAT</td>\n",
       "    </tr>\n",
       "  </tbody>\n",
       "</table></div>"
      ],
      "text/plain": [
       "                        Name                      Address 1  \\\n",
       "0          HARMESH RANI GABA            316 JAGRATI ENCLAVE   \n",
       "1              B KRISHNA BAI      204 CHITRAPUR HSG SOCIETY   \n",
       "2            GANGA SHREEDHAR         6 NUNGAMBAKKAM HIGH RD   \n",
       "4                ROBIN GHOSH   C-O MR JOY DEEP KAR ADVOCATE   \n",
       "5      SARASWATEWWA H ATHANI               23-2 SIMPI GALLI   \n",
       "6     AJIT RAMAKANT KULKARNI  SAHAKAR NGR NO 2 BLDG NO A-16   \n",
       "7    SHAILENDRA SHANKAR KALE          G-1-1 KALPITA ENCLAVE   \n",
       "8             SHIBANI MAITRA            6D-202 DAMODAR PARK   \n",
       "9     VYAS ABHISHEK ATULBHAI                       SAMARPAN   \n",
       "10  RAMANLAL NATHUBHAI PATEL       AT POST AMBHETI VIA PUNI   \n",
       "\n",
       "                     Adress 2               Adress 3       City   pincode  \\\n",
       "0                           0                      0   NEWDELHI  110092.0   \n",
       "1   15TH CROSS RD MALLESWARAM              BANGALORE  BANGALORE  560055.0   \n",
       "2                      MADRAS                      0    CHENNAI  600034.0   \n",
       "4    7 OLD POST OFFICE STREET                      0   KOLKATTA  700001.0   \n",
       "5                   KARNATAKA                      0      HUBLI  580020.0   \n",
       "6     BLOCK NO 591 NEAR SHELL  COLONY CHEMBUR BOMBAY     MUMBAI  400071.0   \n",
       "7                    S N MARG      ANDHERI E  BOMBAY     MUMBAI  400069.0   \n",
       "8              GHATKOPAR WEST                 BOMBAY     MUMBAI  400086.0   \n",
       "9                 MATURINAGAR         AERODROME ROAD     RAJKOT  360009.0   \n",
       "10               TAL PALASANA                   DIST      SURAT  494350.0   \n",
       "\n",
       "          state  \n",
       "0         DELHI  \n",
       "1     KARNATAKA  \n",
       "2    TAMIL NADU  \n",
       "4   WEST BENGAL  \n",
       "5     KARNATAKA  \n",
       "6   MAHARASHTRA  \n",
       "7   MAHARASHTRA  \n",
       "8   MAHARASHTRA  \n",
       "9       GUJARAT  \n",
       "10      GUJARAT  "
      ]
     },
     "execution_count": 12,
     "metadata": {},
     "output_type": "execute_result"
    }
   ],
   "source": [
    "data.head(10)"
   ]
  },
  {
   "cell_type": "markdown",
   "metadata": {},
   "source": [
    "#### Exporting The Data Into Excel Format"
   ]
  },
  {
   "cell_type": "code",
   "execution_count": null,
   "metadata": {},
   "outputs": [],
   "source": [
    "data.to_excel('Mobile.xlsx')"
   ]
  },
  {
   "cell_type": "code",
   "execution_count": null,
   "metadata": {},
   "outputs": [],
   "source": []
  }
 ],
 "metadata": {
  "kernelspec": {
   "display_name": "Python 3.10.0 64-bit",
   "language": "python",
   "name": "python3"
  },
  "language_info": {
   "codemirror_mode": {
    "name": "ipython",
    "version": 3
   },
   "file_extension": ".py",
   "mimetype": "text/x-python",
   "name": "python",
   "nbconvert_exporter": "python",
   "pygments_lexer": "ipython3",
   "version": "3.10.0"
  },
  "orig_nbformat": 4,
  "vscode": {
   "interpreter": {
    "hash": "a42ccb73e7d9bfdf27e036f1d2b8b681e55fc0743cc5586bc2474d4a60f4b886"
   }
  }
 },
 "nbformat": 4,
 "nbformat_minor": 2
}
