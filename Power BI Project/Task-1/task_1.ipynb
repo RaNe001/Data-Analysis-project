{
 "cells": [
  {
   "cell_type": "markdown",
   "metadata": {},
   "source": [
    "#### Importing The Important Libraries"
   ]
  },
  {
   "cell_type": "code",
   "execution_count": 85,
   "metadata": {},
   "outputs": [],
   "source": [
    "import pandas as pd\n",
    "import numpy as np\n",
    "import seaborn as sns\n",
    "import matplotlib.pyplot as plt"
   ]
  },
  {
   "cell_type": "markdown",
   "metadata": {},
   "source": [
    "#### Reading The CSV file"
   ]
  },
  {
   "cell_type": "code",
   "execution_count": 86,
   "metadata": {},
   "outputs": [],
   "source": [
    "data = pd.read_csv(\"online_class - Online Class.csv\")"
   ]
  },
  {
   "cell_type": "code",
   "execution_count": 87,
   "metadata": {},
   "outputs": [
    {
     "data": {
      "text/html": [
       "<div><div id=65ee8e0d-ea55-4bf7-87a4-91046c9aacfe style=\"display:none; background-color:#9D6CFF; color:white; width:200px; height:30px; padding-left:5px; border-radius:4px; flex-direction:row; justify-content:space-around; align-items:center;\" onmouseover=\"this.style.backgroundColor='#BA9BF8'\" onmouseout=\"this.style.backgroundColor='#9D6CFF'\" onclick=\"window.commands?.execute('create-mitosheet-from-dataframe-output');\">See Full Dataframe in Mito</div> <script> if (window.commands?.hasCommand('create-mitosheet-from-dataframe-output')) document.getElementById('65ee8e0d-ea55-4bf7-87a4-91046c9aacfe').style.display = 'flex' </script> <table border=\"1\" class=\"dataframe\">\n",
       "  <thead>\n",
       "    <tr style=\"text-align: right;\">\n",
       "      <th></th>\n",
       "      <th>Account Name</th>\n",
       "      <th>Address 1</th>\n",
       "      <th>Adress 2</th>\n",
       "      <th>City</th>\n",
       "      <th>PIN Code</th>\n",
       "      <th>State</th>\n",
       "      <th>amount</th>\n",
       "    </tr>\n",
       "  </thead>\n",
       "  <tbody>\n",
       "    <tr>\n",
       "      <th>0</th>\n",
       "      <td>REVENUE DIVISIONAL OFFICER</td>\n",
       "      <td>NaN</td>\n",
       "      <td>NaN</td>\n",
       "      <td>MAHATMA GANDHI ROAD, VIJAYAWADA (PADMAVATHI HOSPITAL)</td>\n",
       "      <td>NaN</td>\n",
       "      <td>ANDHRA PRADESH</td>\n",
       "      <td>NaN</td>\n",
       "    </tr>\n",
       "    <tr>\n",
       "      <th>1</th>\n",
       "      <td>A.KARUNA SHREE</td>\n",
       "      <td>NaN</td>\n",
       "      <td>NaN</td>\n",
       "      <td>MAHATMA GANDHI ROAD, VIJAYAWADA (PADMAVATHI HOSPITAL)</td>\n",
       "      <td>NaN</td>\n",
       "      <td>ANDHRA PRADESH</td>\n",
       "      <td>NaN</td>\n",
       "    </tr>\n",
       "    <tr>\n",
       "      <th>2</th>\n",
       "      <td>T RAMA RAO</td>\n",
       "      <td>NaN</td>\n",
       "      <td>NaN</td>\n",
       "      <td>MAHATMA GANDHI ROAD, VIJAYAWADA (PADMAVATHI HOSPITAL)</td>\n",
       "      <td>NaN</td>\n",
       "      <td>ANDHRA PRADESH</td>\n",
       "      <td>NaN</td>\n",
       "    </tr>\n",
       "    <tr>\n",
       "      <th>3</th>\n",
       "      <td>MULLAPATI SATYAVANI</td>\n",
       "      <td>NaN</td>\n",
       "      <td>NaN</td>\n",
       "      <td>MAHATMA GANDHI ROAD, VIJAYAWADA (PADMAVATHI HOSPITAL)</td>\n",
       "      <td>NaN</td>\n",
       "      <td>ANDHRA PRADESH</td>\n",
       "      <td>NaN</td>\n",
       "    </tr>\n",
       "    <tr>\n",
       "      <th>4</th>\n",
       "      <td>KESAMNENI ANNAPOORNA,</td>\n",
       "      <td>NaN</td>\n",
       "      <td>NaN</td>\n",
       "      <td>MAHATMA GANDHI ROAD, VIJAYAWADA (PADMAVATHI HOSPITAL)</td>\n",
       "      <td>NaN</td>\n",
       "      <td>ANDHRA PRADESH</td>\n",
       "      <td>NaN</td>\n",
       "    </tr>\n",
       "  </tbody>\n",
       "</table></div>"
      ],
      "text/plain": [
       "                 Account Name  Address 1  Adress 2  \\\n",
       "0  REVENUE DIVISIONAL OFFICER        NaN       NaN   \n",
       "1              A.KARUNA SHREE        NaN       NaN   \n",
       "2                  T RAMA RAO        NaN       NaN   \n",
       "3         MULLAPATI SATYAVANI        NaN       NaN   \n",
       "4       KESAMNENI ANNAPOORNA,        NaN       NaN   \n",
       "\n",
       "                                                City  PIN Code  \\\n",
       "0  MAHATMA GANDHI ROAD, VIJAYAWADA (PADMAVATHI HO...       NaN   \n",
       "1  MAHATMA GANDHI ROAD, VIJAYAWADA (PADMAVATHI HO...       NaN   \n",
       "2  MAHATMA GANDHI ROAD, VIJAYAWADA (PADMAVATHI HO...       NaN   \n",
       "3  MAHATMA GANDHI ROAD, VIJAYAWADA (PADMAVATHI HO...       NaN   \n",
       "4  MAHATMA GANDHI ROAD, VIJAYAWADA (PADMAVATHI HO...       NaN   \n",
       "\n",
       "            State  amount  \n",
       "0  ANDHRA PRADESH     NaN  \n",
       "1  ANDHRA PRADESH     NaN  \n",
       "2  ANDHRA PRADESH     NaN  \n",
       "3  ANDHRA PRADESH     NaN  \n",
       "4  ANDHRA PRADESH     NaN  "
      ]
     },
     "execution_count": 87,
     "metadata": {},
     "output_type": "execute_result"
    }
   ],
   "source": [
    "data.head()"
   ]
  },
  {
   "cell_type": "code",
   "execution_count": 88,
   "metadata": {},
   "outputs": [
    {
     "data": {
      "text/plain": [
       "(155622, 7)"
      ]
     },
     "execution_count": 88,
     "metadata": {},
     "output_type": "execute_result"
    }
   ],
   "source": [
    "data.shape"
   ]
  },
  {
   "cell_type": "markdown",
   "metadata": {},
   "source": [
    "#### Getting The Sum NA Values In Every Column"
   ]
  },
  {
   "cell_type": "code",
   "execution_count": 89,
   "metadata": {},
   "outputs": [
    {
     "data": {
      "text/plain": [
       "Account Name         2\n",
       "Address 1       155622\n",
       "Adress 2        155622\n",
       "City                 0\n",
       "PIN Code        155622\n",
       "State                0\n",
       "amount          155622\n",
       "dtype: int64"
      ]
     },
     "execution_count": 89,
     "metadata": {},
     "output_type": "execute_result"
    }
   ],
   "source": [
    "data.isna().sum()"
   ]
  },
  {
   "cell_type": "markdown",
   "metadata": {},
   "source": [
    "#### Showing The NA Values Through Heatmap"
   ]
  },
  {
   "cell_type": "code",
   "execution_count": 90,
   "metadata": {},
   "outputs": [
    {
     "data": {
      "text/plain": [
       "<AxesSubplot:>"
      ]
     },
     "execution_count": 90,
     "metadata": {},
     "output_type": "execute_result"
    },
    {
     "data": {
      "image/png": "[encoded data removed]",
      "text/plain": [
       "<Figure size 432x288 with 2 Axes>"
      ]
     },
     "metadata": {
      "needs_background": "light"
     },
     "output_type": "display_data"
    }
   ],
   "source": [
    "sns.heatmap(data.isnull())"
   ]
  },
  {
   "cell_type": "markdown",
   "metadata": {},
   "source": [
    "#### Dropping The NA Values"
   ]
  },
  {
   "cell_type": "code",
   "execution_count": 91,
   "metadata": {},
   "outputs": [
    {
     "data": {
      "text/plain": [
       "(155622, 3)"
      ]
     },
     "execution_count": 91,
     "metadata": {},
     "output_type": "execute_result"
    }
   ],
   "source": [
    "data_1 = data.dropna(axis=1, how='all')\n",
    "data_1.shape\n"
   ]
  },
  {
   "cell_type": "code",
   "execution_count": 92,
   "metadata": {},
   "outputs": [
    {
     "data": {
      "text/html": [
       "<div><div id=ee05a16c-a868-48ae-b781-9fa6f1facc20 style=\"display:none; background-color:#9D6CFF; color:white; width:200px; height:30px; padding-left:5px; border-radius:4px; flex-direction:row; justify-content:space-around; align-items:center;\" onmouseover=\"this.style.backgroundColor='#BA9BF8'\" onmouseout=\"this.style.backgroundColor='#9D6CFF'\" onclick=\"window.commands?.execute('create-mitosheet-from-dataframe-output');\">See Full Dataframe in Mito</div> <script> if (window.commands?.hasCommand('create-mitosheet-from-dataframe-output')) document.getElementById('ee05a16c-a868-48ae-b781-9fa6f1facc20').style.display = 'flex' </script> <table border=\"1\" class=\"dataframe\">\n",
       "  <thead>\n",
       "    <tr style=\"text-align: right;\">\n",
       "      <th></th>\n",
       "      <th>Account Name</th>\n",
       "      <th>City</th>\n",
       "      <th>State</th>\n",
       "    </tr>\n",
       "  </thead>\n",
       "  <tbody>\n",
       "    <tr>\n",
       "      <th>0</th>\n",
       "      <td>REVENUE DIVISIONAL OFFICER</td>\n",
       "      <td>MAHATMA GANDHI ROAD, VIJAYAWADA (PADMAVATHI HOSPITAL)</td>\n",
       "      <td>ANDHRA PRADESH</td>\n",
       "    </tr>\n",
       "    <tr>\n",
       "      <th>1</th>\n",
       "      <td>A.KARUNA SHREE</td>\n",
       "      <td>MAHATMA GANDHI ROAD, VIJAYAWADA (PADMAVATHI HOSPITAL)</td>\n",
       "      <td>ANDHRA PRADESH</td>\n",
       "    </tr>\n",
       "    <tr>\n",
       "      <th>2</th>\n",
       "      <td>T RAMA RAO</td>\n",
       "      <td>MAHATMA GANDHI ROAD, VIJAYAWADA (PADMAVATHI HOSPITAL)</td>\n",
       "      <td>ANDHRA PRADESH</td>\n",
       "    </tr>\n",
       "    <tr>\n",
       "      <th>3</th>\n",
       "      <td>MULLAPATI SATYAVANI</td>\n",
       "      <td>MAHATMA GANDHI ROAD, VIJAYAWADA (PADMAVATHI HOSPITAL)</td>\n",
       "      <td>ANDHRA PRADESH</td>\n",
       "    </tr>\n",
       "    <tr>\n",
       "      <th>4</th>\n",
       "      <td>KESAMNENI ANNAPOORNA,</td>\n",
       "      <td>MAHATMA GANDHI ROAD, VIJAYAWADA (PADMAVATHI HOSPITAL)</td>\n",
       "      <td>ANDHRA PRADESH</td>\n",
       "    </tr>\n",
       "  </tbody>\n",
       "</table></div>"
      ],
      "text/plain": [
       "                 Account Name  \\\n",
       "0  REVENUE DIVISIONAL OFFICER   \n",
       "1              A.KARUNA SHREE   \n",
       "2                  T RAMA RAO   \n",
       "3         MULLAPATI SATYAVANI   \n",
       "4       KESAMNENI ANNAPOORNA,   \n",
       "\n",
       "                                                City           State  \n",
       "0  MAHATMA GANDHI ROAD, VIJAYAWADA (PADMAVATHI HO...  ANDHRA PRADESH  \n",
       "1  MAHATMA GANDHI ROAD, VIJAYAWADA (PADMAVATHI HO...  ANDHRA PRADESH  \n",
       "2  MAHATMA GANDHI ROAD, VIJAYAWADA (PADMAVATHI HO...  ANDHRA PRADESH  \n",
       "3  MAHATMA GANDHI ROAD, VIJAYAWADA (PADMAVATHI HO...  ANDHRA PRADESH  \n",
       "4  MAHATMA GANDHI ROAD, VIJAYAWADA (PADMAVATHI HO...  ANDHRA PRADESH  "
      ]
     },
     "execution_count": 92,
     "metadata": {},
     "output_type": "execute_result"
    }
   ],
   "source": [
    "data_1.head()"
   ]
  },
  {
   "cell_type": "code",
   "execution_count": 93,
   "metadata": {},
   "outputs": [
    {
     "data": {
      "text/plain": [
       "Account Name    2\n",
       "City            0\n",
       "State           0\n",
       "dtype: int64"
      ]
     },
     "execution_count": 93,
     "metadata": {},
     "output_type": "execute_result"
    }
   ],
   "source": [
    "data_1.isnull().sum(axis=0)"
   ]
  },
  {
   "cell_type": "code",
   "execution_count": 95,
   "metadata": {},
   "outputs": [
    {
     "name": "stderr",
     "output_type": "stream",
     "text": [
      "C:\\Users\\Admin\\AppData\\Local\\Temp\\ipykernel_16680\\609622397.py:1: SettingWithCopyWarning: \n",
      "A value is trying to be set on a copy of a slice from a DataFrame\n",
      "\n",
      "See the caveats in the documentation: https://pandas.pydata.org/pandas-docs/stable/user_guide/indexing.html#returning-a-view-versus-a-copy\n",
      "  data_1.dropna(axis=0, how='any', inplace=True)\n"
     ]
    },
    {
     "data": {
      "text/plain": [
       "(155620, 3)"
      ]
     },
     "execution_count": 95,
     "metadata": {},
     "output_type": "execute_result"
    }
   ],
   "source": [
    "data_1.dropna(axis=0, how='any', inplace=True)\n",
    "data_1.shape"
   ]
  },
  {
   "cell_type": "markdown",
   "metadata": {},
   "source": [
    "#### Getting The Sum Of Duplicate Values"
   ]
  },
  {
   "cell_type": "code",
   "execution_count": 96,
   "metadata": {},
   "outputs": [
    {
     "data": {
      "text/plain": [
       "2066"
      ]
     },
     "execution_count": 96,
     "metadata": {},
     "output_type": "execute_result"
    }
   ],
   "source": [
    "data_1.duplicated().sum()"
   ]
  },
  {
   "cell_type": "markdown",
   "metadata": {},
   "source": [
    "#### Drop The Duplicates"
   ]
  },
  {
   "cell_type": "code",
   "execution_count": 97,
   "metadata": {},
   "outputs": [
    {
     "name": "stderr",
     "output_type": "stream",
     "text": [
      "C:\\Users\\Admin\\AppData\\Local\\Temp\\ipykernel_16680\\817136703.py:1: SettingWithCopyWarning: \n",
      "A value is trying to be set on a copy of a slice from a DataFrame\n",
      "\n",
      "See the caveats in the documentation: https://pandas.pydata.org/pandas-docs/stable/user_guide/indexing.html#returning-a-view-versus-a-copy\n",
      "  data_1.drop_duplicates(inplace=True)\n"
     ]
    }
   ],
   "source": [
    "data_1.drop_duplicates(inplace=True)"
   ]
  },
  {
   "cell_type": "code",
   "execution_count": 98,
   "metadata": {},
   "outputs": [
    {
     "data": {
      "text/plain": [
       "(153554, 3)"
      ]
     },
     "execution_count": 98,
     "metadata": {},
     "output_type": "execute_result"
    }
   ],
   "source": [
    "data_1.shape"
   ]
  },
  {
   "cell_type": "markdown",
   "metadata": {},
   "source": [
    "#### Showing The Top 10 Rows"
   ]
  },
  {
   "cell_type": "code",
   "execution_count": 99,
   "metadata": {},
   "outputs": [
    {
     "data": {
      "text/html": [
       "<div><div id=8e8b4a88-1047-4da2-bb70-20943c2d64b2 style=\"display:none; background-color:#9D6CFF; color:white; width:200px; height:30px; padding-left:5px; border-radius:4px; flex-direction:row; justify-content:space-around; align-items:center;\" onmouseover=\"this.style.backgroundColor='#BA9BF8'\" onmouseout=\"this.style.backgroundColor='#9D6CFF'\" onclick=\"window.commands?.execute('create-mitosheet-from-dataframe-output');\">See Full Dataframe in Mito</div> <script> if (window.commands?.hasCommand('create-mitosheet-from-dataframe-output')) document.getElementById('8e8b4a88-1047-4da2-bb70-20943c2d64b2').style.display = 'flex' </script> <table border=\"1\" class=\"dataframe\">\n",
       "  <thead>\n",
       "    <tr style=\"text-align: right;\">\n",
       "      <th></th>\n",
       "      <th>Account Name</th>\n",
       "      <th>City</th>\n",
       "      <th>State</th>\n",
       "    </tr>\n",
       "  </thead>\n",
       "  <tbody>\n",
       "    <tr>\n",
       "      <th>0</th>\n",
       "      <td>REVENUE DIVISIONAL OFFICER</td>\n",
       "      <td>MAHATMA GANDHI ROAD, VIJAYAWADA (PADMAVATHI HOSPITAL)</td>\n",
       "      <td>ANDHRA PRADESH</td>\n",
       "    </tr>\n",
       "    <tr>\n",
       "      <th>1</th>\n",
       "      <td>A.KARUNA SHREE</td>\n",
       "      <td>MAHATMA GANDHI ROAD, VIJAYAWADA (PADMAVATHI HOSPITAL)</td>\n",
       "      <td>ANDHRA PRADESH</td>\n",
       "    </tr>\n",
       "    <tr>\n",
       "      <th>2</th>\n",
       "      <td>T RAMA RAO</td>\n",
       "      <td>MAHATMA GANDHI ROAD, VIJAYAWADA (PADMAVATHI HOSPITAL)</td>\n",
       "      <td>ANDHRA PRADESH</td>\n",
       "    </tr>\n",
       "    <tr>\n",
       "      <th>3</th>\n",
       "      <td>MULLAPATI SATYAVANI</td>\n",
       "      <td>MAHATMA GANDHI ROAD, VIJAYAWADA (PADMAVATHI HOSPITAL)</td>\n",
       "      <td>ANDHRA PRADESH</td>\n",
       "    </tr>\n",
       "    <tr>\n",
       "      <th>4</th>\n",
       "      <td>KESAMNENI ANNAPOORNA,</td>\n",
       "      <td>MAHATMA GANDHI ROAD, VIJAYAWADA (PADMAVATHI HOSPITAL)</td>\n",
       "      <td>ANDHRA PRADESH</td>\n",
       "    </tr>\n",
       "    <tr>\n",
       "      <th>5</th>\n",
       "      <td>VADLAMUDI RAMA MOHAN RAO</td>\n",
       "      <td>MAHATMA GANDHI ROAD, VIJAYAWADA (PADMAVATHI HOSPITAL)</td>\n",
       "      <td>ANDHRA PRADESH</td>\n",
       "    </tr>\n",
       "    <tr>\n",
       "      <th>6</th>\n",
       "      <td>Y.ASHOK</td>\n",
       "      <td>MAHATMA GANDHI ROAD, VIJAYAWADA (PADMAVATHI HOSPITAL)</td>\n",
       "      <td>ANDHRA PRADESH</td>\n",
       "    </tr>\n",
       "    <tr>\n",
       "      <th>7</th>\n",
       "      <td>V.V.NARAYANAMMA&amp; SREESAILAM</td>\n",
       "      <td>MAHATMA GANDHI ROAD, VIJAYAWADA (PADMAVATHI HOSPITAL)</td>\n",
       "      <td>ANDHRA PRADESH</td>\n",
       "    </tr>\n",
       "    <tr>\n",
       "      <th>8</th>\n",
       "      <td>M.JAMEER AHMED</td>\n",
       "      <td>MAHATMA GANDHI ROAD, VIJAYAWADA (PADMAVATHI HOSPITAL)</td>\n",
       "      <td>ANDHRA PRADESH</td>\n",
       "    </tr>\n",
       "    <tr>\n",
       "      <th>9</th>\n",
       "      <td>(PSB) VELAGALA VENKATA MURALI</td>\n",
       "      <td>PENUGONDA (Z.N.V.R. HIGH SCHOOL)</td>\n",
       "      <td>ANDHRA PRADESH</td>\n",
       "    </tr>\n",
       "  </tbody>\n",
       "</table></div>"
      ],
      "text/plain": [
       "                    Account Name  \\\n",
       "0     REVENUE DIVISIONAL OFFICER   \n",
       "1                 A.KARUNA SHREE   \n",
       "2                     T RAMA RAO   \n",
       "3            MULLAPATI SATYAVANI   \n",
       "4          KESAMNENI ANNAPOORNA,   \n",
       "5       VADLAMUDI RAMA MOHAN RAO   \n",
       "6                        Y.ASHOK   \n",
       "7    V.V.NARAYANAMMA& SREESAILAM   \n",
       "8                 M.JAMEER AHMED   \n",
       "9  (PSB) VELAGALA VENKATA MURALI   \n",
       "\n",
       "                                                City           State  \n",
       "0  MAHATMA GANDHI ROAD, VIJAYAWADA (PADMAVATHI HO...  ANDHRA PRADESH  \n",
       "1  MAHATMA GANDHI ROAD, VIJAYAWADA (PADMAVATHI HO...  ANDHRA PRADESH  \n",
       "2  MAHATMA GANDHI ROAD, VIJAYAWADA (PADMAVATHI HO...  ANDHRA PRADESH  \n",
       "3  MAHATMA GANDHI ROAD, VIJAYAWADA (PADMAVATHI HO...  ANDHRA PRADESH  \n",
       "4  MAHATMA GANDHI ROAD, VIJAYAWADA (PADMAVATHI HO...  ANDHRA PRADESH  \n",
       "5  MAHATMA GANDHI ROAD, VIJAYAWADA (PADMAVATHI HO...  ANDHRA PRADESH  \n",
       "6  MAHATMA GANDHI ROAD, VIJAYAWADA (PADMAVATHI HO...  ANDHRA PRADESH  \n",
       "7  MAHATMA GANDHI ROAD, VIJAYAWADA (PADMAVATHI HO...  ANDHRA PRADESH  \n",
       "8  MAHATMA GANDHI ROAD, VIJAYAWADA (PADMAVATHI HO...  ANDHRA PRADESH  \n",
       "9                  PENUGONDA (Z.N.V.R. HIGH SCHOOL)   ANDHRA PRADESH  "
      ]
     },
     "execution_count": 99,
     "metadata": {},
     "output_type": "execute_result"
    }
   ],
   "source": [
    "data_1.head(10)"
   ]
  },
  {
   "cell_type": "markdown",
   "metadata": {},
   "source": [
    "#### Exporting The CSV Data To Excel File Format"
   ]
  },
  {
   "cell_type": "code",
   "execution_count": 104,
   "metadata": {},
   "outputs": [],
   "source": [
    "data_1.to_excel(\"Online Class.excel.xlsx\")\n"
   ]
  },
  {
   "cell_type": "code",
   "execution_count": null,
   "metadata": {},
   "outputs": [],
   "source": []
  }
 ],
 "metadata": {
  "kernelspec": {
   "display_name": "Python 3.10.0 64-bit",
   "language": "python",
   "name": "python3"
  },
  "language_info": {
   "codemirror_mode": {
    "name": "ipython",
    "version": 3
   },
   "file_extension": ".py",
   "mimetype": "text/x-python",
   "name": "python",
   "nbconvert_exporter": "python",
   "pygments_lexer": "ipython3",
   "version": "3.10.0"
  },
  "orig_nbformat": 4,
  "vscode": {
   "interpreter": {
    "hash": "a42ccb73e7d9bfdf27e036f1d2b8b681e55fc0743cc5586bc2474d4a60f4b886"
   }
  }
 },
 "nbformat": 4,
 "nbformat_minor": 2
}
