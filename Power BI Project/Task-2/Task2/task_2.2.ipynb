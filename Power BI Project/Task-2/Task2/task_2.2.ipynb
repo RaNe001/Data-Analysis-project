{
 "cells": [
  {
   "cell_type": "code",
   "execution_count": 1,
   "metadata": {},
   "outputs": [],
   "source": [
    "import pandas as pd\n",
    "import numpy as np\n",
    "import matplotlib.pyplot as plt\n",
    "import seaborn as sns"
   ]
  },
  {
   "cell_type": "code",
   "execution_count": 2,
   "metadata": {},
   "outputs": [],
   "source": [
    "data = pd.read_csv('orders_2020_2021_Dataset_Updated.csv')"
   ]
  },
  {
   "cell_type": "code",
   "execution_count": 3,
   "metadata": {},
   "outputs": [
    {
     "data": {
      "text/html": [
       "<div><div id=52c3d46c-13a9-470a-b638-8ab3751548f7 style=\"display:none; background-color:#9D6CFF; color:white; width:200px; height:30px; padding-left:5px; border-radius:4px; flex-direction:row; justify-content:space-around; align-items:center;\" onmouseover=\"this.style.backgroundColor='#BA9BF8'\" onmouseout=\"this.style.backgroundColor='#9D6CFF'\" onclick=\"window.commands?.execute('create-mitosheet-from-dataframe-output');\">See Full Dataframe in Mito</div> <script> if (window.commands?.hasCommand('create-mitosheet-from-dataframe-output')) document.getElementById('52c3d46c-13a9-470a-b638-8ab3751548f7').style.display = 'flex' </script> <table border=\"1\" class=\"dataframe\">\n",
       "  <thead>\n",
       "    <tr style=\"text-align: right;\">\n",
       "      <th></th>\n",
       "      <th>Order #</th>\n",
       "      <th>Fulfillment Date and Time Stamp</th>\n",
       "      <th>Currency</th>\n",
       "      <th>Subtotal</th>\n",
       "      <th>Shipping Method</th>\n",
       "      <th>Shipping Cost</th>\n",
       "      <th>Tax Method</th>\n",
       "      <th>Taxes</th>\n",
       "      <th>Total</th>\n",
       "      <th>Coupon Code</th>\n",
       "      <th>...</th>\n",
       "      <th>Tracking #</th>\n",
       "      <th>Special Instructions</th>\n",
       "      <th>LineItem Name</th>\n",
       "      <th>LineItem SKU</th>\n",
       "      <th>LineItem Options</th>\n",
       "      <th>LineItem Add-ons</th>\n",
       "      <th>LineItem Qty</th>\n",
       "      <th>LineItem Sale Price</th>\n",
       "      <th>Download Status</th>\n",
       "      <th>LineItem Type</th>\n",
       "    </tr>\n",
       "  </thead>\n",
       "  <tbody>\n",
       "    <tr>\n",
       "      <th>0</th>\n",
       "      <td>R121113121</td>\n",
       "      <td>NaN</td>\n",
       "      <td>INR</td>\n",
       "      <td>2299</td>\n",
       "      <td>Ships Free</td>\n",
       "      <td>0</td>\n",
       "      <td>NaN</td>\n",
       "      <td>0.0</td>\n",
       "      <td>2299</td>\n",
       "      <td>NaN</td>\n",
       "      <td>...</td>\n",
       "      <td>NaN</td>\n",
       "      <td>NaN</td>\n",
       "      <td>Falcon Drone Four Axis Aircraft with 2.4 GHz RC, Blade Guard, Headless Mode LED Without Camera</td>\n",
       "      <td>PL0093416</td>\n",
       "      <td>NaN</td>\n",
       "      <td>NaN</td>\n",
       "      <td>1</td>\n",
       "      <td>2299</td>\n",
       "      <td>NaN</td>\n",
       "      <td>physical</td>\n",
       "    </tr>\n",
       "    <tr>\n",
       "      <th>1</th>\n",
       "      <td>R472890631</td>\n",
       "      <td>NaN</td>\n",
       "      <td>INR</td>\n",
       "      <td>2299</td>\n",
       "      <td>Ships Free</td>\n",
       "      <td>0</td>\n",
       "      <td>NaN</td>\n",
       "      <td>0.0</td>\n",
       "      <td>2299</td>\n",
       "      <td>NaN</td>\n",
       "      <td>...</td>\n",
       "      <td>NaN</td>\n",
       "      <td>NaN</td>\n",
       "      <td>Falcon Drone Four Axis Aircraft with 2.4 GHz RC, Blade Guard, Headless Mode LED Without Camera</td>\n",
       "      <td>PL0093416</td>\n",
       "      <td>NaN</td>\n",
       "      <td>NaN</td>\n",
       "      <td>1</td>\n",
       "      <td>2299</td>\n",
       "      <td>NaN</td>\n",
       "      <td>physical</td>\n",
       "    </tr>\n",
       "    <tr>\n",
       "      <th>2</th>\n",
       "      <td>R004476488</td>\n",
       "      <td>NaN</td>\n",
       "      <td>INR</td>\n",
       "      <td>2299</td>\n",
       "      <td>Ships Free</td>\n",
       "      <td>0</td>\n",
       "      <td>NaN</td>\n",
       "      <td>0.0</td>\n",
       "      <td>2299</td>\n",
       "      <td>NaN</td>\n",
       "      <td>...</td>\n",
       "      <td>NaN</td>\n",
       "      <td>NaN</td>\n",
       "      <td>Falcon Drone Four Axis Aircraft with 2.4 GHz RC, Blade Guard, Headless Mode LED Without Camera</td>\n",
       "      <td>PL0093416</td>\n",
       "      <td>NaN</td>\n",
       "      <td>NaN</td>\n",
       "      <td>1</td>\n",
       "      <td>2299</td>\n",
       "      <td>NaN</td>\n",
       "      <td>physical</td>\n",
       "    </tr>\n",
       "    <tr>\n",
       "      <th>3</th>\n",
       "      <td>R526038353</td>\n",
       "      <td>NaN</td>\n",
       "      <td>INR</td>\n",
       "      <td>2299</td>\n",
       "      <td>Ships Free</td>\n",
       "      <td>0</td>\n",
       "      <td>NaN</td>\n",
       "      <td>0.0</td>\n",
       "      <td>2299</td>\n",
       "      <td>NaN</td>\n",
       "      <td>...</td>\n",
       "      <td>NaN</td>\n",
       "      <td>NaN</td>\n",
       "      <td>Falcon Drone Four Axis Aircraft with 2.4 GHz RC, Blade Guard, Headless Mode LED Without Camera</td>\n",
       "      <td>PL0093416</td>\n",
       "      <td>NaN</td>\n",
       "      <td>NaN</td>\n",
       "      <td>1</td>\n",
       "      <td>2299</td>\n",
       "      <td>NaN</td>\n",
       "      <td>physical</td>\n",
       "    </tr>\n",
       "    <tr>\n",
       "      <th>4</th>\n",
       "      <td>R658530771</td>\n",
       "      <td>NaN</td>\n",
       "      <td>INR</td>\n",
       "      <td>349</td>\n",
       "      <td>Ships Free</td>\n",
       "      <td>0</td>\n",
       "      <td>NaN</td>\n",
       "      <td>0.0</td>\n",
       "      <td>349</td>\n",
       "      <td>NaN</td>\n",
       "      <td>...</td>\n",
       "      <td>NaN</td>\n",
       "      <td>NaN</td>\n",
       "      <td>Barbie Doll (pink)</td>\n",
       "      <td>PL00098</td>\n",
       "      <td>NaN</td>\n",
       "      <td>NaN</td>\n",
       "      <td>1</td>\n",
       "      <td>349</td>\n",
       "      <td>NaN</td>\n",
       "      <td>physical</td>\n",
       "    </tr>\n",
       "  </tbody>\n",
       "</table></div>"
      ],
      "text/plain": [
       "      Order # Fulfillment Date and Time Stamp Currency Subtotal  \\\n",
       "0  R121113121                             NaN      INR     2299   \n",
       "1  R472890631                             NaN      INR     2299   \n",
       "2  R004476488                             NaN      INR     2299   \n",
       "3  R526038353                             NaN      INR     2299   \n",
       "4  R658530771                             NaN      INR      349   \n",
       "\n",
       "  Shipping Method  Shipping Cost Tax Method  Taxes Total Coupon Code  ...  \\\n",
       "0      Ships Free              0        NaN    0.0  2299         NaN  ...   \n",
       "1      Ships Free              0        NaN    0.0  2299         NaN  ...   \n",
       "2      Ships Free              0        NaN    0.0  2299         NaN  ...   \n",
       "3      Ships Free              0        NaN    0.0  2299         NaN  ...   \n",
       "4      Ships Free              0        NaN    0.0   349         NaN  ...   \n",
       "\n",
       "  Tracking #  Special Instructions  \\\n",
       "0        NaN                   NaN   \n",
       "1        NaN                   NaN   \n",
       "2        NaN                   NaN   \n",
       "3        NaN                   NaN   \n",
       "4        NaN                   NaN   \n",
       "\n",
       "                                       LineItem Name LineItem SKU  \\\n",
       "0  Falcon Drone Four Axis Aircraft with 2.4 GHz R...    PL0093416   \n",
       "1  Falcon Drone Four Axis Aircraft with 2.4 GHz R...    PL0093416   \n",
       "2  Falcon Drone Four Axis Aircraft with 2.4 GHz R...    PL0093416   \n",
       "3  Falcon Drone Four Axis Aircraft with 2.4 GHz R...    PL0093416   \n",
       "4                                 Barbie Doll (pink)      PL00098   \n",
       "\n",
       "  LineItem Options LineItem Add-ons LineItem Qty LineItem Sale Price  \\\n",
       "0              NaN              NaN            1                2299   \n",
       "1              NaN              NaN            1                2299   \n",
       "2              NaN              NaN            1                2299   \n",
       "3              NaN              NaN            1                2299   \n",
       "4              NaN              NaN            1                 349   \n",
       "\n",
       "  Download Status LineItem Type  \n",
       "0             NaN      physical  \n",
       "1             NaN      physical  \n",
       "2             NaN      physical  \n",
       "3             NaN      physical  \n",
       "4             NaN      physical  \n",
       "\n",
       "[5 rows x 38 columns]"
      ]
     },
     "execution_count": 3,
     "metadata": {},
     "output_type": "execute_result"
    }
   ],
   "source": [
    "data.head()"
   ]
  },
  {
   "cell_type": "code",
   "execution_count": 4,
   "metadata": {},
   "outputs": [
    {
     "data": {
      "text/plain": [
       "(3039, 38)"
      ]
     },
     "execution_count": 4,
     "metadata": {},
     "output_type": "execute_result"
    }
   ],
   "source": [
    "data.shape"
   ]
  },
  {
   "cell_type": "code",
   "execution_count": 5,
   "metadata": {},
   "outputs": [
    {
     "data": {
      "text/plain": [
       "Index(['Order #', 'Fulfillment Date and Time Stamp', 'Currency', 'Subtotal',\n",
       "       'Shipping Method', 'Shipping Cost', 'Tax Method', 'Taxes', 'Total',\n",
       "       'Coupon Code', 'Coupon Code Name', ' ', 'Billing Name',\n",
       "       'Billing Country', 'Billing Street Address', 'Billing Street Address 2',\n",
       "       'Billing City', 'Billing State', 'Billing Zip', 'Shipping Name',\n",
       "       'Shipping Country', 'Shipping Street Address',\n",
       "       'Shipping Street Address 2', 'Shipping City', 'Shipping State',\n",
       "       'Shipping Zip', 'Gift Cards', 'Payment Method', 'Tracking #',\n",
       "       'Special Instructions', 'LineItem Name', 'LineItem SKU',\n",
       "       'LineItem Options', 'LineItem Add-ons', 'LineItem Qty',\n",
       "       'LineItem Sale Price', 'Download Status', 'LineItem Type'],\n",
       "      dtype='object')"
      ]
     },
     "execution_count": 5,
     "metadata": {},
     "output_type": "execute_result"
    }
   ],
   "source": [
    "data.columns"
   ]
  },
  {
   "cell_type": "code",
   "execution_count": 6,
   "metadata": {},
   "outputs": [
    {
     "data": {
      "text/plain": [
       "Index(['Order #', 'Fulfillment Date and Time Stamp', 'Currency', 'Subtotal',\n",
       "       'Shipping Method', 'Shipping Cost', 'Total', 'Shipping Name',\n",
       "       'Shipping Country', 'Shipping Street Address',\n",
       "       'Shipping Street Address 2', 'Shipping City', 'Shipping State',\n",
       "       'Payment Method', 'Tracking #', 'Special Instructions', 'LineItem Name',\n",
       "       'LineItem SKU'],\n",
       "      dtype='object')"
      ]
     },
     "execution_count": 6,
     "metadata": {},
     "output_type": "execute_result"
    }
   ],
   "source": [
    "data = data.drop(['LineItem Options', 'LineItem Add-ons', 'LineItem Qty',\n",
    "       'LineItem Sale Price', 'Download Status', 'LineItem Type', 'Tax Method', 'Taxes',\n",
    "       ' ', 'Billing Name', 'Shipping Zip', 'Gift Cards', 'Coupon Code',\n",
    "       'Coupon Code Name',\n",
    "       'Billing Country', 'Billing Street Address', 'Billing Street Address 2',\n",
    "       'Billing City', 'Billing State', 'Billing Zip'], axis=1)\n",
    "data.columns"
   ]
  },
  {
   "cell_type": "code",
   "execution_count": 7,
   "metadata": {},
   "outputs": [
    {
     "data": {
      "text/plain": [
       "Index(['Order No.', 'DateTime Stamp', 'Currency', 'Subtotal',\n",
       "       'Shipping Method', 'Shipping Cost', 'Total', 'Customer Name',\n",
       "       'Shipping Country', 'Street Address 1', 'Street Address 2',\n",
       "       'Shipping City', 'Shipping State', 'Payment Method', 'Tracking No.',\n",
       "       'Special Instructions', 'LineItem Name', 'LineItem SKU'],\n",
       "      dtype='object')"
      ]
     },
     "execution_count": 7,
     "metadata": {},
     "output_type": "execute_result"
    }
   ],
   "source": [
    "data=data.rename(columns={'Order #':'Order No.', 'Fulfillment Date and Time Stamp':'DateTime Stamp',\n",
    "        'Shipping Name':'Customer Name', 'Shipping Street Address': 'Street Address 1',\n",
    "        'Shipping Street Address 2':'Street Address 2', 'Tracking #':'Tracking No.'})\n",
    "data.columns"
   ]
  },
  {
   "cell_type": "code",
   "execution_count": 8,
   "metadata": {},
   "outputs": [],
   "source": [
    "data=data.drop_duplicates()"
   ]
  },
  {
   "cell_type": "code",
   "execution_count": 9,
   "metadata": {},
   "outputs": [
    {
     "data": {
      "text/plain": [
       "177"
      ]
     },
     "execution_count": 9,
     "metadata": {},
     "output_type": "execute_result"
    }
   ],
   "source": [
    "data.duplicated(subset=['DateTime Stamp', 'Customer Name', 'Street Address 2', 'LineItem Name', 'Payment Method','LineItem SKU']).sum()"
   ]
  },
  {
   "cell_type": "code",
   "execution_count": 10,
   "metadata": {},
   "outputs": [
    {
     "data": {
      "text/plain": [
       "0"
      ]
     },
     "execution_count": 10,
     "metadata": {},
     "output_type": "execute_result"
    }
   ],
   "source": [
    "data=data.drop_duplicates(subset=['DateTime Stamp', 'Customer Name', 'Street Address 2', 'LineItem Name', 'Payment Method','LineItem SKU'])\n",
    "data.duplicated(subset=['DateTime Stamp', 'Customer Name', 'Street Address 2', 'LineItem Name', 'Payment Method','LineItem SKU']).sum()"
   ]
  },
  {
   "cell_type": "code",
   "execution_count": 11,
   "metadata": {},
   "outputs": [
    {
     "data": {
      "text/plain": [
       "array([nan, 'CCAvenue ₹999.00', 'CCAvenue ₹219.00', 'CCAvenue ₹1,499.00',\n",
       "       'CCAvenue ₹349.00', 'CCAvenue ₹799.00', 'CCAvenue ₹150.00',\n",
       "       'CCAvenue ₹269.00', 'CCAvenue ₹399.00',\n",
       "       'Offline Payment ₹8,999.00', 'Offline Payment ₹799.00',\n",
       "       'Offline Payment ₹8,999.00;Offline Payment -₹8,999.00',\n",
       "       'CCAvenue ₹1,798.00', 'CCAvenue ₹1,299.00',\n",
       "       'Offline Payment ₹2,299.00', 'CCAvenue ₹400.00',\n",
       "       'CCAvenue ₹499.00', 'CCAvenue ₹140.00', 'CCAvenue ₹1,700.00',\n",
       "       'CCAvenue ₹1,599.00', 'CCAvenue ₹6,999.00',\n",
       "       'Offline Payment ₹1,099.00', 'Offline Payment ₹1,999.00',\n",
       "       'Offline Payment ₹299.00', 'Offline Payment ₹549.00',\n",
       "       'Offline Payment ₹5,999.00',\n",
       "       'Offline Payment ₹1,099.00;Offline Payment -₹1,099.00',\n",
       "       'CCAvenue ₹1,099.00', 'Offline Payment ₹349.00',\n",
       "       'Offline Payment ₹199.00', 'Offline Payment ₹400.00',\n",
       "       'Offline Payment ₹1,199.00', 'Offline Payment ₹259.00',\n",
       "       'Offline Payment ₹5,097.00', 'Offline Payment ₹230.00',\n",
       "       'Offline Payment ₹4,369.05', 'Offline Payment ₹849.00',\n",
       "       'Offline Payment ₹1,399.00;Offline Payment -₹1,399.00',\n",
       "       'Offline Payment ₹699.00;Offline Payment -₹699.00',\n",
       "       'CCAvenue ₹2,099.00', 'CCAvenue ₹1,596.00', 'CCAvenue ₹1,399.00',\n",
       "       'Offline Payment ₹1,699.00', 'Offline Payment ₹800.00',\n",
       "       'Offline Payment ₹1,399.00', 'CCAvenue ₹2,199.00',\n",
       "       'Offline Payment ₹999.00', 'Offline Payment ₹499.00',\n",
       "       'Offline Payment ₹1,499.00', 'Offline Payment ₹44,970.00',\n",
       "       'Offline Payment ₹2,199.00',\n",
       "       'CCAvenue ₹1,499.00;Offline Payment -₹1,499.00',\n",
       "       'Offline Payment ₹200.00', 'Offline Payment ₹46,166.00',\n",
       "       'Offline Payment ₹43,168.00', 'Offline Payment ₹2,099.00',\n",
       "       'Offline Payment ₹449.00', 'Offline Payment ₹35,976.00',\n",
       "       'Offline Payment ₹2,798.00', 'Offline Payment ₹37,972.00',\n",
       "       'Offline Payment ₹5,196.00', 'Offline Payment ₹5,399.00',\n",
       "       'Offline Payment ₹3,298.00', 'Offline Payment ₹399.00',\n",
       "       'Offline Payment ₹17,578.00', 'Offline Payment ₹19,900.00',\n",
       "       'Offline Payment ₹35,774.00', 'Offline Payment ₹599.00',\n",
       "       'Offline Payment ₹369.00', 'Offline Payment ₹19,176.00',\n",
       "       'Offline Payment ₹19,576.00', 'Offline Payment ₹9,950.00',\n",
       "       'Offline Payment ₹13,990.00', 'Offline Payment ₹22,064.67',\n",
       "       'Offline Payment ₹38,519.00', 'Offline Payment ₹10,198.00',\n",
       "       'Offline Payment ₹22,980.00', 'Offline Payment ₹18,995.00',\n",
       "       'Offline Payment ₹22,995.00', 'Offline Payment ₹340.00',\n",
       "       'Offline Payment ₹899.00', 'Offline Payment ₹15,597.00',\n",
       "       'Offline Payment ₹22,485.00', 'CCAvenue ₹20,238.75',\n",
       "       'CCAvenue ₹299.00', 'CCAvenue ₹1,799.00',\n",
       "       'Offline Payment ₹10,398.00', 'Offline Payment ₹269.00',\n",
       "       'Offline Payment ₹1,095.00', 'Offline Payment ₹4,599.00',\n",
       "       'CCAvenue ₹749.00', 'Offline Payment ₹10,500.00',\n",
       "       'Offline Payment ₹3,399.00', 'Offline Payment ₹1,050.00',\n",
       "       'Offline Payment ₹300.00', 'Offline Payment ₹249.00',\n",
       "       'Offline Payment ₹522.50', 'Offline Payment ₹1,166.10',\n",
       "       'Offline Payment ₹250.00', 'CCAvenue ₹100.00',\n",
       "       'Offline Payment ₹12,500.00', 'Offline Payment ₹500.00',\n",
       "       'CCAvenue ₹300.00', 'CCAvenue ₹800.00', 'Offline Payment ₹100.00',\n",
       "       'Offline Payment ₹150.00', 'Offline Payment ₹2,000.00'],\n",
       "      dtype=object)"
      ]
     },
     "execution_count": 11,
     "metadata": {},
     "output_type": "execute_result"
    }
   ],
   "source": [
    "data['Payment Method'].unique()"
   ]
  },
  {
   "cell_type": "code",
   "execution_count": 12,
   "metadata": {},
   "outputs": [
    {
     "data": {
      "text/plain": [
       "2601"
      ]
     },
     "execution_count": 12,
     "metadata": {},
     "output_type": "execute_result"
    }
   ],
   "source": [
    "data['Payment Method'].isna().sum()"
   ]
  },
  {
   "cell_type": "code",
   "execution_count": 13,
   "metadata": {},
   "outputs": [
    {
     "data": {
      "text/plain": [
       "0       No Payment Method Available\n",
       "1       No Payment Method Available\n",
       "2       No Payment Method Available\n",
       "3       No Payment Method Available\n",
       "4       No Payment Method Available\n",
       "                   ...             \n",
       "3034    No Payment Method Available\n",
       "3035    No Payment Method Available\n",
       "3036    No Payment Method Available\n",
       "3037    No Payment Method Available\n",
       "3038      Offline Payment ₹2,000.00\n",
       "Name: Payment Method, Length: 2857, dtype: object"
      ]
     },
     "execution_count": 13,
     "metadata": {},
     "output_type": "execute_result"
    }
   ],
   "source": [
    "data['Payment Method'].fillna('No Payment Method Available')"
   ]
  },
  {
   "cell_type": "code",
   "execution_count": 14,
   "metadata": {},
   "outputs": [
    {
     "data": {
      "text/html": [
       "<div><div id=b7e23704-4887-4d28-9137-52c0d5058b44 style=\"display:none; background-color:#9D6CFF; color:white; width:200px; height:30px; padding-left:5px; border-radius:4px; flex-direction:row; justify-content:space-around; align-items:center;\" onmouseover=\"this.style.backgroundColor='#BA9BF8'\" onmouseout=\"this.style.backgroundColor='#9D6CFF'\" onclick=\"window.commands?.execute('create-mitosheet-from-dataframe-output');\">See Full Dataframe in Mito</div> <script> if (window.commands?.hasCommand('create-mitosheet-from-dataframe-output')) document.getElementById('b7e23704-4887-4d28-9137-52c0d5058b44').style.display = 'flex' </script> <table border=\"1\" class=\"dataframe\">\n",
       "  <thead>\n",
       "    <tr style=\"text-align: right;\">\n",
       "      <th></th>\n",
       "      <th>0</th>\n",
       "      <th>1</th>\n",
       "      <th>2</th>\n",
       "    </tr>\n",
       "  </thead>\n",
       "  <tbody>\n",
       "    <tr>\n",
       "      <th>0</th>\n",
       "      <td>NaN</td>\n",
       "      <td>NaN</td>\n",
       "      <td>NaN</td>\n",
       "    </tr>\n",
       "    <tr>\n",
       "      <th>1</th>\n",
       "      <td>NaN</td>\n",
       "      <td>NaN</td>\n",
       "      <td>NaN</td>\n",
       "    </tr>\n",
       "    <tr>\n",
       "      <th>2</th>\n",
       "      <td>NaN</td>\n",
       "      <td>NaN</td>\n",
       "      <td>NaN</td>\n",
       "    </tr>\n",
       "    <tr>\n",
       "      <th>3</th>\n",
       "      <td>NaN</td>\n",
       "      <td>NaN</td>\n",
       "      <td>NaN</td>\n",
       "    </tr>\n",
       "    <tr>\n",
       "      <th>4</th>\n",
       "      <td>NaN</td>\n",
       "      <td>NaN</td>\n",
       "      <td>NaN</td>\n",
       "    </tr>\n",
       "    <tr>\n",
       "      <th>...</th>\n",
       "      <td>...</td>\n",
       "      <td>...</td>\n",
       "      <td>...</td>\n",
       "    </tr>\n",
       "    <tr>\n",
       "      <th>3034</th>\n",
       "      <td>NaN</td>\n",
       "      <td>NaN</td>\n",
       "      <td>NaN</td>\n",
       "    </tr>\n",
       "    <tr>\n",
       "      <th>3035</th>\n",
       "      <td>NaN</td>\n",
       "      <td>NaN</td>\n",
       "      <td>NaN</td>\n",
       "    </tr>\n",
       "    <tr>\n",
       "      <th>3036</th>\n",
       "      <td>NaN</td>\n",
       "      <td>NaN</td>\n",
       "      <td>NaN</td>\n",
       "    </tr>\n",
       "    <tr>\n",
       "      <th>3037</th>\n",
       "      <td>NaN</td>\n",
       "      <td>NaN</td>\n",
       "      <td>NaN</td>\n",
       "    </tr>\n",
       "    <tr>\n",
       "      <th>3038</th>\n",
       "      <td>Offline Payment</td>\n",
       "      <td>2,000.00</td>\n",
       "      <td>None</td>\n",
       "    </tr>\n",
       "  </tbody>\n",
       "</table></div>"
      ],
      "text/plain": [
       "                     0         1     2\n",
       "0                  NaN       NaN   NaN\n",
       "1                  NaN       NaN   NaN\n",
       "2                  NaN       NaN   NaN\n",
       "3                  NaN       NaN   NaN\n",
       "4                  NaN       NaN   NaN\n",
       "...                ...       ...   ...\n",
       "3034               NaN       NaN   NaN\n",
       "3035               NaN       NaN   NaN\n",
       "3036               NaN       NaN   NaN\n",
       "3037               NaN       NaN   NaN\n",
       "3038  Offline Payment   2,000.00  None\n",
       "\n",
       "[2857 rows x 3 columns]"
      ]
     },
     "execution_count": 14,
     "metadata": {},
     "output_type": "execute_result"
    }
   ],
   "source": [
    "split_column=data['Payment Method'].str.split(pat='₹', n=-1, expand=True)\n",
    "split_column"
   ]
  },
  {
   "cell_type": "code",
   "execution_count": 15,
   "metadata": {},
   "outputs": [],
   "source": [
    "data['Payment Methods'] = split_column[0]"
   ]
  },
  {
   "cell_type": "code",
   "execution_count": 16,
   "metadata": {},
   "outputs": [],
   "source": [
    "data = data.drop(columns =['Payment Method'])"
   ]
  },
  {
   "cell_type": "code",
   "execution_count": 17,
   "metadata": {},
   "outputs": [],
   "source": [
    "data['Payment Methods']=data['Payment Methods'].str.rstrip()"
   ]
  },
  {
   "cell_type": "code",
   "execution_count": 18,
   "metadata": {},
   "outputs": [],
   "source": [
    "data['Payment Methods'] = data['Payment Methods'].fillna('No Payment Method Available')"
   ]
  },
  {
   "cell_type": "code",
   "execution_count": 19,
   "metadata": {},
   "outputs": [
    {
     "data": {
      "text/plain": [
       "array(['No Payment Method Available', 'CCAvenue', 'Offline Payment'],\n",
       "      dtype=object)"
      ]
     },
     "execution_count": 19,
     "metadata": {},
     "output_type": "execute_result"
    }
   ],
   "source": [
    "data['Payment Methods'].unique()"
   ]
  },
  {
   "cell_type": "code",
   "execution_count": 20,
   "metadata": {},
   "outputs": [
    {
     "data": {
      "text/plain": [
       "Index(['Order No.', 'DateTime Stamp', 'Currency', 'Subtotal',\n",
       "       'Shipping Method', 'Shipping Cost', 'Total', 'Customer Name',\n",
       "       'Shipping Country', 'Street Address 1', 'Street Address 2',\n",
       "       'Shipping City', 'Shipping State', 'Tracking No.',\n",
       "       'Special Instructions', 'LineItem Name', 'LineItem SKU',\n",
       "       'Payment Methods'],\n",
       "      dtype='object')"
      ]
     },
     "execution_count": 20,
     "metadata": {},
     "output_type": "execute_result"
    }
   ],
   "source": [
    "data.columns"
   ]
  },
  {
   "cell_type": "code",
   "execution_count": 21,
   "metadata": {},
   "outputs": [],
   "source": [
    "data.drop(columns=['Tracking No.', 'Special Instructions'], inplace=True)"
   ]
  },
  {
   "cell_type": "code",
   "execution_count": 22,
   "metadata": {},
   "outputs": [
    {
     "data": {
      "text/plain": [
       "Index(['Order No.', 'DateTime Stamp', 'Currency', 'Subtotal',\n",
       "       'Shipping Method', 'Shipping Cost', 'Total', 'Customer Name',\n",
       "       'Shipping Country', 'Street Address 1', 'Street Address 2',\n",
       "       'Shipping City', 'Shipping State', 'LineItem Name', 'LineItem SKU',\n",
       "       'Payment Methods'],\n",
       "      dtype='object')"
      ]
     },
     "execution_count": 22,
     "metadata": {},
     "output_type": "execute_result"
    }
   ],
   "source": [
    "data.columns"
   ]
  },
  {
   "cell_type": "code",
   "execution_count": 23,
   "metadata": {},
   "outputs": [],
   "source": [
    "data = data.drop_duplicates(subset=['Customer Name', 'Street Address 1','LineItem SKU'])"
   ]
  },
  {
   "cell_type": "code",
   "execution_count": 24,
   "metadata": {},
   "outputs": [
    {
     "data": {
      "text/plain": [
       "(2759, 16)"
      ]
     },
     "execution_count": 24,
     "metadata": {},
     "output_type": "execute_result"
    }
   ],
   "source": [
    "India_Country = data[data['Shipping Country'] == 'IND']\n",
    "India_Country.shape"
   ]
  },
  {
   "cell_type": "code",
   "execution_count": 25,
   "metadata": {},
   "outputs": [
    {
     "data": {
      "text/plain": [
       "(39, 16)"
      ]
     },
     "execution_count": 25,
     "metadata": {},
     "output_type": "execute_result"
    }
   ],
   "source": [
    "Other_Countries = data[data['Shipping Country'] != 'IND']\n",
    "Other_Countries.shape"
   ]
  },
  {
   "cell_type": "code",
   "execution_count": 26,
   "metadata": {},
   "outputs": [],
   "source": [
    "India_Country.to_csv('India_Country.csv')\n",
    "Other_Countries.to_csv('Other_Countries.csv')"
   ]
  },
  {
   "cell_type": "code",
   "execution_count": 27,
   "metadata": {},
   "outputs": [],
   "source": [
    "data.to_csv('order_dataset.csv')"
   ]
  },
  {
   "cell_type": "code",
   "execution_count": null,
   "metadata": {},
   "outputs": [],
   "source": []
  }
 ],
 "metadata": {
  "kernelspec": {
   "display_name": "Python 3.10.0 64-bit",
   "language": "python",
   "name": "python3"
  },
  "language_info": {
   "codemirror_mode": {
    "name": "ipython",
    "version": 3
   },
   "file_extension": ".py",
   "mimetype": "text/x-python",
   "name": "python",
   "nbconvert_exporter": "python",
   "pygments_lexer": "ipython3",
   "version": "3.10.0"
  },
  "orig_nbformat": 4,
  "vscode": {
   "interpreter": {
    "hash": "a42ccb73e7d9bfdf27e036f1d2b8b681e55fc0743cc5586bc2474d4a60f4b886"
   }
  }
 },
 "nbformat": 4,
 "nbformat_minor": 2
}
