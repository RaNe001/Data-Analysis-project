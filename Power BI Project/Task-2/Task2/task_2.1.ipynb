{
 "cells": [
  {
   "cell_type": "markdown",
   "metadata": {},
   "source": [
    "Generate Graph Chart For:\n",
    "review_dataset\n",
    "1.Analysis for reviews given by customers\n",
    "5.Analysis of top selling product categories\n",
    "6.analysis for all reviews for all product categories\n",
    "\n",
    "order_dataset\n",
    "2.analysis of different payment methods used by the customers\n",
    "3.Analysis of Top Consumer States of India\n",
    "4.Analysis of top consumer cities of india\n",
    "7.analysis of number of order per month per year\n",
    "8.Analysis of number of orders Across parts of a day"
   ]
  },
  {
   "cell_type": "code",
   "execution_count": 1,
   "metadata": {},
   "outputs": [],
   "source": [
    "import pandas as pd\n",
    "import numpy as np\n",
    "import seaborn as sns\n",
    "import matplotlib.pyplot as plt\n",
    "%matplotlib inline"
   ]
  },
  {
   "cell_type": "code",
   "execution_count": 2,
   "metadata": {},
   "outputs": [],
   "source": [
    "data = pd.read_csv('review_dataset.csv')"
   ]
  },
  {
   "cell_type": "code",
   "execution_count": 3,
   "metadata": {},
   "outputs": [
    {
     "data": {
      "text/html": [
       "<div><div id=18b879e3-8b16-42c6-98b6-498899ab1649 style=\"display:none; background-color:#9D6CFF; color:white; width:200px; height:30px; padding-left:5px; border-radius:4px; flex-direction:row; justify-content:space-around; align-items:center;\" onmouseover=\"this.style.backgroundColor='#BA9BF8'\" onmouseout=\"this.style.backgroundColor='#9D6CFF'\" onclick=\"window.commands?.execute('create-mitosheet-from-dataframe-output');\">See Full Dataframe in Mito</div> <script> if (window.commands?.hasCommand('create-mitosheet-from-dataframe-output')) document.getElementById('18b879e3-8b16-42c6-98b6-498899ab1649').style.display = 'flex' </script> <table border=\"1\" class=\"dataframe\">\n",
       "  <thead>\n",
       "    <tr style=\"text-align: right;\">\n",
       "      <th></th>\n",
       "      <th>product_name</th>\n",
       "      <th>product_url</th>\n",
       "      <th>category</th>\n",
       "      <th>status</th>\n",
       "      <th>stars</th>\n",
       "    </tr>\n",
       "  </thead>\n",
       "  <tbody>\n",
       "    <tr>\n",
       "      <th>0</th>\n",
       "      <td>Sony PlayStation PS2 Gaming Console 150 GB Hard Disk With 50 Games Preloaded(Black)</td>\n",
       "      <td>https://yoshops.com/products/sony-playstation-ps2-gaming-console-150-gb-hard-disk-with-50-games-preloaded-black</td>\n",
       "      <td>Toys &amp; Games</td>\n",
       "      <td>Reviewd</td>\n",
       "      <td>5.0 star rating</td>\n",
       "    </tr>\n",
       "    <tr>\n",
       "      <th>1</th>\n",
       "      <td>Vmax HX 750 Quadcopter Drone (No Camera)</td>\n",
       "      <td>https://yoshops.com/products/hx-750-remote-control-flying-drone</td>\n",
       "      <td>Toys &amp; Games</td>\n",
       "      <td>Reviewd</td>\n",
       "      <td>5.0 star rating</td>\n",
       "    </tr>\n",
       "    <tr>\n",
       "      <th>2</th>\n",
       "      <td>Yoshops VR BOX Virtual Reality Glasses Headset 2.0 View Suitable For 4-6 Inch Smartphones</td>\n",
       "      <td>https://yoshops.com/products/yoshops-vr-box-virtual-reality-glasses-headset-2-0-view-suitable-for-4-6-inch-smartphones</td>\n",
       "      <td>Toys &amp; Games</td>\n",
       "      <td>Reviewd</td>\n",
       "      <td>5.0 star rating</td>\n",
       "    </tr>\n",
       "    <tr>\n",
       "      <th>3</th>\n",
       "      <td>Sony PlayStation PS3 Console Slim 320 GB (Black)</td>\n",
       "      <td>https://yoshops.com/products/sony-playstation-3-console-slim-320-gb-black</td>\n",
       "      <td>Toys &amp; Games</td>\n",
       "      <td>Reviewd</td>\n",
       "      <td>4.9 star rating</td>\n",
       "    </tr>\n",
       "    <tr>\n",
       "      <th>4</th>\n",
       "      <td>Barbie Doll (pink)</td>\n",
       "      <td>https://yoshops.com/products/barbie-doll</td>\n",
       "      <td>Toys &amp; Games</td>\n",
       "      <td>Reviewd</td>\n",
       "      <td>4.9 star rating</td>\n",
       "    </tr>\n",
       "  </tbody>\n",
       "</table></div>"
      ],
      "text/plain": [
       "                                        product_name  \\\n",
       "0  Sony PlayStation PS2 Gaming Console 150 GB Har...   \n",
       "1           Vmax HX 750 Quadcopter Drone (No Camera)   \n",
       "2  Yoshops VR BOX Virtual Reality Glasses Headset...   \n",
       "3   Sony PlayStation PS3 Console Slim 320 GB (Black)   \n",
       "4                                 Barbie Doll (pink)   \n",
       "\n",
       "                                         product_url      category   status  \\\n",
       "0  https://yoshops.com/products/sony-playstation-...  Toys & Games  Reviewd   \n",
       "1  https://yoshops.com/products/hx-750-remote-con...  Toys & Games  Reviewd   \n",
       "2  https://yoshops.com/products/yoshops-vr-box-vi...  Toys & Games  Reviewd   \n",
       "3  https://yoshops.com/products/sony-playstation-...  Toys & Games  Reviewd   \n",
       "4           https://yoshops.com/products/barbie-doll  Toys & Games  Reviewd   \n",
       "\n",
       "             stars  \n",
       "0  5.0 star rating  \n",
       "1  5.0 star rating  \n",
       "2  5.0 star rating  \n",
       "3  4.9 star rating  \n",
       "4  4.9 star rating  "
      ]
     },
     "execution_count": 3,
     "metadata": {},
     "output_type": "execute_result"
    }
   ],
   "source": [
    "data.head()"
   ]
  },
  {
   "cell_type": "code",
   "execution_count": 4,
   "metadata": {},
   "outputs": [
    {
     "data": {
      "text/plain": [
       "(1861, 5)"
      ]
     },
     "execution_count": 4,
     "metadata": {},
     "output_type": "execute_result"
    }
   ],
   "source": [
    "data.shape"
   ]
  },
  {
   "cell_type": "code",
   "execution_count": 5,
   "metadata": {},
   "outputs": [
    {
     "name": "stdout",
     "output_type": "stream",
     "text": [
      "<class 'pandas.core.frame.DataFrame'>\n",
      "RangeIndex: 1861 entries, 0 to 1860\n",
      "Data columns (total 5 columns):\n",
      " #   Column        Non-Null Count  Dtype \n",
      "---  ------        --------------  ----- \n",
      " 0   product_name  1861 non-null   object\n",
      " 1   product_url   1861 non-null   object\n",
      " 2   category      1861 non-null   object\n",
      " 3   status        606 non-null    object\n",
      " 4   stars         606 non-null    object\n",
      "dtypes: object(5)\n",
      "memory usage: 72.8+ KB\n"
     ]
    }
   ],
   "source": [
    "data.info()"
   ]
  },
  {
   "cell_type": "code",
   "execution_count": 6,
   "metadata": {},
   "outputs": [
    {
     "data": {
      "text/plain": [
       "product_name       0\n",
       "product_url        0\n",
       "category           0\n",
       "status          1255\n",
       "stars           1255\n",
       "dtype: int64"
      ]
     },
     "execution_count": 6,
     "metadata": {},
     "output_type": "execute_result"
    }
   ],
   "source": [
    "data.isnull().sum()"
   ]
  },
  {
   "cell_type": "code",
   "execution_count": 7,
   "metadata": {},
   "outputs": [],
   "source": [
    "data_1 = data.copy()"
   ]
  },
  {
   "cell_type": "code",
   "execution_count": 8,
   "metadata": {},
   "outputs": [
    {
     "data": {
      "text/html": [
       "<div><div id=a64d71eb-4aa8-42cd-83db-01a1715140a7 style=\"display:none; background-color:#9D6CFF; color:white; width:200px; height:30px; padding-left:5px; border-radius:4px; flex-direction:row; justify-content:space-around; align-items:center;\" onmouseover=\"this.style.backgroundColor='#BA9BF8'\" onmouseout=\"this.style.backgroundColor='#9D6CFF'\" onclick=\"window.commands?.execute('create-mitosheet-from-dataframe-output');\">See Full Dataframe in Mito</div> <script> if (window.commands?.hasCommand('create-mitosheet-from-dataframe-output')) document.getElementById('a64d71eb-4aa8-42cd-83db-01a1715140a7').style.display = 'flex' </script> <table border=\"1\" class=\"dataframe\">\n",
       "  <thead>\n",
       "    <tr style=\"text-align: right;\">\n",
       "      <th></th>\n",
       "      <th>product_name</th>\n",
       "      <th>product_url</th>\n",
       "      <th>category</th>\n",
       "      <th>status</th>\n",
       "      <th>stars</th>\n",
       "    </tr>\n",
       "  </thead>\n",
       "  <tbody>\n",
       "    <tr>\n",
       "      <th>0</th>\n",
       "      <td>Sony PlayStation PS2 Gaming Console 150 GB Hard Disk With 50 Games Preloaded(Black)</td>\n",
       "      <td>https://yoshops.com/products/sony-playstation-ps2-gaming-console-150-gb-hard-disk-with-50-games-preloaded-black</td>\n",
       "      <td>Toys &amp; Games</td>\n",
       "      <td>Reviewd</td>\n",
       "      <td>5.0 star rating</td>\n",
       "    </tr>\n",
       "    <tr>\n",
       "      <th>1</th>\n",
       "      <td>Vmax HX 750 Quadcopter Drone (No Camera)</td>\n",
       "      <td>https://yoshops.com/products/hx-750-remote-control-flying-drone</td>\n",
       "      <td>Toys &amp; Games</td>\n",
       "      <td>Reviewd</td>\n",
       "      <td>5.0 star rating</td>\n",
       "    </tr>\n",
       "    <tr>\n",
       "      <th>2</th>\n",
       "      <td>Yoshops VR BOX Virtual Reality Glasses Headset 2.0 View Suitable For 4-6 Inch Smartphones</td>\n",
       "      <td>https://yoshops.com/products/yoshops-vr-box-virtual-reality-glasses-headset-2-0-view-suitable-for-4-6-inch-smartphones</td>\n",
       "      <td>Toys &amp; Games</td>\n",
       "      <td>Reviewd</td>\n",
       "      <td>5.0 star rating</td>\n",
       "    </tr>\n",
       "    <tr>\n",
       "      <th>3</th>\n",
       "      <td>Sony PlayStation PS3 Console Slim 320 GB (Black)</td>\n",
       "      <td>https://yoshops.com/products/sony-playstation-3-console-slim-320-gb-black</td>\n",
       "      <td>Toys &amp; Games</td>\n",
       "      <td>Reviewd</td>\n",
       "      <td>4.9 star rating</td>\n",
       "    </tr>\n",
       "    <tr>\n",
       "      <th>4</th>\n",
       "      <td>Barbie Doll (pink)</td>\n",
       "      <td>https://yoshops.com/products/barbie-doll</td>\n",
       "      <td>Toys &amp; Games</td>\n",
       "      <td>Reviewd</td>\n",
       "      <td>4.9 star rating</td>\n",
       "    </tr>\n",
       "    <tr>\n",
       "      <th>...</th>\n",
       "      <td>...</td>\n",
       "      <td>...</td>\n",
       "      <td>...</td>\n",
       "      <td>...</td>\n",
       "      <td>...</td>\n",
       "    </tr>\n",
       "    <tr>\n",
       "      <th>1856</th>\n",
       "      <td>Hammer Pulse Oximeter Unisex Smartwatch with Body-Temp Sensor Monitoring, Calling and Activity Tracker</td>\n",
       "      <td>https://yoshops.com/products/hammer-pulse-oximeter-unisex-smartwatch-with-body-temp-sensor-monitoring-calling-and-activity-tracker</td>\n",
       "      <td>Mumbai</td>\n",
       "      <td>NaN</td>\n",
       "      <td>NaN</td>\n",
       "    </tr>\n",
       "    <tr>\n",
       "      <th>1857</th>\n",
       "      <td>Hammer Sting 2.0 Wireless Bluetooth Neckband Earphones Black with Long Battery Life</td>\n",
       "      <td>https://yoshops.com/products/hammer-sting-2-0-wireless-bluetooth-neckband-earphones-black-with-long-battery-life</td>\n",
       "      <td>Mumbai</td>\n",
       "      <td>NaN</td>\n",
       "      <td>NaN</td>\n",
       "    </tr>\n",
       "    <tr>\n",
       "      <th>1858</th>\n",
       "      <td>BBA Online Class Live Tuition Training Program with INTERNSHIP</td>\n",
       "      <td>https://yoshops.com/products/bba-online-class-live-tuition-training-program-with-internship</td>\n",
       "      <td>Mumbai</td>\n",
       "      <td>NaN</td>\n",
       "      <td>NaN</td>\n",
       "    </tr>\n",
       "    <tr>\n",
       "      <th>1859</th>\n",
       "      <td>B.TECH Online Class Live Tuition Training Program with INTERNSHIP</td>\n",
       "      <td>https://yoshops.com/products/b-tech-online-class-live-tuition-training-program-with-internship</td>\n",
       "      <td>Mumbai</td>\n",
       "      <td>Reviewd</td>\n",
       "      <td>5.0 star rating</td>\n",
       "    </tr>\n",
       "    <tr>\n",
       "      <th>1860</th>\n",
       "      <td>YouTuber Deepak Kumar YouTube Channel: Technical Exam and Sports Gyaani Subscriber- 7k,68k</td>\n",
       "      <td>https://yoshops.com/products/youtuber-deepak-kumar-youtube-channel-technical-exam-and-sports-gyaani-subscriber-7k-68k</td>\n",
       "      <td>Mumbai</td>\n",
       "      <td>NaN</td>\n",
       "      <td>NaN</td>\n",
       "    </tr>\n",
       "  </tbody>\n",
       "</table></div>"
      ],
      "text/plain": [
       "                                           product_name  \\\n",
       "0     Sony PlayStation PS2 Gaming Console 150 GB Har...   \n",
       "1              Vmax HX 750 Quadcopter Drone (No Camera)   \n",
       "2     Yoshops VR BOX Virtual Reality Glasses Headset...   \n",
       "3      Sony PlayStation PS3 Console Slim 320 GB (Black)   \n",
       "4                                    Barbie Doll (pink)   \n",
       "...                                                 ...   \n",
       "1856  Hammer Pulse Oximeter Unisex Smartwatch with B...   \n",
       "1857  Hammer Sting 2.0 Wireless Bluetooth Neckband E...   \n",
       "1858  BBA Online Class Live Tuition Training Program...   \n",
       "1859  B.TECH Online Class Live Tuition Training Prog...   \n",
       "1860  YouTuber Deepak Kumar YouTube Channel: Technic...   \n",
       "\n",
       "                                            product_url      category  \\\n",
       "0     https://yoshops.com/products/sony-playstation-...  Toys & Games   \n",
       "1     https://yoshops.com/products/hx-750-remote-con...  Toys & Games   \n",
       "2     https://yoshops.com/products/yoshops-vr-box-vi...  Toys & Games   \n",
       "3     https://yoshops.com/products/sony-playstation-...  Toys & Games   \n",
       "4              https://yoshops.com/products/barbie-doll  Toys & Games   \n",
       "...                                                 ...           ...   \n",
       "1856  https://yoshops.com/products/hammer-pulse-oxim...        Mumbai   \n",
       "1857  https://yoshops.com/products/hammer-sting-2-0-...        Mumbai   \n",
       "1858  https://yoshops.com/products/bba-online-class-...        Mumbai   \n",
       "1859  https://yoshops.com/products/b-tech-online-cla...        Mumbai   \n",
       "1860  https://yoshops.com/products/youtuber-deepak-k...        Mumbai   \n",
       "\n",
       "       status            stars  \n",
       "0     Reviewd  5.0 star rating  \n",
       "1     Reviewd  5.0 star rating  \n",
       "2     Reviewd  5.0 star rating  \n",
       "3     Reviewd  4.9 star rating  \n",
       "4     Reviewd  4.9 star rating  \n",
       "...       ...              ...  \n",
       "1856      NaN              NaN  \n",
       "1857      NaN              NaN  \n",
       "1858      NaN              NaN  \n",
       "1859  Reviewd  5.0 star rating  \n",
       "1860      NaN              NaN  \n",
       "\n",
       "[1861 rows x 5 columns]"
      ]
     },
     "execution_count": 8,
     "metadata": {},
     "output_type": "execute_result"
    }
   ],
   "source": [
    "data_1"
   ]
  },
  {
   "cell_type": "code",
   "execution_count": 9,
   "metadata": {},
   "outputs": [],
   "source": [
    "data_1['status'] = data_1['status'].fillna('unreviewed')"
   ]
  },
  {
   "cell_type": "code",
   "execution_count": 10,
   "metadata": {},
   "outputs": [
    {
     "data": {
      "text/plain": [
       "0       False\n",
       "1       False\n",
       "2       False\n",
       "3       False\n",
       "4       False\n",
       "        ...  \n",
       "1856     True\n",
       "1857     True\n",
       "1858     True\n",
       "1859    False\n",
       "1860     True\n",
       "Name: status, Length: 1861, dtype: bool"
      ]
     },
     "execution_count": 10,
     "metadata": {},
     "output_type": "execute_result"
    }
   ],
   "source": [
    "data_1['status'].str.contains('unreviewed')"
   ]
  },
  {
   "cell_type": "code",
   "execution_count": 11,
   "metadata": {},
   "outputs": [
    {
     "data": {
      "text/plain": [
       "<AxesSubplot:xlabel='status', ylabel='count'>"
      ]
     },
     "execution_count": 11,
     "metadata": {},
     "output_type": "execute_result"
    },
    {
     "data": {
      "image/png": "[encoded data removed]",
      "text/plain": [
       "<Figure size 432x288 with 1 Axes>"
      ]
     },
     "metadata": {
      "needs_background": "light"
     },
     "output_type": "display_data"
    }
   ],
   "source": [
    "sns.countplot(x=data_1['status'])"
   ]
  },
  {
   "cell_type": "code",
   "execution_count": 12,
   "metadata": {},
   "outputs": [
    {
     "data": {
      "text/html": [
       "<div><div id=e5d8fbe2-1d62-49ab-9138-683d6949c06a style=\"display:none; background-color:#9D6CFF; color:white; width:200px; height:30px; padding-left:5px; border-radius:4px; flex-direction:row; justify-content:space-around; align-items:center;\" onmouseover=\"this.style.backgroundColor='#BA9BF8'\" onmouseout=\"this.style.backgroundColor='#9D6CFF'\" onclick=\"window.commands?.execute('create-mitosheet-from-dataframe-output');\">See Full Dataframe in Mito</div> <script> if (window.commands?.hasCommand('create-mitosheet-from-dataframe-output')) document.getElementById('e5d8fbe2-1d62-49ab-9138-683d6949c06a').style.display = 'flex' </script> <table border=\"1\" class=\"dataframe\">\n",
       "  <thead>\n",
       "    <tr style=\"text-align: right;\">\n",
       "      <th></th>\n",
       "      <th>product_name</th>\n",
       "      <th>product_url</th>\n",
       "      <th>category</th>\n",
       "      <th>status</th>\n",
       "      <th>stars</th>\n",
       "    </tr>\n",
       "  </thead>\n",
       "  <tbody>\n",
       "    <tr>\n",
       "      <th>0</th>\n",
       "      <td>Sony PlayStation PS2 Gaming Console 150 GB Hard Disk With 50 Games Preloaded(Black)</td>\n",
       "      <td>https://yoshops.com/products/sony-playstation-ps2-gaming-console-150-gb-hard-disk-with-50-games-preloaded-black</td>\n",
       "      <td>Toys &amp; Games</td>\n",
       "      <td>Reviewd</td>\n",
       "      <td>5.0 star rating</td>\n",
       "    </tr>\n",
       "    <tr>\n",
       "      <th>1</th>\n",
       "      <td>Vmax HX 750 Quadcopter Drone (No Camera)</td>\n",
       "      <td>https://yoshops.com/products/hx-750-remote-control-flying-drone</td>\n",
       "      <td>Toys &amp; Games</td>\n",
       "      <td>Reviewd</td>\n",
       "      <td>5.0 star rating</td>\n",
       "    </tr>\n",
       "    <tr>\n",
       "      <th>2</th>\n",
       "      <td>Yoshops VR BOX Virtual Reality Glasses Headset 2.0 View Suitable For 4-6 Inch Smartphones</td>\n",
       "      <td>https://yoshops.com/products/yoshops-vr-box-virtual-reality-glasses-headset-2-0-view-suitable-for-4-6-inch-smartphones</td>\n",
       "      <td>Toys &amp; Games</td>\n",
       "      <td>Reviewd</td>\n",
       "      <td>5.0 star rating</td>\n",
       "    </tr>\n",
       "    <tr>\n",
       "      <th>3</th>\n",
       "      <td>Sony PlayStation PS3 Console Slim 320 GB (Black)</td>\n",
       "      <td>https://yoshops.com/products/sony-playstation-3-console-slim-320-gb-black</td>\n",
       "      <td>Toys &amp; Games</td>\n",
       "      <td>Reviewd</td>\n",
       "      <td>4.9 star rating</td>\n",
       "    </tr>\n",
       "    <tr>\n",
       "      <th>4</th>\n",
       "      <td>Barbie Doll (pink)</td>\n",
       "      <td>https://yoshops.com/products/barbie-doll</td>\n",
       "      <td>Toys &amp; Games</td>\n",
       "      <td>Reviewd</td>\n",
       "      <td>4.9 star rating</td>\n",
       "    </tr>\n",
       "  </tbody>\n",
       "</table></div>"
      ],
      "text/plain": [
       "                                        product_name  \\\n",
       "0  Sony PlayStation PS2 Gaming Console 150 GB Har...   \n",
       "1           Vmax HX 750 Quadcopter Drone (No Camera)   \n",
       "2  Yoshops VR BOX Virtual Reality Glasses Headset...   \n",
       "3   Sony PlayStation PS3 Console Slim 320 GB (Black)   \n",
       "4                                 Barbie Doll (pink)   \n",
       "\n",
       "                                         product_url      category   status  \\\n",
       "0  https://yoshops.com/products/sony-playstation-...  Toys & Games  Reviewd   \n",
       "1  https://yoshops.com/products/hx-750-remote-con...  Toys & Games  Reviewd   \n",
       "2  https://yoshops.com/products/yoshops-vr-box-vi...  Toys & Games  Reviewd   \n",
       "3  https://yoshops.com/products/sony-playstation-...  Toys & Games  Reviewd   \n",
       "4           https://yoshops.com/products/barbie-doll  Toys & Games  Reviewd   \n",
       "\n",
       "             stars  \n",
       "0  5.0 star rating  \n",
       "1  5.0 star rating  \n",
       "2  5.0 star rating  \n",
       "3  4.9 star rating  \n",
       "4  4.9 star rating  "
      ]
     },
     "execution_count": 12,
     "metadata": {},
     "output_type": "execute_result"
    }
   ],
   "source": [
    "customers_review = data.dropna(axis=0, how='any')\n",
    "customers_review.head()"
   ]
  },
  {
   "cell_type": "code",
   "execution_count": 13,
   "metadata": {},
   "outputs": [
    {
     "data": {
      "text/plain": [
       "product_name    0\n",
       "product_url     0\n",
       "category        0\n",
       "status          0\n",
       "stars           0\n",
       "dtype: int64"
      ]
     },
     "execution_count": 13,
     "metadata": {},
     "output_type": "execute_result"
    }
   ],
   "source": [
    "customers_review.isnull().sum()"
   ]
  },
  {
   "cell_type": "code",
   "execution_count": 14,
   "metadata": {},
   "outputs": [
    {
     "data": {
      "text/plain": [
       "0"
      ]
     },
     "execution_count": 14,
     "metadata": {},
     "output_type": "execute_result"
    }
   ],
   "source": [
    "customers_review.duplicated().sum()"
   ]
  },
  {
   "cell_type": "markdown",
   "metadata": {},
   "source": [
    "#### Top 10 categories by ratings"
   ]
  },
  {
   "cell_type": "code",
   "execution_count": 15,
   "metadata": {},
   "outputs": [
    {
     "name": "stderr",
     "output_type": "stream",
     "text": [
      "C:\\Users\\Admin\\AppData\\Local\\Temp\\ipykernel_6292\\4195501407.py:1: SettingWithCopyWarning: \n",
      "A value is trying to be set on a copy of a slice from a DataFrame.\n",
      "Try using .loc[row_indexer,col_indexer] = value instead\n",
      "\n",
      "See the caveats in the documentation: https://pandas.pydata.org/pandas-docs/stable/user_guide/indexing.html#returning-a-view-versus-a-copy\n",
      "  customers_review['star_ratings'] = customers_review['stars'].str.slice(start=0, stop=3)\n"
     ]
    }
   ],
   "source": [
    "customers_review['star_ratings'] = customers_review['stars'].str.slice(start=0, stop=3)"
   ]
  },
  {
   "cell_type": "code",
   "execution_count": 16,
   "metadata": {},
   "outputs": [
    {
     "data": {
      "text/html": [
       "<div><div id=50e9bffb-4c5c-449e-af6b-6fe8e24aa3c6 style=\"display:none; background-color:#9D6CFF; color:white; width:200px; height:30px; padding-left:5px; border-radius:4px; flex-direction:row; justify-content:space-around; align-items:center;\" onmouseover=\"this.style.backgroundColor='#BA9BF8'\" onmouseout=\"this.style.backgroundColor='#9D6CFF'\" onclick=\"window.commands?.execute('create-mitosheet-from-dataframe-output');\">See Full Dataframe in Mito</div> <script> if (window.commands?.hasCommand('create-mitosheet-from-dataframe-output')) document.getElementById('50e9bffb-4c5c-449e-af6b-6fe8e24aa3c6').style.display = 'flex' </script> <table border=\"1\" class=\"dataframe\">\n",
       "  <thead>\n",
       "    <tr style=\"text-align: right;\">\n",
       "      <th></th>\n",
       "      <th>product_name</th>\n",
       "      <th>product_url</th>\n",
       "      <th>category</th>\n",
       "      <th>status</th>\n",
       "      <th>star_ratings</th>\n",
       "    </tr>\n",
       "  </thead>\n",
       "  <tbody>\n",
       "    <tr>\n",
       "      <th>0</th>\n",
       "      <td>Sony PlayStation PS2 Gaming Console 150 GB Hard Disk With 50 Games Preloaded(Black)</td>\n",
       "      <td>https://yoshops.com/products/sony-playstation-ps2-gaming-console-150-gb-hard-disk-with-50-games-preloaded-black</td>\n",
       "      <td>Toys &amp; Games</td>\n",
       "      <td>Reviewd</td>\n",
       "      <td>5.0</td>\n",
       "    </tr>\n",
       "    <tr>\n",
       "      <th>1</th>\n",
       "      <td>Vmax HX 750 Quadcopter Drone (No Camera)</td>\n",
       "      <td>https://yoshops.com/products/hx-750-remote-control-flying-drone</td>\n",
       "      <td>Toys &amp; Games</td>\n",
       "      <td>Reviewd</td>\n",
       "      <td>5.0</td>\n",
       "    </tr>\n",
       "    <tr>\n",
       "      <th>2</th>\n",
       "      <td>Yoshops VR BOX Virtual Reality Glasses Headset 2.0 View Suitable For 4-6 Inch Smartphones</td>\n",
       "      <td>https://yoshops.com/products/yoshops-vr-box-virtual-reality-glasses-headset-2-0-view-suitable-for-4-6-inch-smartphones</td>\n",
       "      <td>Toys &amp; Games</td>\n",
       "      <td>Reviewd</td>\n",
       "      <td>5.0</td>\n",
       "    </tr>\n",
       "    <tr>\n",
       "      <th>3</th>\n",
       "      <td>Sony PlayStation PS3 Console Slim 320 GB (Black)</td>\n",
       "      <td>https://yoshops.com/products/sony-playstation-3-console-slim-320-gb-black</td>\n",
       "      <td>Toys &amp; Games</td>\n",
       "      <td>Reviewd</td>\n",
       "      <td>4.9</td>\n",
       "    </tr>\n",
       "    <tr>\n",
       "      <th>4</th>\n",
       "      <td>Barbie Doll (pink)</td>\n",
       "      <td>https://yoshops.com/products/barbie-doll</td>\n",
       "      <td>Toys &amp; Games</td>\n",
       "      <td>Reviewd</td>\n",
       "      <td>4.9</td>\n",
       "    </tr>\n",
       "  </tbody>\n",
       "</table></div>"
      ],
      "text/plain": [
       "                                        product_name  \\\n",
       "0  Sony PlayStation PS2 Gaming Console 150 GB Har...   \n",
       "1           Vmax HX 750 Quadcopter Drone (No Camera)   \n",
       "2  Yoshops VR BOX Virtual Reality Glasses Headset...   \n",
       "3   Sony PlayStation PS3 Console Slim 320 GB (Black)   \n",
       "4                                 Barbie Doll (pink)   \n",
       "\n",
       "                                         product_url      category   status  \\\n",
       "0  https://yoshops.com/products/sony-playstation-...  Toys & Games  Reviewd   \n",
       "1  https://yoshops.com/products/hx-750-remote-con...  Toys & Games  Reviewd   \n",
       "2  https://yoshops.com/products/yoshops-vr-box-vi...  Toys & Games  Reviewd   \n",
       "3  https://yoshops.com/products/sony-playstation-...  Toys & Games  Reviewd   \n",
       "4           https://yoshops.com/products/barbie-doll  Toys & Games  Reviewd   \n",
       "\n",
       "  star_ratings  \n",
       "0          5.0  \n",
       "1          5.0  \n",
       "2          5.0  \n",
       "3          4.9  \n",
       "4          4.9  "
      ]
     },
     "execution_count": 16,
     "metadata": {},
     "output_type": "execute_result"
    }
   ],
   "source": [
    "customers_review=customers_review.drop(labels='stars', axis=1)\n",
    "customers_review.head()"
   ]
  },
  {
   "cell_type": "code",
   "execution_count": 17,
   "metadata": {},
   "outputs": [
    {
     "data": {
      "text/plain": [
       "(606, 5)"
      ]
     },
     "execution_count": 17,
     "metadata": {},
     "output_type": "execute_result"
    }
   ],
   "source": [
    "customers_review.shape"
   ]
  },
  {
   "cell_type": "code",
   "execution_count": 18,
   "metadata": {},
   "outputs": [
    {
     "name": "stdout",
     "output_type": "stream",
     "text": [
      "<class 'pandas.core.frame.DataFrame'>\n",
      "Int64Index: 606 entries, 0 to 1859\n",
      "Data columns (total 5 columns):\n",
      " #   Column        Non-Null Count  Dtype  \n",
      "---  ------        --------------  -----  \n",
      " 0   product_name  606 non-null    object \n",
      " 1   product_url   606 non-null    object \n",
      " 2   category      606 non-null    object \n",
      " 3   status        606 non-null    object \n",
      " 4   star_ratings  606 non-null    float64\n",
      "dtypes: float64(1), object(4)\n",
      "memory usage: 28.4+ KB\n"
     ]
    }
   ],
   "source": [
    "customers_review['star_ratings'] = customers_review['star_ratings'].astype(float)\n",
    "customers_review.info()"
   ]
  },
  {
   "cell_type": "markdown",
   "metadata": {},
   "source": [
    "Filtering the Data of customers_review by column[category] by unselecting the [chennai, bengaluru, more, mumbai] Rows"
   ]
  },
  {
   "cell_type": "code",
   "execution_count": 19,
   "metadata": {},
   "outputs": [],
   "source": [
    "customers_review = customers_review[customers_review['category'].apply(lambda val: all(val != s for s in['Chennai', 'Mumbai', 'More', 'Bengaluru']))]"
   ]
  },
  {
   "cell_type": "code",
   "execution_count": 20,
   "metadata": {},
   "outputs": [
    {
     "data": {
      "text/html": [
       "<div><div id=ffd0392e-99e5-43bb-adf6-f1b0e42d62ae style=\"display:none; background-color:#9D6CFF; color:white; width:200px; height:30px; padding-left:5px; border-radius:4px; flex-direction:row; justify-content:space-around; align-items:center;\" onmouseover=\"this.style.backgroundColor='#BA9BF8'\" onmouseout=\"this.style.backgroundColor='#9D6CFF'\" onclick=\"window.commands?.execute('create-mitosheet-from-dataframe-output');\">See Full Dataframe in Mito</div> <script> if (window.commands?.hasCommand('create-mitosheet-from-dataframe-output')) document.getElementById('ffd0392e-99e5-43bb-adf6-f1b0e42d62ae').style.display = 'flex' </script> <table border=\"1\" class=\"dataframe\">\n",
       "  <thead>\n",
       "    <tr style=\"text-align: right;\">\n",
       "      <th></th>\n",
       "      <th>product_name</th>\n",
       "      <th>product_url</th>\n",
       "      <th>category</th>\n",
       "      <th>status</th>\n",
       "      <th>star_ratings</th>\n",
       "    </tr>\n",
       "  </thead>\n",
       "  <tbody>\n",
       "    <tr>\n",
       "      <th>0</th>\n",
       "      <td>Sony PlayStation PS2 Gaming Console 150 GB Hard Disk With 50 Games Preloaded(Black)</td>\n",
       "      <td>https://yoshops.com/products/sony-playstation-ps2-gaming-console-150-gb-hard-disk-with-50-games-preloaded-black</td>\n",
       "      <td>Toys &amp; Games</td>\n",
       "      <td>Reviewd</td>\n",
       "      <td>5.0</td>\n",
       "    </tr>\n",
       "    <tr>\n",
       "      <th>1</th>\n",
       "      <td>Vmax HX 750 Quadcopter Drone (No Camera)</td>\n",
       "      <td>https://yoshops.com/products/hx-750-remote-control-flying-drone</td>\n",
       "      <td>Toys &amp; Games</td>\n",
       "      <td>Reviewd</td>\n",
       "      <td>5.0</td>\n",
       "    </tr>\n",
       "    <tr>\n",
       "      <th>2</th>\n",
       "      <td>Yoshops VR BOX Virtual Reality Glasses Headset 2.0 View Suitable For 4-6 Inch Smartphones</td>\n",
       "      <td>https://yoshops.com/products/yoshops-vr-box-virtual-reality-glasses-headset-2-0-view-suitable-for-4-6-inch-smartphones</td>\n",
       "      <td>Toys &amp; Games</td>\n",
       "      <td>Reviewd</td>\n",
       "      <td>5.0</td>\n",
       "    </tr>\n",
       "    <tr>\n",
       "      <th>3</th>\n",
       "      <td>Sony PlayStation PS3 Console Slim 320 GB (Black)</td>\n",
       "      <td>https://yoshops.com/products/sony-playstation-3-console-slim-320-gb-black</td>\n",
       "      <td>Toys &amp; Games</td>\n",
       "      <td>Reviewd</td>\n",
       "      <td>4.9</td>\n",
       "    </tr>\n",
       "    <tr>\n",
       "      <th>4</th>\n",
       "      <td>Barbie Doll (pink)</td>\n",
       "      <td>https://yoshops.com/products/barbie-doll</td>\n",
       "      <td>Toys &amp; Games</td>\n",
       "      <td>Reviewd</td>\n",
       "      <td>4.9</td>\n",
       "    </tr>\n",
       "  </tbody>\n",
       "</table></div>"
      ],
      "text/plain": [
       "                                        product_name  \\\n",
       "0  Sony PlayStation PS2 Gaming Console 150 GB Har...   \n",
       "1           Vmax HX 750 Quadcopter Drone (No Camera)   \n",
       "2  Yoshops VR BOX Virtual Reality Glasses Headset...   \n",
       "3   Sony PlayStation PS3 Console Slim 320 GB (Black)   \n",
       "4                                 Barbie Doll (pink)   \n",
       "\n",
       "                                         product_url      category   status  \\\n",
       "0  https://yoshops.com/products/sony-playstation-...  Toys & Games  Reviewd   \n",
       "1  https://yoshops.com/products/hx-750-remote-con...  Toys & Games  Reviewd   \n",
       "2  https://yoshops.com/products/yoshops-vr-box-vi...  Toys & Games  Reviewd   \n",
       "3  https://yoshops.com/products/sony-playstation-...  Toys & Games  Reviewd   \n",
       "4           https://yoshops.com/products/barbie-doll  Toys & Games  Reviewd   \n",
       "\n",
       "   star_ratings  \n",
       "0           5.0  \n",
       "1           5.0  \n",
       "2           5.0  \n",
       "3           4.9  \n",
       "4           4.9  "
      ]
     },
     "execution_count": 20,
     "metadata": {},
     "output_type": "execute_result"
    }
   ],
   "source": [
    "customers_review.head()"
   ]
  },
  {
   "cell_type": "code",
   "execution_count": 21,
   "metadata": {},
   "outputs": [],
   "source": [
    "category_star_rating = pd.DataFrame()"
   ]
  },
  {
   "cell_type": "code",
   "execution_count": 22,
   "metadata": {},
   "outputs": [],
   "source": [
    "category_by_ratings = customers_review[['category', 'star_ratings']].copy()"
   ]
  },
  {
   "cell_type": "code",
   "execution_count": 23,
   "metadata": {},
   "outputs": [
    {
     "data": {
      "text/html": [
       "<div><div id=7404549d-4251-4bbc-8359-627cd900b964 style=\"display:none; background-color:#9D6CFF; color:white; width:200px; height:30px; padding-left:5px; border-radius:4px; flex-direction:row; justify-content:space-around; align-items:center;\" onmouseover=\"this.style.backgroundColor='#BA9BF8'\" onmouseout=\"this.style.backgroundColor='#9D6CFF'\" onclick=\"window.commands?.execute('create-mitosheet-from-dataframe-output');\">See Full Dataframe in Mito</div> <script> if (window.commands?.hasCommand('create-mitosheet-from-dataframe-output')) document.getElementById('7404549d-4251-4bbc-8359-627cd900b964').style.display = 'flex' </script> <table border=\"1\" class=\"dataframe\">\n",
       "  <thead>\n",
       "    <tr style=\"text-align: right;\">\n",
       "      <th></th>\n",
       "      <th>category</th>\n",
       "      <th>star_ratings</th>\n",
       "    </tr>\n",
       "  </thead>\n",
       "  <tbody>\n",
       "    <tr>\n",
       "      <th>0</th>\n",
       "      <td>Toys &amp; Games</td>\n",
       "      <td>5.0</td>\n",
       "    </tr>\n",
       "    <tr>\n",
       "      <th>1</th>\n",
       "      <td>Toys &amp; Games</td>\n",
       "      <td>5.0</td>\n",
       "    </tr>\n",
       "    <tr>\n",
       "      <th>2</th>\n",
       "      <td>Toys &amp; Games</td>\n",
       "      <td>5.0</td>\n",
       "    </tr>\n",
       "    <tr>\n",
       "      <th>3</th>\n",
       "      <td>Toys &amp; Games</td>\n",
       "      <td>4.9</td>\n",
       "    </tr>\n",
       "    <tr>\n",
       "      <th>4</th>\n",
       "      <td>Toys &amp; Games</td>\n",
       "      <td>4.9</td>\n",
       "    </tr>\n",
       "  </tbody>\n",
       "</table></div>"
      ],
      "text/plain": [
       "       category  star_ratings\n",
       "0  Toys & Games           5.0\n",
       "1  Toys & Games           5.0\n",
       "2  Toys & Games           5.0\n",
       "3  Toys & Games           4.9\n",
       "4  Toys & Games           4.9"
      ]
     },
     "execution_count": 23,
     "metadata": {},
     "output_type": "execute_result"
    }
   ],
   "source": [
    "category_by_ratings.head()"
   ]
  },
  {
   "cell_type": "code",
   "execution_count": 24,
   "metadata": {},
   "outputs": [],
   "source": [
    "category_by_ratings=category_by_ratings.groupby(['category'])['star_ratings'].mean()"
   ]
  },
  {
   "cell_type": "code",
   "execution_count": 25,
   "metadata": {},
   "outputs": [],
   "source": [
    "category_by_ratings=category_by_ratings.to_frame(name='Star_ratings')"
   ]
  },
  {
   "cell_type": "code",
   "execution_count": 33,
   "metadata": {},
   "outputs": [],
   "source": [
    "category_by_ratings=category_by_ratings.round(decimals=1)"
   ]
  },
  {
   "cell_type": "code",
   "execution_count": 27,
   "metadata": {},
   "outputs": [],
   "source": [
    "category_star_rating = customers_review[['category']]"
   ]
  },
  {
   "cell_type": "code",
   "execution_count": 28,
   "metadata": {},
   "outputs": [],
   "source": [
    "category_star_rating=category_star_rating.groupby(['category']).value_counts()"
   ]
  },
  {
   "cell_type": "code",
   "execution_count": 29,
   "metadata": {},
   "outputs": [],
   "source": [
    "category_star_rating = category_star_rating.to_frame(name='No._of_Times')"
   ]
  },
  {
   "cell_type": "code",
   "execution_count": 35,
   "metadata": {},
   "outputs": [],
   "source": [
    "category_with_ratings=pd.merge(category_star_rating, category_by_ratings, how='inner', on='category')"
   ]
  },
  {
   "cell_type": "markdown",
   "metadata": {},
   "source": [
    "#### Most purchased category with it's ratings"
   ]
  },
  {
   "cell_type": "code",
   "execution_count": 39,
   "metadata": {},
   "outputs": [],
   "source": [
    "category_with_ratings=category_with_ratings.sort_values(by=['No._of_Times'], ascending=False).head(10)"
   ]
  },
  {
   "cell_type": "code",
   "execution_count": 41,
   "metadata": {},
   "outputs": [
    {
     "data": {
      "text/html": [
       "<div><div id=de71df43-f1b7-4e24-9b76-e6c01a104c6a style=\"display:none; background-color:#9D6CFF; color:white; width:200px; height:30px; padding-left:5px; border-radius:4px; flex-direction:row; justify-content:space-around; align-items:center;\" onmouseover=\"this.style.backgroundColor='#BA9BF8'\" onmouseout=\"this.style.backgroundColor='#9D6CFF'\" onclick=\"window.commands?.execute('create-mitosheet-from-dataframe-output');\">See Full Dataframe in Mito</div> <script> if (window.commands?.hasCommand('create-mitosheet-from-dataframe-output')) document.getElementById('de71df43-f1b7-4e24-9b76-e6c01a104c6a').style.display = 'flex' </script> <table border=\"1\" class=\"dataframe\">\n",
       "  <thead>\n",
       "    <tr style=\"text-align: right;\">\n",
       "      <th></th>\n",
       "      <th>No._of_Times</th>\n",
       "      <th>Star_ratings</th>\n",
       "    </tr>\n",
       "    <tr>\n",
       "      <th>category</th>\n",
       "      <th></th>\n",
       "      <th></th>\n",
       "    </tr>\n",
       "  </thead>\n",
       "  <tbody>\n",
       "    <tr>\n",
       "      <th>Mobiles</th>\n",
       "      <td>57</td>\n",
       "      <td>4.8</td>\n",
       "    </tr>\n",
       "    <tr>\n",
       "      <th>Services</th>\n",
       "      <td>40</td>\n",
       "      <td>5.0</td>\n",
       "    </tr>\n",
       "    <tr>\n",
       "      <th>Toys &amp; Games</th>\n",
       "      <td>35</td>\n",
       "      <td>4.8</td>\n",
       "    </tr>\n",
       "    <tr>\n",
       "      <th>Headphones</th>\n",
       "      <td>34</td>\n",
       "      <td>4.9</td>\n",
       "    </tr>\n",
       "    <tr>\n",
       "      <th>Accessories</th>\n",
       "      <td>26</td>\n",
       "      <td>4.9</td>\n",
       "    </tr>\n",
       "  </tbody>\n",
       "</table></div>"
      ],
      "text/plain": [
       "              No._of_Times  Star_ratings\n",
       "category                                \n",
       "Mobiles                 57           4.8\n",
       "Services                40           5.0\n",
       "Toys & Games            35           4.8\n",
       "Headphones              34           4.9\n",
       "Accessories             26           4.9"
      ]
     },
     "execution_count": 41,
     "metadata": {},
     "output_type": "execute_result"
    }
   ],
   "source": [
    "category_with_ratings.head()"
   ]
  },
  {
   "cell_type": "markdown",
   "metadata": {},
   "source": [
    "#### Visualizing the Top Categories"
   ]
  },
  {
   "cell_type": "code",
   "execution_count": null,
   "metadata": {},
   "outputs": [],
   "source": [
    "sns.barplot(data=category_with_ratings, x='No._of_Times', y='Star_ratings', hue='category')\n",
    "plt.show()"
   ]
  },
  {
   "cell_type": "code",
   "execution_count": null,
   "metadata": {},
   "outputs": [],
   "source": []
  }
 ],
 "metadata": {
  "kernelspec": {
   "display_name": "Python 3 (ipykernel)",
   "language": "python",
   "name": "python3"
  },
  "language_info": {
   "codemirror_mode": {
    "name": "ipython",
    "version": 3
   },
   "file_extension": ".py",
   "mimetype": "text/x-python",
   "name": "python",
   "nbconvert_exporter": "python",
   "pygments_lexer": "ipython3",
   "version": "3.10.0"
  },
  "vscode": {
   "interpreter": {
    "hash": "a42ccb73e7d9bfdf27e036f1d2b8b681e55fc0743cc5586bc2474d4a60f4b886"
   }
  }
 },
 "nbformat": 4,
 "nbformat_minor": 2
}
