{
 "cells": [
  {
   "cell_type": "code",
   "execution_count": 1,
   "id": "2f5fe617",
   "metadata": {},
   "outputs": [],
   "source": [
    "import numpy as np\n",
    "import seaborn as sns\n",
    "import matplotlib.pyplot as plt\n",
    "import pandas as pd\n",
    "from sklearn.linear_model import LinearRegression"
   ]
  },
  {
   "attachments": {},
   "cell_type": "markdown",
   "id": "468fc879",
   "metadata": {},
   "source": [
    "##### Defining a function perform_regression that will take two parameters from user as input"
   ]
  },
  {
   "cell_type": "code",
   "execution_count": 2,
   "id": "eb6efb4c",
   "metadata": {},
   "outputs": [],
   "source": [
    "file_path = input(\"Enter the path of the file/Name of the file: \")\n",
    "dep_var = input(\"Enter dependent variable: \")\n",
    "def perform_regression(filepath, depvar):\n",
    "    # Load the data from filepath as input\n",
    "    if filepath.endswith('.csv'):\n",
    "        data = pd.read_csv(filepath)\n",
    "    elif filepath.endswith('.xlsx'):\n",
    "        data = pd.read_csv(filepath)\n",
    "    else:\n",
    "        print('file type is unsupported:')\n",
    "        return None\n",
    "    # Checking if the dependent variable is present in the data\n",
    "    if depvar not in data.columns:\n",
    "        print('Dependent variable not found in data')\n",
    "        return None\n",
    "    # return the data\n",
    "    return data\n",
    "data = perform_regression(file_path, dep_var)"
   ]
  },
  {
   "cell_type": "markdown",
   "id": "04a9aaa5",
   "metadata": {},
   "source": [
    "##### Performing Descriptive Analysis "
   ]
  },
  {
   "cell_type": "code",
   "execution_count": 3,
   "id": "e0d75ff6",
   "metadata": {},
   "outputs": [
    {
     "data": {
      "text/html": [
       "<div>\n",
       "<style scoped>\n",
       "    .dataframe tbody tr th:only-of-type {\n",
       "        vertical-align: middle;\n",
       "    }\n",
       "\n",
       "    .dataframe tbody tr th {\n",
       "        vertical-align: top;\n",
       "    }\n",
       "\n",
       "    .dataframe thead th {\n",
       "        text-align: right;\n",
       "    }\n",
       "</style>\n",
       "<table border=\"1\" class=\"dataframe\">\n",
       "  <thead>\n",
       "    <tr style=\"text-align: right;\">\n",
       "      <th></th>\n",
       "      <th>type</th>\n",
       "      <th>fixed acidity</th>\n",
       "      <th>volatile acidity</th>\n",
       "      <th>citric acid</th>\n",
       "      <th>residual sugar</th>\n",
       "      <th>chlorides</th>\n",
       "      <th>free sulfur dioxide</th>\n",
       "      <th>total sulfur dioxide</th>\n",
       "      <th>density</th>\n",
       "      <th>pH</th>\n",
       "      <th>sulphates</th>\n",
       "      <th>alcohol</th>\n",
       "      <th>quality</th>\n",
       "    </tr>\n",
       "  </thead>\n",
       "  <tbody>\n",
       "    <tr>\n",
       "      <th>0</th>\n",
       "      <td>white</td>\n",
       "      <td>7.0</td>\n",
       "      <td>0.27</td>\n",
       "      <td>0.36</td>\n",
       "      <td>20.7</td>\n",
       "      <td>0.045</td>\n",
       "      <td>45.0</td>\n",
       "      <td>170.0</td>\n",
       "      <td>1.0010</td>\n",
       "      <td>3.00</td>\n",
       "      <td>0.45</td>\n",
       "      <td>8.8</td>\n",
       "      <td>6</td>\n",
       "    </tr>\n",
       "    <tr>\n",
       "      <th>1</th>\n",
       "      <td>white</td>\n",
       "      <td>6.3</td>\n",
       "      <td>0.30</td>\n",
       "      <td>0.34</td>\n",
       "      <td>1.6</td>\n",
       "      <td>0.049</td>\n",
       "      <td>14.0</td>\n",
       "      <td>132.0</td>\n",
       "      <td>0.9940</td>\n",
       "      <td>3.30</td>\n",
       "      <td>0.49</td>\n",
       "      <td>9.5</td>\n",
       "      <td>6</td>\n",
       "    </tr>\n",
       "    <tr>\n",
       "      <th>2</th>\n",
       "      <td>white</td>\n",
       "      <td>8.1</td>\n",
       "      <td>0.28</td>\n",
       "      <td>0.40</td>\n",
       "      <td>6.9</td>\n",
       "      <td>0.050</td>\n",
       "      <td>30.0</td>\n",
       "      <td>97.0</td>\n",
       "      <td>0.9951</td>\n",
       "      <td>3.26</td>\n",
       "      <td>0.44</td>\n",
       "      <td>10.1</td>\n",
       "      <td>6</td>\n",
       "    </tr>\n",
       "    <tr>\n",
       "      <th>3</th>\n",
       "      <td>white</td>\n",
       "      <td>7.2</td>\n",
       "      <td>0.23</td>\n",
       "      <td>0.32</td>\n",
       "      <td>8.5</td>\n",
       "      <td>0.058</td>\n",
       "      <td>47.0</td>\n",
       "      <td>186.0</td>\n",
       "      <td>0.9956</td>\n",
       "      <td>3.19</td>\n",
       "      <td>0.40</td>\n",
       "      <td>9.9</td>\n",
       "      <td>6</td>\n",
       "    </tr>\n",
       "    <tr>\n",
       "      <th>4</th>\n",
       "      <td>white</td>\n",
       "      <td>7.2</td>\n",
       "      <td>0.23</td>\n",
       "      <td>0.32</td>\n",
       "      <td>8.5</td>\n",
       "      <td>0.058</td>\n",
       "      <td>47.0</td>\n",
       "      <td>186.0</td>\n",
       "      <td>0.9956</td>\n",
       "      <td>3.19</td>\n",
       "      <td>0.40</td>\n",
       "      <td>9.9</td>\n",
       "      <td>6</td>\n",
       "    </tr>\n",
       "  </tbody>\n",
       "</table>\n",
       "</div>"
      ],
      "text/plain": [
       "    type  fixed acidity  volatile acidity  citric acid  residual sugar  \\\n",
       "0  white            7.0              0.27         0.36            20.7   \n",
       "1  white            6.3              0.30         0.34             1.6   \n",
       "2  white            8.1              0.28         0.40             6.9   \n",
       "3  white            7.2              0.23         0.32             8.5   \n",
       "4  white            7.2              0.23         0.32             8.5   \n",
       "\n",
       "   chlorides  free sulfur dioxide  total sulfur dioxide  density    pH  \\\n",
       "0      0.045                 45.0                 170.0   1.0010  3.00   \n",
       "1      0.049                 14.0                 132.0   0.9940  3.30   \n",
       "2      0.050                 30.0                  97.0   0.9951  3.26   \n",
       "3      0.058                 47.0                 186.0   0.9956  3.19   \n",
       "4      0.058                 47.0                 186.0   0.9956  3.19   \n",
       "\n",
       "   sulphates  alcohol  quality  \n",
       "0       0.45      8.8        6  \n",
       "1       0.49      9.5        6  \n",
       "2       0.44     10.1        6  \n",
       "3       0.40      9.9        6  \n",
       "4       0.40      9.9        6  "
      ]
     },
     "execution_count": 3,
     "metadata": {},
     "output_type": "execute_result"
    }
   ],
   "source": [
    "data.head()"
   ]
  },
  {
   "cell_type": "code",
   "execution_count": 4,
   "id": "ad926cd8",
   "metadata": {},
   "outputs": [
    {
     "name": "stdout",
     "output_type": "stream",
     "text": [
      "This Dataset has 13 Columns\n",
      "This Dataset has 6497 Rows\n"
     ]
    }
   ],
   "source": [
    "print(\"This Dataset has\",data.shape[1],\"Columns\")\n",
    "print(\"This Dataset has\",data.shape[0],\"Rows\")"
   ]
  },
  {
   "cell_type": "code",
   "execution_count": 5,
   "id": "8aa36ff1",
   "metadata": {},
   "outputs": [
    {
     "data": {
      "text/html": [
       "<div>\n",
       "<style scoped>\n",
       "    .dataframe tbody tr th:only-of-type {\n",
       "        vertical-align: middle;\n",
       "    }\n",
       "\n",
       "    .dataframe tbody tr th {\n",
       "        vertical-align: top;\n",
       "    }\n",
       "\n",
       "    .dataframe thead th {\n",
       "        text-align: right;\n",
       "    }\n",
       "</style>\n",
       "<table border=\"1\" class=\"dataframe\">\n",
       "  <thead>\n",
       "    <tr style=\"text-align: right;\">\n",
       "      <th></th>\n",
       "      <th>fixed acidity</th>\n",
       "      <th>volatile acidity</th>\n",
       "      <th>citric acid</th>\n",
       "      <th>residual sugar</th>\n",
       "      <th>chlorides</th>\n",
       "      <th>free sulfur dioxide</th>\n",
       "      <th>total sulfur dioxide</th>\n",
       "      <th>density</th>\n",
       "      <th>pH</th>\n",
       "      <th>sulphates</th>\n",
       "      <th>alcohol</th>\n",
       "      <th>quality</th>\n",
       "    </tr>\n",
       "  </thead>\n",
       "  <tbody>\n",
       "    <tr>\n",
       "      <th>count</th>\n",
       "      <td>6487.000000</td>\n",
       "      <td>6489.000000</td>\n",
       "      <td>6494.000000</td>\n",
       "      <td>6495.000000</td>\n",
       "      <td>6495.000000</td>\n",
       "      <td>6497.000000</td>\n",
       "      <td>6497.000000</td>\n",
       "      <td>6497.000000</td>\n",
       "      <td>6488.000000</td>\n",
       "      <td>6493.000000</td>\n",
       "      <td>6497.000000</td>\n",
       "      <td>6497.000000</td>\n",
       "    </tr>\n",
       "    <tr>\n",
       "      <th>mean</th>\n",
       "      <td>7.216579</td>\n",
       "      <td>0.339691</td>\n",
       "      <td>0.318722</td>\n",
       "      <td>5.444326</td>\n",
       "      <td>0.056042</td>\n",
       "      <td>30.525319</td>\n",
       "      <td>115.744574</td>\n",
       "      <td>0.994697</td>\n",
       "      <td>3.218395</td>\n",
       "      <td>0.531215</td>\n",
       "      <td>10.491801</td>\n",
       "      <td>5.818378</td>\n",
       "    </tr>\n",
       "    <tr>\n",
       "      <th>std</th>\n",
       "      <td>1.296750</td>\n",
       "      <td>0.164649</td>\n",
       "      <td>0.145265</td>\n",
       "      <td>4.758125</td>\n",
       "      <td>0.035036</td>\n",
       "      <td>17.749400</td>\n",
       "      <td>56.521855</td>\n",
       "      <td>0.002999</td>\n",
       "      <td>0.160748</td>\n",
       "      <td>0.148814</td>\n",
       "      <td>1.192712</td>\n",
       "      <td>0.873255</td>\n",
       "    </tr>\n",
       "    <tr>\n",
       "      <th>min</th>\n",
       "      <td>3.800000</td>\n",
       "      <td>0.080000</td>\n",
       "      <td>0.000000</td>\n",
       "      <td>0.600000</td>\n",
       "      <td>0.009000</td>\n",
       "      <td>1.000000</td>\n",
       "      <td>6.000000</td>\n",
       "      <td>0.987110</td>\n",
       "      <td>2.720000</td>\n",
       "      <td>0.220000</td>\n",
       "      <td>8.000000</td>\n",
       "      <td>3.000000</td>\n",
       "    </tr>\n",
       "    <tr>\n",
       "      <th>25%</th>\n",
       "      <td>6.400000</td>\n",
       "      <td>0.230000</td>\n",
       "      <td>0.250000</td>\n",
       "      <td>1.800000</td>\n",
       "      <td>0.038000</td>\n",
       "      <td>17.000000</td>\n",
       "      <td>77.000000</td>\n",
       "      <td>0.992340</td>\n",
       "      <td>3.110000</td>\n",
       "      <td>0.430000</td>\n",
       "      <td>9.500000</td>\n",
       "      <td>5.000000</td>\n",
       "    </tr>\n",
       "    <tr>\n",
       "      <th>50%</th>\n",
       "      <td>7.000000</td>\n",
       "      <td>0.290000</td>\n",
       "      <td>0.310000</td>\n",
       "      <td>3.000000</td>\n",
       "      <td>0.047000</td>\n",
       "      <td>29.000000</td>\n",
       "      <td>118.000000</td>\n",
       "      <td>0.994890</td>\n",
       "      <td>3.210000</td>\n",
       "      <td>0.510000</td>\n",
       "      <td>10.300000</td>\n",
       "      <td>6.000000</td>\n",
       "    </tr>\n",
       "    <tr>\n",
       "      <th>75%</th>\n",
       "      <td>7.700000</td>\n",
       "      <td>0.400000</td>\n",
       "      <td>0.390000</td>\n",
       "      <td>8.100000</td>\n",
       "      <td>0.065000</td>\n",
       "      <td>41.000000</td>\n",
       "      <td>156.000000</td>\n",
       "      <td>0.996990</td>\n",
       "      <td>3.320000</td>\n",
       "      <td>0.600000</td>\n",
       "      <td>11.300000</td>\n",
       "      <td>6.000000</td>\n",
       "    </tr>\n",
       "    <tr>\n",
       "      <th>max</th>\n",
       "      <td>15.900000</td>\n",
       "      <td>1.580000</td>\n",
       "      <td>1.660000</td>\n",
       "      <td>65.800000</td>\n",
       "      <td>0.611000</td>\n",
       "      <td>289.000000</td>\n",
       "      <td>440.000000</td>\n",
       "      <td>1.038980</td>\n",
       "      <td>4.010000</td>\n",
       "      <td>2.000000</td>\n",
       "      <td>14.900000</td>\n",
       "      <td>9.000000</td>\n",
       "    </tr>\n",
       "  </tbody>\n",
       "</table>\n",
       "</div>"
      ],
      "text/plain": [
       "       fixed acidity  volatile acidity  citric acid  residual sugar  \\\n",
       "count    6487.000000       6489.000000  6494.000000     6495.000000   \n",
       "mean        7.216579          0.339691     0.318722        5.444326   \n",
       "std         1.296750          0.164649     0.145265        4.758125   \n",
       "min         3.800000          0.080000     0.000000        0.600000   \n",
       "25%         6.400000          0.230000     0.250000        1.800000   \n",
       "50%         7.000000          0.290000     0.310000        3.000000   \n",
       "75%         7.700000          0.400000     0.390000        8.100000   \n",
       "max        15.900000          1.580000     1.660000       65.800000   \n",
       "\n",
       "         chlorides  free sulfur dioxide  total sulfur dioxide      density  \\\n",
       "count  6495.000000          6497.000000           6497.000000  6497.000000   \n",
       "mean      0.056042            30.525319            115.744574     0.994697   \n",
       "std       0.035036            17.749400             56.521855     0.002999   \n",
       "min       0.009000             1.000000              6.000000     0.987110   \n",
       "25%       0.038000            17.000000             77.000000     0.992340   \n",
       "50%       0.047000            29.000000            118.000000     0.994890   \n",
       "75%       0.065000            41.000000            156.000000     0.996990   \n",
       "max       0.611000           289.000000            440.000000     1.038980   \n",
       "\n",
       "                pH    sulphates      alcohol      quality  \n",
       "count  6488.000000  6493.000000  6497.000000  6497.000000  \n",
       "mean      3.218395     0.531215    10.491801     5.818378  \n",
       "std       0.160748     0.148814     1.192712     0.873255  \n",
       "min       2.720000     0.220000     8.000000     3.000000  \n",
       "25%       3.110000     0.430000     9.500000     5.000000  \n",
       "50%       3.210000     0.510000    10.300000     6.000000  \n",
       "75%       3.320000     0.600000    11.300000     6.000000  \n",
       "max       4.010000     2.000000    14.900000     9.000000  "
      ]
     },
     "execution_count": 5,
     "metadata": {},
     "output_type": "execute_result"
    }
   ],
   "source": [
    "data.describe()"
   ]
  },
  {
   "cell_type": "code",
   "execution_count": 6,
   "id": "fd7e318c",
   "metadata": {},
   "outputs": [
    {
     "name": "stdout",
     "output_type": "stream",
     "text": [
      "<class 'pandas.core.frame.DataFrame'>\n",
      "RangeIndex: 6497 entries, 0 to 6496\n",
      "Data columns (total 13 columns):\n",
      " #   Column                Non-Null Count  Dtype  \n",
      "---  ------                --------------  -----  \n",
      " 0   type                  6497 non-null   object \n",
      " 1   fixed acidity         6487 non-null   float64\n",
      " 2   volatile acidity      6489 non-null   float64\n",
      " 3   citric acid           6494 non-null   float64\n",
      " 4   residual sugar        6495 non-null   float64\n",
      " 5   chlorides             6495 non-null   float64\n",
      " 6   free sulfur dioxide   6497 non-null   float64\n",
      " 7   total sulfur dioxide  6497 non-null   float64\n",
      " 8   density               6497 non-null   float64\n",
      " 9   pH                    6488 non-null   float64\n",
      " 10  sulphates             6493 non-null   float64\n",
      " 11  alcohol               6497 non-null   float64\n",
      " 12  quality               6497 non-null   int64  \n",
      "dtypes: float64(11), int64(1), object(1)\n",
      "memory usage: 660.0+ KB\n"
     ]
    }
   ],
   "source": [
    "data.info()"
   ]
  },
  {
   "cell_type": "code",
   "execution_count": 7,
   "id": "1d2e561a",
   "metadata": {},
   "outputs": [
    {
     "name": "stderr",
     "output_type": "stream",
     "text": [
      "C:\\Users\\Admin\\AppData\\Local\\Temp\\ipykernel_13812\\2627137660.py:1: FutureWarning: The default value of numeric_only in DataFrame.corr is deprecated. In a future version, it will default to False. Select only valid columns or specify the value of numeric_only to silence this warning.\n",
      "  data.corr()\n"
     ]
    },
    {
     "data": {
      "text/html": [
       "<div>\n",
       "<style scoped>\n",
       "    .dataframe tbody tr th:only-of-type {\n",
       "        vertical-align: middle;\n",
       "    }\n",
       "\n",
       "    .dataframe tbody tr th {\n",
       "        vertical-align: top;\n",
       "    }\n",
       "\n",
       "    .dataframe thead th {\n",
       "        text-align: right;\n",
       "    }\n",
       "</style>\n",
       "<table border=\"1\" class=\"dataframe\">\n",
       "  <thead>\n",
       "    <tr style=\"text-align: right;\">\n",
       "      <th></th>\n",
       "      <th>fixed acidity</th>\n",
       "      <th>volatile acidity</th>\n",
       "      <th>citric acid</th>\n",
       "      <th>residual sugar</th>\n",
       "      <th>chlorides</th>\n",
       "      <th>free sulfur dioxide</th>\n",
       "      <th>total sulfur dioxide</th>\n",
       "      <th>density</th>\n",
       "      <th>pH</th>\n",
       "      <th>sulphates</th>\n",
       "      <th>alcohol</th>\n",
       "      <th>quality</th>\n",
       "    </tr>\n",
       "  </thead>\n",
       "  <tbody>\n",
       "    <tr>\n",
       "      <th>fixed acidity</th>\n",
       "      <td>1.000000</td>\n",
       "      <td>0.220172</td>\n",
       "      <td>0.323736</td>\n",
       "      <td>-0.112319</td>\n",
       "      <td>0.298421</td>\n",
       "      <td>-0.283317</td>\n",
       "      <td>-0.329747</td>\n",
       "      <td>0.459204</td>\n",
       "      <td>-0.251814</td>\n",
       "      <td>0.300380</td>\n",
       "      <td>-0.095603</td>\n",
       "      <td>-0.077031</td>\n",
       "    </tr>\n",
       "    <tr>\n",
       "      <th>volatile acidity</th>\n",
       "      <td>0.220172</td>\n",
       "      <td>1.000000</td>\n",
       "      <td>-0.378061</td>\n",
       "      <td>-0.196702</td>\n",
       "      <td>0.377167</td>\n",
       "      <td>-0.353230</td>\n",
       "      <td>-0.414928</td>\n",
       "      <td>0.271193</td>\n",
       "      <td>0.260660</td>\n",
       "      <td>0.225476</td>\n",
       "      <td>-0.038248</td>\n",
       "      <td>-0.265953</td>\n",
       "    </tr>\n",
       "    <tr>\n",
       "      <th>citric acid</th>\n",
       "      <td>0.323736</td>\n",
       "      <td>-0.378061</td>\n",
       "      <td>1.000000</td>\n",
       "      <td>0.142486</td>\n",
       "      <td>0.039315</td>\n",
       "      <td>0.133437</td>\n",
       "      <td>0.195218</td>\n",
       "      <td>0.096320</td>\n",
       "      <td>-0.328689</td>\n",
       "      <td>0.057613</td>\n",
       "      <td>-0.010433</td>\n",
       "      <td>0.085706</td>\n",
       "    </tr>\n",
       "    <tr>\n",
       "      <th>residual sugar</th>\n",
       "      <td>-0.112319</td>\n",
       "      <td>-0.196702</td>\n",
       "      <td>0.142486</td>\n",
       "      <td>1.000000</td>\n",
       "      <td>-0.128902</td>\n",
       "      <td>0.403439</td>\n",
       "      <td>0.495820</td>\n",
       "      <td>0.552498</td>\n",
       "      <td>-0.267050</td>\n",
       "      <td>-0.185745</td>\n",
       "      <td>-0.359706</td>\n",
       "      <td>-0.036825</td>\n",
       "    </tr>\n",
       "    <tr>\n",
       "      <th>chlorides</th>\n",
       "      <td>0.298421</td>\n",
       "      <td>0.377167</td>\n",
       "      <td>0.039315</td>\n",
       "      <td>-0.128902</td>\n",
       "      <td>1.000000</td>\n",
       "      <td>-0.195042</td>\n",
       "      <td>-0.279580</td>\n",
       "      <td>0.362594</td>\n",
       "      <td>0.044806</td>\n",
       "      <td>0.395332</td>\n",
       "      <td>-0.256861</td>\n",
       "      <td>-0.200886</td>\n",
       "    </tr>\n",
       "    <tr>\n",
       "      <th>free sulfur dioxide</th>\n",
       "      <td>-0.283317</td>\n",
       "      <td>-0.353230</td>\n",
       "      <td>0.133437</td>\n",
       "      <td>0.403439</td>\n",
       "      <td>-0.195042</td>\n",
       "      <td>1.000000</td>\n",
       "      <td>0.720934</td>\n",
       "      <td>0.025717</td>\n",
       "      <td>-0.145191</td>\n",
       "      <td>-0.188489</td>\n",
       "      <td>-0.179838</td>\n",
       "      <td>0.055463</td>\n",
       "    </tr>\n",
       "    <tr>\n",
       "      <th>total sulfur dioxide</th>\n",
       "      <td>-0.329747</td>\n",
       "      <td>-0.414928</td>\n",
       "      <td>0.195218</td>\n",
       "      <td>0.495820</td>\n",
       "      <td>-0.279580</td>\n",
       "      <td>0.720934</td>\n",
       "      <td>1.000000</td>\n",
       "      <td>0.032395</td>\n",
       "      <td>-0.237687</td>\n",
       "      <td>-0.275381</td>\n",
       "      <td>-0.265740</td>\n",
       "      <td>-0.041385</td>\n",
       "    </tr>\n",
       "    <tr>\n",
       "      <th>density</th>\n",
       "      <td>0.459204</td>\n",
       "      <td>0.271193</td>\n",
       "      <td>0.096320</td>\n",
       "      <td>0.552498</td>\n",
       "      <td>0.362594</td>\n",
       "      <td>0.025717</td>\n",
       "      <td>0.032395</td>\n",
       "      <td>1.000000</td>\n",
       "      <td>0.011920</td>\n",
       "      <td>0.259454</td>\n",
       "      <td>-0.686745</td>\n",
       "      <td>-0.305858</td>\n",
       "    </tr>\n",
       "    <tr>\n",
       "      <th>pH</th>\n",
       "      <td>-0.251814</td>\n",
       "      <td>0.260660</td>\n",
       "      <td>-0.328689</td>\n",
       "      <td>-0.267050</td>\n",
       "      <td>0.044806</td>\n",
       "      <td>-0.145191</td>\n",
       "      <td>-0.237687</td>\n",
       "      <td>0.011920</td>\n",
       "      <td>1.000000</td>\n",
       "      <td>0.191248</td>\n",
       "      <td>0.121002</td>\n",
       "      <td>0.019366</td>\n",
       "    </tr>\n",
       "    <tr>\n",
       "      <th>sulphates</th>\n",
       "      <td>0.300380</td>\n",
       "      <td>0.225476</td>\n",
       "      <td>0.057613</td>\n",
       "      <td>-0.185745</td>\n",
       "      <td>0.395332</td>\n",
       "      <td>-0.188489</td>\n",
       "      <td>-0.275381</td>\n",
       "      <td>0.259454</td>\n",
       "      <td>0.191248</td>\n",
       "      <td>1.000000</td>\n",
       "      <td>-0.003261</td>\n",
       "      <td>0.038729</td>\n",
       "    </tr>\n",
       "    <tr>\n",
       "      <th>alcohol</th>\n",
       "      <td>-0.095603</td>\n",
       "      <td>-0.038248</td>\n",
       "      <td>-0.010433</td>\n",
       "      <td>-0.359706</td>\n",
       "      <td>-0.256861</td>\n",
       "      <td>-0.179838</td>\n",
       "      <td>-0.265740</td>\n",
       "      <td>-0.686745</td>\n",
       "      <td>0.121002</td>\n",
       "      <td>-0.003261</td>\n",
       "      <td>1.000000</td>\n",
       "      <td>0.444319</td>\n",
       "    </tr>\n",
       "    <tr>\n",
       "      <th>quality</th>\n",
       "      <td>-0.077031</td>\n",
       "      <td>-0.265953</td>\n",
       "      <td>0.085706</td>\n",
       "      <td>-0.036825</td>\n",
       "      <td>-0.200886</td>\n",
       "      <td>0.055463</td>\n",
       "      <td>-0.041385</td>\n",
       "      <td>-0.305858</td>\n",
       "      <td>0.019366</td>\n",
       "      <td>0.038729</td>\n",
       "      <td>0.444319</td>\n",
       "      <td>1.000000</td>\n",
       "    </tr>\n",
       "  </tbody>\n",
       "</table>\n",
       "</div>"
      ],
      "text/plain": [
       "                      fixed acidity  volatile acidity  citric acid  \\\n",
       "fixed acidity              1.000000          0.220172     0.323736   \n",
       "volatile acidity           0.220172          1.000000    -0.378061   \n",
       "citric acid                0.323736         -0.378061     1.000000   \n",
       "residual sugar            -0.112319         -0.196702     0.142486   \n",
       "chlorides                  0.298421          0.377167     0.039315   \n",
       "free sulfur dioxide       -0.283317         -0.353230     0.133437   \n",
       "total sulfur dioxide      -0.329747         -0.414928     0.195218   \n",
       "density                    0.459204          0.271193     0.096320   \n",
       "pH                        -0.251814          0.260660    -0.328689   \n",
       "sulphates                  0.300380          0.225476     0.057613   \n",
       "alcohol                   -0.095603         -0.038248    -0.010433   \n",
       "quality                   -0.077031         -0.265953     0.085706   \n",
       "\n",
       "                      residual sugar  chlorides  free sulfur dioxide  \\\n",
       "fixed acidity              -0.112319   0.298421            -0.283317   \n",
       "volatile acidity           -0.196702   0.377167            -0.353230   \n",
       "citric acid                 0.142486   0.039315             0.133437   \n",
       "residual sugar              1.000000  -0.128902             0.403439   \n",
       "chlorides                  -0.128902   1.000000            -0.195042   \n",
       "free sulfur dioxide         0.403439  -0.195042             1.000000   \n",
       "total sulfur dioxide        0.495820  -0.279580             0.720934   \n",
       "density                     0.552498   0.362594             0.025717   \n",
       "pH                         -0.267050   0.044806            -0.145191   \n",
       "sulphates                  -0.185745   0.395332            -0.188489   \n",
       "alcohol                    -0.359706  -0.256861            -0.179838   \n",
       "quality                    -0.036825  -0.200886             0.055463   \n",
       "\n",
       "                      total sulfur dioxide   density        pH  sulphates  \\\n",
       "fixed acidity                    -0.329747  0.459204 -0.251814   0.300380   \n",
       "volatile acidity                 -0.414928  0.271193  0.260660   0.225476   \n",
       "citric acid                       0.195218  0.096320 -0.328689   0.057613   \n",
       "residual sugar                    0.495820  0.552498 -0.267050  -0.185745   \n",
       "chlorides                        -0.279580  0.362594  0.044806   0.395332   \n",
       "free sulfur dioxide               0.720934  0.025717 -0.145191  -0.188489   \n",
       "total sulfur dioxide              1.000000  0.032395 -0.237687  -0.275381   \n",
       "density                           0.032395  1.000000  0.011920   0.259454   \n",
       "pH                               -0.237687  0.011920  1.000000   0.191248   \n",
       "sulphates                        -0.275381  0.259454  0.191248   1.000000   \n",
       "alcohol                          -0.265740 -0.686745  0.121002  -0.003261   \n",
       "quality                          -0.041385 -0.305858  0.019366   0.038729   \n",
       "\n",
       "                       alcohol   quality  \n",
       "fixed acidity        -0.095603 -0.077031  \n",
       "volatile acidity     -0.038248 -0.265953  \n",
       "citric acid          -0.010433  0.085706  \n",
       "residual sugar       -0.359706 -0.036825  \n",
       "chlorides            -0.256861 -0.200886  \n",
       "free sulfur dioxide  -0.179838  0.055463  \n",
       "total sulfur dioxide -0.265740 -0.041385  \n",
       "density              -0.686745 -0.305858  \n",
       "pH                    0.121002  0.019366  \n",
       "sulphates            -0.003261  0.038729  \n",
       "alcohol               1.000000  0.444319  \n",
       "quality               0.444319  1.000000  "
      ]
     },
     "execution_count": 7,
     "metadata": {},
     "output_type": "execute_result"
    }
   ],
   "source": [
    "data.corr()"
   ]
  },
  {
   "attachments": {},
   "cell_type": "markdown",
   "id": "beab91ce",
   "metadata": {},
   "source": [
    "##### Data Preprocessing"
   ]
  },
  {
   "attachments": {},
   "cell_type": "markdown",
   "id": "9312c78b",
   "metadata": {},
   "source": [
    "Removal of Duplicates."
   ]
  },
  {
   "cell_type": "code",
   "execution_count": 8,
   "id": "0b3134d9",
   "metadata": {},
   "outputs": [
    {
     "data": {
      "text/plain": [
       "1168"
      ]
     },
     "execution_count": 8,
     "metadata": {},
     "output_type": "execute_result"
    }
   ],
   "source": [
    "data.duplicated().sum()"
   ]
  },
  {
   "cell_type": "code",
   "execution_count": 9,
   "id": "0772d60e",
   "metadata": {},
   "outputs": [],
   "source": [
    "data.drop_duplicates(inplace=True)"
   ]
  },
  {
   "cell_type": "code",
   "execution_count": 10,
   "id": "7f7b16d0",
   "metadata": {},
   "outputs": [
    {
     "data": {
      "text/plain": [
       "0"
      ]
     },
     "execution_count": 10,
     "metadata": {},
     "output_type": "execute_result"
    }
   ],
   "source": [
    "data.duplicated().sum()"
   ]
  },
  {
   "cell_type": "code",
   "execution_count": 11,
   "id": "107448f2",
   "metadata": {},
   "outputs": [
    {
     "data": {
      "text/plain": [
       "(5329, 13)"
      ]
     },
     "execution_count": 11,
     "metadata": {},
     "output_type": "execute_result"
    }
   ],
   "source": [
    "data.shape"
   ]
  },
  {
   "attachments": {},
   "cell_type": "markdown",
   "id": "410f8be9",
   "metadata": {},
   "source": [
    "Dealing with Null values"
   ]
  },
  {
   "cell_type": "code",
   "execution_count": 12,
   "id": "04f13d03",
   "metadata": {},
   "outputs": [
    {
     "data": {
      "text/plain": [
       "type                     0\n",
       "fixed acidity           10\n",
       "volatile acidity         8\n",
       "citric acid              3\n",
       "residual sugar           2\n",
       "chlorides                2\n",
       "free sulfur dioxide      0\n",
       "total sulfur dioxide     0\n",
       "density                  0\n",
       "pH                       9\n",
       "sulphates                4\n",
       "alcohol                  0\n",
       "quality                  0\n",
       "dtype: int64"
      ]
     },
     "execution_count": 12,
     "metadata": {},
     "output_type": "execute_result"
    }
   ],
   "source": [
    "data.isna().sum()"
   ]
  },
  {
   "cell_type": "code",
   "execution_count": 13,
   "id": "29a9f6cd",
   "metadata": {},
   "outputs": [],
   "source": [
    "data.dropna(how='any', inplace=True)"
   ]
  },
  {
   "attachments": {},
   "cell_type": "markdown",
   "id": "c178e022",
   "metadata": {},
   "source": [
    "##### Performing Encoding with one categorical feature"
   ]
  },
  {
   "cell_type": "code",
   "execution_count": 14,
   "id": "ca6243b1",
   "metadata": {},
   "outputs": [
    {
     "data": {
      "text/html": [
       "<div>\n",
       "<style scoped>\n",
       "    .dataframe tbody tr th:only-of-type {\n",
       "        vertical-align: middle;\n",
       "    }\n",
       "\n",
       "    .dataframe tbody tr th {\n",
       "        vertical-align: top;\n",
       "    }\n",
       "\n",
       "    .dataframe thead th {\n",
       "        text-align: right;\n",
       "    }\n",
       "</style>\n",
       "<table border=\"1\" class=\"dataframe\">\n",
       "  <thead>\n",
       "    <tr style=\"text-align: right;\">\n",
       "      <th></th>\n",
       "      <th>type</th>\n",
       "      <th>fixed acidity</th>\n",
       "      <th>volatile acidity</th>\n",
       "      <th>citric acid</th>\n",
       "      <th>residual sugar</th>\n",
       "      <th>chlorides</th>\n",
       "      <th>free sulfur dioxide</th>\n",
       "      <th>total sulfur dioxide</th>\n",
       "      <th>density</th>\n",
       "      <th>pH</th>\n",
       "      <th>sulphates</th>\n",
       "      <th>alcohol</th>\n",
       "      <th>quality</th>\n",
       "    </tr>\n",
       "  </thead>\n",
       "  <tbody>\n",
       "    <tr>\n",
       "      <th>0</th>\n",
       "      <td>white</td>\n",
       "      <td>7.0</td>\n",
       "      <td>0.27</td>\n",
       "      <td>0.36</td>\n",
       "      <td>20.7</td>\n",
       "      <td>0.045</td>\n",
       "      <td>45.0</td>\n",
       "      <td>170.0</td>\n",
       "      <td>1.0010</td>\n",
       "      <td>3.00</td>\n",
       "      <td>0.45</td>\n",
       "      <td>8.8</td>\n",
       "      <td>6</td>\n",
       "    </tr>\n",
       "    <tr>\n",
       "      <th>1</th>\n",
       "      <td>white</td>\n",
       "      <td>6.3</td>\n",
       "      <td>0.30</td>\n",
       "      <td>0.34</td>\n",
       "      <td>1.6</td>\n",
       "      <td>0.049</td>\n",
       "      <td>14.0</td>\n",
       "      <td>132.0</td>\n",
       "      <td>0.9940</td>\n",
       "      <td>3.30</td>\n",
       "      <td>0.49</td>\n",
       "      <td>9.5</td>\n",
       "      <td>6</td>\n",
       "    </tr>\n",
       "    <tr>\n",
       "      <th>2</th>\n",
       "      <td>white</td>\n",
       "      <td>8.1</td>\n",
       "      <td>0.28</td>\n",
       "      <td>0.40</td>\n",
       "      <td>6.9</td>\n",
       "      <td>0.050</td>\n",
       "      <td>30.0</td>\n",
       "      <td>97.0</td>\n",
       "      <td>0.9951</td>\n",
       "      <td>3.26</td>\n",
       "      <td>0.44</td>\n",
       "      <td>10.1</td>\n",
       "      <td>6</td>\n",
       "    </tr>\n",
       "    <tr>\n",
       "      <th>3</th>\n",
       "      <td>white</td>\n",
       "      <td>7.2</td>\n",
       "      <td>0.23</td>\n",
       "      <td>0.32</td>\n",
       "      <td>8.5</td>\n",
       "      <td>0.058</td>\n",
       "      <td>47.0</td>\n",
       "      <td>186.0</td>\n",
       "      <td>0.9956</td>\n",
       "      <td>3.19</td>\n",
       "      <td>0.40</td>\n",
       "      <td>9.9</td>\n",
       "      <td>6</td>\n",
       "    </tr>\n",
       "    <tr>\n",
       "      <th>6</th>\n",
       "      <td>white</td>\n",
       "      <td>6.2</td>\n",
       "      <td>0.32</td>\n",
       "      <td>0.16</td>\n",
       "      <td>7.0</td>\n",
       "      <td>0.045</td>\n",
       "      <td>30.0</td>\n",
       "      <td>136.0</td>\n",
       "      <td>0.9949</td>\n",
       "      <td>3.18</td>\n",
       "      <td>0.47</td>\n",
       "      <td>9.6</td>\n",
       "      <td>6</td>\n",
       "    </tr>\n",
       "  </tbody>\n",
       "</table>\n",
       "</div>"
      ],
      "text/plain": [
       "    type  fixed acidity  volatile acidity  citric acid  residual sugar  \\\n",
       "0  white            7.0              0.27         0.36            20.7   \n",
       "1  white            6.3              0.30         0.34             1.6   \n",
       "2  white            8.1              0.28         0.40             6.9   \n",
       "3  white            7.2              0.23         0.32             8.5   \n",
       "6  white            6.2              0.32         0.16             7.0   \n",
       "\n",
       "   chlorides  free sulfur dioxide  total sulfur dioxide  density    pH  \\\n",
       "0      0.045                 45.0                 170.0   1.0010  3.00   \n",
       "1      0.049                 14.0                 132.0   0.9940  3.30   \n",
       "2      0.050                 30.0                  97.0   0.9951  3.26   \n",
       "3      0.058                 47.0                 186.0   0.9956  3.19   \n",
       "6      0.045                 30.0                 136.0   0.9949  3.18   \n",
       "\n",
       "   sulphates  alcohol  quality  \n",
       "0       0.45      8.8        6  \n",
       "1       0.49      9.5        6  \n",
       "2       0.44     10.1        6  \n",
       "3       0.40      9.9        6  \n",
       "6       0.47      9.6        6  "
      ]
     },
     "execution_count": 14,
     "metadata": {},
     "output_type": "execute_result"
    }
   ],
   "source": [
    "data.head()"
   ]
  },
  {
   "attachments": {},
   "cell_type": "markdown",
   "id": "176b02ed",
   "metadata": {},
   "source": [
    "One way to encode categorical variable is one-hot encoding, which creates a binary column for each category"
   ]
  },
  {
   "cell_type": "code",
   "execution_count": 15,
   "id": "103cf0ff",
   "metadata": {},
   "outputs": [],
   "source": [
    "from sklearn.preprocessing import OneHotEncoder\n",
    "from sklearn.compose import ColumnTransformer"
   ]
  },
  {
   "cell_type": "code",
   "execution_count": 16,
   "id": "373048d8",
   "metadata": {},
   "outputs": [
    {
     "data": {
      "text/html": [
       "<style>#sk-container-id-1 {color: black;background-color: white;}#sk-container-id-1 pre{padding: 0;}#sk-container-id-1 div.sk-toggleable {background-color: white;}#sk-container-id-1 label.sk-toggleable__label {cursor: pointer;display: block;width: 100%;margin-bottom: 0;padding: 0.3em;box-sizing: border-box;text-align: center;}#sk-container-id-1 label.sk-toggleable__label-arrow:before {content: \"▸\";float: left;margin-right: 0.25em;color: #696969;}#sk-container-id-1 label.sk-toggleable__label-arrow:hover:before {color: black;}#sk-container-id-1 div.sk-estimator:hover label.sk-toggleable__label-arrow:before {color: black;}#sk-container-id-1 div.sk-toggleable__content {max-height: 0;max-width: 0;overflow: hidden;text-align: left;background-color: #f0f8ff;}#sk-container-id-1 div.sk-toggleable__content pre {margin: 0.2em;color: black;border-radius: 0.25em;background-color: #f0f8ff;}#sk-container-id-1 input.sk-toggleable__control:checked~div.sk-toggleable__content {max-height: 200px;max-width: 100%;overflow: auto;}#sk-container-id-1 input.sk-toggleable__control:checked~label.sk-toggleable__label-arrow:before {content: \"▾\";}#sk-container-id-1 div.sk-estimator input.sk-toggleable__control:checked~label.sk-toggleable__label {background-color: #d4ebff;}#sk-container-id-1 div.sk-label input.sk-toggleable__control:checked~label.sk-toggleable__label {background-color: #d4ebff;}#sk-container-id-1 input.sk-hidden--visually {border: 0;clip: rect(1px 1px 1px 1px);clip: rect(1px, 1px, 1px, 1px);height: 1px;margin: -1px;overflow: hidden;padding: 0;position: absolute;width: 1px;}#sk-container-id-1 div.sk-estimator {font-family: monospace;background-color: #f0f8ff;border: 1px dotted black;border-radius: 0.25em;box-sizing: border-box;margin-bottom: 0.5em;}#sk-container-id-1 div.sk-estimator:hover {background-color: #d4ebff;}#sk-container-id-1 div.sk-parallel-item::after {content: \"\";width: 100%;border-bottom: 1px solid gray;flex-grow: 1;}#sk-container-id-1 div.sk-label:hover label.sk-toggleable__label {background-color: #d4ebff;}#sk-container-id-1 div.sk-serial::before {content: \"\";position: absolute;border-left: 1px solid gray;box-sizing: border-box;top: 0;bottom: 0;left: 50%;z-index: 0;}#sk-container-id-1 div.sk-serial {display: flex;flex-direction: column;align-items: center;background-color: white;padding-right: 0.2em;padding-left: 0.2em;position: relative;}#sk-container-id-1 div.sk-item {position: relative;z-index: 1;}#sk-container-id-1 div.sk-parallel {display: flex;align-items: stretch;justify-content: center;background-color: white;position: relative;}#sk-container-id-1 div.sk-item::before, #sk-container-id-1 div.sk-parallel-item::before {content: \"\";position: absolute;border-left: 1px solid gray;box-sizing: border-box;top: 0;bottom: 0;left: 50%;z-index: -1;}#sk-container-id-1 div.sk-parallel-item {display: flex;flex-direction: column;z-index: 1;position: relative;background-color: white;}#sk-container-id-1 div.sk-parallel-item:first-child::after {align-self: flex-end;width: 50%;}#sk-container-id-1 div.sk-parallel-item:last-child::after {align-self: flex-start;width: 50%;}#sk-container-id-1 div.sk-parallel-item:only-child::after {width: 0;}#sk-container-id-1 div.sk-dashed-wrapped {border: 1px dashed gray;margin: 0 0.4em 0.5em 0.4em;box-sizing: border-box;padding-bottom: 0.4em;background-color: white;}#sk-container-id-1 div.sk-label label {font-family: monospace;font-weight: bold;display: inline-block;line-height: 1.2em;}#sk-container-id-1 div.sk-label-container {text-align: center;}#sk-container-id-1 div.sk-container {/* jupyter's `normalize.less` sets `[hidden] { display: none; }` but bootstrap.min.css set `[hidden] { display: none !important; }` so we also need the `!important` here to be able to override the default hidden behavior on the sphinx rendered scikit-learn.org. See: https://github.com/scikit-learn/scikit-learn/issues/21755 */display: inline-block !important;position: relative;}#sk-container-id-1 div.sk-text-repr-fallback {display: none;}</style><div id=\"sk-container-id-1\" class=\"sk-top-container\"><div class=\"sk-text-repr-fallback\"><pre>OneHotEncoder()</pre><b>In a Jupyter environment, please rerun this cell to show the HTML representation or trust the notebook. <br />On GitHub, the HTML representation is unable to render, please try loading this page with nbviewer.org.</b></div><div class=\"sk-container\" hidden><div class=\"sk-item\"><div class=\"sk-estimator sk-toggleable\"><input class=\"sk-toggleable__control sk-hidden--visually\" id=\"sk-estimator-id-1\" type=\"checkbox\" checked><label for=\"sk-estimator-id-1\" class=\"sk-toggleable__label sk-toggleable__label-arrow\">OneHotEncoder</label><div class=\"sk-toggleable__content\"><pre>OneHotEncoder()</pre></div></div></div></div></div>"
      ],
      "text/plain": [
       "OneHotEncoder()"
      ]
     },
     "execution_count": 16,
     "metadata": {},
     "output_type": "execute_result"
    }
   ],
   "source": [
    "encoder = OneHotEncoder()\n",
    "encoder.fit(data[['type']])"
   ]
  },
  {
   "cell_type": "code",
   "execution_count": 17,
   "id": "c40f6598",
   "metadata": {},
   "outputs": [],
   "source": [
    "type_encoded = encoder.transform(data[['type']]).toarray()"
   ]
  },
  {
   "cell_type": "code",
   "execution_count": 18,
   "id": "17488847",
   "metadata": {},
   "outputs": [],
   "source": [
    "type_encoded_df = pd.DataFrame(type_encoded, columns=['red', 'white'])"
   ]
  },
  {
   "cell_type": "code",
   "execution_count": 19,
   "id": "6efa209e",
   "metadata": {},
   "outputs": [
    {
     "data": {
      "text/html": [
       "<div>\n",
       "<style scoped>\n",
       "    .dataframe tbody tr th:only-of-type {\n",
       "        vertical-align: middle;\n",
       "    }\n",
       "\n",
       "    .dataframe tbody tr th {\n",
       "        vertical-align: top;\n",
       "    }\n",
       "\n",
       "    .dataframe thead th {\n",
       "        text-align: right;\n",
       "    }\n",
       "</style>\n",
       "<table border=\"1\" class=\"dataframe\">\n",
       "  <thead>\n",
       "    <tr style=\"text-align: right;\">\n",
       "      <th></th>\n",
       "      <th>red</th>\n",
       "      <th>white</th>\n",
       "    </tr>\n",
       "  </thead>\n",
       "  <tbody>\n",
       "    <tr>\n",
       "      <th>0</th>\n",
       "      <td>0.0</td>\n",
       "      <td>1.0</td>\n",
       "    </tr>\n",
       "    <tr>\n",
       "      <th>1</th>\n",
       "      <td>0.0</td>\n",
       "      <td>1.0</td>\n",
       "    </tr>\n",
       "    <tr>\n",
       "      <th>2</th>\n",
       "      <td>0.0</td>\n",
       "      <td>1.0</td>\n",
       "    </tr>\n",
       "    <tr>\n",
       "      <th>3</th>\n",
       "      <td>0.0</td>\n",
       "      <td>1.0</td>\n",
       "    </tr>\n",
       "    <tr>\n",
       "      <th>4</th>\n",
       "      <td>0.0</td>\n",
       "      <td>1.0</td>\n",
       "    </tr>\n",
       "    <tr>\n",
       "      <th>...</th>\n",
       "      <td>...</td>\n",
       "      <td>...</td>\n",
       "    </tr>\n",
       "    <tr>\n",
       "      <th>5290</th>\n",
       "      <td>1.0</td>\n",
       "      <td>0.0</td>\n",
       "    </tr>\n",
       "    <tr>\n",
       "      <th>5291</th>\n",
       "      <td>1.0</td>\n",
       "      <td>0.0</td>\n",
       "    </tr>\n",
       "    <tr>\n",
       "      <th>5292</th>\n",
       "      <td>1.0</td>\n",
       "      <td>0.0</td>\n",
       "    </tr>\n",
       "    <tr>\n",
       "      <th>5293</th>\n",
       "      <td>1.0</td>\n",
       "      <td>0.0</td>\n",
       "    </tr>\n",
       "    <tr>\n",
       "      <th>5294</th>\n",
       "      <td>1.0</td>\n",
       "      <td>0.0</td>\n",
       "    </tr>\n",
       "  </tbody>\n",
       "</table>\n",
       "<p>5295 rows × 2 columns</p>\n",
       "</div>"
      ],
      "text/plain": [
       "      red  white\n",
       "0     0.0    1.0\n",
       "1     0.0    1.0\n",
       "2     0.0    1.0\n",
       "3     0.0    1.0\n",
       "4     0.0    1.0\n",
       "...   ...    ...\n",
       "5290  1.0    0.0\n",
       "5291  1.0    0.0\n",
       "5292  1.0    0.0\n",
       "5293  1.0    0.0\n",
       "5294  1.0    0.0\n",
       "\n",
       "[5295 rows x 2 columns]"
      ]
     },
     "execution_count": 19,
     "metadata": {},
     "output_type": "execute_result"
    }
   ],
   "source": [
    "type_encoded_df"
   ]
  },
  {
   "attachments": {},
   "cell_type": "markdown",
   "id": "4a0999a5",
   "metadata": {},
   "source": [
    "Concatinate the original dataframe and the new encoded dataframe with the encoded 'type'"
   ]
  },
  {
   "cell_type": "code",
   "execution_count": 20,
   "id": "37ebe95b",
   "metadata": {},
   "outputs": [],
   "source": [
    "data_encoded = pd.concat([data, type_encoded_df], axis=1)"
   ]
  },
  {
   "attachments": {},
   "cell_type": "markdown",
   "id": "55ea564c",
   "metadata": {},
   "source": [
    "Drop the original 'type' column"
   ]
  },
  {
   "cell_type": "code",
   "execution_count": 21,
   "id": "f188dc1a",
   "metadata": {},
   "outputs": [],
   "source": [
    "data_encoded.drop('type', axis=1, inplace=True)"
   ]
  },
  {
   "attachments": {},
   "cell_type": "markdown",
   "id": "91e87881",
   "metadata": {},
   "source": [
    "Remove the na values "
   ]
  },
  {
   "cell_type": "code",
   "execution_count": 22,
   "id": "14daf12e",
   "metadata": {},
   "outputs": [
    {
     "data": {
      "text/plain": [
       "fixed acidity           1006\n",
       "volatile acidity        1006\n",
       "citric acid             1006\n",
       "residual sugar          1006\n",
       "chlorides               1006\n",
       "free sulfur dioxide     1006\n",
       "total sulfur dioxide    1006\n",
       "density                 1006\n",
       "pH                      1006\n",
       "sulphates               1006\n",
       "alcohol                 1006\n",
       "quality                 1006\n",
       "red                     1006\n",
       "white                   1006\n",
       "dtype: int64"
      ]
     },
     "execution_count": 22,
     "metadata": {},
     "output_type": "execute_result"
    }
   ],
   "source": [
    "data_encoded.isnull().sum()"
   ]
  },
  {
   "cell_type": "code",
   "execution_count": 23,
   "id": "8b002c6e",
   "metadata": {},
   "outputs": [],
   "source": [
    "data_encoded.dropna(how='any', inplace=True)"
   ]
  },
  {
   "attachments": {},
   "cell_type": "markdown",
   "id": "50989af1",
   "metadata": {},
   "source": [
    "##### Split the data into train and test set"
   ]
  },
  {
   "attachments": {},
   "cell_type": "markdown",
   "id": "fa3c61d0",
   "metadata": {},
   "source": [
    "Importing needed libraries"
   ]
  },
  {
   "cell_type": "code",
   "execution_count": 24,
   "id": "24cdb36c",
   "metadata": {},
   "outputs": [],
   "source": [
    "from sklearn.model_selection import train_test_split\n",
    "from sklearn.linear_model import LinearRegression"
   ]
  },
  {
   "cell_type": "code",
   "execution_count": 25,
   "id": "ecedbb56",
   "metadata": {},
   "outputs": [],
   "source": [
    "x = data_encoded.drop(dep_var, axis=1)  #Features\n",
    "y = data_encoded[dep_var]   #Target variable"
   ]
  },
  {
   "cell_type": "code",
   "execution_count": 26,
   "id": "98c42e6d",
   "metadata": {},
   "outputs": [],
   "source": [
    "x_train, x_test, y_train, y_test = train_test_split(x, y, test_size = 0.2, random_state=42)"
   ]
  },
  {
   "attachments": {},
   "cell_type": "markdown",
   "id": "99ef478d",
   "metadata": {},
   "source": [
    "##### Create Linear Regression model on train data"
   ]
  },
  {
   "cell_type": "code",
   "execution_count": 27,
   "id": "c6e6adbb",
   "metadata": {},
   "outputs": [],
   "source": [
    "model = LinearRegression()"
   ]
  },
  {
   "attachments": {},
   "cell_type": "markdown",
   "id": "386b0b21",
   "metadata": {},
   "source": [
    "Fit the model on the train data"
   ]
  },
  {
   "cell_type": "code",
   "execution_count": 28,
   "id": "d1eed15f",
   "metadata": {},
   "outputs": [
    {
     "data": {
      "text/html": [
       "<style>#sk-container-id-2 {color: black;background-color: white;}#sk-container-id-2 pre{padding: 0;}#sk-container-id-2 div.sk-toggleable {background-color: white;}#sk-container-id-2 label.sk-toggleable__label {cursor: pointer;display: block;width: 100%;margin-bottom: 0;padding: 0.3em;box-sizing: border-box;text-align: center;}#sk-container-id-2 label.sk-toggleable__label-arrow:before {content: \"▸\";float: left;margin-right: 0.25em;color: #696969;}#sk-container-id-2 label.sk-toggleable__label-arrow:hover:before {color: black;}#sk-container-id-2 div.sk-estimator:hover label.sk-toggleable__label-arrow:before {color: black;}#sk-container-id-2 div.sk-toggleable__content {max-height: 0;max-width: 0;overflow: hidden;text-align: left;background-color: #f0f8ff;}#sk-container-id-2 div.sk-toggleable__content pre {margin: 0.2em;color: black;border-radius: 0.25em;background-color: #f0f8ff;}#sk-container-id-2 input.sk-toggleable__control:checked~div.sk-toggleable__content {max-height: 200px;max-width: 100%;overflow: auto;}#sk-container-id-2 input.sk-toggleable__control:checked~label.sk-toggleable__label-arrow:before {content: \"▾\";}#sk-container-id-2 div.sk-estimator input.sk-toggleable__control:checked~label.sk-toggleable__label {background-color: #d4ebff;}#sk-container-id-2 div.sk-label input.sk-toggleable__control:checked~label.sk-toggleable__label {background-color: #d4ebff;}#sk-container-id-2 input.sk-hidden--visually {border: 0;clip: rect(1px 1px 1px 1px);clip: rect(1px, 1px, 1px, 1px);height: 1px;margin: -1px;overflow: hidden;padding: 0;position: absolute;width: 1px;}#sk-container-id-2 div.sk-estimator {font-family: monospace;background-color: #f0f8ff;border: 1px dotted black;border-radius: 0.25em;box-sizing: border-box;margin-bottom: 0.5em;}#sk-container-id-2 div.sk-estimator:hover {background-color: #d4ebff;}#sk-container-id-2 div.sk-parallel-item::after {content: \"\";width: 100%;border-bottom: 1px solid gray;flex-grow: 1;}#sk-container-id-2 div.sk-label:hover label.sk-toggleable__label {background-color: #d4ebff;}#sk-container-id-2 div.sk-serial::before {content: \"\";position: absolute;border-left: 1px solid gray;box-sizing: border-box;top: 0;bottom: 0;left: 50%;z-index: 0;}#sk-container-id-2 div.sk-serial {display: flex;flex-direction: column;align-items: center;background-color: white;padding-right: 0.2em;padding-left: 0.2em;position: relative;}#sk-container-id-2 div.sk-item {position: relative;z-index: 1;}#sk-container-id-2 div.sk-parallel {display: flex;align-items: stretch;justify-content: center;background-color: white;position: relative;}#sk-container-id-2 div.sk-item::before, #sk-container-id-2 div.sk-parallel-item::before {content: \"\";position: absolute;border-left: 1px solid gray;box-sizing: border-box;top: 0;bottom: 0;left: 50%;z-index: -1;}#sk-container-id-2 div.sk-parallel-item {display: flex;flex-direction: column;z-index: 1;position: relative;background-color: white;}#sk-container-id-2 div.sk-parallel-item:first-child::after {align-self: flex-end;width: 50%;}#sk-container-id-2 div.sk-parallel-item:last-child::after {align-self: flex-start;width: 50%;}#sk-container-id-2 div.sk-parallel-item:only-child::after {width: 0;}#sk-container-id-2 div.sk-dashed-wrapped {border: 1px dashed gray;margin: 0 0.4em 0.5em 0.4em;box-sizing: border-box;padding-bottom: 0.4em;background-color: white;}#sk-container-id-2 div.sk-label label {font-family: monospace;font-weight: bold;display: inline-block;line-height: 1.2em;}#sk-container-id-2 div.sk-label-container {text-align: center;}#sk-container-id-2 div.sk-container {/* jupyter's `normalize.less` sets `[hidden] { display: none; }` but bootstrap.min.css set `[hidden] { display: none !important; }` so we also need the `!important` here to be able to override the default hidden behavior on the sphinx rendered scikit-learn.org. See: https://github.com/scikit-learn/scikit-learn/issues/21755 */display: inline-block !important;position: relative;}#sk-container-id-2 div.sk-text-repr-fallback {display: none;}</style><div id=\"sk-container-id-2\" class=\"sk-top-container\"><div class=\"sk-text-repr-fallback\"><pre>LinearRegression()</pre><b>In a Jupyter environment, please rerun this cell to show the HTML representation or trust the notebook. <br />On GitHub, the HTML representation is unable to render, please try loading this page with nbviewer.org.</b></div><div class=\"sk-container\" hidden><div class=\"sk-item\"><div class=\"sk-estimator sk-toggleable\"><input class=\"sk-toggleable__control sk-hidden--visually\" id=\"sk-estimator-id-2\" type=\"checkbox\" checked><label for=\"sk-estimator-id-2\" class=\"sk-toggleable__label sk-toggleable__label-arrow\">LinearRegression</label><div class=\"sk-toggleable__content\"><pre>LinearRegression()</pre></div></div></div></div></div>"
      ],
      "text/plain": [
       "LinearRegression()"
      ]
     },
     "execution_count": 28,
     "metadata": {},
     "output_type": "execute_result"
    }
   ],
   "source": [
    "model.fit(x_train, y_train)"
   ]
  },
  {
   "attachments": {},
   "cell_type": "markdown",
   "id": "b24692d2",
   "metadata": {},
   "source": [
    "##### Evaluating on the test data using Root Mean Squared Error(RMSE)"
   ]
  },
  {
   "cell_type": "code",
   "execution_count": 29,
   "id": "ddb91d30",
   "metadata": {},
   "outputs": [],
   "source": [
    "from sklearn.metrics import mean_squared_error"
   ]
  },
  {
   "attachments": {},
   "cell_type": "markdown",
   "id": "874f677f",
   "metadata": {},
   "source": [
    "Predictions on the test data"
   ]
  },
  {
   "cell_type": "code",
   "execution_count": 30,
   "id": "c3866636",
   "metadata": {},
   "outputs": [],
   "source": [
    "y_pred = model.predict(x_test)"
   ]
  },
  {
   "cell_type": "code",
   "execution_count": 31,
   "id": "53c7d590",
   "metadata": {},
   "outputs": [
    {
     "data": {
      "text/plain": [
       "array([6.44821286, 6.12658749, 5.99774299, 5.56520518, 6.05077661,\n",
       "       5.99896562, 6.09466735, 5.38324168, 5.41969007, 5.66123643,\n",
       "       5.96961072, 4.91527399, 4.84123102, 6.19590248, 6.97086484,\n",
       "       6.68780193, 5.6520459 , 6.39985003, 6.94371409, 5.44112272,\n",
       "       6.00255826, 5.71995639, 5.52449821, 5.40312911, 5.59039025,\n",
       "       5.11321924, 5.48019828, 5.44934431, 5.28824166, 5.09309818,\n",
       "       6.28039022, 5.22537872, 5.8572917 , 5.83390366, 6.23982052,\n",
       "       5.66504423, 5.72257196, 5.47875266, 6.43320076, 5.38034358,\n",
       "       6.45411988, 5.68705253, 5.45559473, 5.05841353, 5.4497046 ,\n",
       "       5.20375523, 6.28861268, 5.63825734, 5.90475248, 5.40534477,\n",
       "       5.94901114, 5.9396874 , 5.92268326, 6.29771871, 5.9741767 ,\n",
       "       5.58716589, 5.77846872, 6.31117965, 5.66172723, 5.24539669,\n",
       "       6.63318432, 5.75037032, 5.06610912, 5.80305354, 6.44578311,\n",
       "       6.05301749, 6.66362147, 5.44058681, 5.28035288, 5.80999967,\n",
       "       5.79341966, 5.42000037, 6.27061405, 6.16199649, 6.50668026,\n",
       "       5.66956592, 5.63663489, 5.78072885, 5.58727343, 6.38876567,\n",
       "       6.03389121, 5.5905922 , 5.83564777, 5.99530887, 5.71066665,\n",
       "       6.15499032, 5.80869594, 5.91825052, 5.52865451, 6.24720348,\n",
       "       6.64976382, 5.44267251, 6.32836027, 6.0555599 , 6.13711253,\n",
       "       5.8325874 , 6.39256987, 5.82769307, 5.95466526, 6.49129097,\n",
       "       5.94324152, 5.27702391, 5.81409668, 6.13951451, 5.87055229,\n",
       "       5.99697545, 5.74424067, 6.11565731, 5.7088525 , 5.45575479,\n",
       "       6.07850981, 5.94820365, 6.11613051, 6.55287074, 5.57729893,\n",
       "       5.56657085, 6.45068484, 6.44210415, 5.64545028, 5.57105737,\n",
       "       5.87867702, 5.8174064 , 6.52427971, 5.69798445, 5.8100821 ,\n",
       "       6.53681468, 6.11804276, 6.25241875, 5.4556353 , 5.78329263,\n",
       "       5.53985092, 6.44957285, 5.82895511, 6.68059535, 6.0339792 ,\n",
       "       5.12009207, 5.3844559 , 5.80709242, 5.2491904 , 6.2381417 ,\n",
       "       5.5009429 , 6.19371536, 6.82155413, 6.35784814, 5.86803637,\n",
       "       5.98271405, 6.99994475, 5.2636443 , 5.53272095, 4.44173193,\n",
       "       5.68860125, 5.99911681, 6.75045798, 6.20259447, 5.61775486,\n",
       "       6.13818132, 6.30173487, 4.9766315 , 5.47037613, 5.61729865,\n",
       "       6.16309681, 6.05500581, 5.98384662, 5.40710923, 5.49945634,\n",
       "       5.46487331, 5.12354226, 5.77347692, 5.55667453, 5.97383979,\n",
       "       5.36528639, 5.36957802, 6.09521077, 5.51252571, 5.58454548,\n",
       "       5.60197967, 5.92721535, 5.65608601, 5.35902721, 5.3353443 ,\n",
       "       5.33047287, 6.08451711, 5.28326801, 6.40803671, 5.88428074,\n",
       "       5.88965419, 5.33867205, 6.35156726, 5.74366649, 5.44659641,\n",
       "       6.25554038, 5.28827967, 6.25863364, 5.81666601, 5.62131594,\n",
       "       6.17501778, 6.12297758, 5.71975176, 5.56795355, 6.25451479,\n",
       "       5.81151071, 6.08248739, 5.83271681, 5.21231072, 6.01602426,\n",
       "       5.11584657, 5.28501897, 5.90325567, 6.167133  , 5.5452888 ,\n",
       "       5.40574486, 5.58071634, 6.61148895, 4.83874498, 5.36060032,\n",
       "       6.44927346, 5.59857686, 4.93245231, 5.48388361, 6.44729265,\n",
       "       5.25316152, 6.03245554, 5.71315613, 5.56268312, 5.99453552,\n",
       "       6.19776469, 5.5553785 , 6.52426536, 5.74221259, 5.76600034,\n",
       "       5.95661306, 6.09913121, 5.69929794, 5.21699538, 6.54687441,\n",
       "       6.14219434, 6.52598307, 6.07901891, 5.42038634, 5.79430779,\n",
       "       6.40034602, 5.33273125, 6.09785429, 6.21156117, 5.15379979,\n",
       "       5.84945138, 4.9504503 , 5.58492611, 5.50395482, 5.80398687,\n",
       "       5.17461392, 6.47123296, 5.54032467, 5.9769993 , 6.40777915,\n",
       "       6.31124839, 6.43444459, 5.69961111, 5.35581103, 6.63753892,\n",
       "       5.98363445, 6.18530621, 4.91543126, 5.87297822, 6.09628935,\n",
       "       5.61189961, 5.76863591, 6.51880439, 6.05247658, 6.60792793,\n",
       "       5.71849712, 6.13128501, 5.94116744, 5.98387553, 5.60255866,\n",
       "       6.07950954, 5.39181416, 6.34871189, 4.69612739, 6.29512058,\n",
       "       5.84150559, 5.07174104, 5.33890861, 6.37898038, 5.72224622,\n",
       "       5.29247385, 6.4608873 , 5.97926018, 6.51771132, 6.21367922,\n",
       "       5.9638287 , 5.89393466, 5.4722921 , 5.73918795, 5.35622453,\n",
       "       6.03097556, 5.4749529 , 6.22230296, 5.70520885, 6.32953623,\n",
       "       6.17204601, 5.79396406, 5.29704284, 5.6972633 , 6.62919401,\n",
       "       5.84470958, 6.11502212, 5.96770523, 6.06917058, 5.93829377,\n",
       "       6.0051483 , 5.57982206, 5.22826855, 5.48787938, 6.33344669,\n",
       "       5.37080093, 5.46076791, 5.08818156, 5.96500317, 5.97973535,\n",
       "       5.30930142, 6.10039522, 5.85253802, 5.90131266, 6.40240405,\n",
       "       5.28043397, 6.20987345, 6.50089743, 5.32715233, 5.19209915,\n",
       "       5.21447374, 5.45072146, 5.71884953, 5.00928297, 5.72097599,\n",
       "       6.42887133, 6.00157824, 6.10902931, 4.90892634, 6.44012657,\n",
       "       5.34478808, 6.23536245, 5.19699003, 6.14774806, 5.24527843,\n",
       "       5.81392061, 5.57486332, 6.09580148, 6.61059366, 5.44156843,\n",
       "       6.61375826, 6.32570214, 6.33344971, 6.47237193, 5.28855866,\n",
       "       4.90070039, 5.73023192, 6.02436216, 4.82470256, 5.81944987,\n",
       "       5.32707263, 6.51241242, 5.56893568, 6.34660672, 6.46491807,\n",
       "       6.52838196, 6.5870512 , 6.7749615 , 5.56322269, 4.53338103,\n",
       "       5.47385381, 4.97507174, 5.59303467, 5.63845119, 6.59785258,\n",
       "       5.29544877, 5.30732398, 5.50973494, 5.36896128, 5.62852688,\n",
       "       5.68403102, 5.24523841, 5.76786475, 5.14912105, 5.41012192,\n",
       "       5.75412684, 6.53802788, 6.09649073, 6.70047572, 5.77076297,\n",
       "       6.58551974, 5.44823224, 5.51176138, 6.51522356, 5.39016719,\n",
       "       5.95468318, 6.11773916, 6.75825797, 6.50726606, 6.04358424,\n",
       "       5.52839372, 5.77612762, 5.07205018, 5.91915789, 6.44082118,\n",
       "       6.53050595, 5.2687737 , 6.14091198, 5.48752229, 5.30692915,\n",
       "       6.04959025, 5.56146888, 5.16442475, 5.41492097, 7.03006228,\n",
       "       5.27007131, 6.041174  , 5.68518817, 5.75569355, 5.93240775,\n",
       "       6.79734861, 5.48832037, 5.98864121, 6.40437597, 5.64877915,\n",
       "       5.05391426, 6.18066171, 5.96954195, 5.90363406, 4.74866643,\n",
       "       5.42021184, 5.83887454, 5.6067489 , 5.72010941, 4.94265573,\n",
       "       5.75465656, 5.73738224, 6.5549702 , 6.12797044, 6.55374974,\n",
       "       5.51148061, 5.71053423, 6.0345569 , 6.43892772, 5.94910656,\n",
       "       5.79546861, 5.34312005, 5.97358772, 6.00213758, 5.90320597,\n",
       "       5.49322008, 4.86992048, 6.42138482, 6.48443357, 6.06770248,\n",
       "       4.85881772, 5.7278341 , 6.01352646, 5.248332  , 5.02367501,\n",
       "       6.23899065, 5.96782606, 5.95669409, 5.32752189, 6.30639086,\n",
       "       6.51069155, 5.10750469, 5.34432231, 5.74070021, 6.61788325,\n",
       "       6.0396494 , 5.28002047, 5.53961228, 5.95785577, 5.82019238,\n",
       "       5.34974113, 5.95584621, 5.98435618, 6.0680042 , 6.19710815,\n",
       "       5.9354277 , 5.79770566, 5.17031448, 6.04973189, 5.6583389 ,\n",
       "       6.18349327, 5.48981715, 5.58687829, 5.44071732, 5.69046144,\n",
       "       5.97500914, 5.31402955, 5.70516045, 5.39416535, 5.49934747,\n",
       "       6.0788416 , 5.80066156, 6.41526903, 5.28644902, 5.27784798,\n",
       "       6.06692441, 5.98980731, 6.25186863, 6.09822418, 6.25426724,\n",
       "       5.83998684, 5.68047726, 5.92076899, 5.51833931, 6.33749076,\n",
       "       6.42754403, 6.08116636, 6.61708801, 5.91361562, 6.43233163,\n",
       "       5.6431147 , 5.45004051, 5.80453135, 6.10595829, 5.460858  ,\n",
       "       6.38488994, 6.04943939, 6.73582475, 5.58727888, 6.02752444,\n",
       "       6.16983863, 6.32949579, 5.89634706, 6.52055086, 5.20063816,\n",
       "       5.25592562, 5.99905732, 5.18641671, 5.68356276, 6.51990619,\n",
       "       5.19277903, 5.75906301, 6.02570429, 5.98736319, 6.34871785,\n",
       "       5.77566892, 6.07498911, 5.73460015, 5.48245409, 6.17525519,\n",
       "       6.61863642, 6.28048299, 5.64960257, 4.88079   , 5.98002192,\n",
       "       5.41584212, 5.2648712 , 5.06164854, 6.35439612, 5.70188264,\n",
       "       5.55154604, 6.0606941 , 5.48436911, 5.41737327, 5.34000633,\n",
       "       5.21404077, 5.80370714, 5.21306697, 6.08818235, 6.2656179 ,\n",
       "       6.05277764, 5.55202264, 6.2835086 , 5.43489057, 6.14102264,\n",
       "       5.52059601, 5.79461014, 6.10827972, 5.62993461, 5.44887196,\n",
       "       5.53782561, 5.54766477, 6.32915598, 5.6493106 , 5.29084226,\n",
       "       5.30906352, 6.08745281, 5.91885227, 5.55822392, 5.77994695,\n",
       "       5.84023787, 5.86620059, 6.34072316, 6.00595648, 5.68556609,\n",
       "       5.3181153 , 5.86744334, 6.9994888 , 6.35634197, 6.06388499,\n",
       "       5.40422761, 5.58357715, 5.92903158, 6.38803357, 6.33449996,\n",
       "       6.32382163, 6.8761457 , 5.33979897, 5.65640329, 6.31603849,\n",
       "       6.625031  , 6.24365174, 6.21922773, 6.08990015, 5.83274369,\n",
       "       5.54586849, 6.00763011, 5.56513149, 6.57772843, 4.86775439,\n",
       "       5.88331717, 6.74462233, 6.24573249, 5.98161064, 6.23173172,\n",
       "       5.82000471, 5.55163288, 5.77360155, 5.29042674, 5.00649148,\n",
       "       6.43929374, 6.29786178, 5.22725993, 5.85140769, 5.6018587 ,\n",
       "       6.01681978, 5.5424009 , 5.97117915, 6.23032637, 5.52095663,\n",
       "       5.94287761, 5.25938874, 5.22625906, 6.20416705, 5.77371239,\n",
       "       5.48471942, 5.4062217 , 5.89423613, 5.42954753, 5.49522051,\n",
       "       6.32394346, 5.97510065, 4.89350842, 6.0008234 , 5.67147726,\n",
       "       5.60560413, 5.80413119, 6.69826744, 5.20556904, 5.47584989,\n",
       "       4.72989201, 6.46503554, 6.35165059, 5.38224323, 5.45104203,\n",
       "       4.68071501, 5.94950797, 5.1140894 , 5.76956752, 5.33388085,\n",
       "       6.36675548, 5.65832934, 6.05533033, 5.34335997, 6.09928848,\n",
       "       6.43707958, 6.12044108, 5.84775765, 6.13784576, 5.26718334,\n",
       "       6.12324097, 5.85646244, 6.68801649, 5.46749342, 6.34071309,\n",
       "       5.82533898, 5.53456346, 5.59192408, 6.36057279, 6.37198731,\n",
       "       6.48929594, 6.22761407, 5.93180491, 6.11852325, 5.76992455,\n",
       "       5.98528297, 5.86688148, 5.43361817, 5.79231546, 5.39722198,\n",
       "       5.64980187, 4.63064826, 5.17272525, 6.51481184, 5.19104253,\n",
       "       6.09012454, 5.11073885, 5.62438137, 5.44267405, 5.94342895,\n",
       "       5.00737375, 5.76120572, 5.28818658, 6.21357426, 6.09112058,\n",
       "       5.216998  , 5.5451503 , 5.70114759, 5.75543381, 5.79975376,\n",
       "       5.31266704, 5.67618723, 5.27252393, 6.49528179, 6.54027006,\n",
       "       5.02134686, 6.06755135, 6.04924329, 5.79868698, 5.97519103,\n",
       "       5.98999281, 5.74032329, 6.3906158 , 5.74918048, 5.6722149 ,\n",
       "       5.39324648, 5.7444035 , 6.09874946, 6.36017075, 5.61917723,\n",
       "       5.19467406, 6.39908658, 6.50405275, 6.54276888, 5.91573357,\n",
       "       5.34018333, 5.98331838, 5.81736404, 5.93786414, 6.36543347,\n",
       "       6.07726514, 6.75237338, 6.51004285, 6.28184643, 4.9577761 ,\n",
       "       6.16661244, 6.61458612, 6.11459534, 5.10662214, 6.35957502,\n",
       "       5.75822975, 5.59257597, 5.90985889, 5.19211651, 5.36632908,\n",
       "       6.55839119, 5.78073716, 6.27026433, 6.62073819, 6.56695099,\n",
       "       6.56069791, 5.36815792, 5.02876565, 6.4844669 , 5.89272538,\n",
       "       5.60949763, 5.29652622, 5.50636389, 6.03608427, 5.48423698,\n",
       "       6.20104652, 6.11478908, 6.18651259, 4.77369644, 5.44039296,\n",
       "       6.10069012, 5.23199232, 6.17320494, 6.00839763, 6.76737667,\n",
       "       6.16452555, 6.41776815, 5.70885572, 6.51556866, 6.15107428,\n",
       "       6.15804837, 5.63321467, 6.69481603, 6.23197551, 5.30233504,\n",
       "       5.93320555, 4.99436395, 6.40081874, 5.68789644, 5.22063353,\n",
       "       5.56153786, 5.81472138, 5.91122752, 4.93674366, 5.72054115,\n",
       "       5.88809117, 5.05542545, 5.31332528, 5.74916323, 6.17096296,\n",
       "       5.26276202, 5.32752154, 4.95620276, 6.53957185, 5.55409869,\n",
       "       6.30816441, 6.2107305 , 5.41983008, 6.2871075 , 5.1568422 ,\n",
       "       5.20420226, 6.40713542, 5.1040972 , 6.20133271, 5.55356787,\n",
       "       5.26673442, 5.2701224 , 5.07930735, 6.61740935, 6.63605365,\n",
       "       6.10530782, 5.34375753, 5.64564412, 6.21800245, 5.90913651,\n",
       "       6.47308993, 5.66698241, 6.02515219, 5.2512555 , 6.64697379,\n",
       "       5.9266886 , 5.70991953, 5.77986987, 6.32051612, 5.88249124,\n",
       "       5.29156226, 5.84481423, 6.10201611, 6.51992365, 5.5272001 ,\n",
       "       6.59755513, 5.61354435, 5.70314656, 5.67220019, 5.62312134,\n",
       "       5.89869764, 6.22377319, 4.80675222])"
      ]
     },
     "execution_count": 31,
     "metadata": {},
     "output_type": "execute_result"
    }
   ],
   "source": [
    "y_pred"
   ]
  },
  {
   "attachments": {},
   "cell_type": "markdown",
   "id": "bb35e71d",
   "metadata": {},
   "source": [
    "Calculate the RMSE"
   ]
  },
  {
   "cell_type": "code",
   "execution_count": 32,
   "id": "4076e746",
   "metadata": {},
   "outputs": [],
   "source": [
    "rmse = np.sqrt(mean_squared_error(y_test, y_pred))"
   ]
  },
  {
   "cell_type": "code",
   "execution_count": 33,
   "id": "5ceac2fd",
   "metadata": {},
   "outputs": [
    {
     "name": "stdout",
     "output_type": "stream",
     "text": [
      "RMSE: 0.7768135557509541\n"
     ]
    }
   ],
   "source": [
    "print(\"RMSE:\", rmse)"
   ]
  },
  {
   "attachments": {},
   "cell_type": "markdown",
   "id": "59401c74",
   "metadata": {},
   "source": [
    "##### Creating Random Forest Regression Model of our choice"
   ]
  },
  {
   "attachments": {},
   "cell_type": "markdown",
   "id": "900c1d37",
   "metadata": {},
   "source": [
    "The Data we are taking here is after the Pre-processing and one hot encoding that we took above for the linear regression."
   ]
  },
  {
   "attachments": {},
   "cell_type": "markdown",
   "id": "e237fccc",
   "metadata": {},
   "source": [
    "Split the data into train and test set"
   ]
  },
  {
   "cell_type": "code",
   "execution_count": 34,
   "id": "d767ca07",
   "metadata": {},
   "outputs": [
    {
     "name": "stdout",
     "output_type": "stream",
     "text": [
      "The shape of x= (4289, 13)\n",
      "The shape of y= (4289,)\n"
     ]
    }
   ],
   "source": [
    "x1 = data_encoded.drop(dep_var, axis=1)\n",
    "y1 = data_encoded[dep_var]\n",
    "print(\"The shape of x=\", x1.shape)\n",
    "print(\"The shape of y=\", y1.shape)"
   ]
  },
  {
   "cell_type": "code",
   "execution_count": 35,
   "id": "c7f600e0",
   "metadata": {},
   "outputs": [
    {
     "name": "stdout",
     "output_type": "stream",
     "text": [
      "The shape of x_train=  (3431, 13)\n",
      "The shape of y_train= (3431,)\n",
      "The shape of x_test= (858, 13)\n",
      "The shape of y_test= (858,)\n"
     ]
    }
   ],
   "source": [
    "x_train, x_test, y_train, y_test = train_test_split(x1, y1, test_size=0.2, random_state=51)\n",
    "print(\"The shape of x_train= \", x_train.shape)\n",
    "print(\"The shape of y_train=\", y_train.shape)\n",
    "print(\"The shape of x_test=\", x_test.shape)\n",
    "print(\"The shape of y_test=\", y_test.shape)"
   ]
  },
  {
   "attachments": {},
   "cell_type": "markdown",
   "id": "2f8dd8c5",
   "metadata": {},
   "source": [
    "Importing necessary libraries"
   ]
  },
  {
   "cell_type": "code",
   "execution_count": 36,
   "id": "dc836fcb",
   "metadata": {},
   "outputs": [],
   "source": [
    "from sklearn.ensemble import RandomForestRegressor"
   ]
  },
  {
   "attachments": {},
   "cell_type": "markdown",
   "id": "1c801302",
   "metadata": {},
   "source": [
    "Creating the model object"
   ]
  },
  {
   "cell_type": "code",
   "execution_count": 37,
   "id": "6d327e0d",
   "metadata": {},
   "outputs": [],
   "source": [
    "new_reg = RandomForestRegressor(n_estimators=100, random_state = 42)"
   ]
  },
  {
   "attachments": {},
   "cell_type": "markdown",
   "id": "ea936793",
   "metadata": {},
   "source": [
    "Fit the model on the training data"
   ]
  },
  {
   "cell_type": "code",
   "execution_count": 38,
   "id": "5924a885",
   "metadata": {},
   "outputs": [
    {
     "data": {
      "text/html": [
       "<style>#sk-container-id-3 {color: black;background-color: white;}#sk-container-id-3 pre{padding: 0;}#sk-container-id-3 div.sk-toggleable {background-color: white;}#sk-container-id-3 label.sk-toggleable__label {cursor: pointer;display: block;width: 100%;margin-bottom: 0;padding: 0.3em;box-sizing: border-box;text-align: center;}#sk-container-id-3 label.sk-toggleable__label-arrow:before {content: \"▸\";float: left;margin-right: 0.25em;color: #696969;}#sk-container-id-3 label.sk-toggleable__label-arrow:hover:before {color: black;}#sk-container-id-3 div.sk-estimator:hover label.sk-toggleable__label-arrow:before {color: black;}#sk-container-id-3 div.sk-toggleable__content {max-height: 0;max-width: 0;overflow: hidden;text-align: left;background-color: #f0f8ff;}#sk-container-id-3 div.sk-toggleable__content pre {margin: 0.2em;color: black;border-radius: 0.25em;background-color: #f0f8ff;}#sk-container-id-3 input.sk-toggleable__control:checked~div.sk-toggleable__content {max-height: 200px;max-width: 100%;overflow: auto;}#sk-container-id-3 input.sk-toggleable__control:checked~label.sk-toggleable__label-arrow:before {content: \"▾\";}#sk-container-id-3 div.sk-estimator input.sk-toggleable__control:checked~label.sk-toggleable__label {background-color: #d4ebff;}#sk-container-id-3 div.sk-label input.sk-toggleable__control:checked~label.sk-toggleable__label {background-color: #d4ebff;}#sk-container-id-3 input.sk-hidden--visually {border: 0;clip: rect(1px 1px 1px 1px);clip: rect(1px, 1px, 1px, 1px);height: 1px;margin: -1px;overflow: hidden;padding: 0;position: absolute;width: 1px;}#sk-container-id-3 div.sk-estimator {font-family: monospace;background-color: #f0f8ff;border: 1px dotted black;border-radius: 0.25em;box-sizing: border-box;margin-bottom: 0.5em;}#sk-container-id-3 div.sk-estimator:hover {background-color: #d4ebff;}#sk-container-id-3 div.sk-parallel-item::after {content: \"\";width: 100%;border-bottom: 1px solid gray;flex-grow: 1;}#sk-container-id-3 div.sk-label:hover label.sk-toggleable__label {background-color: #d4ebff;}#sk-container-id-3 div.sk-serial::before {content: \"\";position: absolute;border-left: 1px solid gray;box-sizing: border-box;top: 0;bottom: 0;left: 50%;z-index: 0;}#sk-container-id-3 div.sk-serial {display: flex;flex-direction: column;align-items: center;background-color: white;padding-right: 0.2em;padding-left: 0.2em;position: relative;}#sk-container-id-3 div.sk-item {position: relative;z-index: 1;}#sk-container-id-3 div.sk-parallel {display: flex;align-items: stretch;justify-content: center;background-color: white;position: relative;}#sk-container-id-3 div.sk-item::before, #sk-container-id-3 div.sk-parallel-item::before {content: \"\";position: absolute;border-left: 1px solid gray;box-sizing: border-box;top: 0;bottom: 0;left: 50%;z-index: -1;}#sk-container-id-3 div.sk-parallel-item {display: flex;flex-direction: column;z-index: 1;position: relative;background-color: white;}#sk-container-id-3 div.sk-parallel-item:first-child::after {align-self: flex-end;width: 50%;}#sk-container-id-3 div.sk-parallel-item:last-child::after {align-self: flex-start;width: 50%;}#sk-container-id-3 div.sk-parallel-item:only-child::after {width: 0;}#sk-container-id-3 div.sk-dashed-wrapped {border: 1px dashed gray;margin: 0 0.4em 0.5em 0.4em;box-sizing: border-box;padding-bottom: 0.4em;background-color: white;}#sk-container-id-3 div.sk-label label {font-family: monospace;font-weight: bold;display: inline-block;line-height: 1.2em;}#sk-container-id-3 div.sk-label-container {text-align: center;}#sk-container-id-3 div.sk-container {/* jupyter's `normalize.less` sets `[hidden] { display: none; }` but bootstrap.min.css set `[hidden] { display: none !important; }` so we also need the `!important` here to be able to override the default hidden behavior on the sphinx rendered scikit-learn.org. See: https://github.com/scikit-learn/scikit-learn/issues/21755 */display: inline-block !important;position: relative;}#sk-container-id-3 div.sk-text-repr-fallback {display: none;}</style><div id=\"sk-container-id-3\" class=\"sk-top-container\"><div class=\"sk-text-repr-fallback\"><pre>RandomForestRegressor(random_state=42)</pre><b>In a Jupyter environment, please rerun this cell to show the HTML representation or trust the notebook. <br />On GitHub, the HTML representation is unable to render, please try loading this page with nbviewer.org.</b></div><div class=\"sk-container\" hidden><div class=\"sk-item\"><div class=\"sk-estimator sk-toggleable\"><input class=\"sk-toggleable__control sk-hidden--visually\" id=\"sk-estimator-id-3\" type=\"checkbox\" checked><label for=\"sk-estimator-id-3\" class=\"sk-toggleable__label sk-toggleable__label-arrow\">RandomForestRegressor</label><div class=\"sk-toggleable__content\"><pre>RandomForestRegressor(random_state=42)</pre></div></div></div></div></div>"
      ],
      "text/plain": [
       "RandomForestRegressor(random_state=42)"
      ]
     },
     "execution_count": 38,
     "metadata": {},
     "output_type": "execute_result"
    }
   ],
   "source": [
    "new_reg.fit(x_train, y_train)"
   ]
  },
  {
   "attachments": {},
   "cell_type": "markdown",
   "id": "610e7ea9",
   "metadata": {},
   "source": [
    "Predict the output for the test data"
   ]
  },
  {
   "cell_type": "code",
   "execution_count": 39,
   "id": "6f324f03",
   "metadata": {},
   "outputs": [],
   "source": [
    "y_pred_rf = new_reg.predict(x_test)"
   ]
  },
  {
   "cell_type": "code",
   "execution_count": 40,
   "id": "8afd684e",
   "metadata": {},
   "outputs": [
    {
     "data": {
      "text/plain": [
       "array([6.6 , 5.8 , 5.7 , 5.23, 5.33, 5.51, 5.21, 6.66, 6.73, 5.85, 6.5 ,\n",
       "       6.55, 5.77, 5.75, 5.9 , 5.22, 5.09, 6.12, 5.46, 5.13, 6.7 , 6.41,\n",
       "       6.93, 5.27, 5.02, 6.47, 5.99, 6.5 , 6.11, 6.08, 5.31, 4.98, 5.68,\n",
       "       5.86, 5.27, 6.9 , 5.44, 5.55, 6.04, 5.96, 6.37, 5.27, 5.48, 6.53,\n",
       "       6.72, 6.63, 6.02, 5.14, 6.56, 5.52, 5.08, 7.04, 5.79, 5.35, 5.23,\n",
       "       5.66, 5.97, 6.12, 5.66, 6.49, 5.5 , 6.88, 6.43, 5.92, 6.16, 7.11,\n",
       "       6.52, 6.59, 5.85, 5.19, 5.25, 6.25, 6.3 , 5.55, 5.78, 5.72, 5.82,\n",
       "       6.04, 6.24, 5.51, 6.16, 6.14, 5.39, 5.78, 6.23, 6.86, 6.12, 5.48,\n",
       "       6.23, 5.78, 6.08, 7.05, 6.17, 5.57, 6.25, 6.05, 6.33, 6.55, 6.8 ,\n",
       "       6.34, 5.23, 5.22, 6.3 , 6.61, 6.05, 5.91, 6.44, 6.76, 5.62, 5.95,\n",
       "       6.29, 6.25, 6.42, 5.01, 6.42, 6.56, 5.69, 6.21, 6.91, 6.02, 5.3 ,\n",
       "       6.01, 5.97, 5.4 , 6.28, 6.17, 5.58, 5.6 , 6.21, 5.52, 6.57, 6.45,\n",
       "       6.06, 5.26, 5.17, 5.59, 6.69, 6.88, 6.8 , 5.68, 6.44, 5.32, 6.09,\n",
       "       5.93, 5.01, 6.29, 5.57, 6.04, 5.33, 5.75, 6.69, 4.92, 5.41, 5.51,\n",
       "       5.54, 5.36, 5.16, 6.58, 5.64, 5.4 , 4.79, 6.02, 5.27, 5.07, 6.02,\n",
       "       5.19, 5.94, 6.4 , 5.2 , 5.78, 5.08, 5.77, 5.96, 4.82, 6.01, 6.3 ,\n",
       "       5.26, 6.17, 5.28, 5.48, 6.23, 7.14, 5.63, 6.07, 5.4 , 6.51, 6.78,\n",
       "       6.56, 5.02, 6.05, 5.68, 4.54, 6.39, 6.19, 5.18, 5.72, 5.81, 5.63,\n",
       "       5.24, 5.8 , 5.79, 6.11, 5.31, 6.09, 6.88, 5.21, 5.93, 5.42, 5.  ,\n",
       "       5.62, 5.61, 5.81, 6.4 , 5.99, 6.49, 6.68, 6.22, 6.29, 5.73, 6.29,\n",
       "       6.73, 6.33, 5.56, 6.04, 6.18, 5.57, 6.2 , 6.79, 5.96, 6.25, 5.84,\n",
       "       5.35, 5.47, 6.07, 5.6 , 6.47, 6.38, 6.08, 5.59, 6.01, 5.36, 5.27,\n",
       "       6.64, 6.33, 6.56, 5.21, 5.2 , 5.69, 6.48, 5.34, 6.  , 5.93, 4.9 ,\n",
       "       5.22, 6.21, 5.31, 6.95, 5.28, 4.89, 5.41, 5.08, 5.11, 5.82, 5.96,\n",
       "       5.89, 5.55, 6.28, 5.82, 5.47, 6.8 , 6.01, 5.82, 5.23, 5.71, 5.48,\n",
       "       6.62, 5.97, 5.94, 6.96, 5.62, 5.56, 5.3 , 5.83, 6.01, 6.73, 6.69,\n",
       "       5.7 , 6.5 , 5.6 , 5.3 , 7.05, 6.69, 6.91, 6.14, 5.69, 5.85, 6.23,\n",
       "       4.8 , 5.89, 5.35, 5.66, 6.34, 5.61, 5.44, 5.07, 5.94, 5.81, 6.72,\n",
       "       5.88, 6.17, 6.46, 5.42, 5.21, 5.5 , 5.64, 5.33, 4.98, 5.62, 4.52,\n",
       "       5.28, 5.32, 5.21, 6.43, 5.61, 5.45, 6.6 , 4.84, 6.72, 6.18, 6.05,\n",
       "       6.22, 5.19, 5.61, 5.14, 6.04, 5.06, 6.22, 6.33, 6.16, 6.52, 5.46,\n",
       "       6.35, 5.96, 6.02, 6.34, 5.1 , 5.17, 5.61, 6.39, 5.6 , 4.81, 6.19,\n",
       "       5.76, 5.06, 5.47, 5.32, 6.12, 5.6 , 5.98, 6.47, 5.67, 5.31, 6.36,\n",
       "       6.41, 6.13, 6.39, 6.09, 6.23, 5.91, 6.33, 6.02, 5.09, 4.92, 5.76,\n",
       "       5.09, 4.94, 6.42, 5.04, 6.06, 6.08, 5.97, 5.72, 6.96, 6.5 , 5.34,\n",
       "       5.07, 5.03, 5.31, 5.13, 6.25, 6.2 , 5.03, 5.49, 5.21, 6.14, 6.37,\n",
       "       5.31, 5.23, 5.48, 6.04, 5.81, 5.17, 4.91, 4.97, 5.24, 6.95, 5.48,\n",
       "       5.13, 5.11, 5.15, 5.5 , 6.13, 5.24, 5.1 , 5.24, 5.58, 5.13, 5.96,\n",
       "       6.01, 6.7 , 6.22, 4.67, 5.24, 6.83, 5.88, 4.95, 6.05, 6.07, 6.75,\n",
       "       6.1 , 5.58, 6.63, 5.38, 6.71, 6.52, 6.49, 5.47, 5.69, 5.43, 6.29,\n",
       "       5.58, 6.49, 5.88, 5.19, 5.36, 5.99, 5.55, 5.92, 6.53, 6.91, 5.65,\n",
       "       6.22, 5.26, 6.12, 6.1 , 5.57, 5.61, 5.11, 5.47, 5.96, 6.27, 6.03,\n",
       "       5.82, 5.68, 6.14, 6.18, 5.53, 5.35, 5.69, 5.82, 5.66, 6.32, 5.07,\n",
       "       6.05, 5.09, 5.84, 6.32, 5.68, 6.25, 5.4 , 6.09, 6.11, 5.17, 5.73,\n",
       "       5.42, 6.57, 6.75, 6.22, 6.25, 5.87, 5.3 , 6.39, 4.93, 6.01, 6.34,\n",
       "       6.26, 6.53, 5.12, 5.81, 5.46, 5.9 , 5.87, 5.85, 5.08, 5.69, 5.66,\n",
       "       6.11, 6.03, 5.12, 6.06, 5.81, 6.11, 6.98, 6.45, 4.76, 5.6 , 5.94,\n",
       "       6.7 , 5.36, 5.97, 5.76, 6.58, 6.11, 5.72, 5.13, 5.85, 5.82, 6.07,\n",
       "       5.3 , 5.55, 5.59, 6.98, 6.39, 5.43, 6.46, 6.77, 5.31, 6.49, 6.59,\n",
       "       5.28, 6.45, 6.16, 5.61, 5.79, 5.96, 6.23, 6.19, 5.39, 6.32, 5.32,\n",
       "       6.3 , 6.09, 6.49, 6.58, 5.29, 6.34, 5.48, 6.78, 5.62, 5.85, 5.73,\n",
       "       5.75, 4.99, 5.38, 5.56, 5.34, 6.2 , 5.55, 6.26, 4.7 , 5.71, 5.97,\n",
       "       5.87, 5.16, 5.2 , 5.84, 6.36, 5.31, 5.68, 5.25, 6.77, 6.19, 5.15,\n",
       "       5.19, 5.81, 6.29, 5.26, 6.72, 6.67, 5.43, 6.5 , 6.95, 5.79, 6.38,\n",
       "       6.13, 5.07, 6.71, 5.69, 6.28, 5.47, 5.21, 6.07, 5.64, 4.58, 6.39,\n",
       "       6.84, 6.68, 5.46, 5.21, 5.72, 6.65, 5.25, 5.67, 6.48, 5.67, 5.18,\n",
       "       6.89, 4.58, 6.31, 6.66, 5.42, 6.9 , 6.19, 5.12, 6.33, 6.09, 6.39,\n",
       "       5.64, 6.07, 5.69, 5.98, 6.18, 6.77, 5.47, 5.34, 5.12, 5.78, 6.66,\n",
       "       5.73, 6.67, 5.4 , 5.55, 5.58, 6.96, 5.83, 6.09, 6.65, 5.51, 7.09,\n",
       "       5.41, 5.66, 5.24, 6.92, 6.2 , 6.15, 5.38, 5.64, 7.02, 5.15, 5.66,\n",
       "       5.49, 5.95, 6.81, 6.38, 6.6 , 6.87, 5.89, 5.54, 5.77, 6.15, 6.43,\n",
       "       5.89, 5.31, 5.54, 6.09, 4.46, 5.73, 6.02, 6.39, 6.35, 5.82, 6.21,\n",
       "       5.97, 5.25, 6.  , 6.41, 5.22, 5.82, 6.44, 5.22, 5.34, 6.29, 6.83,\n",
       "       5.1 , 5.85, 5.8 , 4.39, 6.51, 4.44, 5.79, 5.72, 6.56, 5.75, 5.8 ,\n",
       "       5.64, 5.22, 5.49, 6.39, 6.51, 5.37, 6.82, 5.6 , 6.22, 5.57, 6.01,\n",
       "       5.14, 5.3 , 6.1 , 5.56, 6.36, 5.98, 6.33, 4.96, 5.87, 6.08, 6.07,\n",
       "       5.87, 5.71, 6.26, 4.8 , 5.08, 5.29, 6.67, 6.24, 5.6 , 6.28, 5.95,\n",
       "       6.05, 5.35, 6.59, 5.05, 5.77, 6.4 , 6.5 , 6.41, 5.28, 5.15, 6.88,\n",
       "       6.6 , 6.17, 5.64, 5.36, 6.08, 5.19, 6.5 , 5.93, 6.09, 5.3 , 5.83,\n",
       "       5.76, 6.2 , 5.56, 5.74, 5.26, 6.14, 7.05, 5.45, 6.62, 5.09, 5.25,\n",
       "       5.8 , 5.33, 6.03, 5.27, 7.21, 6.04, 4.5 , 6.18, 6.13, 5.91, 6.84,\n",
       "       6.32, 5.44, 6.72, 5.26, 5.97, 6.03, 6.4 , 5.87, 5.19, 6.44, 5.75,\n",
       "       5.4 , 6.37, 4.96, 5.24, 5.3 , 5.05, 6.21, 6.91, 5.3 , 5.05, 6.64,\n",
       "       5.65, 5.96, 5.52, 6.58, 6.2 , 6.39, 6.5 , 6.83, 6.28, 6.06, 5.45,\n",
       "       5.21, 5.95, 5.5 , 5.33, 6.04, 6.86, 5.96, 6.18, 6.25, 5.65, 5.32,\n",
       "       4.99, 5.4 , 5.08, 5.23, 5.91, 6.86, 6.61, 6.52, 6.16, 6.31, 5.58,\n",
       "       6.72, 5.89, 6.86, 5.89, 5.57, 6.01, 5.46, 6.08, 6.14, 6.66, 6.37,\n",
       "       5.35, 4.83, 5.69, 6.27, 5.36, 5.84, 6.17, 5.51, 6.8 , 5.11, 5.92])"
      ]
     },
     "execution_count": 40,
     "metadata": {},
     "output_type": "execute_result"
    }
   ],
   "source": [
    "y_pred_rf"
   ]
  },
  {
   "attachments": {},
   "cell_type": "markdown",
   "id": "c9d6f424",
   "metadata": {},
   "source": [
    "Calculate the RMSE"
   ]
  },
  {
   "cell_type": "code",
   "execution_count": 41,
   "id": "7771d9f3",
   "metadata": {},
   "outputs": [],
   "source": [
    "rmse_rf = mean_squared_error(y_test, y_pred_rf, squared=False)"
   ]
  },
  {
   "cell_type": "code",
   "execution_count": 42,
   "id": "b1b2c33e",
   "metadata": {},
   "outputs": [
    {
     "name": "stdout",
     "output_type": "stream",
     "text": [
      "RMSE of Random Forest Regression Model: 0.7222355058248838\n"
     ]
    }
   ],
   "source": [
    "print(\"RMSE of Random Forest Regression Model:\", rmse_rf)"
   ]
  },
  {
   "cell_type": "code",
   "execution_count": 44,
   "id": "96e54551",
   "metadata": {},
   "outputs": [
    {
     "name": "stdout",
     "output_type": "stream",
     "text": [
      "The score of Linear Regression - 0.7768135557509541\n",
      "The Score of Random Forest Regression - 0.7222355058248838\n"
     ]
    }
   ],
   "source": [
    "print(\"The score of Linear Regression -\", rmse)\n",
    "print(\"The Score of Random Forest Regression -\", rmse_rf)"
   ]
  }
 ],
 "metadata": {
  "kernelspec": {
   "display_name": "Python 3",
   "language": "python",
   "name": "python3"
  },
  "language_info": {
   "codemirror_mode": {
    "name": "ipython",
    "version": 3
   },
   "file_extension": ".py",
   "mimetype": "text/x-python",
   "name": "python",
   "nbconvert_exporter": "python",
   "pygments_lexer": "ipython3",
   "version": "3.11.1"
  },
  "vscode": {
   "interpreter": {
    "hash": "72b2382ece9768098284d92bbc69d35954e75b60d1e25897d1389c232f4796f0"
   }
  }
 },
 "nbformat": 4,
 "nbformat_minor": 5
}
