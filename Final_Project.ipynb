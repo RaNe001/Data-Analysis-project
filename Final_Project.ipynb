{
 "cells": [
  {
   "attachments": {},
   "cell_type": "markdown",
   "metadata": {},
   "source": [
    "## Data Analysis Project"
   ]
  },
  {
   "attachments": {},
   "cell_type": "markdown",
   "metadata": {},
   "source": [
    "1. Which state has the high number of orders\n",
    "2. According to data in which year sale was high.\n",
    "3. Payment Methods that are used widely.\n",
    "4. Top Products that make highest sales with payment method.\n",
    "5. Which state has contributed most in the sale."
   ]
  },
  {
   "attachments": {},
   "cell_type": "markdown",
   "metadata": {},
   "source": [
    "##### Top States with the high number of orders"
   ]
  },
  {
   "attachments": {},
   "cell_type": "markdown",
   "metadata": {},
   "source": [
    "Importing the important libraries"
   ]
  },
  {
   "cell_type": "code",
   "execution_count": 68,
   "metadata": {},
   "outputs": [],
   "source": [
    "import pandas as pd\n",
    "import numpy as np\n",
    "import matplotlib.pyplot as plt\n",
    "import seaborn as sns\n",
    "import plotly.express as px\n",
    "from scipy import stats\n",
    "%matplotlib inline"
   ]
  },
  {
   "attachments": {},
   "cell_type": "markdown",
   "metadata": {},
   "source": [
    "Reading the CSV file"
   ]
  },
  {
   "cell_type": "code",
   "execution_count": 3,
   "metadata": {},
   "outputs": [],
   "source": [
    "data = pd.read_csv(\"D:\\Rahul\\Internship\\dataset\\orders_2020_2021_DataSet_Updated.csv\")"
   ]
  },
  {
   "attachments": {},
   "cell_type": "markdown",
   "metadata": {},
   "source": [
    "Showing the Top 5 rows of dataset"
   ]
  },
  {
   "cell_type": "code",
   "execution_count": 4,
   "metadata": {},
   "outputs": [
    {
     "data": {
      "text/html": [
       "<div>\n",
       "<style scoped>\n",
       "    .dataframe tbody tr th:only-of-type {\n",
       "        vertical-align: middle;\n",
       "    }\n",
       "\n",
       "    .dataframe tbody tr th {\n",
       "        vertical-align: top;\n",
       "    }\n",
       "\n",
       "    .dataframe thead th {\n",
       "        text-align: right;\n",
       "    }\n",
       "</style>\n",
       "<table border=\"1\" class=\"dataframe\">\n",
       "  <thead>\n",
       "    <tr style=\"text-align: right;\">\n",
       "      <th></th>\n",
       "      <th>Order #</th>\n",
       "      <th>Fulfillment Date and Time Stamp</th>\n",
       "      <th>Currency</th>\n",
       "      <th>Subtotal</th>\n",
       "      <th>Shipping Method</th>\n",
       "      <th>Shipping Cost</th>\n",
       "      <th>Tax Method</th>\n",
       "      <th>Taxes</th>\n",
       "      <th>Total</th>\n",
       "      <th>Coupon Code</th>\n",
       "      <th>...</th>\n",
       "      <th>Tracking #</th>\n",
       "      <th>Special Instructions</th>\n",
       "      <th>LineItem Name</th>\n",
       "      <th>LineItem SKU</th>\n",
       "      <th>LineItem Options</th>\n",
       "      <th>LineItem Add-ons</th>\n",
       "      <th>LineItem Qty</th>\n",
       "      <th>LineItem Sale Price</th>\n",
       "      <th>Download Status</th>\n",
       "      <th>LineItem Type</th>\n",
       "    </tr>\n",
       "  </thead>\n",
       "  <tbody>\n",
       "    <tr>\n",
       "      <th>0</th>\n",
       "      <td>R121113121</td>\n",
       "      <td>NaN</td>\n",
       "      <td>INR</td>\n",
       "      <td>2299</td>\n",
       "      <td>Ships Free</td>\n",
       "      <td>0</td>\n",
       "      <td>NaN</td>\n",
       "      <td>0.0</td>\n",
       "      <td>2299</td>\n",
       "      <td>NaN</td>\n",
       "      <td>...</td>\n",
       "      <td>NaN</td>\n",
       "      <td>NaN</td>\n",
       "      <td>Falcon Drone Four Axis Aircraft with 2.4 GHz R...</td>\n",
       "      <td>PL0093416</td>\n",
       "      <td>NaN</td>\n",
       "      <td>NaN</td>\n",
       "      <td>1</td>\n",
       "      <td>2299</td>\n",
       "      <td>NaN</td>\n",
       "      <td>physical</td>\n",
       "    </tr>\n",
       "    <tr>\n",
       "      <th>1</th>\n",
       "      <td>R472890631</td>\n",
       "      <td>NaN</td>\n",
       "      <td>INR</td>\n",
       "      <td>2299</td>\n",
       "      <td>Ships Free</td>\n",
       "      <td>0</td>\n",
       "      <td>NaN</td>\n",
       "      <td>0.0</td>\n",
       "      <td>2299</td>\n",
       "      <td>NaN</td>\n",
       "      <td>...</td>\n",
       "      <td>NaN</td>\n",
       "      <td>NaN</td>\n",
       "      <td>Falcon Drone Four Axis Aircraft with 2.4 GHz R...</td>\n",
       "      <td>PL0093416</td>\n",
       "      <td>NaN</td>\n",
       "      <td>NaN</td>\n",
       "      <td>1</td>\n",
       "      <td>2299</td>\n",
       "      <td>NaN</td>\n",
       "      <td>physical</td>\n",
       "    </tr>\n",
       "    <tr>\n",
       "      <th>2</th>\n",
       "      <td>R004476488</td>\n",
       "      <td>NaN</td>\n",
       "      <td>INR</td>\n",
       "      <td>2299</td>\n",
       "      <td>Ships Free</td>\n",
       "      <td>0</td>\n",
       "      <td>NaN</td>\n",
       "      <td>0.0</td>\n",
       "      <td>2299</td>\n",
       "      <td>NaN</td>\n",
       "      <td>...</td>\n",
       "      <td>NaN</td>\n",
       "      <td>NaN</td>\n",
       "      <td>Falcon Drone Four Axis Aircraft with 2.4 GHz R...</td>\n",
       "      <td>PL0093416</td>\n",
       "      <td>NaN</td>\n",
       "      <td>NaN</td>\n",
       "      <td>1</td>\n",
       "      <td>2299</td>\n",
       "      <td>NaN</td>\n",
       "      <td>physical</td>\n",
       "    </tr>\n",
       "    <tr>\n",
       "      <th>3</th>\n",
       "      <td>R526038353</td>\n",
       "      <td>NaN</td>\n",
       "      <td>INR</td>\n",
       "      <td>2299</td>\n",
       "      <td>Ships Free</td>\n",
       "      <td>0</td>\n",
       "      <td>NaN</td>\n",
       "      <td>0.0</td>\n",
       "      <td>2299</td>\n",
       "      <td>NaN</td>\n",
       "      <td>...</td>\n",
       "      <td>NaN</td>\n",
       "      <td>NaN</td>\n",
       "      <td>Falcon Drone Four Axis Aircraft with 2.4 GHz R...</td>\n",
       "      <td>PL0093416</td>\n",
       "      <td>NaN</td>\n",
       "      <td>NaN</td>\n",
       "      <td>1</td>\n",
       "      <td>2299</td>\n",
       "      <td>NaN</td>\n",
       "      <td>physical</td>\n",
       "    </tr>\n",
       "    <tr>\n",
       "      <th>4</th>\n",
       "      <td>R658530771</td>\n",
       "      <td>NaN</td>\n",
       "      <td>INR</td>\n",
       "      <td>349</td>\n",
       "      <td>Ships Free</td>\n",
       "      <td>0</td>\n",
       "      <td>NaN</td>\n",
       "      <td>0.0</td>\n",
       "      <td>349</td>\n",
       "      <td>NaN</td>\n",
       "      <td>...</td>\n",
       "      <td>NaN</td>\n",
       "      <td>NaN</td>\n",
       "      <td>Barbie Doll (pink)</td>\n",
       "      <td>PL00098</td>\n",
       "      <td>NaN</td>\n",
       "      <td>NaN</td>\n",
       "      <td>1</td>\n",
       "      <td>349</td>\n",
       "      <td>NaN</td>\n",
       "      <td>physical</td>\n",
       "    </tr>\n",
       "  </tbody>\n",
       "</table>\n",
       "<p>5 rows × 38 columns</p>\n",
       "</div>"
      ],
      "text/plain": [
       "      Order # Fulfillment Date and Time Stamp Currency Subtotal  \\\n",
       "0  R121113121                             NaN      INR     2299   \n",
       "1  R472890631                             NaN      INR     2299   \n",
       "2  R004476488                             NaN      INR     2299   \n",
       "3  R526038353                             NaN      INR     2299   \n",
       "4  R658530771                             NaN      INR      349   \n",
       "\n",
       "  Shipping Method  Shipping Cost Tax Method  Taxes Total Coupon Code  ...  \\\n",
       "0      Ships Free              0        NaN    0.0  2299         NaN  ...   \n",
       "1      Ships Free              0        NaN    0.0  2299         NaN  ...   \n",
       "2      Ships Free              0        NaN    0.0  2299         NaN  ...   \n",
       "3      Ships Free              0        NaN    0.0  2299         NaN  ...   \n",
       "4      Ships Free              0        NaN    0.0   349         NaN  ...   \n",
       "\n",
       "  Tracking #  Special Instructions  \\\n",
       "0        NaN                   NaN   \n",
       "1        NaN                   NaN   \n",
       "2        NaN                   NaN   \n",
       "3        NaN                   NaN   \n",
       "4        NaN                   NaN   \n",
       "\n",
       "                                       LineItem Name LineItem SKU  \\\n",
       "0  Falcon Drone Four Axis Aircraft with 2.4 GHz R...    PL0093416   \n",
       "1  Falcon Drone Four Axis Aircraft with 2.4 GHz R...    PL0093416   \n",
       "2  Falcon Drone Four Axis Aircraft with 2.4 GHz R...    PL0093416   \n",
       "3  Falcon Drone Four Axis Aircraft with 2.4 GHz R...    PL0093416   \n",
       "4                                 Barbie Doll (pink)      PL00098   \n",
       "\n",
       "  LineItem Options LineItem Add-ons LineItem Qty LineItem Sale Price  \\\n",
       "0              NaN              NaN            1                2299   \n",
       "1              NaN              NaN            1                2299   \n",
       "2              NaN              NaN            1                2299   \n",
       "3              NaN              NaN            1                2299   \n",
       "4              NaN              NaN            1                 349   \n",
       "\n",
       "  Download Status LineItem Type  \n",
       "0             NaN      physical  \n",
       "1             NaN      physical  \n",
       "2             NaN      physical  \n",
       "3             NaN      physical  \n",
       "4             NaN      physical  \n",
       "\n",
       "[5 rows x 38 columns]"
      ]
     },
     "execution_count": 4,
     "metadata": {},
     "output_type": "execute_result"
    }
   ],
   "source": [
    "data.head()"
   ]
  },
  {
   "cell_type": "code",
   "execution_count": 5,
   "metadata": {},
   "outputs": [
    {
     "data": {
      "text/plain": [
       "Index(['Order #', 'Fulfillment Date and Time Stamp', 'Currency', 'Subtotal',\n",
       "       'Shipping Method', 'Shipping Cost', 'Tax Method', 'Taxes', 'Total',\n",
       "       'Coupon Code', 'Coupon Code Name', ' ', 'Billing Name',\n",
       "       'Billing Country', 'Billing Street Address', 'Billing Street Address 2',\n",
       "       'Billing City', 'Billing State', 'Billing Zip', 'Shipping Name',\n",
       "       'Shipping Country', 'Shipping Street Address',\n",
       "       'Shipping Street Address 2', 'Shipping City', 'Shipping State',\n",
       "       'Shipping Zip', 'Gift Cards', 'Payment Method', 'Tracking #',\n",
       "       'Special Instructions', 'LineItem Name', 'LineItem SKU',\n",
       "       'LineItem Options', 'LineItem Add-ons', 'LineItem Qty',\n",
       "       'LineItem Sale Price', 'Download Status', 'LineItem Type'],\n",
       "      dtype='object')"
      ]
     },
     "execution_count": 5,
     "metadata": {},
     "output_type": "execute_result"
    }
   ],
   "source": [
    "data.columns"
   ]
  },
  {
   "attachments": {},
   "cell_type": "markdown",
   "metadata": {},
   "source": [
    "Gathering the Columns that are needed"
   ]
  },
  {
   "cell_type": "code",
   "execution_count": 6,
   "metadata": {},
   "outputs": [],
   "source": [
    "data = data[['Order #', 'Fulfillment Date and Time Stamp', 'Currency', 'Total', 'Shipping Country',\n",
    "        'Shipping City', 'Shipping State', 'Payment Method', 'LineItem Name', 'LineItem Qty']]"
   ]
  },
  {
   "cell_type": "code",
   "execution_count": 7,
   "metadata": {},
   "outputs": [
    {
     "data": {
      "text/html": [
       "<div>\n",
       "<style scoped>\n",
       "    .dataframe tbody tr th:only-of-type {\n",
       "        vertical-align: middle;\n",
       "    }\n",
       "\n",
       "    .dataframe tbody tr th {\n",
       "        vertical-align: top;\n",
       "    }\n",
       "\n",
       "    .dataframe thead th {\n",
       "        text-align: right;\n",
       "    }\n",
       "</style>\n",
       "<table border=\"1\" class=\"dataframe\">\n",
       "  <thead>\n",
       "    <tr style=\"text-align: right;\">\n",
       "      <th></th>\n",
       "      <th>Order #</th>\n",
       "      <th>Fulfillment Date and Time Stamp</th>\n",
       "      <th>Currency</th>\n",
       "      <th>Total</th>\n",
       "      <th>Shipping Country</th>\n",
       "      <th>Shipping City</th>\n",
       "      <th>Shipping State</th>\n",
       "      <th>Payment Method</th>\n",
       "      <th>LineItem Name</th>\n",
       "      <th>LineItem Qty</th>\n",
       "    </tr>\n",
       "  </thead>\n",
       "  <tbody>\n",
       "    <tr>\n",
       "      <th>0</th>\n",
       "      <td>R121113121</td>\n",
       "      <td>NaN</td>\n",
       "      <td>INR</td>\n",
       "      <td>2299</td>\n",
       "      <td>IND</td>\n",
       "      <td>Chandrapur</td>\n",
       "      <td>IN-MH</td>\n",
       "      <td>NaN</td>\n",
       "      <td>Falcon Drone Four Axis Aircraft with 2.4 GHz R...</td>\n",
       "      <td>1</td>\n",
       "    </tr>\n",
       "    <tr>\n",
       "      <th>1</th>\n",
       "      <td>R472890631</td>\n",
       "      <td>NaN</td>\n",
       "      <td>INR</td>\n",
       "      <td>2299</td>\n",
       "      <td>IND</td>\n",
       "      <td>Chandrapur</td>\n",
       "      <td>IN-MH</td>\n",
       "      <td>NaN</td>\n",
       "      <td>Falcon Drone Four Axis Aircraft with 2.4 GHz R...</td>\n",
       "      <td>1</td>\n",
       "    </tr>\n",
       "    <tr>\n",
       "      <th>2</th>\n",
       "      <td>R004476488</td>\n",
       "      <td>NaN</td>\n",
       "      <td>INR</td>\n",
       "      <td>2299</td>\n",
       "      <td>IND</td>\n",
       "      <td>Chandrapur</td>\n",
       "      <td>IN-MH</td>\n",
       "      <td>NaN</td>\n",
       "      <td>Falcon Drone Four Axis Aircraft with 2.4 GHz R...</td>\n",
       "      <td>1</td>\n",
       "    </tr>\n",
       "    <tr>\n",
       "      <th>3</th>\n",
       "      <td>R526038353</td>\n",
       "      <td>NaN</td>\n",
       "      <td>INR</td>\n",
       "      <td>2299</td>\n",
       "      <td>IND</td>\n",
       "      <td>Chandrapur</td>\n",
       "      <td>IN-MH</td>\n",
       "      <td>NaN</td>\n",
       "      <td>Falcon Drone Four Axis Aircraft with 2.4 GHz R...</td>\n",
       "      <td>1</td>\n",
       "    </tr>\n",
       "    <tr>\n",
       "      <th>4</th>\n",
       "      <td>R658530771</td>\n",
       "      <td>NaN</td>\n",
       "      <td>INR</td>\n",
       "      <td>349</td>\n",
       "      <td>IND</td>\n",
       "      <td>NEW DELHI</td>\n",
       "      <td>IN-DL</td>\n",
       "      <td>NaN</td>\n",
       "      <td>Barbie Doll (pink)</td>\n",
       "      <td>1</td>\n",
       "    </tr>\n",
       "  </tbody>\n",
       "</table>\n",
       "</div>"
      ],
      "text/plain": [
       "      Order # Fulfillment Date and Time Stamp Currency Total Shipping Country  \\\n",
       "0  R121113121                             NaN      INR  2299              IND   \n",
       "1  R472890631                             NaN      INR  2299              IND   \n",
       "2  R004476488                             NaN      INR  2299              IND   \n",
       "3  R526038353                             NaN      INR  2299              IND   \n",
       "4  R658530771                             NaN      INR   349              IND   \n",
       "\n",
       "  Shipping City Shipping State Payment Method  \\\n",
       "0    Chandrapur          IN-MH            NaN   \n",
       "1    Chandrapur          IN-MH            NaN   \n",
       "2    Chandrapur          IN-MH            NaN   \n",
       "3    Chandrapur          IN-MH            NaN   \n",
       "4     NEW DELHI          IN-DL            NaN   \n",
       "\n",
       "                                       LineItem Name  LineItem Qty  \n",
       "0  Falcon Drone Four Axis Aircraft with 2.4 GHz R...             1  \n",
       "1  Falcon Drone Four Axis Aircraft with 2.4 GHz R...             1  \n",
       "2  Falcon Drone Four Axis Aircraft with 2.4 GHz R...             1  \n",
       "3  Falcon Drone Four Axis Aircraft with 2.4 GHz R...             1  \n",
       "4                                 Barbie Doll (pink)             1  "
      ]
     },
     "execution_count": 7,
     "metadata": {},
     "output_type": "execute_result"
    }
   ],
   "source": [
    "data.head()"
   ]
  },
  {
   "attachments": {},
   "cell_type": "markdown",
   "metadata": {},
   "source": [
    "Changing the column name to the standard need"
   ]
  },
  {
   "cell_type": "code",
   "execution_count": 8,
   "metadata": {},
   "outputs": [],
   "source": [
    "data.rename(columns={'Order #':'Order No', 'Fulfillment Date and Time Stamp':'DateTime Stamp', 'LineItem Name':'Product Name',\n",
    "        'LineItem Qty':'Quantity'}, inplace=True)"
   ]
  },
  {
   "cell_type": "code",
   "execution_count": 9,
   "metadata": {},
   "outputs": [
    {
     "data": {
      "text/plain": [
       "Index(['Order No', 'DateTime Stamp', 'Currency', 'Total', 'Shipping Country',\n",
       "       'Shipping City', 'Shipping State', 'Payment Method', 'Product Name',\n",
       "       'Quantity'],\n",
       "      dtype='object')"
      ]
     },
     "execution_count": 9,
     "metadata": {},
     "output_type": "execute_result"
    }
   ],
   "source": [
    "data.columns"
   ]
  },
  {
   "cell_type": "code",
   "execution_count": 10,
   "metadata": {},
   "outputs": [
    {
     "data": {
      "text/plain": [
       "(3039, 10)"
      ]
     },
     "execution_count": 10,
     "metadata": {},
     "output_type": "execute_result"
    }
   ],
   "source": [
    "data.shape"
   ]
  },
  {
   "attachments": {},
   "cell_type": "markdown",
   "metadata": {},
   "source": [
    "Handling the Duplicate records in the dataset"
   ]
  },
  {
   "cell_type": "code",
   "execution_count": 11,
   "metadata": {},
   "outputs": [
    {
     "data": {
      "text/plain": [
       "3"
      ]
     },
     "execution_count": 11,
     "metadata": {},
     "output_type": "execute_result"
    }
   ],
   "source": [
    "data.duplicated().sum()"
   ]
  },
  {
   "cell_type": "code",
   "execution_count": 12,
   "metadata": {},
   "outputs": [
    {
     "data": {
      "text/html": [
       "<div>\n",
       "<style scoped>\n",
       "    .dataframe tbody tr th:only-of-type {\n",
       "        vertical-align: middle;\n",
       "    }\n",
       "\n",
       "    .dataframe tbody tr th {\n",
       "        vertical-align: top;\n",
       "    }\n",
       "\n",
       "    .dataframe thead th {\n",
       "        text-align: right;\n",
       "    }\n",
       "</style>\n",
       "<table border=\"1\" class=\"dataframe\">\n",
       "  <thead>\n",
       "    <tr style=\"text-align: right;\">\n",
       "      <th></th>\n",
       "      <th>Order No</th>\n",
       "      <th>DateTime Stamp</th>\n",
       "      <th>Currency</th>\n",
       "      <th>Total</th>\n",
       "      <th>Shipping Country</th>\n",
       "      <th>Shipping City</th>\n",
       "      <th>Shipping State</th>\n",
       "      <th>Payment Method</th>\n",
       "      <th>Product Name</th>\n",
       "      <th>Quantity</th>\n",
       "    </tr>\n",
       "  </thead>\n",
       "  <tbody>\n",
       "    <tr>\n",
       "      <th>0</th>\n",
       "      <td>R121113121</td>\n",
       "      <td>NaN</td>\n",
       "      <td>INR</td>\n",
       "      <td>2299</td>\n",
       "      <td>IND</td>\n",
       "      <td>Chandrapur</td>\n",
       "      <td>IN-MH</td>\n",
       "      <td>NaN</td>\n",
       "      <td>Falcon Drone Four Axis Aircraft with 2.4 GHz R...</td>\n",
       "      <td>1</td>\n",
       "    </tr>\n",
       "    <tr>\n",
       "      <th>1</th>\n",
       "      <td>R472890631</td>\n",
       "      <td>NaN</td>\n",
       "      <td>INR</td>\n",
       "      <td>2299</td>\n",
       "      <td>IND</td>\n",
       "      <td>Chandrapur</td>\n",
       "      <td>IN-MH</td>\n",
       "      <td>NaN</td>\n",
       "      <td>Falcon Drone Four Axis Aircraft with 2.4 GHz R...</td>\n",
       "      <td>1</td>\n",
       "    </tr>\n",
       "    <tr>\n",
       "      <th>2</th>\n",
       "      <td>R004476488</td>\n",
       "      <td>NaN</td>\n",
       "      <td>INR</td>\n",
       "      <td>2299</td>\n",
       "      <td>IND</td>\n",
       "      <td>Chandrapur</td>\n",
       "      <td>IN-MH</td>\n",
       "      <td>NaN</td>\n",
       "      <td>Falcon Drone Four Axis Aircraft with 2.4 GHz R...</td>\n",
       "      <td>1</td>\n",
       "    </tr>\n",
       "    <tr>\n",
       "      <th>3</th>\n",
       "      <td>R526038353</td>\n",
       "      <td>NaN</td>\n",
       "      <td>INR</td>\n",
       "      <td>2299</td>\n",
       "      <td>IND</td>\n",
       "      <td>Chandrapur</td>\n",
       "      <td>IN-MH</td>\n",
       "      <td>NaN</td>\n",
       "      <td>Falcon Drone Four Axis Aircraft with 2.4 GHz R...</td>\n",
       "      <td>1</td>\n",
       "    </tr>\n",
       "    <tr>\n",
       "      <th>4</th>\n",
       "      <td>R658530771</td>\n",
       "      <td>NaN</td>\n",
       "      <td>INR</td>\n",
       "      <td>349</td>\n",
       "      <td>IND</td>\n",
       "      <td>NEW DELHI</td>\n",
       "      <td>IN-DL</td>\n",
       "      <td>NaN</td>\n",
       "      <td>Barbie Doll (pink)</td>\n",
       "      <td>1</td>\n",
       "    </tr>\n",
       "    <tr>\n",
       "      <th>...</th>\n",
       "      <td>...</td>\n",
       "      <td>...</td>\n",
       "      <td>...</td>\n",
       "      <td>...</td>\n",
       "      <td>...</td>\n",
       "      <td>...</td>\n",
       "      <td>...</td>\n",
       "      <td>...</td>\n",
       "      <td>...</td>\n",
       "      <td>...</td>\n",
       "    </tr>\n",
       "    <tr>\n",
       "      <th>3034</th>\n",
       "      <td>R243395005</td>\n",
       "      <td>NaN</td>\n",
       "      <td>INR</td>\n",
       "      <td>50</td>\n",
       "      <td>IND</td>\n",
       "      <td>Gccch</td>\n",
       "      <td>IN-AN</td>\n",
       "      <td>NaN</td>\n",
       "      <td>Ear Wired Earphones With Mic White</td>\n",
       "      <td>1</td>\n",
       "    </tr>\n",
       "    <tr>\n",
       "      <th>3035</th>\n",
       "      <td>R607209508</td>\n",
       "      <td>NaN</td>\n",
       "      <td>INR</td>\n",
       "      <td>500</td>\n",
       "      <td>IND</td>\n",
       "      <td>BERHAMPUR</td>\n",
       "      <td>IN-OR</td>\n",
       "      <td>NaN</td>\n",
       "      <td>I Kall K-66 White</td>\n",
       "      <td>1</td>\n",
       "    </tr>\n",
       "    <tr>\n",
       "      <th>3036</th>\n",
       "      <td>R140316623</td>\n",
       "      <td>NaN</td>\n",
       "      <td>INR</td>\n",
       "      <td>4000</td>\n",
       "      <td>IND</td>\n",
       "      <td>berhampur</td>\n",
       "      <td>IN-OR</td>\n",
       "      <td>NaN</td>\n",
       "      <td>Electric Steam Cooker Maestro MC1</td>\n",
       "      <td>2</td>\n",
       "    </tr>\n",
       "    <tr>\n",
       "      <th>3037</th>\n",
       "      <td>R192037084</td>\n",
       "      <td>NaN</td>\n",
       "      <td>INR</td>\n",
       "      <td>2000</td>\n",
       "      <td>IND</td>\n",
       "      <td>sdas</td>\n",
       "      <td>IN-AN</td>\n",
       "      <td>NaN</td>\n",
       "      <td>Electric Steam Cooker Maestro MC1</td>\n",
       "      <td>1</td>\n",
       "    </tr>\n",
       "    <tr>\n",
       "      <th>3038</th>\n",
       "      <td>R414254148</td>\n",
       "      <td>28-09-2016 19:05:30 +0530</td>\n",
       "      <td>INR</td>\n",
       "      <td>2000</td>\n",
       "      <td>IND</td>\n",
       "      <td>sdas</td>\n",
       "      <td>IN-AN</td>\n",
       "      <td>Offline Payment ₹2,000.00</td>\n",
       "      <td>Electric Steam Cooker Maestro MC1</td>\n",
       "      <td>1</td>\n",
       "    </tr>\n",
       "  </tbody>\n",
       "</table>\n",
       "<p>3036 rows × 10 columns</p>\n",
       "</div>"
      ],
      "text/plain": [
       "        Order No             DateTime Stamp Currency Total Shipping Country  \\\n",
       "0     R121113121                        NaN      INR  2299              IND   \n",
       "1     R472890631                        NaN      INR  2299              IND   \n",
       "2     R004476488                        NaN      INR  2299              IND   \n",
       "3     R526038353                        NaN      INR  2299              IND   \n",
       "4     R658530771                        NaN      INR   349              IND   \n",
       "...          ...                        ...      ...   ...              ...   \n",
       "3034  R243395005                        NaN      INR    50              IND   \n",
       "3035  R607209508                        NaN      INR   500              IND   \n",
       "3036  R140316623                        NaN      INR  4000              IND   \n",
       "3037  R192037084                        NaN      INR  2000              IND   \n",
       "3038  R414254148  28-09-2016 19:05:30 +0530      INR  2000              IND   \n",
       "\n",
       "     Shipping City Shipping State             Payment Method  \\\n",
       "0       Chandrapur          IN-MH                        NaN   \n",
       "1       Chandrapur          IN-MH                        NaN   \n",
       "2       Chandrapur          IN-MH                        NaN   \n",
       "3       Chandrapur          IN-MH                        NaN   \n",
       "4        NEW DELHI          IN-DL                        NaN   \n",
       "...            ...            ...                        ...   \n",
       "3034         Gccch          IN-AN                        NaN   \n",
       "3035     BERHAMPUR          IN-OR                        NaN   \n",
       "3036     berhampur          IN-OR                        NaN   \n",
       "3037          sdas          IN-AN                        NaN   \n",
       "3038          sdas          IN-AN  Offline Payment ₹2,000.00   \n",
       "\n",
       "                                           Product Name  Quantity  \n",
       "0     Falcon Drone Four Axis Aircraft with 2.4 GHz R...         1  \n",
       "1     Falcon Drone Four Axis Aircraft with 2.4 GHz R...         1  \n",
       "2     Falcon Drone Four Axis Aircraft with 2.4 GHz R...         1  \n",
       "3     Falcon Drone Four Axis Aircraft with 2.4 GHz R...         1  \n",
       "4                                    Barbie Doll (pink)         1  \n",
       "...                                                 ...       ...  \n",
       "3034                 Ear Wired Earphones With Mic White         1  \n",
       "3035                                  I Kall K-66 White         1  \n",
       "3036                  Electric Steam Cooker Maestro MC1         2  \n",
       "3037                  Electric Steam Cooker Maestro MC1         1  \n",
       "3038                  Electric Steam Cooker Maestro MC1         1  \n",
       "\n",
       "[3036 rows x 10 columns]"
      ]
     },
     "execution_count": 12,
     "metadata": {},
     "output_type": "execute_result"
    }
   ],
   "source": [
    "data.drop_duplicates()"
   ]
  },
  {
   "attachments": {},
   "cell_type": "markdown",
   "metadata": {},
   "source": [
    "Result : After dropping 3 duplicate values now there is 3036 records in dataset."
   ]
  },
  {
   "attachments": {},
   "cell_type": "markdown",
   "metadata": {},
   "source": [
    "Checking the null values in each column"
   ]
  },
  {
   "cell_type": "code",
   "execution_count": 13,
   "metadata": {},
   "outputs": [
    {
     "data": {
      "text/plain": [
       "Order No               0\n",
       "DateTime Stamp      2801\n",
       "Currency               0\n",
       "Total                  0\n",
       "Shipping Country       0\n",
       "Shipping City         19\n",
       "Shipping State        22\n",
       "Payment Method      2780\n",
       "Product Name           0\n",
       "Quantity               0\n",
       "dtype: int64"
      ]
     },
     "execution_count": 13,
     "metadata": {},
     "output_type": "execute_result"
    }
   ],
   "source": [
    "data.isnull().sum()"
   ]
  },
  {
   "attachments": {},
   "cell_type": "markdown",
   "metadata": {},
   "source": [
    "Checking the percentage(%) of missing values in columns"
   ]
  },
  {
   "cell_type": "code",
   "execution_count": 14,
   "metadata": {},
   "outputs": [
    {
     "data": {
      "text/plain": [
       "Order No            0.000000\n",
       "DateTime Stamp      0.921685\n",
       "Currency            0.000000\n",
       "Total               0.000000\n",
       "Shipping Country    0.000000\n",
       "Shipping City       0.006252\n",
       "Shipping State      0.007239\n",
       "Payment Method      0.914775\n",
       "Product Name        0.000000\n",
       "Quantity            0.000000\n",
       "dtype: float64"
      ]
     },
     "execution_count": 14,
     "metadata": {},
     "output_type": "execute_result"
    }
   ],
   "source": [
    "data.isnull().mean()"
   ]
  },
  {
   "attachments": {},
   "cell_type": "markdown",
   "metadata": {},
   "source": [
    "Checking the number of unique value in each column"
   ]
  },
  {
   "cell_type": "code",
   "execution_count": 15,
   "metadata": {},
   "outputs": [
    {
     "data": {
      "text/plain": [
       "Order No            2971\n",
       "DateTime Stamp       203\n",
       "Currency               1\n",
       "Total                249\n",
       "Shipping Country      21\n",
       "Shipping City       1376\n",
       "Shipping State        52\n",
       "Payment Method       106\n",
       "Product Name         270\n",
       "Quantity              24\n",
       "dtype: int64"
      ]
     },
     "execution_count": 15,
     "metadata": {},
     "output_type": "execute_result"
    }
   ],
   "source": [
    "data.nunique()"
   ]
  },
  {
   "cell_type": "code",
   "execution_count": 16,
   "metadata": {},
   "outputs": [
    {
     "data": {
      "text/html": [
       "<div>\n",
       "<style scoped>\n",
       "    .dataframe tbody tr th:only-of-type {\n",
       "        vertical-align: middle;\n",
       "    }\n",
       "\n",
       "    .dataframe tbody tr th {\n",
       "        vertical-align: top;\n",
       "    }\n",
       "\n",
       "    .dataframe thead th {\n",
       "        text-align: right;\n",
       "    }\n",
       "</style>\n",
       "<table border=\"1\" class=\"dataframe\">\n",
       "  <thead>\n",
       "    <tr style=\"text-align: right;\">\n",
       "      <th></th>\n",
       "      <th>Order No</th>\n",
       "      <th>DateTime Stamp</th>\n",
       "      <th>Currency</th>\n",
       "      <th>Total</th>\n",
       "      <th>Shipping Country</th>\n",
       "      <th>Shipping City</th>\n",
       "      <th>Shipping State</th>\n",
       "      <th>Payment Method</th>\n",
       "      <th>Product Name</th>\n",
       "      <th>Quantity</th>\n",
       "    </tr>\n",
       "  </thead>\n",
       "  <tbody>\n",
       "    <tr>\n",
       "      <th>0</th>\n",
       "      <td>R121113121</td>\n",
       "      <td>NaN</td>\n",
       "      <td>INR</td>\n",
       "      <td>2299</td>\n",
       "      <td>IND</td>\n",
       "      <td>Chandrapur</td>\n",
       "      <td>IN-MH</td>\n",
       "      <td>NaN</td>\n",
       "      <td>Falcon Drone Four Axis Aircraft with 2.4 GHz R...</td>\n",
       "      <td>1</td>\n",
       "    </tr>\n",
       "    <tr>\n",
       "      <th>1</th>\n",
       "      <td>R472890631</td>\n",
       "      <td>NaN</td>\n",
       "      <td>INR</td>\n",
       "      <td>2299</td>\n",
       "      <td>IND</td>\n",
       "      <td>Chandrapur</td>\n",
       "      <td>IN-MH</td>\n",
       "      <td>NaN</td>\n",
       "      <td>Falcon Drone Four Axis Aircraft with 2.4 GHz R...</td>\n",
       "      <td>1</td>\n",
       "    </tr>\n",
       "    <tr>\n",
       "      <th>2</th>\n",
       "      <td>R004476488</td>\n",
       "      <td>NaN</td>\n",
       "      <td>INR</td>\n",
       "      <td>2299</td>\n",
       "      <td>IND</td>\n",
       "      <td>Chandrapur</td>\n",
       "      <td>IN-MH</td>\n",
       "      <td>NaN</td>\n",
       "      <td>Falcon Drone Four Axis Aircraft with 2.4 GHz R...</td>\n",
       "      <td>1</td>\n",
       "    </tr>\n",
       "    <tr>\n",
       "      <th>3</th>\n",
       "      <td>R526038353</td>\n",
       "      <td>NaN</td>\n",
       "      <td>INR</td>\n",
       "      <td>2299</td>\n",
       "      <td>IND</td>\n",
       "      <td>Chandrapur</td>\n",
       "      <td>IN-MH</td>\n",
       "      <td>NaN</td>\n",
       "      <td>Falcon Drone Four Axis Aircraft with 2.4 GHz R...</td>\n",
       "      <td>1</td>\n",
       "    </tr>\n",
       "    <tr>\n",
       "      <th>4</th>\n",
       "      <td>R658530771</td>\n",
       "      <td>NaN</td>\n",
       "      <td>INR</td>\n",
       "      <td>349</td>\n",
       "      <td>IND</td>\n",
       "      <td>NEW DELHI</td>\n",
       "      <td>IN-DL</td>\n",
       "      <td>NaN</td>\n",
       "      <td>Barbie Doll (pink)</td>\n",
       "      <td>1</td>\n",
       "    </tr>\n",
       "  </tbody>\n",
       "</table>\n",
       "</div>"
      ],
      "text/plain": [
       "     Order No DateTime Stamp Currency Total Shipping Country Shipping City  \\\n",
       "0  R121113121            NaN      INR  2299              IND    Chandrapur   \n",
       "1  R472890631            NaN      INR  2299              IND    Chandrapur   \n",
       "2  R004476488            NaN      INR  2299              IND    Chandrapur   \n",
       "3  R526038353            NaN      INR  2299              IND    Chandrapur   \n",
       "4  R658530771            NaN      INR   349              IND     NEW DELHI   \n",
       "\n",
       "  Shipping State Payment Method  \\\n",
       "0          IN-MH            NaN   \n",
       "1          IN-MH            NaN   \n",
       "2          IN-MH            NaN   \n",
       "3          IN-MH            NaN   \n",
       "4          IN-DL            NaN   \n",
       "\n",
       "                                        Product Name  Quantity  \n",
       "0  Falcon Drone Four Axis Aircraft with 2.4 GHz R...         1  \n",
       "1  Falcon Drone Four Axis Aircraft with 2.4 GHz R...         1  \n",
       "2  Falcon Drone Four Axis Aircraft with 2.4 GHz R...         1  \n",
       "3  Falcon Drone Four Axis Aircraft with 2.4 GHz R...         1  \n",
       "4                                 Barbie Doll (pink)         1  "
      ]
     },
     "execution_count": 16,
     "metadata": {},
     "output_type": "execute_result"
    }
   ],
   "source": [
    "data.head()"
   ]
  },
  {
   "attachments": {},
   "cell_type": "markdown",
   "metadata": {},
   "source": [
    "1. Which States of india have the high sales."
   ]
  },
  {
   "cell_type": "code",
   "execution_count": 17,
   "metadata": {},
   "outputs": [],
   "source": [
    "india_country = data[data['Shipping Country'] == 'IND']\n"
   ]
  },
  {
   "cell_type": "code",
   "execution_count": 18,
   "metadata": {},
   "outputs": [
    {
     "data": {
      "text/html": [
       "<div>\n",
       "<style scoped>\n",
       "    .dataframe tbody tr th:only-of-type {\n",
       "        vertical-align: middle;\n",
       "    }\n",
       "\n",
       "    .dataframe tbody tr th {\n",
       "        vertical-align: top;\n",
       "    }\n",
       "\n",
       "    .dataframe thead th {\n",
       "        text-align: right;\n",
       "    }\n",
       "</style>\n",
       "<table border=\"1\" class=\"dataframe\">\n",
       "  <thead>\n",
       "    <tr style=\"text-align: right;\">\n",
       "      <th></th>\n",
       "      <th>Shipping State</th>\n",
       "      <th>Shipping Country</th>\n",
       "    </tr>\n",
       "  </thead>\n",
       "  <tbody>\n",
       "    <tr>\n",
       "      <th>0</th>\n",
       "      <td>IN-MH</td>\n",
       "      <td>IND</td>\n",
       "    </tr>\n",
       "    <tr>\n",
       "      <th>1</th>\n",
       "      <td>IN-MH</td>\n",
       "      <td>IND</td>\n",
       "    </tr>\n",
       "    <tr>\n",
       "      <th>2</th>\n",
       "      <td>IN-MH</td>\n",
       "      <td>IND</td>\n",
       "    </tr>\n",
       "    <tr>\n",
       "      <th>3</th>\n",
       "      <td>IN-MH</td>\n",
       "      <td>IND</td>\n",
       "    </tr>\n",
       "    <tr>\n",
       "      <th>4</th>\n",
       "      <td>IN-DL</td>\n",
       "      <td>IND</td>\n",
       "    </tr>\n",
       "  </tbody>\n",
       "</table>\n",
       "</div>"
      ],
      "text/plain": [
       "  Shipping State Shipping Country\n",
       "0          IN-MH              IND\n",
       "1          IN-MH              IND\n",
       "2          IN-MH              IND\n",
       "3          IN-MH              IND\n",
       "4          IN-DL              IND"
      ]
     },
     "execution_count": 18,
     "metadata": {},
     "output_type": "execute_result"
    }
   ],
   "source": [
    "top_state = india_country[['Shipping State', 'Shipping Country']]\n",
    "top_state.head()"
   ]
  },
  {
   "cell_type": "code",
   "execution_count": 19,
   "metadata": {},
   "outputs": [
    {
     "name": "stderr",
     "output_type": "stream",
     "text": [
      "C:\\Users\\Admin\\AppData\\Local\\Temp\\ipykernel_11140\\4150116577.py:1: SettingWithCopyWarning: \n",
      "A value is trying to be set on a copy of a slice from a DataFrame.\n",
      "Try using .loc[row_indexer,col_indexer] = value instead\n",
      "\n",
      "See the caveats in the documentation: https://pandas.pydata.org/pandas-docs/stable/user_guide/indexing.html#returning-a-view-versus-a-copy\n",
      "  top_state['Count States'] = india_country.groupby(['Shipping State'])['Order No'].transform('count')\n"
     ]
    },
    {
     "data": {
      "text/html": [
       "<div>\n",
       "<style scoped>\n",
       "    .dataframe tbody tr th:only-of-type {\n",
       "        vertical-align: middle;\n",
       "    }\n",
       "\n",
       "    .dataframe tbody tr th {\n",
       "        vertical-align: top;\n",
       "    }\n",
       "\n",
       "    .dataframe thead th {\n",
       "        text-align: right;\n",
       "    }\n",
       "</style>\n",
       "<table border=\"1\" class=\"dataframe\">\n",
       "  <thead>\n",
       "    <tr style=\"text-align: right;\">\n",
       "      <th></th>\n",
       "      <th>Shipping State</th>\n",
       "      <th>Shipping Country</th>\n",
       "      <th>Count States</th>\n",
       "    </tr>\n",
       "  </thead>\n",
       "  <tbody>\n",
       "    <tr>\n",
       "      <th>0</th>\n",
       "      <td>IN-MH</td>\n",
       "      <td>IND</td>\n",
       "      <td>379</td>\n",
       "    </tr>\n",
       "    <tr>\n",
       "      <th>1</th>\n",
       "      <td>IN-MH</td>\n",
       "      <td>IND</td>\n",
       "      <td>379</td>\n",
       "    </tr>\n",
       "    <tr>\n",
       "      <th>2</th>\n",
       "      <td>IN-MH</td>\n",
       "      <td>IND</td>\n",
       "      <td>379</td>\n",
       "    </tr>\n",
       "    <tr>\n",
       "      <th>3</th>\n",
       "      <td>IN-MH</td>\n",
       "      <td>IND</td>\n",
       "      <td>379</td>\n",
       "    </tr>\n",
       "    <tr>\n",
       "      <th>4</th>\n",
       "      <td>IN-DL</td>\n",
       "      <td>IND</td>\n",
       "      <td>129</td>\n",
       "    </tr>\n",
       "  </tbody>\n",
       "</table>\n",
       "</div>"
      ],
      "text/plain": [
       "  Shipping State Shipping Country  Count States\n",
       "0          IN-MH              IND           379\n",
       "1          IN-MH              IND           379\n",
       "2          IN-MH              IND           379\n",
       "3          IN-MH              IND           379\n",
       "4          IN-DL              IND           129"
      ]
     },
     "execution_count": 19,
     "metadata": {},
     "output_type": "execute_result"
    }
   ],
   "source": [
    "top_state['Count States'] = india_country.groupby(['Shipping State'])['Order No'].transform('count')\n",
    "top_state.head()"
   ]
  },
  {
   "cell_type": "code",
   "execution_count": 20,
   "metadata": {},
   "outputs": [
    {
     "name": "stderr",
     "output_type": "stream",
     "text": [
      "C:\\Users\\Admin\\AppData\\Local\\Temp\\ipykernel_11140\\4002702850.py:1: SettingWithCopyWarning: \n",
      "A value is trying to be set on a copy of a slice from a DataFrame\n",
      "\n",
      "See the caveats in the documentation: https://pandas.pydata.org/pandas-docs/stable/user_guide/indexing.html#returning-a-view-versus-a-copy\n",
      "  top_state.drop(['Shipping Country'], axis=1, inplace=True)\n"
     ]
    },
    {
     "data": {
      "text/plain": [
       "Index(['Shipping State', 'Count States'], dtype='object')"
      ]
     },
     "execution_count": 20,
     "metadata": {},
     "output_type": "execute_result"
    }
   ],
   "source": [
    "top_state.drop(['Shipping Country'], axis=1, inplace=True)\n",
    "top_state.columns"
   ]
  },
  {
   "cell_type": "code",
   "execution_count": 21,
   "metadata": {},
   "outputs": [
    {
     "data": {
      "text/plain": [
       "0       379\n",
       "1       379\n",
       "2       379\n",
       "3       379\n",
       "4       129\n",
       "       ... \n",
       "3034    155\n",
       "3035     80\n",
       "3036     80\n",
       "3037    155\n",
       "3038    155\n",
       "Name: Count States, Length: 2999, dtype: int64"
      ]
     },
     "execution_count": 21,
     "metadata": {},
     "output_type": "execute_result"
    }
   ],
   "source": [
    "top_state['Count States'].astype('int64')"
   ]
  },
  {
   "cell_type": "code",
   "execution_count": 22,
   "metadata": {},
   "outputs": [
    {
     "data": {
      "text/html": [
       "<div>\n",
       "<style scoped>\n",
       "    .dataframe tbody tr th:only-of-type {\n",
       "        vertical-align: middle;\n",
       "    }\n",
       "\n",
       "    .dataframe tbody tr th {\n",
       "        vertical-align: top;\n",
       "    }\n",
       "\n",
       "    .dataframe thead th {\n",
       "        text-align: right;\n",
       "    }\n",
       "</style>\n",
       "<table border=\"1\" class=\"dataframe\">\n",
       "  <thead>\n",
       "    <tr style=\"text-align: right;\">\n",
       "      <th></th>\n",
       "      <th>Shipping State</th>\n",
       "      <th>Count States</th>\n",
       "    </tr>\n",
       "  </thead>\n",
       "  <tbody>\n",
       "    <tr>\n",
       "      <th>0</th>\n",
       "      <td>IN-MH</td>\n",
       "      <td>379.0</td>\n",
       "    </tr>\n",
       "    <tr>\n",
       "      <th>1</th>\n",
       "      <td>IN-TN</td>\n",
       "      <td>356.0</td>\n",
       "    </tr>\n",
       "    <tr>\n",
       "      <th>2</th>\n",
       "      <td>IN-UP</td>\n",
       "      <td>289.0</td>\n",
       "    </tr>\n",
       "    <tr>\n",
       "      <th>3</th>\n",
       "      <td>IN-KA</td>\n",
       "      <td>205.0</td>\n",
       "    </tr>\n",
       "    <tr>\n",
       "      <th>4</th>\n",
       "      <td>IN-AP</td>\n",
       "      <td>178.0</td>\n",
       "    </tr>\n",
       "  </tbody>\n",
       "</table>\n",
       "</div>"
      ],
      "text/plain": [
       "  Shipping State  Count States\n",
       "0          IN-MH         379.0\n",
       "1          IN-TN         356.0\n",
       "2          IN-UP         289.0\n",
       "3          IN-KA         205.0\n",
       "4          IN-AP         178.0"
      ]
     },
     "execution_count": 22,
     "metadata": {},
     "output_type": "execute_result"
    }
   ],
   "source": [
    "top_10_states = top_state.groupby(['Shipping State'], as_index=False)['Count States'].median().sort_values(by='Count States', ascending=False)\n",
    "top_10_states = top_10_states.head(10)\n",
    "top_10_states.reset_index(inplace=True, drop=True)\n",
    "top_10_states.head()"
   ]
  },
  {
   "cell_type": "code",
   "execution_count": 23,
   "metadata": {},
   "outputs": [
    {
     "data": {
      "text/html": [
       "<div>\n",
       "<style scoped>\n",
       "    .dataframe tbody tr th:only-of-type {\n",
       "        vertical-align: middle;\n",
       "    }\n",
       "\n",
       "    .dataframe tbody tr th {\n",
       "        vertical-align: top;\n",
       "    }\n",
       "\n",
       "    .dataframe thead th {\n",
       "        text-align: right;\n",
       "    }\n",
       "</style>\n",
       "<table border=\"1\" class=\"dataframe\">\n",
       "  <thead>\n",
       "    <tr style=\"text-align: right;\">\n",
       "      <th></th>\n",
       "      <th>Shipping State</th>\n",
       "      <th>Count States</th>\n",
       "    </tr>\n",
       "  </thead>\n",
       "  <tbody>\n",
       "    <tr>\n",
       "      <th>0</th>\n",
       "      <td>IN-MH</td>\n",
       "      <td>379.0</td>\n",
       "    </tr>\n",
       "    <tr>\n",
       "      <th>1</th>\n",
       "      <td>IN-TN</td>\n",
       "      <td>356.0</td>\n",
       "    </tr>\n",
       "    <tr>\n",
       "      <th>2</th>\n",
       "      <td>IN-UP</td>\n",
       "      <td>289.0</td>\n",
       "    </tr>\n",
       "    <tr>\n",
       "      <th>3</th>\n",
       "      <td>IN-KA</td>\n",
       "      <td>205.0</td>\n",
       "    </tr>\n",
       "    <tr>\n",
       "      <th>4</th>\n",
       "      <td>IN-AP</td>\n",
       "      <td>178.0</td>\n",
       "    </tr>\n",
       "    <tr>\n",
       "      <th>5</th>\n",
       "      <td>IN-TG</td>\n",
       "      <td>159.0</td>\n",
       "    </tr>\n",
       "    <tr>\n",
       "      <th>6</th>\n",
       "      <td>IN-AN</td>\n",
       "      <td>155.0</td>\n",
       "    </tr>\n",
       "    <tr>\n",
       "      <th>7</th>\n",
       "      <td>IN-DL</td>\n",
       "      <td>129.0</td>\n",
       "    </tr>\n",
       "    <tr>\n",
       "      <th>8</th>\n",
       "      <td>IN-BR</td>\n",
       "      <td>123.0</td>\n",
       "    </tr>\n",
       "    <tr>\n",
       "      <th>9</th>\n",
       "      <td>IN-WB</td>\n",
       "      <td>120.0</td>\n",
       "    </tr>\n",
       "  </tbody>\n",
       "</table>\n",
       "</div>"
      ],
      "text/plain": [
       "  Shipping State  Count States\n",
       "0          IN-MH         379.0\n",
       "1          IN-TN         356.0\n",
       "2          IN-UP         289.0\n",
       "3          IN-KA         205.0\n",
       "4          IN-AP         178.0\n",
       "5          IN-TG         159.0\n",
       "6          IN-AN         155.0\n",
       "7          IN-DL         129.0\n",
       "8          IN-BR         123.0\n",
       "9          IN-WB         120.0"
      ]
     },
     "execution_count": 23,
     "metadata": {},
     "output_type": "execute_result"
    }
   ],
   "source": [
    "top_10_states"
   ]
  },
  {
   "attachments": {},
   "cell_type": "markdown",
   "metadata": {},
   "source": [
    "Replacing the values of [Shipping State] to the understandable format"
   ]
  },
  {
   "cell_type": "code",
   "execution_count": 24,
   "metadata": {},
   "outputs": [
    {
     "data": {
      "text/html": [
       "<div>\n",
       "<style scoped>\n",
       "    .dataframe tbody tr th:only-of-type {\n",
       "        vertical-align: middle;\n",
       "    }\n",
       "\n",
       "    .dataframe tbody tr th {\n",
       "        vertical-align: top;\n",
       "    }\n",
       "\n",
       "    .dataframe thead th {\n",
       "        text-align: right;\n",
       "    }\n",
       "</style>\n",
       "<table border=\"1\" class=\"dataframe\">\n",
       "  <thead>\n",
       "    <tr style=\"text-align: right;\">\n",
       "      <th></th>\n",
       "      <th>Shipping State</th>\n",
       "      <th>Count States</th>\n",
       "    </tr>\n",
       "  </thead>\n",
       "  <tbody>\n",
       "    <tr>\n",
       "      <th>0</th>\n",
       "      <td>Maharashtra</td>\n",
       "      <td>379.0</td>\n",
       "    </tr>\n",
       "    <tr>\n",
       "      <th>1</th>\n",
       "      <td>Tamil Nadu</td>\n",
       "      <td>356.0</td>\n",
       "    </tr>\n",
       "    <tr>\n",
       "      <th>2</th>\n",
       "      <td>Uttar Pradesh</td>\n",
       "      <td>289.0</td>\n",
       "    </tr>\n",
       "    <tr>\n",
       "      <th>3</th>\n",
       "      <td>Karnataka</td>\n",
       "      <td>205.0</td>\n",
       "    </tr>\n",
       "    <tr>\n",
       "      <th>4</th>\n",
       "      <td>Andhra Pradesh</td>\n",
       "      <td>178.0</td>\n",
       "    </tr>\n",
       "  </tbody>\n",
       "</table>\n",
       "</div>"
      ],
      "text/plain": [
       "   Shipping State  Count States\n",
       "0     Maharashtra         379.0\n",
       "1      Tamil Nadu         356.0\n",
       "2   Uttar Pradesh         289.0\n",
       "3       Karnataka         205.0\n",
       "4  Andhra Pradesh         178.0"
      ]
     },
     "execution_count": 24,
     "metadata": {},
     "output_type": "execute_result"
    }
   ],
   "source": [
    "top_10_states['Shipping State'] = top_10_states['Shipping State'].replace(['IN-MH', 'IN-TN', 'IN-UP', 'IN-KA', 'IN-AP', 'IN-TG', 'IN-AN', 'IN-DL', 'IN-BR', 'IN-WB'],\n",
    "        ['Maharashtra', 'Tamil Nadu', 'Uttar Pradesh', 'Karnataka', 'Andhra Pradesh', 'Telangana', 'Andaman and Nicobar Islands',\n",
    "        'Delhi', 'Bihar', 'West Bengal'])\n",
    "top_10_states.head()"
   ]
  },
  {
   "attachments": {},
   "cell_type": "markdown",
   "metadata": {},
   "source": [
    "Visualizing the Results of 'Sales By States'"
   ]
  },
  {
   "cell_type": "code",
   "execution_count": 25,
   "metadata": {},
   "outputs": [
    {
     "data": {
      "application/vnd.plotly.v1+json": {
       "config": {
        "plotlyServerURL": "https://plot.ly"
       },
       "data": [
        {
         "alignmentgroup": "True",
         "hovertemplate": "State=%{x}<br>Count of Orders=%{y}<extra></extra>",
         "legendgroup": "",
         "marker": {
          "color": "#636efa",
          "pattern": {
           "shape": ""
          }
         },
         "name": "",
         "offsetgroup": "",
         "orientation": "v",
         "showlegend": false,
         "textposition": "auto",
         "texttemplate": "%{y}",
         "type": "bar",
         "x": [
          "Maharashtra",
          "Tamil Nadu",
          "Uttar Pradesh",
          "Karnataka",
          "Andhra Pradesh",
          "Telangana",
          "Andaman and Nicobar Islands",
          "Delhi",
          "Bihar",
          "West Bengal"
         ],
         "xaxis": "x",
         "y": [
          379,
          356,
          289,
          205,
          178,
          159,
          155,
          129,
          123,
          120
         ],
         "yaxis": "y"
        }
       ],
       "layout": {
        "barmode": "relative",
        "legend": {
         "tracegroupgap": 0
        },
        "template": {
         "data": {
          "bar": [
           {
            "error_x": {
             "color": "#2a3f5f"
            },
            "error_y": {
             "color": "#2a3f5f"
            },
            "marker": {
             "line": {
              "color": "#E5ECF6",
              "width": 0.5
             },
             "pattern": {
              "fillmode": "overlay",
              "size": 10,
              "solidity": 0.2
             }
            },
            "type": "bar"
           }
          ],
          "barpolar": [
           {
            "marker": {
             "line": {
              "color": "#E5ECF6",
              "width": 0.5
             },
             "pattern": {
              "fillmode": "overlay",
              "size": 10,
              "solidity": 0.2
             }
            },
            "type": "barpolar"
           }
          ],
          "carpet": [
           {
            "aaxis": {
             "endlinecolor": "#2a3f5f",
             "gridcolor": "white",
             "linecolor": "white",
             "minorgridcolor": "white",
             "startlinecolor": "#2a3f5f"
            },
            "baxis": {
             "endlinecolor": "#2a3f5f",
             "gridcolor": "white",
             "linecolor": "white",
             "minorgridcolor": "white",
             "startlinecolor": "#2a3f5f"
            },
            "type": "carpet"
           }
          ],
          "choropleth": [
           {
            "colorbar": {
             "outlinewidth": 0,
             "ticks": ""
            },
            "type": "choropleth"
           }
          ],
          "contour": [
           {
            "colorbar": {
             "outlinewidth": 0,
             "ticks": ""
            },
            "colorscale": [
             [
              0,
              "#0d0887"
             ],
             [
              0.1111111111111111,
              "#46039f"
             ],
             [
              0.2222222222222222,
              "#7201a8"
             ],
             [
              0.3333333333333333,
              "#9c179e"
             ],
             [
              0.4444444444444444,
              "#bd3786"
             ],
             [
              0.5555555555555556,
              "#d8576b"
             ],
             [
              0.6666666666666666,
              "#ed7953"
             ],
             [
              0.7777777777777778,
              "#fb9f3a"
             ],
             [
              0.8888888888888888,
              "#fdca26"
             ],
             [
              1,
              "#f0f921"
             ]
            ],
            "type": "contour"
           }
          ],
          "contourcarpet": [
           {
            "colorbar": {
             "outlinewidth": 0,
             "ticks": ""
            },
            "type": "contourcarpet"
           }
          ],
          "heatmap": [
           {
            "colorbar": {
             "outlinewidth": 0,
             "ticks": ""
            },
            "colorscale": [
             [
              0,
              "#0d0887"
             ],
             [
              0.1111111111111111,
              "#46039f"
             ],
             [
              0.2222222222222222,
              "#7201a8"
             ],
             [
              0.3333333333333333,
              "#9c179e"
             ],
             [
              0.4444444444444444,
              "#bd3786"
             ],
             [
              0.5555555555555556,
              "#d8576b"
             ],
             [
              0.6666666666666666,
              "#ed7953"
             ],
             [
              0.7777777777777778,
              "#fb9f3a"
             ],
             [
              0.8888888888888888,
              "#fdca26"
             ],
             [
              1,
              "#f0f921"
             ]
            ],
            "type": "heatmap"
           }
          ],
          "heatmapgl": [
           {
            "colorbar": {
             "outlinewidth": 0,
             "ticks": ""
            },
            "colorscale": [
             [
              0,
              "#0d0887"
             ],
             [
              0.1111111111111111,
              "#46039f"
             ],
             [
              0.2222222222222222,
              "#7201a8"
             ],
             [
              0.3333333333333333,
              "#9c179e"
             ],
             [
              0.4444444444444444,
              "#bd3786"
             ],
             [
              0.5555555555555556,
              "#d8576b"
             ],
             [
              0.6666666666666666,
              "#ed7953"
             ],
             [
              0.7777777777777778,
              "#fb9f3a"
             ],
             [
              0.8888888888888888,
              "#fdca26"
             ],
             [
              1,
              "#f0f921"
             ]
            ],
            "type": "heatmapgl"
           }
          ],
          "histogram": [
           {
            "marker": {
             "pattern": {
              "fillmode": "overlay",
              "size": 10,
              "solidity": 0.2
             }
            },
            "type": "histogram"
           }
          ],
          "histogram2d": [
           {
            "colorbar": {
             "outlinewidth": 0,
             "ticks": ""
            },
            "colorscale": [
             [
              0,
              "#0d0887"
             ],
             [
              0.1111111111111111,
              "#46039f"
             ],
             [
              0.2222222222222222,
              "#7201a8"
             ],
             [
              0.3333333333333333,
              "#9c179e"
             ],
             [
              0.4444444444444444,
              "#bd3786"
             ],
             [
              0.5555555555555556,
              "#d8576b"
             ],
             [
              0.6666666666666666,
              "#ed7953"
             ],
             [
              0.7777777777777778,
              "#fb9f3a"
             ],
             [
              0.8888888888888888,
              "#fdca26"
             ],
             [
              1,
              "#f0f921"
             ]
            ],
            "type": "histogram2d"
           }
          ],
          "histogram2dcontour": [
           {
            "colorbar": {
             "outlinewidth": 0,
             "ticks": ""
            },
            "colorscale": [
             [
              0,
              "#0d0887"
             ],
             [
              0.1111111111111111,
              "#46039f"
             ],
             [
              0.2222222222222222,
              "#7201a8"
             ],
             [
              0.3333333333333333,
              "#9c179e"
             ],
             [
              0.4444444444444444,
              "#bd3786"
             ],
             [
              0.5555555555555556,
              "#d8576b"
             ],
             [
              0.6666666666666666,
              "#ed7953"
             ],
             [
              0.7777777777777778,
              "#fb9f3a"
             ],
             [
              0.8888888888888888,
              "#fdca26"
             ],
             [
              1,
              "#f0f921"
             ]
            ],
            "type": "histogram2dcontour"
           }
          ],
          "mesh3d": [
           {
            "colorbar": {
             "outlinewidth": 0,
             "ticks": ""
            },
            "type": "mesh3d"
           }
          ],
          "parcoords": [
           {
            "line": {
             "colorbar": {
              "outlinewidth": 0,
              "ticks": ""
             }
            },
            "type": "parcoords"
           }
          ],
          "pie": [
           {
            "automargin": true,
            "type": "pie"
           }
          ],
          "scatter": [
           {
            "fillpattern": {
             "fillmode": "overlay",
             "size": 10,
             "solidity": 0.2
            },
            "type": "scatter"
           }
          ],
          "scatter3d": [
           {
            "line": {
             "colorbar": {
              "outlinewidth": 0,
              "ticks": ""
             }
            },
            "marker": {
             "colorbar": {
              "outlinewidth": 0,
              "ticks": ""
             }
            },
            "type": "scatter3d"
           }
          ],
          "scattercarpet": [
           {
            "marker": {
             "colorbar": {
              "outlinewidth": 0,
              "ticks": ""
             }
            },
            "type": "scattercarpet"
           }
          ],
          "scattergeo": [
           {
            "marker": {
             "colorbar": {
              "outlinewidth": 0,
              "ticks": ""
             }
            },
            "type": "scattergeo"
           }
          ],
          "scattergl": [
           {
            "marker": {
             "colorbar": {
              "outlinewidth": 0,
              "ticks": ""
             }
            },
            "type": "scattergl"
           }
          ],
          "scattermapbox": [
           {
            "marker": {
             "colorbar": {
              "outlinewidth": 0,
              "ticks": ""
             }
            },
            "type": "scattermapbox"
           }
          ],
          "scatterpolar": [
           {
            "marker": {
             "colorbar": {
              "outlinewidth": 0,
              "ticks": ""
             }
            },
            "type": "scatterpolar"
           }
          ],
          "scatterpolargl": [
           {
            "marker": {
             "colorbar": {
              "outlinewidth": 0,
              "ticks": ""
             }
            },
            "type": "scatterpolargl"
           }
          ],
          "scatterternary": [
           {
            "marker": {
             "colorbar": {
              "outlinewidth": 0,
              "ticks": ""
             }
            },
            "type": "scatterternary"
           }
          ],
          "surface": [
           {
            "colorbar": {
             "outlinewidth": 0,
             "ticks": ""
            },
            "colorscale": [
             [
              0,
              "#0d0887"
             ],
             [
              0.1111111111111111,
              "#46039f"
             ],
             [
              0.2222222222222222,
              "#7201a8"
             ],
             [
              0.3333333333333333,
              "#9c179e"
             ],
             [
              0.4444444444444444,
              "#bd3786"
             ],
             [
              0.5555555555555556,
              "#d8576b"
             ],
             [
              0.6666666666666666,
              "#ed7953"
             ],
             [
              0.7777777777777778,
              "#fb9f3a"
             ],
             [
              0.8888888888888888,
              "#fdca26"
             ],
             [
              1,
              "#f0f921"
             ]
            ],
            "type": "surface"
           }
          ],
          "table": [
           {
            "cells": {
             "fill": {
              "color": "#EBF0F8"
             },
             "line": {
              "color": "white"
             }
            },
            "header": {
             "fill": {
              "color": "#C8D4E3"
             },
             "line": {
              "color": "white"
             }
            },
            "type": "table"
           }
          ]
         },
         "layout": {
          "annotationdefaults": {
           "arrowcolor": "#2a3f5f",
           "arrowhead": 0,
           "arrowwidth": 1
          },
          "autotypenumbers": "strict",
          "coloraxis": {
           "colorbar": {
            "outlinewidth": 0,
            "ticks": ""
           }
          },
          "colorscale": {
           "diverging": [
            [
             0,
             "#8e0152"
            ],
            [
             0.1,
             "#c51b7d"
            ],
            [
             0.2,
             "#de77ae"
            ],
            [
             0.3,
             "#f1b6da"
            ],
            [
             0.4,
             "#fde0ef"
            ],
            [
             0.5,
             "#f7f7f7"
            ],
            [
             0.6,
             "#e6f5d0"
            ],
            [
             0.7,
             "#b8e186"
            ],
            [
             0.8,
             "#7fbc41"
            ],
            [
             0.9,
             "#4d9221"
            ],
            [
             1,
             "#276419"
            ]
           ],
           "sequential": [
            [
             0,
             "#0d0887"
            ],
            [
             0.1111111111111111,
             "#46039f"
            ],
            [
             0.2222222222222222,
             "#7201a8"
            ],
            [
             0.3333333333333333,
             "#9c179e"
            ],
            [
             0.4444444444444444,
             "#bd3786"
            ],
            [
             0.5555555555555556,
             "#d8576b"
            ],
            [
             0.6666666666666666,
             "#ed7953"
            ],
            [
             0.7777777777777778,
             "#fb9f3a"
            ],
            [
             0.8888888888888888,
             "#fdca26"
            ],
            [
             1,
             "#f0f921"
            ]
           ],
           "sequentialminus": [
            [
             0,
             "#0d0887"
            ],
            [
             0.1111111111111111,
             "#46039f"
            ],
            [
             0.2222222222222222,
             "#7201a8"
            ],
            [
             0.3333333333333333,
             "#9c179e"
            ],
            [
             0.4444444444444444,
             "#bd3786"
            ],
            [
             0.5555555555555556,
             "#d8576b"
            ],
            [
             0.6666666666666666,
             "#ed7953"
            ],
            [
             0.7777777777777778,
             "#fb9f3a"
            ],
            [
             0.8888888888888888,
             "#fdca26"
            ],
            [
             1,
             "#f0f921"
            ]
           ]
          },
          "colorway": [
           "#636efa",
           "#EF553B",
           "#00cc96",
           "#ab63fa",
           "#FFA15A",
           "#19d3f3",
           "#FF6692",
           "#B6E880",
           "#FF97FF",
           "#FECB52"
          ],
          "font": {
           "color": "#2a3f5f"
          },
          "geo": {
           "bgcolor": "white",
           "lakecolor": "white",
           "landcolor": "#E5ECF6",
           "showlakes": true,
           "showland": true,
           "subunitcolor": "white"
          },
          "hoverlabel": {
           "align": "left"
          },
          "hovermode": "closest",
          "mapbox": {
           "style": "light"
          },
          "paper_bgcolor": "white",
          "plot_bgcolor": "#E5ECF6",
          "polar": {
           "angularaxis": {
            "gridcolor": "white",
            "linecolor": "white",
            "ticks": ""
           },
           "bgcolor": "#E5ECF6",
           "radialaxis": {
            "gridcolor": "white",
            "linecolor": "white",
            "ticks": ""
           }
          },
          "scene": {
           "xaxis": {
            "backgroundcolor": "#E5ECF6",
            "gridcolor": "white",
            "gridwidth": 2,
            "linecolor": "white",
            "showbackground": true,
            "ticks": "",
            "zerolinecolor": "white"
           },
           "yaxis": {
            "backgroundcolor": "#E5ECF6",
            "gridcolor": "white",
            "gridwidth": 2,
            "linecolor": "white",
            "showbackground": true,
            "ticks": "",
            "zerolinecolor": "white"
           },
           "zaxis": {
            "backgroundcolor": "#E5ECF6",
            "gridcolor": "white",
            "gridwidth": 2,
            "linecolor": "white",
            "showbackground": true,
            "ticks": "",
            "zerolinecolor": "white"
           }
          },
          "shapedefaults": {
           "line": {
            "color": "#2a3f5f"
           }
          },
          "ternary": {
           "aaxis": {
            "gridcolor": "white",
            "linecolor": "white",
            "ticks": ""
           },
           "baxis": {
            "gridcolor": "white",
            "linecolor": "white",
            "ticks": ""
           },
           "bgcolor": "#E5ECF6",
           "caxis": {
            "gridcolor": "white",
            "linecolor": "white",
            "ticks": ""
           }
          },
          "title": {
           "x": 0.05
          },
          "xaxis": {
           "automargin": true,
           "gridcolor": "white",
           "linecolor": "white",
           "ticks": "",
           "title": {
            "standoff": 15
           },
           "zerolinecolor": "white",
           "zerolinewidth": 2
          },
          "yaxis": {
           "automargin": true,
           "gridcolor": "white",
           "linecolor": "white",
           "ticks": "",
           "title": {
            "standoff": 15
           },
           "zerolinecolor": "white",
           "zerolinewidth": 2
          }
         }
        },
        "title": {
         "text": "Top 10 Number of Sales By States"
        },
        "xaxis": {
         "anchor": "y",
         "domain": [
          0,
          1
         ],
         "title": {
          "text": "State"
         }
        },
        "yaxis": {
         "anchor": "x",
         "domain": [
          0,
          1
         ],
         "title": {
          "text": "Count of Orders"
         }
        }
       }
      }
     },
     "metadata": {},
     "output_type": "display_data"
    }
   ],
   "source": [
    "state_plot = px.bar(top_10_states, x='Shipping State', y='Count States', title='Top 10 Number of Sales By States',\n",
    "        labels={'Shipping State':'State', 'Count States':'Count of Orders'}, text_auto=True)\n",
    "state_plot.show()"
   ]
  },
  {
   "attachments": {},
   "cell_type": "markdown",
   "metadata": {},
   "source": [
    "##### Results - As per the Visuals we can see that Maharashtra State has the high number of orders."
   ]
  },
  {
   "attachments": {},
   "cell_type": "markdown",
   "metadata": {},
   "source": [
    "##### 2) Checking the sale according to Yearly."
   ]
  },
  {
   "attachments": {},
   "cell_type": "markdown",
   "metadata": {},
   "source": [
    "Filtering the non-nan values in the dataset."
   ]
  },
  {
   "cell_type": "code",
   "execution_count": 26,
   "metadata": {},
   "outputs": [
    {
     "data": {
      "text/html": [
       "<div>\n",
       "<style scoped>\n",
       "    .dataframe tbody tr th:only-of-type {\n",
       "        vertical-align: middle;\n",
       "    }\n",
       "\n",
       "    .dataframe tbody tr th {\n",
       "        vertical-align: top;\n",
       "    }\n",
       "\n",
       "    .dataframe thead th {\n",
       "        text-align: right;\n",
       "    }\n",
       "</style>\n",
       "<table border=\"1\" class=\"dataframe\">\n",
       "  <thead>\n",
       "    <tr style=\"text-align: right;\">\n",
       "      <th></th>\n",
       "      <th>Order No</th>\n",
       "      <th>DateTime Stamp</th>\n",
       "      <th>Currency</th>\n",
       "      <th>Total</th>\n",
       "      <th>Shipping Country</th>\n",
       "      <th>Shipping City</th>\n",
       "      <th>Shipping State</th>\n",
       "      <th>Payment Method</th>\n",
       "      <th>Product Name</th>\n",
       "      <th>Quantity</th>\n",
       "    </tr>\n",
       "  </thead>\n",
       "  <tbody>\n",
       "    <tr>\n",
       "      <th>15</th>\n",
       "      <td>R679506806</td>\n",
       "      <td>23-09-2021 18:09:27 +0530</td>\n",
       "      <td>INR</td>\n",
       "      <td>1000</td>\n",
       "      <td>IND</td>\n",
       "      <td>VARANASI</td>\n",
       "      <td>IN-UP</td>\n",
       "      <td>NaN</td>\n",
       "      <td>ONLINE TUITION FOR STD 4 and STD 5(FREE 5 DAYS...</td>\n",
       "      <td>1</td>\n",
       "    </tr>\n",
       "    <tr>\n",
       "      <th>18</th>\n",
       "      <td>R444302271</td>\n",
       "      <td>23-09-2021 18:39:07 +0530</td>\n",
       "      <td>INR</td>\n",
       "      <td>499</td>\n",
       "      <td>IND</td>\n",
       "      <td>Delhi</td>\n",
       "      <td>IN-DL</td>\n",
       "      <td>NaN</td>\n",
       "      <td>Fun Activities for Kids LKG to STD 10(Singing,...</td>\n",
       "      <td>1</td>\n",
       "    </tr>\n",
       "    <tr>\n",
       "      <th>21</th>\n",
       "      <td>R181106661</td>\n",
       "      <td>23-09-2021 18:39:50 +0530</td>\n",
       "      <td>INR</td>\n",
       "      <td>499</td>\n",
       "      <td>IND</td>\n",
       "      <td>Delhi</td>\n",
       "      <td>IN-DL</td>\n",
       "      <td>NaN</td>\n",
       "      <td>Fun Activities for Kids LKG to STD 10(Singing,...</td>\n",
       "      <td>1</td>\n",
       "    </tr>\n",
       "    <tr>\n",
       "      <th>254</th>\n",
       "      <td>R798254987</td>\n",
       "      <td>27-04-2021 15:08:07 +0530</td>\n",
       "      <td>INR</td>\n",
       "      <td>321</td>\n",
       "      <td>IND</td>\n",
       "      <td>Berhampur</td>\n",
       "      <td>IN-OR</td>\n",
       "      <td>NaN</td>\n",
       "      <td>Mutton Curry Cut 500gm (Berhampur)</td>\n",
       "      <td>1</td>\n",
       "    </tr>\n",
       "    <tr>\n",
       "      <th>292</th>\n",
       "      <td>R299286513</td>\n",
       "      <td>05-04-2021 22:50:28 +0530</td>\n",
       "      <td>INR</td>\n",
       "      <td>999</td>\n",
       "      <td>IND</td>\n",
       "      <td>Hyderabad</td>\n",
       "      <td>IN-AP</td>\n",
       "      <td>NaN</td>\n",
       "      <td>REALME BUDS PLUS Wireless Bluetooth Ears Buds ...</td>\n",
       "      <td>1</td>\n",
       "    </tr>\n",
       "  </tbody>\n",
       "</table>\n",
       "</div>"
      ],
      "text/plain": [
       "       Order No             DateTime Stamp Currency Total Shipping Country  \\\n",
       "15   R679506806  23-09-2021 18:09:27 +0530      INR  1000              IND   \n",
       "18   R444302271  23-09-2021 18:39:07 +0530      INR   499              IND   \n",
       "21   R181106661  23-09-2021 18:39:50 +0530      INR   499              IND   \n",
       "254  R798254987  27-04-2021 15:08:07 +0530      INR   321              IND   \n",
       "292  R299286513  05-04-2021 22:50:28 +0530      INR   999              IND   \n",
       "\n",
       "    Shipping City Shipping State Payment Method  \\\n",
       "15       VARANASI          IN-UP            NaN   \n",
       "18          Delhi          IN-DL            NaN   \n",
       "21          Delhi          IN-DL            NaN   \n",
       "254     Berhampur          IN-OR            NaN   \n",
       "292     Hyderabad          IN-AP            NaN   \n",
       "\n",
       "                                          Product Name  Quantity  \n",
       "15   ONLINE TUITION FOR STD 4 and STD 5(FREE 5 DAYS...         1  \n",
       "18   Fun Activities for Kids LKG to STD 10(Singing,...         1  \n",
       "21   Fun Activities for Kids LKG to STD 10(Singing,...         1  \n",
       "254                 Mutton Curry Cut 500gm (Berhampur)         1  \n",
       "292  REALME BUDS PLUS Wireless Bluetooth Ears Buds ...         1  "
      ]
     },
     "execution_count": 26,
     "metadata": {},
     "output_type": "execute_result"
    }
   ],
   "source": [
    "year_sale_data = data[data['DateTime Stamp'].notnull()]\n",
    "year_sale_data.head()"
   ]
  },
  {
   "cell_type": "code",
   "execution_count": 27,
   "metadata": {},
   "outputs": [
    {
     "data": {
      "text/plain": [
       "(238, 10)"
      ]
     },
     "execution_count": 27,
     "metadata": {},
     "output_type": "execute_result"
    }
   ],
   "source": [
    "year_sale_data.shape"
   ]
  },
  {
   "cell_type": "code",
   "execution_count": 28,
   "metadata": {},
   "outputs": [
    {
     "name": "stdout",
     "output_type": "stream",
     "text": [
      "<class 'pandas.core.frame.DataFrame'>\n",
      "Int64Index: 238 entries, 15 to 3038\n",
      "Data columns (total 10 columns):\n",
      " #   Column            Non-Null Count  Dtype \n",
      "---  ------            --------------  ----- \n",
      " 0   Order No          238 non-null    object\n",
      " 1   DateTime Stamp    238 non-null    object\n",
      " 2   Currency          238 non-null    object\n",
      " 3   Total             238 non-null    object\n",
      " 4   Shipping Country  238 non-null    object\n",
      " 5   Shipping City     237 non-null    object\n",
      " 6   Shipping State    238 non-null    object\n",
      " 7   Payment Method    233 non-null    object\n",
      " 8   Product Name      238 non-null    object\n",
      " 9   Quantity          238 non-null    int64 \n",
      "dtypes: int64(1), object(9)\n",
      "memory usage: 20.5+ KB\n"
     ]
    }
   ],
   "source": [
    "year_sale_data.info()"
   ]
  },
  {
   "cell_type": "code",
   "execution_count": 29,
   "metadata": {},
   "outputs": [
    {
     "name": "stderr",
     "output_type": "stream",
     "text": [
      "C:\\Users\\Admin\\AppData\\Local\\Temp\\ipykernel_11140\\2800283185.py:1: SettingWithCopyWarning:\n",
      "\n",
      "\n",
      "A value is trying to be set on a copy of a slice from a DataFrame.\n",
      "Try using .loc[row_indexer,col_indexer] = value instead\n",
      "\n",
      "See the caveats in the documentation: https://pandas.pydata.org/pandas-docs/stable/user_guide/indexing.html#returning-a-view-versus-a-copy\n",
      "\n"
     ]
    },
    {
     "data": {
      "text/plain": [
       "Order No                    object\n",
       "DateTime Stamp      datetime64[ns]\n",
       "Currency                    object\n",
       "Total                       object\n",
       "Shipping Country            object\n",
       "Shipping City               object\n",
       "Shipping State              object\n",
       "Payment Method              object\n",
       "Product Name                object\n",
       "Quantity                     int64\n",
       "dtype: object"
      ]
     },
     "execution_count": 29,
     "metadata": {},
     "output_type": "execute_result"
    }
   ],
   "source": [
    "year_sale_data['DateTime Stamp'] = year_sale_data['DateTime Stamp'].astype('datetime64[ns]')\n",
    "year_sale_data.dtypes"
   ]
  },
  {
   "cell_type": "code",
   "execution_count": 30,
   "metadata": {},
   "outputs": [
    {
     "name": "stderr",
     "output_type": "stream",
     "text": [
      "C:\\Users\\Admin\\AppData\\Local\\Temp\\ipykernel_11140\\1181335453.py:1: SettingWithCopyWarning:\n",
      "\n",
      "\n",
      "A value is trying to be set on a copy of a slice from a DataFrame.\n",
      "Try using .loc[row_indexer,col_indexer] = value instead\n",
      "\n",
      "See the caveats in the documentation: https://pandas.pydata.org/pandas-docs/stable/user_guide/indexing.html#returning-a-view-versus-a-copy\n",
      "\n",
      "C:\\Users\\Admin\\AppData\\Local\\Temp\\ipykernel_11140\\1181335453.py:2: SettingWithCopyWarning:\n",
      "\n",
      "\n",
      "A value is trying to be set on a copy of a slice from a DataFrame.\n",
      "Try using .loc[row_indexer,col_indexer] = value instead\n",
      "\n",
      "See the caveats in the documentation: https://pandas.pydata.org/pandas-docs/stable/user_guide/indexing.html#returning-a-view-versus-a-copy\n",
      "\n"
     ]
    },
    {
     "data": {
      "text/plain": [
       "Order No                    object\n",
       "DateTime Stamp      datetime64[ns]\n",
       "Currency                    object\n",
       "Total                        int64\n",
       "Shipping Country            object\n",
       "Shipping City               object\n",
       "Shipping State              object\n",
       "Payment Method              object\n",
       "Product Name                object\n",
       "Quantity                     int64\n",
       "dtype: object"
      ]
     },
     "execution_count": 30,
     "metadata": {},
     "output_type": "execute_result"
    }
   ],
   "source": [
    "year_sale_data['Total']=year_sale_data['Total'].astype('float64')\n",
    "year_sale_data['Total'] = year_sale_data['Total'].astype('int64')\n",
    "year_sale_data.dtypes"
   ]
  },
  {
   "cell_type": "code",
   "execution_count": 31,
   "metadata": {},
   "outputs": [
    {
     "name": "stderr",
     "output_type": "stream",
     "text": [
      "C:\\Users\\Admin\\AppData\\Local\\Temp\\ipykernel_11140\\759780284.py:1: SettingWithCopyWarning:\n",
      "\n",
      "\n",
      "A value is trying to be set on a copy of a slice from a DataFrame.\n",
      "Try using .loc[row_indexer,col_indexer] = value instead\n",
      "\n",
      "See the caveats in the documentation: https://pandas.pydata.org/pandas-docs/stable/user_guide/indexing.html#returning-a-view-versus-a-copy\n",
      "\n"
     ]
    }
   ],
   "source": [
    "year_sale_data['Year'] = pd.to_datetime(year_sale_data['DateTime Stamp']).dt.year"
   ]
  },
  {
   "attachments": {},
   "cell_type": "markdown",
   "metadata": {},
   "source": [
    "Handling the dupicate values for better results."
   ]
  },
  {
   "cell_type": "code",
   "execution_count": 32,
   "metadata": {},
   "outputs": [
    {
     "data": {
      "text/plain": [
       "2"
      ]
     },
     "execution_count": 32,
     "metadata": {},
     "output_type": "execute_result"
    }
   ],
   "source": [
    "year_sale_data.duplicated().sum()"
   ]
  },
  {
   "cell_type": "code",
   "execution_count": 33,
   "metadata": {},
   "outputs": [
    {
     "data": {
      "text/html": [
       "<div>\n",
       "<style scoped>\n",
       "    .dataframe tbody tr th:only-of-type {\n",
       "        vertical-align: middle;\n",
       "    }\n",
       "\n",
       "    .dataframe tbody tr th {\n",
       "        vertical-align: top;\n",
       "    }\n",
       "\n",
       "    .dataframe thead th {\n",
       "        text-align: right;\n",
       "    }\n",
       "</style>\n",
       "<table border=\"1\" class=\"dataframe\">\n",
       "  <thead>\n",
       "    <tr style=\"text-align: right;\">\n",
       "      <th></th>\n",
       "      <th>Order No</th>\n",
       "      <th>DateTime Stamp</th>\n",
       "      <th>Currency</th>\n",
       "      <th>Total</th>\n",
       "      <th>Shipping Country</th>\n",
       "      <th>Shipping City</th>\n",
       "      <th>Shipping State</th>\n",
       "      <th>Payment Method</th>\n",
       "      <th>Product Name</th>\n",
       "      <th>Quantity</th>\n",
       "      <th>Year</th>\n",
       "    </tr>\n",
       "  </thead>\n",
       "  <tbody>\n",
       "    <tr>\n",
       "      <th>2558</th>\n",
       "      <td>R754403637</td>\n",
       "      <td>2019-03-28 19:29:45</td>\n",
       "      <td>INR</td>\n",
       "      <td>44970</td>\n",
       "      <td>IND</td>\n",
       "      <td>Varanasi</td>\n",
       "      <td>IN-UP</td>\n",
       "      <td>Offline Payment ₹44,970.00</td>\n",
       "      <td>Vmax HX 750 Remote Control Flying Drone No Camera</td>\n",
       "      <td>15</td>\n",
       "      <td>2019</td>\n",
       "    </tr>\n",
       "    <tr>\n",
       "      <th>2614</th>\n",
       "      <td>R446418996</td>\n",
       "      <td>2019-05-31 20:03:48</td>\n",
       "      <td>INR</td>\n",
       "      <td>46166</td>\n",
       "      <td>IND</td>\n",
       "      <td>Varanasi</td>\n",
       "      <td>IN-UP</td>\n",
       "      <td>Offline Payment ₹46,166.00</td>\n",
       "      <td>Vmax HX 750 Remote Control Flying Drone No Camera</td>\n",
       "      <td>5</td>\n",
       "      <td>2019</td>\n",
       "    </tr>\n",
       "  </tbody>\n",
       "</table>\n",
       "</div>"
      ],
      "text/plain": [
       "        Order No      DateTime Stamp Currency  Total Shipping Country  \\\n",
       "2558  R754403637 2019-03-28 19:29:45      INR  44970              IND   \n",
       "2614  R446418996 2019-05-31 20:03:48      INR  46166              IND   \n",
       "\n",
       "     Shipping City Shipping State              Payment Method  \\\n",
       "2558      Varanasi          IN-UP  Offline Payment ₹44,970.00   \n",
       "2614      Varanasi          IN-UP  Offline Payment ₹46,166.00   \n",
       "\n",
       "                                           Product Name  Quantity  Year  \n",
       "2558  Vmax HX 750 Remote Control Flying Drone No Camera        15  2019  \n",
       "2614  Vmax HX 750 Remote Control Flying Drone No Camera         5  2019  "
      ]
     },
     "execution_count": 33,
     "metadata": {},
     "output_type": "execute_result"
    }
   ],
   "source": [
    "year_sale_data[year_sale_data.duplicated()]"
   ]
  },
  {
   "cell_type": "code",
   "execution_count": 34,
   "metadata": {},
   "outputs": [
    {
     "name": "stderr",
     "output_type": "stream",
     "text": [
      "C:\\Users\\Admin\\AppData\\Local\\Temp\\ipykernel_11140\\2456456962.py:1: SettingWithCopyWarning:\n",
      "\n",
      "\n",
      "A value is trying to be set on a copy of a slice from a DataFrame\n",
      "\n",
      "See the caveats in the documentation: https://pandas.pydata.org/pandas-docs/stable/user_guide/indexing.html#returning-a-view-versus-a-copy\n",
      "\n"
     ]
    },
    {
     "data": {
      "text/plain": [
       "0"
      ]
     },
     "execution_count": 34,
     "metadata": {},
     "output_type": "execute_result"
    }
   ],
   "source": [
    "year_sale_data.drop_duplicates(inplace=True)\n",
    "year_sale_data.duplicated().sum()"
   ]
  },
  {
   "cell_type": "code",
   "execution_count": 35,
   "metadata": {},
   "outputs": [
    {
     "data": {
      "text/html": [
       "<div>\n",
       "<style scoped>\n",
       "    .dataframe tbody tr th:only-of-type {\n",
       "        vertical-align: middle;\n",
       "    }\n",
       "\n",
       "    .dataframe tbody tr th {\n",
       "        vertical-align: top;\n",
       "    }\n",
       "\n",
       "    .dataframe thead th {\n",
       "        text-align: right;\n",
       "    }\n",
       "</style>\n",
       "<table border=\"1\" class=\"dataframe\">\n",
       "  <thead>\n",
       "    <tr style=\"text-align: right;\">\n",
       "      <th></th>\n",
       "      <th>Order No</th>\n",
       "      <th>DateTime Stamp</th>\n",
       "      <th>Currency</th>\n",
       "      <th>Total</th>\n",
       "      <th>Shipping Country</th>\n",
       "      <th>Shipping City</th>\n",
       "      <th>Shipping State</th>\n",
       "      <th>Payment Method</th>\n",
       "      <th>Product Name</th>\n",
       "      <th>Quantity</th>\n",
       "      <th>Year</th>\n",
       "    </tr>\n",
       "  </thead>\n",
       "  <tbody>\n",
       "    <tr>\n",
       "      <th>15</th>\n",
       "      <td>R679506806</td>\n",
       "      <td>2021-09-23 12:39:27</td>\n",
       "      <td>INR</td>\n",
       "      <td>1000</td>\n",
       "      <td>IND</td>\n",
       "      <td>VARANASI</td>\n",
       "      <td>IN-UP</td>\n",
       "      <td>NaN</td>\n",
       "      <td>ONLINE TUITION FOR STD 4 and STD 5(FREE 5 DAYS...</td>\n",
       "      <td>1</td>\n",
       "      <td>2021</td>\n",
       "    </tr>\n",
       "    <tr>\n",
       "      <th>18</th>\n",
       "      <td>R444302271</td>\n",
       "      <td>2021-09-23 13:09:07</td>\n",
       "      <td>INR</td>\n",
       "      <td>499</td>\n",
       "      <td>IND</td>\n",
       "      <td>Delhi</td>\n",
       "      <td>IN-DL</td>\n",
       "      <td>NaN</td>\n",
       "      <td>Fun Activities for Kids LKG to STD 10(Singing,...</td>\n",
       "      <td>1</td>\n",
       "      <td>2021</td>\n",
       "    </tr>\n",
       "    <tr>\n",
       "      <th>21</th>\n",
       "      <td>R181106661</td>\n",
       "      <td>2021-09-23 13:09:50</td>\n",
       "      <td>INR</td>\n",
       "      <td>499</td>\n",
       "      <td>IND</td>\n",
       "      <td>Delhi</td>\n",
       "      <td>IN-DL</td>\n",
       "      <td>NaN</td>\n",
       "      <td>Fun Activities for Kids LKG to STD 10(Singing,...</td>\n",
       "      <td>1</td>\n",
       "      <td>2021</td>\n",
       "    </tr>\n",
       "    <tr>\n",
       "      <th>254</th>\n",
       "      <td>R798254987</td>\n",
       "      <td>2021-04-27 09:38:07</td>\n",
       "      <td>INR</td>\n",
       "      <td>321</td>\n",
       "      <td>IND</td>\n",
       "      <td>Berhampur</td>\n",
       "      <td>IN-OR</td>\n",
       "      <td>NaN</td>\n",
       "      <td>Mutton Curry Cut 500gm (Berhampur)</td>\n",
       "      <td>1</td>\n",
       "      <td>2021</td>\n",
       "    </tr>\n",
       "    <tr>\n",
       "      <th>292</th>\n",
       "      <td>R299286513</td>\n",
       "      <td>2021-05-04 17:20:28</td>\n",
       "      <td>INR</td>\n",
       "      <td>999</td>\n",
       "      <td>IND</td>\n",
       "      <td>Hyderabad</td>\n",
       "      <td>IN-AP</td>\n",
       "      <td>NaN</td>\n",
       "      <td>REALME BUDS PLUS Wireless Bluetooth Ears Buds ...</td>\n",
       "      <td>1</td>\n",
       "      <td>2021</td>\n",
       "    </tr>\n",
       "  </tbody>\n",
       "</table>\n",
       "</div>"
      ],
      "text/plain": [
       "       Order No      DateTime Stamp Currency  Total Shipping Country  \\\n",
       "15   R679506806 2021-09-23 12:39:27      INR   1000              IND   \n",
       "18   R444302271 2021-09-23 13:09:07      INR    499              IND   \n",
       "21   R181106661 2021-09-23 13:09:50      INR    499              IND   \n",
       "254  R798254987 2021-04-27 09:38:07      INR    321              IND   \n",
       "292  R299286513 2021-05-04 17:20:28      INR    999              IND   \n",
       "\n",
       "    Shipping City Shipping State Payment Method  \\\n",
       "15       VARANASI          IN-UP            NaN   \n",
       "18          Delhi          IN-DL            NaN   \n",
       "21          Delhi          IN-DL            NaN   \n",
       "254     Berhampur          IN-OR            NaN   \n",
       "292     Hyderabad          IN-AP            NaN   \n",
       "\n",
       "                                          Product Name  Quantity  Year  \n",
       "15   ONLINE TUITION FOR STD 4 and STD 5(FREE 5 DAYS...         1  2021  \n",
       "18   Fun Activities for Kids LKG to STD 10(Singing,...         1  2021  \n",
       "21   Fun Activities for Kids LKG to STD 10(Singing,...         1  2021  \n",
       "254                 Mutton Curry Cut 500gm (Berhampur)         1  2021  \n",
       "292  REALME BUDS PLUS Wireless Bluetooth Ears Buds ...         1  2021  "
      ]
     },
     "execution_count": 35,
     "metadata": {},
     "output_type": "execute_result"
    }
   ],
   "source": [
    "year_sale_data.head()"
   ]
  },
  {
   "cell_type": "code",
   "execution_count": 36,
   "metadata": {},
   "outputs": [
    {
     "data": {
      "text/html": [
       "<div>\n",
       "<style scoped>\n",
       "    .dataframe tbody tr th:only-of-type {\n",
       "        vertical-align: middle;\n",
       "    }\n",
       "\n",
       "    .dataframe tbody tr th {\n",
       "        vertical-align: top;\n",
       "    }\n",
       "\n",
       "    .dataframe thead th {\n",
       "        text-align: right;\n",
       "    }\n",
       "</style>\n",
       "<table border=\"1\" class=\"dataframe\">\n",
       "  <thead>\n",
       "    <tr style=\"text-align: right;\">\n",
       "      <th></th>\n",
       "      <th>Year</th>\n",
       "      <th>Total</th>\n",
       "    </tr>\n",
       "  </thead>\n",
       "  <tbody>\n",
       "    <tr>\n",
       "      <th>0</th>\n",
       "      <td>2016</td>\n",
       "      <td>707.142857</td>\n",
       "    </tr>\n",
       "    <tr>\n",
       "      <th>1</th>\n",
       "      <td>2017</td>\n",
       "      <td>1123.000000</td>\n",
       "    </tr>\n",
       "    <tr>\n",
       "      <th>2</th>\n",
       "      <td>2018</td>\n",
       "      <td>9163.448819</td>\n",
       "    </tr>\n",
       "    <tr>\n",
       "      <th>3</th>\n",
       "      <td>2019</td>\n",
       "      <td>6571.983333</td>\n",
       "    </tr>\n",
       "    <tr>\n",
       "      <th>4</th>\n",
       "      <td>2020</td>\n",
       "      <td>1419.833333</td>\n",
       "    </tr>\n",
       "    <tr>\n",
       "      <th>5</th>\n",
       "      <td>2021</td>\n",
       "      <td>2234.250000</td>\n",
       "    </tr>\n",
       "  </tbody>\n",
       "</table>\n",
       "</div>"
      ],
      "text/plain": [
       "   Year        Total\n",
       "0  2016   707.142857\n",
       "1  2017  1123.000000\n",
       "2  2018  9163.448819\n",
       "3  2019  6571.983333\n",
       "4  2020  1419.833333\n",
       "5  2021  2234.250000"
      ]
     },
     "execution_count": 36,
     "metadata": {},
     "output_type": "execute_result"
    }
   ],
   "source": [
    "yearly_sale = year_sale_data.groupby(['Year'], as_index=False)['Total'].mean()\n",
    "yearly_sale"
   ]
  },
  {
   "cell_type": "code",
   "execution_count": 37,
   "metadata": {},
   "outputs": [],
   "source": [
    "yearly_sale['Total'] = yearly_sale['Total'].round(1)"
   ]
  },
  {
   "cell_type": "code",
   "execution_count": 38,
   "metadata": {},
   "outputs": [
    {
     "data": {
      "text/html": [
       "<div>\n",
       "<style scoped>\n",
       "    .dataframe tbody tr th:only-of-type {\n",
       "        vertical-align: middle;\n",
       "    }\n",
       "\n",
       "    .dataframe tbody tr th {\n",
       "        vertical-align: top;\n",
       "    }\n",
       "\n",
       "    .dataframe thead th {\n",
       "        text-align: right;\n",
       "    }\n",
       "</style>\n",
       "<table border=\"1\" class=\"dataframe\">\n",
       "  <thead>\n",
       "    <tr style=\"text-align: right;\">\n",
       "      <th></th>\n",
       "      <th>Year</th>\n",
       "      <th>Total</th>\n",
       "    </tr>\n",
       "  </thead>\n",
       "  <tbody>\n",
       "    <tr>\n",
       "      <th>0</th>\n",
       "      <td>2016</td>\n",
       "      <td>707.1</td>\n",
       "    </tr>\n",
       "    <tr>\n",
       "      <th>1</th>\n",
       "      <td>2017</td>\n",
       "      <td>1123.0</td>\n",
       "    </tr>\n",
       "    <tr>\n",
       "      <th>2</th>\n",
       "      <td>2018</td>\n",
       "      <td>9163.4</td>\n",
       "    </tr>\n",
       "    <tr>\n",
       "      <th>3</th>\n",
       "      <td>2019</td>\n",
       "      <td>6572.0</td>\n",
       "    </tr>\n",
       "    <tr>\n",
       "      <th>4</th>\n",
       "      <td>2020</td>\n",
       "      <td>1419.8</td>\n",
       "    </tr>\n",
       "    <tr>\n",
       "      <th>5</th>\n",
       "      <td>2021</td>\n",
       "      <td>2234.2</td>\n",
       "    </tr>\n",
       "  </tbody>\n",
       "</table>\n",
       "</div>"
      ],
      "text/plain": [
       "   Year   Total\n",
       "0  2016   707.1\n",
       "1  2017  1123.0\n",
       "2  2018  9163.4\n",
       "3  2019  6572.0\n",
       "4  2020  1419.8\n",
       "5  2021  2234.2"
      ]
     },
     "execution_count": 38,
     "metadata": {},
     "output_type": "execute_result"
    }
   ],
   "source": [
    "yearly_sale"
   ]
  },
  {
   "attachments": {},
   "cell_type": "markdown",
   "metadata": {},
   "source": [
    "Showing the results through visualization"
   ]
  },
  {
   "cell_type": "code",
   "execution_count": 39,
   "metadata": {},
   "outputs": [
    {
     "data": {
      "application/vnd.plotly.v1+json": {
       "config": {
        "plotlyServerURL": "https://plot.ly"
       },
       "data": [
        {
         "hovertemplate": "Year=%{x}<br>Average Sale=%{text}<extra></extra>",
         "legendgroup": "",
         "line": {
          "color": "#636efa",
          "dash": "solid"
         },
         "marker": {
          "symbol": "circle"
         },
         "mode": "markers+lines+text",
         "name": "",
         "orientation": "v",
         "showlegend": false,
         "text": [
          707.1,
          1123,
          9163.4,
          6572,
          1419.8,
          2234.2
         ],
         "type": "scatter",
         "x": [
          2016,
          2017,
          2018,
          2019,
          2020,
          2021
         ],
         "xaxis": "x",
         "y": [
          707.1,
          1123,
          9163.4,
          6572,
          1419.8,
          2234.2
         ],
         "yaxis": "y"
        }
       ],
       "layout": {
        "legend": {
         "tracegroupgap": 0
        },
        "template": {
         "data": {
          "bar": [
           {
            "error_x": {
             "color": "#2a3f5f"
            },
            "error_y": {
             "color": "#2a3f5f"
            },
            "marker": {
             "line": {
              "color": "#E5ECF6",
              "width": 0.5
             },
             "pattern": {
              "fillmode": "overlay",
              "size": 10,
              "solidity": 0.2
             }
            },
            "type": "bar"
           }
          ],
          "barpolar": [
           {
            "marker": {
             "line": {
              "color": "#E5ECF6",
              "width": 0.5
             },
             "pattern": {
              "fillmode": "overlay",
              "size": 10,
              "solidity": 0.2
             }
            },
            "type": "barpolar"
           }
          ],
          "carpet": [
           {
            "aaxis": {
             "endlinecolor": "#2a3f5f",
             "gridcolor": "white",
             "linecolor": "white",
             "minorgridcolor": "white",
             "startlinecolor": "#2a3f5f"
            },
            "baxis": {
             "endlinecolor": "#2a3f5f",
             "gridcolor": "white",
             "linecolor": "white",
             "minorgridcolor": "white",
             "startlinecolor": "#2a3f5f"
            },
            "type": "carpet"
           }
          ],
          "choropleth": [
           {
            "colorbar": {
             "outlinewidth": 0,
             "ticks": ""
            },
            "type": "choropleth"
           }
          ],
          "contour": [
           {
            "colorbar": {
             "outlinewidth": 0,
             "ticks": ""
            },
            "colorscale": [
             [
              0,
              "#0d0887"
             ],
             [
              0.1111111111111111,
              "#46039f"
             ],
             [
              0.2222222222222222,
              "#7201a8"
             ],
             [
              0.3333333333333333,
              "#9c179e"
             ],
             [
              0.4444444444444444,
              "#bd3786"
             ],
             [
              0.5555555555555556,
              "#d8576b"
             ],
             [
              0.6666666666666666,
              "#ed7953"
             ],
             [
              0.7777777777777778,
              "#fb9f3a"
             ],
             [
              0.8888888888888888,
              "#fdca26"
             ],
             [
              1,
              "#f0f921"
             ]
            ],
            "type": "contour"
           }
          ],
          "contourcarpet": [
           {
            "colorbar": {
             "outlinewidth": 0,
             "ticks": ""
            },
            "type": "contourcarpet"
           }
          ],
          "heatmap": [
           {
            "colorbar": {
             "outlinewidth": 0,
             "ticks": ""
            },
            "colorscale": [
             [
              0,
              "#0d0887"
             ],
             [
              0.1111111111111111,
              "#46039f"
             ],
             [
              0.2222222222222222,
              "#7201a8"
             ],
             [
              0.3333333333333333,
              "#9c179e"
             ],
             [
              0.4444444444444444,
              "#bd3786"
             ],
             [
              0.5555555555555556,
              "#d8576b"
             ],
             [
              0.6666666666666666,
              "#ed7953"
             ],
             [
              0.7777777777777778,
              "#fb9f3a"
             ],
             [
              0.8888888888888888,
              "#fdca26"
             ],
             [
              1,
              "#f0f921"
             ]
            ],
            "type": "heatmap"
           }
          ],
          "heatmapgl": [
           {
            "colorbar": {
             "outlinewidth": 0,
             "ticks": ""
            },
            "colorscale": [
             [
              0,
              "#0d0887"
             ],
             [
              0.1111111111111111,
              "#46039f"
             ],
             [
              0.2222222222222222,
              "#7201a8"
             ],
             [
              0.3333333333333333,
              "#9c179e"
             ],
             [
              0.4444444444444444,
              "#bd3786"
             ],
             [
              0.5555555555555556,
              "#d8576b"
             ],
             [
              0.6666666666666666,
              "#ed7953"
             ],
             [
              0.7777777777777778,
              "#fb9f3a"
             ],
             [
              0.8888888888888888,
              "#fdca26"
             ],
             [
              1,
              "#f0f921"
             ]
            ],
            "type": "heatmapgl"
           }
          ],
          "histogram": [
           {
            "marker": {
             "pattern": {
              "fillmode": "overlay",
              "size": 10,
              "solidity": 0.2
             }
            },
            "type": "histogram"
           }
          ],
          "histogram2d": [
           {
            "colorbar": {
             "outlinewidth": 0,
             "ticks": ""
            },
            "colorscale": [
             [
              0,
              "#0d0887"
             ],
             [
              0.1111111111111111,
              "#46039f"
             ],
             [
              0.2222222222222222,
              "#7201a8"
             ],
             [
              0.3333333333333333,
              "#9c179e"
             ],
             [
              0.4444444444444444,
              "#bd3786"
             ],
             [
              0.5555555555555556,
              "#d8576b"
             ],
             [
              0.6666666666666666,
              "#ed7953"
             ],
             [
              0.7777777777777778,
              "#fb9f3a"
             ],
             [
              0.8888888888888888,
              "#fdca26"
             ],
             [
              1,
              "#f0f921"
             ]
            ],
            "type": "histogram2d"
           }
          ],
          "histogram2dcontour": [
           {
            "colorbar": {
             "outlinewidth": 0,
             "ticks": ""
            },
            "colorscale": [
             [
              0,
              "#0d0887"
             ],
             [
              0.1111111111111111,
              "#46039f"
             ],
             [
              0.2222222222222222,
              "#7201a8"
             ],
             [
              0.3333333333333333,
              "#9c179e"
             ],
             [
              0.4444444444444444,
              "#bd3786"
             ],
             [
              0.5555555555555556,
              "#d8576b"
             ],
             [
              0.6666666666666666,
              "#ed7953"
             ],
             [
              0.7777777777777778,
              "#fb9f3a"
             ],
             [
              0.8888888888888888,
              "#fdca26"
             ],
             [
              1,
              "#f0f921"
             ]
            ],
            "type": "histogram2dcontour"
           }
          ],
          "mesh3d": [
           {
            "colorbar": {
             "outlinewidth": 0,
             "ticks": ""
            },
            "type": "mesh3d"
           }
          ],
          "parcoords": [
           {
            "line": {
             "colorbar": {
              "outlinewidth": 0,
              "ticks": ""
             }
            },
            "type": "parcoords"
           }
          ],
          "pie": [
           {
            "automargin": true,
            "type": "pie"
           }
          ],
          "scatter": [
           {
            "fillpattern": {
             "fillmode": "overlay",
             "size": 10,
             "solidity": 0.2
            },
            "type": "scatter"
           }
          ],
          "scatter3d": [
           {
            "line": {
             "colorbar": {
              "outlinewidth": 0,
              "ticks": ""
             }
            },
            "marker": {
             "colorbar": {
              "outlinewidth": 0,
              "ticks": ""
             }
            },
            "type": "scatter3d"
           }
          ],
          "scattercarpet": [
           {
            "marker": {
             "colorbar": {
              "outlinewidth": 0,
              "ticks": ""
             }
            },
            "type": "scattercarpet"
           }
          ],
          "scattergeo": [
           {
            "marker": {
             "colorbar": {
              "outlinewidth": 0,
              "ticks": ""
             }
            },
            "type": "scattergeo"
           }
          ],
          "scattergl": [
           {
            "marker": {
             "colorbar": {
              "outlinewidth": 0,
              "ticks": ""
             }
            },
            "type": "scattergl"
           }
          ],
          "scattermapbox": [
           {
            "marker": {
             "colorbar": {
              "outlinewidth": 0,
              "ticks": ""
             }
            },
            "type": "scattermapbox"
           }
          ],
          "scatterpolar": [
           {
            "marker": {
             "colorbar": {
              "outlinewidth": 0,
              "ticks": ""
             }
            },
            "type": "scatterpolar"
           }
          ],
          "scatterpolargl": [
           {
            "marker": {
             "colorbar": {
              "outlinewidth": 0,
              "ticks": ""
             }
            },
            "type": "scatterpolargl"
           }
          ],
          "scatterternary": [
           {
            "marker": {
             "colorbar": {
              "outlinewidth": 0,
              "ticks": ""
             }
            },
            "type": "scatterternary"
           }
          ],
          "surface": [
           {
            "colorbar": {
             "outlinewidth": 0,
             "ticks": ""
            },
            "colorscale": [
             [
              0,
              "#0d0887"
             ],
             [
              0.1111111111111111,
              "#46039f"
             ],
             [
              0.2222222222222222,
              "#7201a8"
             ],
             [
              0.3333333333333333,
              "#9c179e"
             ],
             [
              0.4444444444444444,
              "#bd3786"
             ],
             [
              0.5555555555555556,
              "#d8576b"
             ],
             [
              0.6666666666666666,
              "#ed7953"
             ],
             [
              0.7777777777777778,
              "#fb9f3a"
             ],
             [
              0.8888888888888888,
              "#fdca26"
             ],
             [
              1,
              "#f0f921"
             ]
            ],
            "type": "surface"
           }
          ],
          "table": [
           {
            "cells": {
             "fill": {
              "color": "#EBF0F8"
             },
             "line": {
              "color": "white"
             }
            },
            "header": {
             "fill": {
              "color": "#C8D4E3"
             },
             "line": {
              "color": "white"
             }
            },
            "type": "table"
           }
          ]
         },
         "layout": {
          "annotationdefaults": {
           "arrowcolor": "#2a3f5f",
           "arrowhead": 0,
           "arrowwidth": 1
          },
          "autotypenumbers": "strict",
          "coloraxis": {
           "colorbar": {
            "outlinewidth": 0,
            "ticks": ""
           }
          },
          "colorscale": {
           "diverging": [
            [
             0,
             "#8e0152"
            ],
            [
             0.1,
             "#c51b7d"
            ],
            [
             0.2,
             "#de77ae"
            ],
            [
             0.3,
             "#f1b6da"
            ],
            [
             0.4,
             "#fde0ef"
            ],
            [
             0.5,
             "#f7f7f7"
            ],
            [
             0.6,
             "#e6f5d0"
            ],
            [
             0.7,
             "#b8e186"
            ],
            [
             0.8,
             "#7fbc41"
            ],
            [
             0.9,
             "#4d9221"
            ],
            [
             1,
             "#276419"
            ]
           ],
           "sequential": [
            [
             0,
             "#0d0887"
            ],
            [
             0.1111111111111111,
             "#46039f"
            ],
            [
             0.2222222222222222,
             "#7201a8"
            ],
            [
             0.3333333333333333,
             "#9c179e"
            ],
            [
             0.4444444444444444,
             "#bd3786"
            ],
            [
             0.5555555555555556,
             "#d8576b"
            ],
            [
             0.6666666666666666,
             "#ed7953"
            ],
            [
             0.7777777777777778,
             "#fb9f3a"
            ],
            [
             0.8888888888888888,
             "#fdca26"
            ],
            [
             1,
             "#f0f921"
            ]
           ],
           "sequentialminus": [
            [
             0,
             "#0d0887"
            ],
            [
             0.1111111111111111,
             "#46039f"
            ],
            [
             0.2222222222222222,
             "#7201a8"
            ],
            [
             0.3333333333333333,
             "#9c179e"
            ],
            [
             0.4444444444444444,
             "#bd3786"
            ],
            [
             0.5555555555555556,
             "#d8576b"
            ],
            [
             0.6666666666666666,
             "#ed7953"
            ],
            [
             0.7777777777777778,
             "#fb9f3a"
            ],
            [
             0.8888888888888888,
             "#fdca26"
            ],
            [
             1,
             "#f0f921"
            ]
           ]
          },
          "colorway": [
           "#636efa",
           "#EF553B",
           "#00cc96",
           "#ab63fa",
           "#FFA15A",
           "#19d3f3",
           "#FF6692",
           "#B6E880",
           "#FF97FF",
           "#FECB52"
          ],
          "font": {
           "color": "#2a3f5f"
          },
          "geo": {
           "bgcolor": "white",
           "lakecolor": "white",
           "landcolor": "#E5ECF6",
           "showlakes": true,
           "showland": true,
           "subunitcolor": "white"
          },
          "hoverlabel": {
           "align": "left"
          },
          "hovermode": "closest",
          "mapbox": {
           "style": "light"
          },
          "paper_bgcolor": "white",
          "plot_bgcolor": "#E5ECF6",
          "polar": {
           "angularaxis": {
            "gridcolor": "white",
            "linecolor": "white",
            "ticks": ""
           },
           "bgcolor": "#E5ECF6",
           "radialaxis": {
            "gridcolor": "white",
            "linecolor": "white",
            "ticks": ""
           }
          },
          "scene": {
           "xaxis": {
            "backgroundcolor": "#E5ECF6",
            "gridcolor": "white",
            "gridwidth": 2,
            "linecolor": "white",
            "showbackground": true,
            "ticks": "",
            "zerolinecolor": "white"
           },
           "yaxis": {
            "backgroundcolor": "#E5ECF6",
            "gridcolor": "white",
            "gridwidth": 2,
            "linecolor": "white",
            "showbackground": true,
            "ticks": "",
            "zerolinecolor": "white"
           },
           "zaxis": {
            "backgroundcolor": "#E5ECF6",
            "gridcolor": "white",
            "gridwidth": 2,
            "linecolor": "white",
            "showbackground": true,
            "ticks": "",
            "zerolinecolor": "white"
           }
          },
          "shapedefaults": {
           "line": {
            "color": "#2a3f5f"
           }
          },
          "ternary": {
           "aaxis": {
            "gridcolor": "white",
            "linecolor": "white",
            "ticks": ""
           },
           "baxis": {
            "gridcolor": "white",
            "linecolor": "white",
            "ticks": ""
           },
           "bgcolor": "#E5ECF6",
           "caxis": {
            "gridcolor": "white",
            "linecolor": "white",
            "ticks": ""
           }
          },
          "title": {
           "x": 0.05
          },
          "xaxis": {
           "automargin": true,
           "gridcolor": "white",
           "linecolor": "white",
           "ticks": "",
           "title": {
            "standoff": 15
           },
           "zerolinecolor": "white",
           "zerolinewidth": 2
          },
          "yaxis": {
           "automargin": true,
           "gridcolor": "white",
           "linecolor": "white",
           "ticks": "",
           "title": {
            "standoff": 15
           },
           "zerolinecolor": "white",
           "zerolinewidth": 2
          }
         }
        },
        "title": {
         "text": "Average Sale by Year"
        },
        "xaxis": {
         "anchor": "y",
         "domain": [
          0,
          1
         ],
         "title": {
          "text": "Year"
         }
        },
        "yaxis": {
         "anchor": "x",
         "domain": [
          0,
          1
         ],
         "title": {
          "text": "Average Sale"
         }
        }
       }
      }
     },
     "metadata": {},
     "output_type": "display_data"
    }
   ],
   "source": [
    "year_fig = px.line(data_frame=yearly_sale, x='Year', y='Total', title='Average Sale by Year', labels={'Total':'Average Sale'},\n",
    "        text='Total', markers=True)\n",
    "year_fig.show()"
   ]
  },
  {
   "attachments": {},
   "cell_type": "markdown",
   "metadata": {},
   "source": [
    "##### Result - As per the result sale was high in year 2018"
   ]
  },
  {
   "attachments": {},
   "cell_type": "markdown",
   "metadata": {},
   "source": [
    "##### 3) Different Payment Methods used by Customers"
   ]
  },
  {
   "cell_type": "code",
   "execution_count": 40,
   "metadata": {},
   "outputs": [
    {
     "data": {
      "text/html": [
       "<div>\n",
       "<style scoped>\n",
       "    .dataframe tbody tr th:only-of-type {\n",
       "        vertical-align: middle;\n",
       "    }\n",
       "\n",
       "    .dataframe tbody tr th {\n",
       "        vertical-align: top;\n",
       "    }\n",
       "\n",
       "    .dataframe thead th {\n",
       "        text-align: right;\n",
       "    }\n",
       "</style>\n",
       "<table border=\"1\" class=\"dataframe\">\n",
       "  <thead>\n",
       "    <tr style=\"text-align: right;\">\n",
       "      <th></th>\n",
       "      <th>Order No</th>\n",
       "      <th>DateTime Stamp</th>\n",
       "      <th>Currency</th>\n",
       "      <th>Total</th>\n",
       "      <th>Shipping Country</th>\n",
       "      <th>Shipping City</th>\n",
       "      <th>Shipping State</th>\n",
       "      <th>Payment Method</th>\n",
       "      <th>Product Name</th>\n",
       "      <th>Quantity</th>\n",
       "    </tr>\n",
       "  </thead>\n",
       "  <tbody>\n",
       "    <tr>\n",
       "      <th>0</th>\n",
       "      <td>R121113121</td>\n",
       "      <td>NaN</td>\n",
       "      <td>INR</td>\n",
       "      <td>2299</td>\n",
       "      <td>IND</td>\n",
       "      <td>Chandrapur</td>\n",
       "      <td>IN-MH</td>\n",
       "      <td>NaN</td>\n",
       "      <td>Falcon Drone Four Axis Aircraft with 2.4 GHz R...</td>\n",
       "      <td>1</td>\n",
       "    </tr>\n",
       "    <tr>\n",
       "      <th>1</th>\n",
       "      <td>R472890631</td>\n",
       "      <td>NaN</td>\n",
       "      <td>INR</td>\n",
       "      <td>2299</td>\n",
       "      <td>IND</td>\n",
       "      <td>Chandrapur</td>\n",
       "      <td>IN-MH</td>\n",
       "      <td>NaN</td>\n",
       "      <td>Falcon Drone Four Axis Aircraft with 2.4 GHz R...</td>\n",
       "      <td>1</td>\n",
       "    </tr>\n",
       "    <tr>\n",
       "      <th>2</th>\n",
       "      <td>R004476488</td>\n",
       "      <td>NaN</td>\n",
       "      <td>INR</td>\n",
       "      <td>2299</td>\n",
       "      <td>IND</td>\n",
       "      <td>Chandrapur</td>\n",
       "      <td>IN-MH</td>\n",
       "      <td>NaN</td>\n",
       "      <td>Falcon Drone Four Axis Aircraft with 2.4 GHz R...</td>\n",
       "      <td>1</td>\n",
       "    </tr>\n",
       "    <tr>\n",
       "      <th>3</th>\n",
       "      <td>R526038353</td>\n",
       "      <td>NaN</td>\n",
       "      <td>INR</td>\n",
       "      <td>2299</td>\n",
       "      <td>IND</td>\n",
       "      <td>Chandrapur</td>\n",
       "      <td>IN-MH</td>\n",
       "      <td>NaN</td>\n",
       "      <td>Falcon Drone Four Axis Aircraft with 2.4 GHz R...</td>\n",
       "      <td>1</td>\n",
       "    </tr>\n",
       "    <tr>\n",
       "      <th>4</th>\n",
       "      <td>R658530771</td>\n",
       "      <td>NaN</td>\n",
       "      <td>INR</td>\n",
       "      <td>349</td>\n",
       "      <td>IND</td>\n",
       "      <td>NEW DELHI</td>\n",
       "      <td>IN-DL</td>\n",
       "      <td>NaN</td>\n",
       "      <td>Barbie Doll (pink)</td>\n",
       "      <td>1</td>\n",
       "    </tr>\n",
       "  </tbody>\n",
       "</table>\n",
       "</div>"
      ],
      "text/plain": [
       "     Order No DateTime Stamp Currency Total Shipping Country Shipping City  \\\n",
       "0  R121113121            NaN      INR  2299              IND    Chandrapur   \n",
       "1  R472890631            NaN      INR  2299              IND    Chandrapur   \n",
       "2  R004476488            NaN      INR  2299              IND    Chandrapur   \n",
       "3  R526038353            NaN      INR  2299              IND    Chandrapur   \n",
       "4  R658530771            NaN      INR   349              IND     NEW DELHI   \n",
       "\n",
       "  Shipping State Payment Method  \\\n",
       "0          IN-MH            NaN   \n",
       "1          IN-MH            NaN   \n",
       "2          IN-MH            NaN   \n",
       "3          IN-MH            NaN   \n",
       "4          IN-DL            NaN   \n",
       "\n",
       "                                        Product Name  Quantity  \n",
       "0  Falcon Drone Four Axis Aircraft with 2.4 GHz R...         1  \n",
       "1  Falcon Drone Four Axis Aircraft with 2.4 GHz R...         1  \n",
       "2  Falcon Drone Four Axis Aircraft with 2.4 GHz R...         1  \n",
       "3  Falcon Drone Four Axis Aircraft with 2.4 GHz R...         1  \n",
       "4                                 Barbie Doll (pink)         1  "
      ]
     },
     "execution_count": 40,
     "metadata": {},
     "output_type": "execute_result"
    }
   ],
   "source": [
    "data.head()"
   ]
  },
  {
   "cell_type": "code",
   "execution_count": 41,
   "metadata": {},
   "outputs": [
    {
     "data": {
      "text/html": [
       "<div>\n",
       "<style scoped>\n",
       "    .dataframe tbody tr th:only-of-type {\n",
       "        vertical-align: middle;\n",
       "    }\n",
       "\n",
       "    .dataframe tbody tr th {\n",
       "        vertical-align: top;\n",
       "    }\n",
       "\n",
       "    .dataframe thead th {\n",
       "        text-align: right;\n",
       "    }\n",
       "</style>\n",
       "<table border=\"1\" class=\"dataframe\">\n",
       "  <thead>\n",
       "    <tr style=\"text-align: right;\">\n",
       "      <th></th>\n",
       "      <th>Order No</th>\n",
       "      <th>DateTime Stamp</th>\n",
       "      <th>Currency</th>\n",
       "      <th>Total</th>\n",
       "      <th>Shipping Country</th>\n",
       "      <th>Shipping City</th>\n",
       "      <th>Shipping State</th>\n",
       "      <th>Payment Method</th>\n",
       "      <th>Product Name</th>\n",
       "      <th>Quantity</th>\n",
       "    </tr>\n",
       "  </thead>\n",
       "  <tbody>\n",
       "    <tr>\n",
       "      <th>26</th>\n",
       "      <td>R113535804</td>\n",
       "      <td>NaN</td>\n",
       "      <td>INR</td>\n",
       "      <td>999</td>\n",
       "      <td>IND</td>\n",
       "      <td>Dombivali</td>\n",
       "      <td>IN-MH</td>\n",
       "      <td>CCAvenue ₹999.00</td>\n",
       "      <td>Lava Captain N1 Red</td>\n",
       "      <td>1</td>\n",
       "    </tr>\n",
       "    <tr>\n",
       "      <th>137</th>\n",
       "      <td>R913187467</td>\n",
       "      <td>NaN</td>\n",
       "      <td>INR</td>\n",
       "      <td>219</td>\n",
       "      <td>IND</td>\n",
       "      <td>Kakinada</td>\n",
       "      <td>IN-AP</td>\n",
       "      <td>CCAvenue ₹219.00</td>\n",
       "      <td>Fresh Mushrooms Button 200gm (Berhampur)</td>\n",
       "      <td>1</td>\n",
       "    </tr>\n",
       "    <tr>\n",
       "      <th>138</th>\n",
       "      <td>R204461089</td>\n",
       "      <td>NaN</td>\n",
       "      <td>INR</td>\n",
       "      <td>1499</td>\n",
       "      <td>IND</td>\n",
       "      <td>Dindigul</td>\n",
       "      <td>IN-TN</td>\n",
       "      <td>CCAvenue ₹1,499.00</td>\n",
       "      <td>Vmax HX 750 Quadcopter Drone (No Camera)</td>\n",
       "      <td>1</td>\n",
       "    </tr>\n",
       "    <tr>\n",
       "      <th>146</th>\n",
       "      <td>R602350202</td>\n",
       "      <td>NaN</td>\n",
       "      <td>INR</td>\n",
       "      <td>349</td>\n",
       "      <td>IND</td>\n",
       "      <td>Bengaluru</td>\n",
       "      <td>IN-KA</td>\n",
       "      <td>CCAvenue ₹349.00</td>\n",
       "      <td>Boat Super EXTRA BASS HEADS 225 WIRED WITH MIC...</td>\n",
       "      <td>1</td>\n",
       "    </tr>\n",
       "    <tr>\n",
       "      <th>147</th>\n",
       "      <td>R760464983</td>\n",
       "      <td>NaN</td>\n",
       "      <td>INR</td>\n",
       "      <td>799</td>\n",
       "      <td>IND</td>\n",
       "      <td>NOIDA</td>\n",
       "      <td>IN-UP</td>\n",
       "      <td>CCAvenue ₹799.00</td>\n",
       "      <td>Solanki King Car Bugatti Style Steering Radio ...</td>\n",
       "      <td>1</td>\n",
       "    </tr>\n",
       "  </tbody>\n",
       "</table>\n",
       "</div>"
      ],
      "text/plain": [
       "       Order No DateTime Stamp Currency Total Shipping Country Shipping City  \\\n",
       "26   R113535804            NaN      INR   999              IND     Dombivali   \n",
       "137  R913187467            NaN      INR   219              IND      Kakinada   \n",
       "138  R204461089            NaN      INR  1499              IND      Dindigul   \n",
       "146  R602350202            NaN      INR   349              IND     Bengaluru   \n",
       "147  R760464983            NaN      INR   799              IND         NOIDA   \n",
       "\n",
       "    Shipping State      Payment Method  \\\n",
       "26           IN-MH    CCAvenue ₹999.00   \n",
       "137          IN-AP    CCAvenue ₹219.00   \n",
       "138          IN-TN  CCAvenue ₹1,499.00   \n",
       "146          IN-KA    CCAvenue ₹349.00   \n",
       "147          IN-UP    CCAvenue ₹799.00   \n",
       "\n",
       "                                          Product Name  Quantity  \n",
       "26                                 Lava Captain N1 Red         1  \n",
       "137           Fresh Mushrooms Button 200gm (Berhampur)         1  \n",
       "138           Vmax HX 750 Quadcopter Drone (No Camera)         1  \n",
       "146  Boat Super EXTRA BASS HEADS 225 WIRED WITH MIC...         1  \n",
       "147  Solanki King Car Bugatti Style Steering Radio ...         1  "
      ]
     },
     "execution_count": 41,
     "metadata": {},
     "output_type": "execute_result"
    }
   ],
   "source": [
    "pay_method_data= data[data['Payment Method'].notnull()]\n",
    "pay_method_data.head()"
   ]
  },
  {
   "cell_type": "code",
   "execution_count": 42,
   "metadata": {},
   "outputs": [
    {
     "data": {
      "text/plain": [
       "array(['CCAvenue ₹999.00', 'CCAvenue ₹219.00', 'CCAvenue ₹1,499.00',\n",
       "       'CCAvenue ₹349.00', 'CCAvenue ₹799.00', 'CCAvenue ₹150.00',\n",
       "       'CCAvenue ₹269.00', 'CCAvenue ₹399.00',\n",
       "       'Offline Payment ₹8,999.00', 'Offline Payment ₹799.00',\n",
       "       'Offline Payment ₹8,999.00;Offline Payment -₹8,999.00',\n",
       "       'CCAvenue ₹1,798.00', 'CCAvenue ₹1,299.00',\n",
       "       'Offline Payment ₹2,299.00', 'CCAvenue ₹400.00',\n",
       "       'CCAvenue ₹499.00', 'CCAvenue ₹140.00', 'CCAvenue ₹1,700.00',\n",
       "       'CCAvenue ₹1,599.00', 'CCAvenue ₹6,999.00',\n",
       "       'Offline Payment ₹1,099.00', 'Offline Payment ₹1,999.00',\n",
       "       'Offline Payment ₹299.00', 'Offline Payment ₹549.00',\n",
       "       'Offline Payment ₹5,999.00',\n",
       "       'Offline Payment ₹1,099.00;Offline Payment -₹1,099.00',\n",
       "       'CCAvenue ₹1,099.00', 'Offline Payment ₹349.00',\n",
       "       'Offline Payment ₹199.00', 'Offline Payment ₹400.00',\n",
       "       'Offline Payment ₹1,199.00', 'Offline Payment ₹259.00',\n",
       "       'Offline Payment ₹5,097.00', 'Offline Payment ₹230.00',\n",
       "       'Offline Payment ₹4,369.05', 'Offline Payment ₹849.00',\n",
       "       'Offline Payment ₹1,399.00;Offline Payment -₹1,399.00',\n",
       "       'Offline Payment ₹699.00;Offline Payment -₹699.00',\n",
       "       'CCAvenue ₹2,099.00', 'CCAvenue ₹1,596.00', 'CCAvenue ₹1,399.00',\n",
       "       'Offline Payment ₹1,699.00', 'Offline Payment ₹800.00',\n",
       "       'Offline Payment ₹1,399.00', 'CCAvenue ₹2,199.00',\n",
       "       'Offline Payment ₹999.00', 'Offline Payment ₹499.00',\n",
       "       'Offline Payment ₹1,499.00', 'Offline Payment ₹44,970.00',\n",
       "       'Offline Payment ₹2,199.00',\n",
       "       'CCAvenue ₹1,499.00;Offline Payment -₹1,499.00',\n",
       "       'Offline Payment ₹200.00', 'Offline Payment ₹46,166.00',\n",
       "       'Offline Payment ₹43,168.00', 'Offline Payment ₹2,099.00',\n",
       "       'Offline Payment ₹449.00', 'Offline Payment ₹35,976.00',\n",
       "       'Offline Payment ₹2,798.00', 'Offline Payment ₹37,972.00',\n",
       "       'Offline Payment ₹5,196.00', 'Offline Payment ₹5,399.00',\n",
       "       'Offline Payment ₹3,298.00', 'Offline Payment ₹399.00',\n",
       "       'Offline Payment ₹17,578.00', 'Offline Payment ₹19,900.00',\n",
       "       'Offline Payment ₹35,774.00', 'Offline Payment ₹599.00',\n",
       "       'Offline Payment ₹369.00', 'Offline Payment ₹19,176.00',\n",
       "       'Offline Payment ₹19,576.00', 'Offline Payment ₹9,950.00',\n",
       "       'Offline Payment ₹13,990.00', 'Offline Payment ₹22,064.67',\n",
       "       'Offline Payment ₹38,519.00', 'Offline Payment ₹10,198.00',\n",
       "       'Offline Payment ₹22,980.00', 'Offline Payment ₹18,995.00',\n",
       "       'Offline Payment ₹22,995.00', 'Offline Payment ₹340.00',\n",
       "       'Offline Payment ₹899.00', 'Offline Payment ₹15,597.00',\n",
       "       'Offline Payment ₹22,485.00', 'CCAvenue ₹20,238.75',\n",
       "       'CCAvenue ₹299.00', 'CCAvenue ₹1,799.00',\n",
       "       'Offline Payment ₹10,398.00', 'Offline Payment ₹269.00',\n",
       "       'Offline Payment ₹1,095.00', 'Offline Payment ₹4,599.00',\n",
       "       'CCAvenue ₹749.00', 'Offline Payment ₹10,500.00',\n",
       "       'Offline Payment ₹3,399.00', 'Offline Payment ₹1,050.00',\n",
       "       'Offline Payment ₹300.00', 'Offline Payment ₹249.00',\n",
       "       'Offline Payment ₹522.50', 'Offline Payment ₹1,166.10',\n",
       "       'Offline Payment ₹250.00', 'CCAvenue ₹100.00',\n",
       "       'Offline Payment ₹12,500.00', 'Offline Payment ₹500.00',\n",
       "       'CCAvenue ₹300.00', 'CCAvenue ₹800.00', 'Offline Payment ₹100.00',\n",
       "       'Offline Payment ₹150.00', 'Offline Payment ₹2,000.00'],\n",
       "      dtype=object)"
      ]
     },
     "execution_count": 42,
     "metadata": {},
     "output_type": "execute_result"
    }
   ],
   "source": [
    "pay_method_data['Payment Method'].unique()"
   ]
  },
  {
   "attachments": {},
   "cell_type": "markdown",
   "metadata": {},
   "source": [
    "We can see that her is two type of payment method and values are mixed up with price"
   ]
  },
  {
   "attachments": {},
   "cell_type": "markdown",
   "metadata": {},
   "source": [
    "Using the where function of numpy to change the values."
   ]
  },
  {
   "cell_type": "code",
   "execution_count": 43,
   "metadata": {},
   "outputs": [
    {
     "name": "stderr",
     "output_type": "stream",
     "text": [
      "C:\\Users\\Admin\\AppData\\Local\\Temp\\ipykernel_11140\\3840913070.py:1: SettingWithCopyWarning:\n",
      "\n",
      "\n",
      "A value is trying to be set on a copy of a slice from a DataFrame.\n",
      "Try using .loc[row_indexer,col_indexer] = value instead\n",
      "\n",
      "See the caveats in the documentation: https://pandas.pydata.org/pandas-docs/stable/user_guide/indexing.html#returning-a-view-versus-a-copy\n",
      "\n"
     ]
    }
   ],
   "source": [
    "pay_method_data['Payment Method'] = np.where(pay_method_data['Payment Method'].str.contains('CCAven'), \"CCAvenue\", \"Offline Payment\")"
   ]
  },
  {
   "cell_type": "code",
   "execution_count": 44,
   "metadata": {},
   "outputs": [
    {
     "data": {
      "text/plain": [
       "array(['CCAvenue', 'Offline Payment'], dtype=object)"
      ]
     },
     "execution_count": 44,
     "metadata": {},
     "output_type": "execute_result"
    }
   ],
   "source": [
    "pay_method_data['Payment Method'].unique()"
   ]
  },
  {
   "attachments": {},
   "cell_type": "markdown",
   "metadata": {},
   "source": [
    "Handling Duplicates in dataset"
   ]
  },
  {
   "cell_type": "code",
   "execution_count": 45,
   "metadata": {},
   "outputs": [
    {
     "data": {
      "text/plain": [
       "2"
      ]
     },
     "execution_count": 45,
     "metadata": {},
     "output_type": "execute_result"
    }
   ],
   "source": [
    "pay_method_data.duplicated().sum()"
   ]
  },
  {
   "cell_type": "code",
   "execution_count": 46,
   "metadata": {},
   "outputs": [
    {
     "data": {
      "text/html": [
       "<div>\n",
       "<style scoped>\n",
       "    .dataframe tbody tr th:only-of-type {\n",
       "        vertical-align: middle;\n",
       "    }\n",
       "\n",
       "    .dataframe tbody tr th {\n",
       "        vertical-align: top;\n",
       "    }\n",
       "\n",
       "    .dataframe thead th {\n",
       "        text-align: right;\n",
       "    }\n",
       "</style>\n",
       "<table border=\"1\" class=\"dataframe\">\n",
       "  <thead>\n",
       "    <tr style=\"text-align: right;\">\n",
       "      <th></th>\n",
       "      <th>Order No</th>\n",
       "      <th>DateTime Stamp</th>\n",
       "      <th>Currency</th>\n",
       "      <th>Total</th>\n",
       "      <th>Shipping Country</th>\n",
       "      <th>Shipping City</th>\n",
       "      <th>Shipping State</th>\n",
       "      <th>Payment Method</th>\n",
       "      <th>Product Name</th>\n",
       "      <th>Quantity</th>\n",
       "    </tr>\n",
       "  </thead>\n",
       "  <tbody>\n",
       "    <tr>\n",
       "      <th>26</th>\n",
       "      <td>R113535804</td>\n",
       "      <td>NaN</td>\n",
       "      <td>INR</td>\n",
       "      <td>999</td>\n",
       "      <td>IND</td>\n",
       "      <td>Dombivali</td>\n",
       "      <td>IN-MH</td>\n",
       "      <td>CCAvenue</td>\n",
       "      <td>Lava Captain N1 Red</td>\n",
       "      <td>1</td>\n",
       "    </tr>\n",
       "    <tr>\n",
       "      <th>137</th>\n",
       "      <td>R913187467</td>\n",
       "      <td>NaN</td>\n",
       "      <td>INR</td>\n",
       "      <td>219</td>\n",
       "      <td>IND</td>\n",
       "      <td>Kakinada</td>\n",
       "      <td>IN-AP</td>\n",
       "      <td>CCAvenue</td>\n",
       "      <td>Fresh Mushrooms Button 200gm (Berhampur)</td>\n",
       "      <td>1</td>\n",
       "    </tr>\n",
       "    <tr>\n",
       "      <th>138</th>\n",
       "      <td>R204461089</td>\n",
       "      <td>NaN</td>\n",
       "      <td>INR</td>\n",
       "      <td>1499</td>\n",
       "      <td>IND</td>\n",
       "      <td>Dindigul</td>\n",
       "      <td>IN-TN</td>\n",
       "      <td>CCAvenue</td>\n",
       "      <td>Vmax HX 750 Quadcopter Drone (No Camera)</td>\n",
       "      <td>1</td>\n",
       "    </tr>\n",
       "    <tr>\n",
       "      <th>146</th>\n",
       "      <td>R602350202</td>\n",
       "      <td>NaN</td>\n",
       "      <td>INR</td>\n",
       "      <td>349</td>\n",
       "      <td>IND</td>\n",
       "      <td>Bengaluru</td>\n",
       "      <td>IN-KA</td>\n",
       "      <td>CCAvenue</td>\n",
       "      <td>Boat Super EXTRA BASS HEADS 225 WIRED WITH MIC...</td>\n",
       "      <td>1</td>\n",
       "    </tr>\n",
       "    <tr>\n",
       "      <th>147</th>\n",
       "      <td>R760464983</td>\n",
       "      <td>NaN</td>\n",
       "      <td>INR</td>\n",
       "      <td>799</td>\n",
       "      <td>IND</td>\n",
       "      <td>NOIDA</td>\n",
       "      <td>IN-UP</td>\n",
       "      <td>CCAvenue</td>\n",
       "      <td>Solanki King Car Bugatti Style Steering Radio ...</td>\n",
       "      <td>1</td>\n",
       "    </tr>\n",
       "  </tbody>\n",
       "</table>\n",
       "</div>"
      ],
      "text/plain": [
       "       Order No DateTime Stamp Currency Total Shipping Country Shipping City  \\\n",
       "26   R113535804            NaN      INR   999              IND     Dombivali   \n",
       "137  R913187467            NaN      INR   219              IND      Kakinada   \n",
       "138  R204461089            NaN      INR  1499              IND      Dindigul   \n",
       "146  R602350202            NaN      INR   349              IND     Bengaluru   \n",
       "147  R760464983            NaN      INR   799              IND         NOIDA   \n",
       "\n",
       "    Shipping State Payment Method  \\\n",
       "26           IN-MH       CCAvenue   \n",
       "137          IN-AP       CCAvenue   \n",
       "138          IN-TN       CCAvenue   \n",
       "146          IN-KA       CCAvenue   \n",
       "147          IN-UP       CCAvenue   \n",
       "\n",
       "                                          Product Name  Quantity  \n",
       "26                                 Lava Captain N1 Red         1  \n",
       "137           Fresh Mushrooms Button 200gm (Berhampur)         1  \n",
       "138           Vmax HX 750 Quadcopter Drone (No Camera)         1  \n",
       "146  Boat Super EXTRA BASS HEADS 225 WIRED WITH MIC...         1  \n",
       "147  Solanki King Car Bugatti Style Steering Radio ...         1  "
      ]
     },
     "execution_count": 46,
     "metadata": {},
     "output_type": "execute_result"
    }
   ],
   "source": [
    "pay_method_data.drop_duplicates()\n",
    "pay_method_data.head()"
   ]
  },
  {
   "cell_type": "code",
   "execution_count": 47,
   "metadata": {},
   "outputs": [
    {
     "data": {
      "text/html": [
       "<div>\n",
       "<style scoped>\n",
       "    .dataframe tbody tr th:only-of-type {\n",
       "        vertical-align: middle;\n",
       "    }\n",
       "\n",
       "    .dataframe tbody tr th {\n",
       "        vertical-align: top;\n",
       "    }\n",
       "\n",
       "    .dataframe thead th {\n",
       "        text-align: right;\n",
       "    }\n",
       "</style>\n",
       "<table border=\"1\" class=\"dataframe\">\n",
       "  <thead>\n",
       "    <tr style=\"text-align: right;\">\n",
       "      <th></th>\n",
       "      <th>Payment Method</th>\n",
       "      <th>Order No</th>\n",
       "    </tr>\n",
       "  </thead>\n",
       "  <tbody>\n",
       "    <tr>\n",
       "      <th>0</th>\n",
       "      <td>CCAvenue</td>\n",
       "      <td>60</td>\n",
       "    </tr>\n",
       "    <tr>\n",
       "      <th>1</th>\n",
       "      <td>Offline Payment</td>\n",
       "      <td>199</td>\n",
       "    </tr>\n",
       "  </tbody>\n",
       "</table>\n",
       "</div>"
      ],
      "text/plain": [
       "    Payment Method  Order No\n",
       "0         CCAvenue        60\n",
       "1  Offline Payment       199"
      ]
     },
     "execution_count": 47,
     "metadata": {},
     "output_type": "execute_result"
    }
   ],
   "source": [
    "count_method = pay_method_data.groupby(['Payment Method'], as_index=False)['Order No'].count()\n",
    "count_method"
   ]
  },
  {
   "cell_type": "code",
   "execution_count": 243,
   "metadata": {},
   "outputs": [
    {
     "data": {
      "application/vnd.plotly.v1+json": {
       "config": {
        "plotlyServerURL": "https://plot.ly"
       },
       "data": [
        {
         "alignmentgroup": "True",
         "hovertemplate": "Payment Method=%{x}<br>Number of Orders=%{y}<extra></extra>",
         "legendgroup": "CCAvenue",
         "marker": {
          "color": "#636efa",
          "pattern": {
           "shape": ""
          }
         },
         "name": "CCAvenue",
         "offsetgroup": "CCAvenue",
         "orientation": "v",
         "showlegend": true,
         "textposition": "auto",
         "texttemplate": "%{y}",
         "type": "bar",
         "x": [
          "CCAvenue"
         ],
         "xaxis": "x",
         "y": [
          60
         ],
         "yaxis": "y"
        },
        {
         "alignmentgroup": "True",
         "hovertemplate": "Payment Method=%{x}<br>Number of Orders=%{y}<extra></extra>",
         "legendgroup": "Offline Payment",
         "marker": {
          "color": "#EF553B",
          "pattern": {
           "shape": ""
          }
         },
         "name": "Offline Payment",
         "offsetgroup": "Offline Payment",
         "orientation": "v",
         "showlegend": true,
         "textposition": "auto",
         "texttemplate": "%{y}",
         "type": "bar",
         "x": [
          "Offline Payment"
         ],
         "xaxis": "x",
         "y": [
          199
         ],
         "yaxis": "y"
        }
       ],
       "layout": {
        "barmode": "relative",
        "legend": {
         "title": {
          "text": "Payment Method"
         },
         "tracegroupgap": 0
        },
        "template": {
         "data": {
          "bar": [
           {
            "error_x": {
             "color": "#2a3f5f"
            },
            "error_y": {
             "color": "#2a3f5f"
            },
            "marker": {
             "line": {
              "color": "#E5ECF6",
              "width": 0.5
             },
             "pattern": {
              "fillmode": "overlay",
              "size": 10,
              "solidity": 0.2
             }
            },
            "type": "bar"
           }
          ],
          "barpolar": [
           {
            "marker": {
             "line": {
              "color": "#E5ECF6",
              "width": 0.5
             },
             "pattern": {
              "fillmode": "overlay",
              "size": 10,
              "solidity": 0.2
             }
            },
            "type": "barpolar"
           }
          ],
          "carpet": [
           {
            "aaxis": {
             "endlinecolor": "#2a3f5f",
             "gridcolor": "white",
             "linecolor": "white",
             "minorgridcolor": "white",
             "startlinecolor": "#2a3f5f"
            },
            "baxis": {
             "endlinecolor": "#2a3f5f",
             "gridcolor": "white",
             "linecolor": "white",
             "minorgridcolor": "white",
             "startlinecolor": "#2a3f5f"
            },
            "type": "carpet"
           }
          ],
          "choropleth": [
           {
            "colorbar": {
             "outlinewidth": 0,
             "ticks": ""
            },
            "type": "choropleth"
           }
          ],
          "contour": [
           {
            "colorbar": {
             "outlinewidth": 0,
             "ticks": ""
            },
            "colorscale": [
             [
              0,
              "#0d0887"
             ],
             [
              0.1111111111111111,
              "#46039f"
             ],
             [
              0.2222222222222222,
              "#7201a8"
             ],
             [
              0.3333333333333333,
              "#9c179e"
             ],
             [
              0.4444444444444444,
              "#bd3786"
             ],
             [
              0.5555555555555556,
              "#d8576b"
             ],
             [
              0.6666666666666666,
              "#ed7953"
             ],
             [
              0.7777777777777778,
              "#fb9f3a"
             ],
             [
              0.8888888888888888,
              "#fdca26"
             ],
             [
              1,
              "#f0f921"
             ]
            ],
            "type": "contour"
           }
          ],
          "contourcarpet": [
           {
            "colorbar": {
             "outlinewidth": 0,
             "ticks": ""
            },
            "type": "contourcarpet"
           }
          ],
          "heatmap": [
           {
            "colorbar": {
             "outlinewidth": 0,
             "ticks": ""
            },
            "colorscale": [
             [
              0,
              "#0d0887"
             ],
             [
              0.1111111111111111,
              "#46039f"
             ],
             [
              0.2222222222222222,
              "#7201a8"
             ],
             [
              0.3333333333333333,
              "#9c179e"
             ],
             [
              0.4444444444444444,
              "#bd3786"
             ],
             [
              0.5555555555555556,
              "#d8576b"
             ],
             [
              0.6666666666666666,
              "#ed7953"
             ],
             [
              0.7777777777777778,
              "#fb9f3a"
             ],
             [
              0.8888888888888888,
              "#fdca26"
             ],
             [
              1,
              "#f0f921"
             ]
            ],
            "type": "heatmap"
           }
          ],
          "heatmapgl": [
           {
            "colorbar": {
             "outlinewidth": 0,
             "ticks": ""
            },
            "colorscale": [
             [
              0,
              "#0d0887"
             ],
             [
              0.1111111111111111,
              "#46039f"
             ],
             [
              0.2222222222222222,
              "#7201a8"
             ],
             [
              0.3333333333333333,
              "#9c179e"
             ],
             [
              0.4444444444444444,
              "#bd3786"
             ],
             [
              0.5555555555555556,
              "#d8576b"
             ],
             [
              0.6666666666666666,
              "#ed7953"
             ],
             [
              0.7777777777777778,
              "#fb9f3a"
             ],
             [
              0.8888888888888888,
              "#fdca26"
             ],
             [
              1,
              "#f0f921"
             ]
            ],
            "type": "heatmapgl"
           }
          ],
          "histogram": [
           {
            "marker": {
             "pattern": {
              "fillmode": "overlay",
              "size": 10,
              "solidity": 0.2
             }
            },
            "type": "histogram"
           }
          ],
          "histogram2d": [
           {
            "colorbar": {
             "outlinewidth": 0,
             "ticks": ""
            },
            "colorscale": [
             [
              0,
              "#0d0887"
             ],
             [
              0.1111111111111111,
              "#46039f"
             ],
             [
              0.2222222222222222,
              "#7201a8"
             ],
             [
              0.3333333333333333,
              "#9c179e"
             ],
             [
              0.4444444444444444,
              "#bd3786"
             ],
             [
              0.5555555555555556,
              "#d8576b"
             ],
             [
              0.6666666666666666,
              "#ed7953"
             ],
             [
              0.7777777777777778,
              "#fb9f3a"
             ],
             [
              0.8888888888888888,
              "#fdca26"
             ],
             [
              1,
              "#f0f921"
             ]
            ],
            "type": "histogram2d"
           }
          ],
          "histogram2dcontour": [
           {
            "colorbar": {
             "outlinewidth": 0,
             "ticks": ""
            },
            "colorscale": [
             [
              0,
              "#0d0887"
             ],
             [
              0.1111111111111111,
              "#46039f"
             ],
             [
              0.2222222222222222,
              "#7201a8"
             ],
             [
              0.3333333333333333,
              "#9c179e"
             ],
             [
              0.4444444444444444,
              "#bd3786"
             ],
             [
              0.5555555555555556,
              "#d8576b"
             ],
             [
              0.6666666666666666,
              "#ed7953"
             ],
             [
              0.7777777777777778,
              "#fb9f3a"
             ],
             [
              0.8888888888888888,
              "#fdca26"
             ],
             [
              1,
              "#f0f921"
             ]
            ],
            "type": "histogram2dcontour"
           }
          ],
          "mesh3d": [
           {
            "colorbar": {
             "outlinewidth": 0,
             "ticks": ""
            },
            "type": "mesh3d"
           }
          ],
          "parcoords": [
           {
            "line": {
             "colorbar": {
              "outlinewidth": 0,
              "ticks": ""
             }
            },
            "type": "parcoords"
           }
          ],
          "pie": [
           {
            "automargin": true,
            "type": "pie"
           }
          ],
          "scatter": [
           {
            "fillpattern": {
             "fillmode": "overlay",
             "size": 10,
             "solidity": 0.2
            },
            "type": "scatter"
           }
          ],
          "scatter3d": [
           {
            "line": {
             "colorbar": {
              "outlinewidth": 0,
              "ticks": ""
             }
            },
            "marker": {
             "colorbar": {
              "outlinewidth": 0,
              "ticks": ""
             }
            },
            "type": "scatter3d"
           }
          ],
          "scattercarpet": [
           {
            "marker": {
             "colorbar": {
              "outlinewidth": 0,
              "ticks": ""
             }
            },
            "type": "scattercarpet"
           }
          ],
          "scattergeo": [
           {
            "marker": {
             "colorbar": {
              "outlinewidth": 0,
              "ticks": ""
             }
            },
            "type": "scattergeo"
           }
          ],
          "scattergl": [
           {
            "marker": {
             "colorbar": {
              "outlinewidth": 0,
              "ticks": ""
             }
            },
            "type": "scattergl"
           }
          ],
          "scattermapbox": [
           {
            "marker": {
             "colorbar": {
              "outlinewidth": 0,
              "ticks": ""
             }
            },
            "type": "scattermapbox"
           }
          ],
          "scatterpolar": [
           {
            "marker": {
             "colorbar": {
              "outlinewidth": 0,
              "ticks": ""
             }
            },
            "type": "scatterpolar"
           }
          ],
          "scatterpolargl": [
           {
            "marker": {
             "colorbar": {
              "outlinewidth": 0,
              "ticks": ""
             }
            },
            "type": "scatterpolargl"
           }
          ],
          "scatterternary": [
           {
            "marker": {
             "colorbar": {
              "outlinewidth": 0,
              "ticks": ""
             }
            },
            "type": "scatterternary"
           }
          ],
          "surface": [
           {
            "colorbar": {
             "outlinewidth": 0,
             "ticks": ""
            },
            "colorscale": [
             [
              0,
              "#0d0887"
             ],
             [
              0.1111111111111111,
              "#46039f"
             ],
             [
              0.2222222222222222,
              "#7201a8"
             ],
             [
              0.3333333333333333,
              "#9c179e"
             ],
             [
              0.4444444444444444,
              "#bd3786"
             ],
             [
              0.5555555555555556,
              "#d8576b"
             ],
             [
              0.6666666666666666,
              "#ed7953"
             ],
             [
              0.7777777777777778,
              "#fb9f3a"
             ],
             [
              0.8888888888888888,
              "#fdca26"
             ],
             [
              1,
              "#f0f921"
             ]
            ],
            "type": "surface"
           }
          ],
          "table": [
           {
            "cells": {
             "fill": {
              "color": "#EBF0F8"
             },
             "line": {
              "color": "white"
             }
            },
            "header": {
             "fill": {
              "color": "#C8D4E3"
             },
             "line": {
              "color": "white"
             }
            },
            "type": "table"
           }
          ]
         },
         "layout": {
          "annotationdefaults": {
           "arrowcolor": "#2a3f5f",
           "arrowhead": 0,
           "arrowwidth": 1
          },
          "autotypenumbers": "strict",
          "coloraxis": {
           "colorbar": {
            "outlinewidth": 0,
            "ticks": ""
           }
          },
          "colorscale": {
           "diverging": [
            [
             0,
             "#8e0152"
            ],
            [
             0.1,
             "#c51b7d"
            ],
            [
             0.2,
             "#de77ae"
            ],
            [
             0.3,
             "#f1b6da"
            ],
            [
             0.4,
             "#fde0ef"
            ],
            [
             0.5,
             "#f7f7f7"
            ],
            [
             0.6,
             "#e6f5d0"
            ],
            [
             0.7,
             "#b8e186"
            ],
            [
             0.8,
             "#7fbc41"
            ],
            [
             0.9,
             "#4d9221"
            ],
            [
             1,
             "#276419"
            ]
           ],
           "sequential": [
            [
             0,
             "#0d0887"
            ],
            [
             0.1111111111111111,
             "#46039f"
            ],
            [
             0.2222222222222222,
             "#7201a8"
            ],
            [
             0.3333333333333333,
             "#9c179e"
            ],
            [
             0.4444444444444444,
             "#bd3786"
            ],
            [
             0.5555555555555556,
             "#d8576b"
            ],
            [
             0.6666666666666666,
             "#ed7953"
            ],
            [
             0.7777777777777778,
             "#fb9f3a"
            ],
            [
             0.8888888888888888,
             "#fdca26"
            ],
            [
             1,
             "#f0f921"
            ]
           ],
           "sequentialminus": [
            [
             0,
             "#0d0887"
            ],
            [
             0.1111111111111111,
             "#46039f"
            ],
            [
             0.2222222222222222,
             "#7201a8"
            ],
            [
             0.3333333333333333,
             "#9c179e"
            ],
            [
             0.4444444444444444,
             "#bd3786"
            ],
            [
             0.5555555555555556,
             "#d8576b"
            ],
            [
             0.6666666666666666,
             "#ed7953"
            ],
            [
             0.7777777777777778,
             "#fb9f3a"
            ],
            [
             0.8888888888888888,
             "#fdca26"
            ],
            [
             1,
             "#f0f921"
            ]
           ]
          },
          "colorway": [
           "#636efa",
           "#EF553B",
           "#00cc96",
           "#ab63fa",
           "#FFA15A",
           "#19d3f3",
           "#FF6692",
           "#B6E880",
           "#FF97FF",
           "#FECB52"
          ],
          "font": {
           "color": "#2a3f5f"
          },
          "geo": {
           "bgcolor": "white",
           "lakecolor": "white",
           "landcolor": "#E5ECF6",
           "showlakes": true,
           "showland": true,
           "subunitcolor": "white"
          },
          "hoverlabel": {
           "align": "left"
          },
          "hovermode": "closest",
          "mapbox": {
           "style": "light"
          },
          "paper_bgcolor": "white",
          "plot_bgcolor": "#E5ECF6",
          "polar": {
           "angularaxis": {
            "gridcolor": "white",
            "linecolor": "white",
            "ticks": ""
           },
           "bgcolor": "#E5ECF6",
           "radialaxis": {
            "gridcolor": "white",
            "linecolor": "white",
            "ticks": ""
           }
          },
          "scene": {
           "xaxis": {
            "backgroundcolor": "#E5ECF6",
            "gridcolor": "white",
            "gridwidth": 2,
            "linecolor": "white",
            "showbackground": true,
            "ticks": "",
            "zerolinecolor": "white"
           },
           "yaxis": {
            "backgroundcolor": "#E5ECF6",
            "gridcolor": "white",
            "gridwidth": 2,
            "linecolor": "white",
            "showbackground": true,
            "ticks": "",
            "zerolinecolor": "white"
           },
           "zaxis": {
            "backgroundcolor": "#E5ECF6",
            "gridcolor": "white",
            "gridwidth": 2,
            "linecolor": "white",
            "showbackground": true,
            "ticks": "",
            "zerolinecolor": "white"
           }
          },
          "shapedefaults": {
           "line": {
            "color": "#2a3f5f"
           }
          },
          "ternary": {
           "aaxis": {
            "gridcolor": "white",
            "linecolor": "white",
            "ticks": ""
           },
           "baxis": {
            "gridcolor": "white",
            "linecolor": "white",
            "ticks": ""
           },
           "bgcolor": "#E5ECF6",
           "caxis": {
            "gridcolor": "white",
            "linecolor": "white",
            "ticks": ""
           }
          },
          "title": {
           "x": 0.05
          },
          "xaxis": {
           "automargin": true,
           "gridcolor": "white",
           "linecolor": "white",
           "ticks": "",
           "title": {
            "standoff": 15
           },
           "zerolinecolor": "white",
           "zerolinewidth": 2
          },
          "yaxis": {
           "automargin": true,
           "gridcolor": "white",
           "linecolor": "white",
           "ticks": "",
           "title": {
            "standoff": 15
           },
           "zerolinecolor": "white",
           "zerolinewidth": 2
          }
         }
        },
        "title": {
         "text": "Different Payment Methods"
        },
        "xaxis": {
         "anchor": "y",
         "categoryarray": [
          "CCAvenue",
          "Offline Payment"
         ],
         "categoryorder": "array",
         "domain": [
          0,
          1
         ],
         "title": {
          "text": "Payment Method"
         }
        },
        "yaxis": {
         "anchor": "x",
         "domain": [
          0,
          1
         ],
         "title": {
          "text": "Number of Orders"
         }
        }
       }
      }
     },
     "metadata": {},
     "output_type": "display_data"
    }
   ],
   "source": [
    "payment_fig = px.bar(count_method, x='Payment Method', y='Order No', color=\"Payment Method\", title='Different Payment Methods',\n",
    "        text_auto=True, labels={'Order No':'Number of Orders'})\n",
    "payment_fig.show()"
   ]
  },
  {
   "attachments": {},
   "cell_type": "markdown",
   "metadata": {},
   "source": [
    "##### Result - Here we can see that mostly payment method used by customers is Offline Payment"
   ]
  },
  {
   "attachments": {},
   "cell_type": "markdown",
   "metadata": {},
   "source": [
    "##### 4) Top Products with high sales according to Payment Method."
   ]
  },
  {
   "cell_type": "code",
   "execution_count": 49,
   "metadata": {},
   "outputs": [
    {
     "data": {
      "text/plain": [
       "Order No               0\n",
       "DateTime Stamp      2801\n",
       "Currency               0\n",
       "Total                  0\n",
       "Shipping Country       0\n",
       "Shipping City         19\n",
       "Shipping State        22\n",
       "Payment Method      2780\n",
       "Product Name           0\n",
       "Quantity               0\n",
       "dtype: int64"
      ]
     },
     "execution_count": 49,
     "metadata": {},
     "output_type": "execute_result"
    }
   ],
   "source": [
    "data.isnull().sum()"
   ]
  },
  {
   "cell_type": "code",
   "execution_count": 50,
   "metadata": {},
   "outputs": [
    {
     "name": "stdout",
     "output_type": "stream",
     "text": [
      "list[array(['Falcon Drone Four Axis Aircraft with 2.4 GHz RC, Blade Guard, Headless Mode LED Without Camera',\n",
      "       'Barbie Doll (pink)',\n",
      "       'Sony MDR-G45LP On-Ear Street Wired Headphone',\n",
      "       'Reliance Jio Phone 2',\n",
      "       'QUECHUA Ultra Compact Travel 10 Litre Backpack (Blue)',\n",
      "       'Lava Captain N1 Red',\n",
      "       'Zebronics ZEB-16A 16 inch (39.6 cm) LED Monitor Full HD',\n",
      "       'Spider Man Mini Drone',\n",
      "       'Candytech SPEEDO Dual USB Charger with 2.6 Amp Power',\n",
      "       'ONLINE TUITION FOR STD 4 and STD 5(FREE 5 DAYS DEMO CBSE)',\n",
      "       'Samsung Earphones With Mic Tuned by AKG (Black)',\n",
      "       'Vmax HX 750 Quadcopter Drone (No Camera)',\n",
      "       'Fun Activities for Kids LKG to STD 10(Singing, Dancing, Drawing, Craft, Music, Yoga, Karate)',\n",
      "       'JBL A005 Portable Led Lightning Wireless Bluetooth Speaker',\n",
      "       'Quarter Chicken Biryani (Chennai)', 'Boat BASS HEADS 152 (Black)',\n",
      "       'Fresh Paneer 500gm (Berhampur)',\n",
      "       'boAT Airdopes X3 Bass Wireless Earbuds with Charging Case (White)',\n",
      "       '1KG Chicken Biryani (Chennai)',\n",
      "       'boAt BassHeads 229 Metal Earphones Hifi Stereo Headsets Metal Headphones With Mic',\n",
      "       'Drone Workshop Training Program',\n",
      "       'The Amazing Spider Man Micro Drone Q Series Hyun Lights Upgraded Quadcopter Headless Mode One Key Features',\n",
      "       'Super Power JCB Truck Construction Loader Excavator Crane Toys',\n",
      "       'Samsung U Flex Wireless Bluetooth Flexible Headphones with Mic (Black)',\n",
      "       'REALME BUDS PLUS Wireless Bluetooth Ears Buds Headphone',\n",
      "       'JBL Tempo On-Ear Headphone',\n",
      "       'Nova NHC-3791 Electric Hair Trimmer (Black)',\n",
      "       'Barbie Doll Toy Combo pack(2 Pack)', 'Reliance Jio Phone',\n",
      "       'REALME YOUTH BUDS Wireless Bluetooth Headphone',\n",
      "       'Zebronics ZEB-A19 19-inch LED Monitor',\n",
      "       'Refer and Earn Rs.2000 and Get Free Partnership Gift',\n",
      "       'Mutton Curry Cut 500gm (Berhampur)', 'Hot Wheels Car 5 Gift Pack',\n",
      "       'Puppy House Coin Piggy Bank', 'Summer Internship Gift',\n",
      "       'QUECHUA Mini Laptop Bag 10 Liter- Red/Black',\n",
      "       'Zebronics Radiant Multimedia Gaming Keyboard',\n",
      "       'DIGISonic DS1601 42cm (16) FULL HD LED Television',\n",
      "       'Boat Nirvanaa Uno Wired In-ear Earphones with Mic (Black)',\n",
      "       'SONY PlayStation PS4 PRO 1TB Hard Disk(Black)',\n",
      "       '1 Bucket Chicken Biryani Party Pack 5kg (Chennai)',\n",
      "       'OnePlus Bullets Wireless 3 Bluetooth Headphone(Black)',\n",
      "       'REALME Buds Air Tone Wireless Headphone',\n",
      "       'Preethi Zodiac MG 218 750-Watt Mixer Grinder with 5 Jars Black',\n",
      "       'ONLINE TUTION FOR CLASS- NURSERY,LKG,UKG(FREE 5 DAYS DEMO CLASS)',\n",
      "       'Chhota Bheem Remote Control Car',\n",
      "       'Skullcandy Earphone With Pouch Bag', 'Toy Family Doll House Set',\n",
      "       'Boat Rockerz 225 Plastic Wireless Bluetooth Headset with Mic (Black)',\n",
      "       'Zebronics ZEBVR100 Virtual Reality Kit VR box 3D 360 Degree',\n",
      "       'King Driver Remote Control Car',\n",
      "       'HX-715 Flying Helicopter With Remote Control Toy',\n",
      "       'Zebronics SAGA Portable Bluetooth wireless speaker',\n",
      "       'Boat BassHeads 250 with Hifi Sound Effect, in-line mic, Clear Human Voice,Noise Isolation With Precise Bass Wired Earphones (Black)',\n",
      "       'Berhampur Special Masala Papad 250gm',\n",
      "       'Fresh Mushrooms Button 200gm (Berhampur)',\n",
      "       'Country Chicken (Desi Murga) Curry Cut with skin 500gm(Berhampur)',\n",
      "       'Men Formal Shoes Black Color With Free Sunglasses',\n",
      "       'Mutton Curry Cut 1kg (Berhampur)',\n",
      "       'Boat Super EXTRA BASS HEADS 225 WIRED WITH MIC (Black)',\n",
      "       'Solanki King Car Bugatti Style Steering Radio Control Rechargeable Car',\n",
      "       'WS887 Mini Wireless Bluetooth Speaker',\n",
      "       'Sony PlayStation PS2 Gaming Console 150 GB Hard Disk With 50 Games Preloaded(Black)',\n",
      "       'Boat Rockerz 530 Foldable Bluetooth Headphone with Mic (Carbon Black)',\n",
      "       'boAt BassHeads 225 Wired Headphones with Mic and Carrying Case (Black)',\n",
      "       'VMax HX763 Vision Drone 2.4GHz RC Quad-copter Headless Mode One Key Without Camera',\n",
      "       'Realme Buds Wireless 2 Bluetooth In the Ear Headphone (Black)',\n",
      "       'SanDisk 16 GB memory card',\n",
      "       'ONLINE TUITION for CLASS 6TH TO 8TH (FREE 5 DAYS DEMO CLASS)',\n",
      "       'Samsung Level U Bluetooth Wireless in-Ear Headphones With Mic (Black)',\n",
      "       'Mi Wired Headphones with Mic Ultra-Deep Bass (Black)',\n",
      "       'Avengers Captain America Drone Four Axis Aircraft with 2.4 GHz Without Camera',\n",
      "       'Country Chicken (Desi Murga) raw with skin 1kg(Berhampur)',\n",
      "       'Candytech H111i Supersonic Bass earphone Wired Headset With Mic',\n",
      "       'LED TV Installation Uninstall Repair Services',\n",
      "       'Fresh Cow Milk 1Liter(Berhampur)',\n",
      "       'Kids Drone Quadcopter 2.4G 6-Channel Without Camera',\n",
      "       'Lg Tone Pro Hbs-750 Bluetooth Headset',\n",
      "       'Little Chef Kitchen Set With Convertible Suitcase',\n",
      "       'Vakura Catla River Fish Cutting(No Head) 1Kg(Berhampur)',\n",
      "       'Mutton Chops Special(kashi) 500gm(Berhampur)',\n",
      "       'Combo pack Toys Savoir Robot and Barbie doll',\n",
      "       'Realme Buds Wireless BlueTooth Headset(Black)',\n",
      "       'Business Analyst Internship Training Program',\n",
      "       'REALME Buds Wireless Bluetooth Headphone',\n",
      "       \"KING'S CLASSIC INSTANT COFFEE\",\n",
      "       'FERNWEH ORIGINALS INSTANT COFFEE', 'Minions Mini Drone',\n",
      "       'Diabolo Captain America Civil War Q Series Hyun Lights Upgraded Mini Drone Without Camera',\n",
      "       'Sony EX31BN Noise-Cancelling Bluetooth® In-ear Headphones',\n",
      "       'HR and Finance Dual Internship Training Course',\n",
      "       'Yoshops VR BOX Virtual Reality Glasses Headset 2.0 View Suitable For 4-6 Inch Smartphones',\n",
      "       'Boat Rockerz 255 Wireless Bluetooth Headset with Mic (Black)',\n",
      "       'Sony PlayStation PS3 Console Slim 320 GB (Black)',\n",
      "       'Boat BassHeads 160 with Mic Wired Stereo Headset (Black)',\n",
      "       'Samsung Galaxy M01 Core 1GB RAM with 16GB Storage (Black,Blue,Red)',\n",
      "       'YouTuber Prabeen Kumar -YouTube Channel-3 Subscriber-504 Instagram Follower-3k',\n",
      "       'Digital Marketing Internship Training Program',\n",
      "       'Artificial Intelligence and Machine learning Internship Training Program',\n",
      "       'Kasi yatra set silk cotton fabric decorated with rich kundans, brooches and laces',\n",
      "       'MitSonic 20 Inches (53 cm) FULL HD Gorilla Glass LED TV',\n",
      "       'Sony PlayStation PS2 Gaming Console PS2 150 GB Hard Disk With 50 Games Preloaded(Black)',\n",
      "       'Boat Rockerz 530 Bluetooth Headphone with Mic (Carbon Black)',\n",
      "       'Web Design & Development Internship Training Program',\n",
      "       'Vmax Voyager HX756 Drones Without Camera',\n",
      "       'Data Science Internship Training Program',\n",
      "       'Zebronics External TV Tuner Card TL1010',\n",
      "       'Flying Avengers Hero Induction Control helicopter',\n",
      "       'QUECHUA Ultra-Compact Backpack10-Litre - Black',\n",
      "       'HX770 V-Max Aircraft Drone',\n",
      "       'Preethi Armour 1.0L Electric Kettle',\n",
      "       'Avengers Captain America Drone Four Axis Aircraft with 2.4 GHz RC, Blade Guard, Headless Mode LED Without Camera',\n",
      "       'Zebronics ZEB-U740 UPS 600VA',\n",
      "       'Avengers Captain America Four Axis Aircraft Drone with 2.4 GHz RC, Blade Guard, Headless Mode LED Without Camera',\n",
      "       'Toy Gundam Robot with Gun (Red)',\n",
      "       'Vogue Girl Beautiful Fashion Doll',\n",
      "       'Sony On-Ear Headphone With Mic – MS177 (Black)',\n",
      "       'REALME RMA 950 BT EXTRA BASS Wireless Bluetooth Headphone',\n",
      "       'Realme Buds 3 Wired EARPHONE(Black)',\n",
      "       'Mi Neckband Bluetooth Headset with Mic (Black)',\n",
      "       'JBL Tempo On-Ear Headphone With Mic – J55iB (Black)',\n",
      "       'Realme Buds Wireless BT-R3 BlueTooth Headphone(Black)',\n",
      "       'JBL SH12 WIRELESS Bluetooth HEADPHONE',\n",
      "       'SYSKA Wireless EARPHONES H-15 BlueTooth Headphone(Black)',\n",
      "       'HX-713 Remote Control Helicopter',\n",
      "       'Samsung Galaxy M01 Core 2GB RAM with 32GB Storage (Black,Blue,Red)',\n",
      "       'Casio HR-100RC Printing Calculator',\n",
      "       'ZEBRONICS All-In-One USB Card Reader',\n",
      "       'Preethi STEELE SUPREME 750W 4 JAR MIXER GRINDER',\n",
      "       'SAMSUNG Travel Adapter White Battery Charger',\n",
      "       'Zebronics 18.5 inch Full HD LED Monitor',\n",
      "       'Boat Rockerz 335 STEREO EARPHONES (Black/Gold)',\n",
      "       'S52 Durable King Drone No Camera',\n",
      "       'Zebion Ergo PS2 USB Keyboard (Black and Red Keys)',\n",
      "       'HX708 Remote Control Helicopter',\n",
      "       'Ui Smart 5605N keypad phone Dual Sim(Black)',\n",
      "       'OnePlus Bullets Wireless3 BlueTooth Headphone(Black)',\n",
      "       'QUECHUA Sleeping Bag Arpenaz 20°C - Blue',\n",
      "       'Boat BassHeads 225 Super Extra Bass Headphone (Black)',\n",
      "       'Zebronics Card Reader VR BOX Special Combo',\n",
      "       'Preethi Trendy Plus Induction Cooktop', 'Wedding Doll Toy',\n",
      "       'JBL SH12 WIRELESS HEADPHONE', 'Cash On Delivery Services',\n",
      "       'Preethi Drip cafe Coffee Maker',\n",
      "       'Realme R-260 WIRE LES HEADPHONES',\n",
      "       'Dell KB216 Multimedia USB Wired Keyboard',\n",
      "       'Drone Quadcopter 2.4G 6-Channel Without Camera',\n",
      "       'Casio MJ-12SA Desktop Calculator -Black',\n",
      "       'Boat Rockerz 225 Metal Wireless Bluetooth Headset with Mic (Black)',\n",
      "       'Combo Meal Chicken Biriyani (Chennai)',\n",
      "       'BOROLINE ANTISEPTIC CREAM Combo',\n",
      "       'MI 10000mAH Li-Polymer Power Bank (Black)',\n",
      "       'Magic Tracks Bend Flex & Glow Racetrack with LED Flashing Race Cars Battery Operated',\n",
      "       'Ultra Thin Keyboard Cover for Laptop Keyboard',\n",
      "       'Laptop Spare Parts',\n",
      "       'Preethi X Pro Duo 1300 Watts Mixer Grinder Color(Purple)',\n",
      "       'Chicken Pakora-200Gm (Chennai)',\n",
      "       'Sales and Marketing Internship Training Course', 'Zebion Gamepad',\n",
      "       'Sony PlayStation 3 Console Slim 320 GB (Black)',\n",
      "       'QUECHUA Travel Multi-Compartment Pouch - Brown',\n",
      "       'Mobile Spare Part',\n",
      "       'Sony PlayStation PS2 with in-built DVD Player (Black)',\n",
      "       'Cheetah Construction Truck with Flash Excavator',\n",
      "       'Sony PlayStation 2 Gaming Console PS2 150 GB Hard Disk With 50 Games Preloaded(Black)',\n",
      "       'Zebronics H-100HM Headphone with Mic',\n",
      "       'Navigator Quadcopter Remote Control Drone',\n",
      "       'QY66 D1 Drone - 6 Axis Gyro RC Quadcopter - No camera',\n",
      "       'Sony PS4 Slim 1TB Console 1000 GB (Black)',\n",
      "       'Combo Set of 6 Pull Back Toy Car Small',\n",
      "       '3 Wheeled Scooter For Kids',\n",
      "       'Digital Signature Certificate (DSC) Class 2 valid for 2 Years with USB Device',\n",
      "       'Preethi Essence Juicer', 'Celkon C107 Black',\n",
      "       'Nokia BH-103 Bluetooth Stereo Headset with Mic',\n",
      "       'Mitsun MIT2210 20 Inches (51cm) HD Ready Ultra Slim Gorilla Glass LED TV',\n",
      "       'Mitsonic 24 Inches (60 cm) Full HD Gorilla Glass LED TV',\n",
      "       'Sony PlayStation 2 Gaming Console PS2 150 GB Hard Disk With 50 Games(Black)',\n",
      "       'DOMYOS S500 Boys Gym Sports Half-Sleeved T-Shirt (Grey)',\n",
      "       'Sony PlayStation 2 Console(PS2 150 GB) With 50 Games',\n",
      "       'KIPSTA Light Sports Bag 15 Litres - Blue',\n",
      "       'Captain America 2.4GHz RC Quad-copter Drone',\n",
      "       'Vmax Voyager HX756 Drones', 'Barbie Doll Toy',\n",
      "       'VMax HX763 Vision Drone 2.4GHz RC Quad-copter Headless Mode One Key Features 6 Axis Stabilization System Gyro 4 Channel',\n",
      "       'The Amazing Spider Man Q series 2.4GHz RC Quad-copter Drone',\n",
      "       'QUECHUA Laptop Bag', 'VMax HX763 Vision Drone',\n",
      "       'VR BOX Virtual Reality Glasses Headset 2.0',\n",
      "       'Zebronics ZEB-VR Virtual Reality Headset VR BOX',\n",
      "       'Bluedio i4 Stereo Bluetooth Earphone',\n",
      "       'Sony PlayStation 2 Console(PS2) With 50 Games',\n",
      "       'CHOTTA BHEEM Mini English learning laptop',\n",
      "       'Zebronics ZEB-EM750 Headphone with Mic',\n",
      "       'Vmax HX 750 Remote Control Flying Drone No Camera',\n",
      "       'JBL EARPHONE POUCH BLACK',\n",
      "       'MitSonic 16 inches (40cm) FULL HD Gorilla Glass LED TV',\n",
      "       'Y0-100 Wireless Mouse',\n",
      "       'Sony MDR-EX250AP In-Ear Headphones with Mic (Black)',\n",
      "       'Zebronics BH330 Bluetooth Headphones',\n",
      "       'Train With Track light music battery operated train toy',\n",
      "       'Bulldozer Hercules Power Driving Super Truck (Yellow)',\n",
      "       'Inteligent cute white tom cat with touch recording story & music',\n",
      "       'Super Aeroplanist Power Aeroplane Wired Rotating Plane',\n",
      "       'Home Nursing Service', 'Chicken Biryani Plate(Chennai)',\n",
      "       'YoShops Multi Pin Cable 4in1',\n",
      "       'HX 750 Remote Control Flying Drone No Camera',\n",
      "       'VMax Vision HX763 Drone Remote Control Quadrocopter',\n",
      "       '1KG Chicken Biryani', 'Funny Bricks and Blocks Set',\n",
      "       'MitSonic 16 inches (40cm) FULL HD LED TV',\n",
      "       'MitSonic 20 Inches (53 cm) FULL HD LED TV',\n",
      "       'MitSonic 16 inches (40cm) LED TV',\n",
      "       'Bose Earphone With Pouch Black',\n",
      "       'MitSonic MT2001 20 Inches (53cm) FULL HD LED Television',\n",
      "       'HX 750 Remote Control Flying Drone', 'Mushrooms Button 250 gm',\n",
      "       'Auto ePass 2003 FIPS USB Token',\n",
      "       'BOSE Sound True SQ2 Headphones (White,Black,Red)',\n",
      "       'Casio DR-140TM Printing Calculator',\n",
      "       'Sandisk 16 GB Utility Pendrive -Black',\n",
      "       'Preethi SPICE 550W 3 JAR MIXER GRINDER',\n",
      "       'PREETHI GALAXY 750 WATTS MIXER GRINDER (PINK)',\n",
      "       'MitSonic MT2001 53cm (20) FULL HD LED Television',\n",
      "       'Sony AS210 Sports In-ear Headphones',\n",
      "       'Flying Helicopter With Remote Control Toy',\n",
      "       'Zebronics Blue Bird Bluetooth Earphones',\n",
      "       'JBL C100SI Wired Headphones (Black,Red,White)',\n",
      "       'Bubly Belly Matic SS Pressure Cooker', 'Barbie Doll',\n",
      "       'VR BOX 2.0',\n",
      "       'Samsung Universal Mobile Charger USB Power Wall Adapter',\n",
      "       'Wedding Dolls', 'Flying Helicopter With Remote Control',\n",
      "       'BOSE Sound True SQ2  Headphones (White,Black,Red)',\n",
      "       'SAMSUNG Travel Adapter EP-TA13IWEUGIN White Battery Charger (White)',\n",
      "       'Zebion Ergo Wireless Slim Fit G1600 Keyboard and Mouse',\n",
      "       'Organic Raw Honey 250Gms',\n",
      "       'YO Earpods With Mic Compatible with Apple Phone',\n",
      "       'Yo145 OTG Cable ', 'Rosra Black Analog Watch',\n",
      "       'QUECHUA  Laptop Bag',\n",
      "       'Wireless Mouse,Multi Charger, Universal Adaptor,Head Phone with Mic,Laptop Led Light ',\n",
      "       'Mutton Biriyani', '1KG  Chicken Biryani',\n",
      "       'Yo 400  Wire Less Headphones (Bluetooth )',\n",
      "       ' Zebronics Wireless Optical Mouse', 'Movers Packer Service',\n",
      "       'Computer Repair Services', 'Micromax Canvas Lapbook',\n",
      "       'Designer Gown By ZARA', 'Zebronics 2400 mAh Power Bank - White',\n",
      "       'Philip SHQ2305WS  Wired Headphones  (Black,White)',\n",
      "       'JBL C100SI Wired Headphones (Black,Red,White,Blue)',\n",
      "       'JBL C100SI Wired Headphones (Black, In the Ear)',\n",
      "       'I Kall K-66 White',\n",
      "       'Philip SHQ2305WS  Wired Headphones  (Black, In the Ear)',\n",
      "       'Bose Sound True SQ2 Noise Cancelling Headphones ',\n",
      "       'YO- Earphones With Mic White',\n",
      "       'Bose Quiet Comfort 20 Acoustic Noise Cancelling Headphones (Black) ',\n",
      "       'AmbranePowerBank P-1310',\n",
      "       'Lenovo IdeaPad 100S-11 11.6-inch Laptop ',\n",
      "       'iBall Excelance CompBook 11.6-inch Laptop',\n",
      "       'Ear Wired Earphones With Mic White',\n",
      "       'Electric Steam Cooker Maestro MC1',\n",
      "       'AmbranePowerBank P-1111(white,Blue)', 'Samsung-Metro-350-White'],\n",
      "      dtype=object)]\n"
     ]
    }
   ],
   "source": [
    "def new_func():\n",
    "    return data['Product Name'].unique()\n",
    "print(list[new_func()])"
   ]
  },
  {
   "cell_type": "code",
   "execution_count": 51,
   "metadata": {},
   "outputs": [],
   "source": [
    "product_sale = data.copy()"
   ]
  },
  {
   "cell_type": "code",
   "execution_count": 52,
   "metadata": {},
   "outputs": [
    {
     "name": "stdout",
     "output_type": "stream",
     "text": [
      "<class 'pandas.core.frame.DataFrame'>\n",
      "RangeIndex: 3039 entries, 0 to 3038\n",
      "Data columns (total 10 columns):\n",
      " #   Column            Non-Null Count  Dtype \n",
      "---  ------            --------------  ----- \n",
      " 0   Order No          3039 non-null   object\n",
      " 1   DateTime Stamp    238 non-null    object\n",
      " 2   Currency          3039 non-null   object\n",
      " 3   Total             3039 non-null   object\n",
      " 4   Shipping Country  3039 non-null   object\n",
      " 5   Shipping City     3020 non-null   object\n",
      " 6   Shipping State    3017 non-null   object\n",
      " 7   Payment Method    259 non-null    object\n",
      " 8   Product Name      3039 non-null   object\n",
      " 9   Quantity          3039 non-null   int64 \n",
      "dtypes: int64(1), object(9)\n",
      "memory usage: 237.5+ KB\n"
     ]
    }
   ],
   "source": [
    "product_sale.info()"
   ]
  },
  {
   "attachments": {},
   "cell_type": "markdown",
   "metadata": {},
   "source": [
    "Handling the duplicate values in the dataset"
   ]
  },
  {
   "cell_type": "code",
   "execution_count": 53,
   "metadata": {},
   "outputs": [
    {
     "data": {
      "text/plain": [
       "3"
      ]
     },
     "execution_count": 53,
     "metadata": {},
     "output_type": "execute_result"
    }
   ],
   "source": [
    "product_sale.duplicated().sum()"
   ]
  },
  {
   "cell_type": "code",
   "execution_count": 54,
   "metadata": {},
   "outputs": [
    {
     "data": {
      "text/html": [
       "<div>\n",
       "<style scoped>\n",
       "    .dataframe tbody tr th:only-of-type {\n",
       "        vertical-align: middle;\n",
       "    }\n",
       "\n",
       "    .dataframe tbody tr th {\n",
       "        vertical-align: top;\n",
       "    }\n",
       "\n",
       "    .dataframe thead th {\n",
       "        text-align: right;\n",
       "    }\n",
       "</style>\n",
       "<table border=\"1\" class=\"dataframe\">\n",
       "  <thead>\n",
       "    <tr style=\"text-align: right;\">\n",
       "      <th></th>\n",
       "      <th>Order No</th>\n",
       "      <th>DateTime Stamp</th>\n",
       "      <th>Currency</th>\n",
       "      <th>Total</th>\n",
       "      <th>Shipping Country</th>\n",
       "      <th>Shipping City</th>\n",
       "      <th>Shipping State</th>\n",
       "      <th>Payment Method</th>\n",
       "      <th>Product Name</th>\n",
       "      <th>Quantity</th>\n",
       "    </tr>\n",
       "  </thead>\n",
       "  <tbody>\n",
       "    <tr>\n",
       "      <th>2558</th>\n",
       "      <td>R754403637</td>\n",
       "      <td>29-03-2019 00:59:45 +0530</td>\n",
       "      <td>INR</td>\n",
       "      <td>44970</td>\n",
       "      <td>IND</td>\n",
       "      <td>Varanasi</td>\n",
       "      <td>IN-UP</td>\n",
       "      <td>Offline Payment ₹44,970.00</td>\n",
       "      <td>Vmax HX 750 Remote Control Flying Drone No Camera</td>\n",
       "      <td>15</td>\n",
       "    </tr>\n",
       "    <tr>\n",
       "      <th>2614</th>\n",
       "      <td>R446418996</td>\n",
       "      <td>06-01-2019 01:33:48 +0530</td>\n",
       "      <td>INR</td>\n",
       "      <td>46166</td>\n",
       "      <td>IND</td>\n",
       "      <td>Varanasi</td>\n",
       "      <td>IN-UP</td>\n",
       "      <td>Offline Payment ₹46,166.00</td>\n",
       "      <td>Vmax HX 750 Remote Control Flying Drone No Camera</td>\n",
       "      <td>5</td>\n",
       "    </tr>\n",
       "    <tr>\n",
       "      <th>2714</th>\n",
       "      <td>R754510307</td>\n",
       "      <td>NaN</td>\n",
       "      <td>INR</td>\n",
       "      <td>36768</td>\n",
       "      <td>IND</td>\n",
       "      <td>Varanasi</td>\n",
       "      <td>IN-UP</td>\n",
       "      <td>NaN</td>\n",
       "      <td>HX 750 Remote Control Flying Drone No Camera</td>\n",
       "      <td>8</td>\n",
       "    </tr>\n",
       "  </tbody>\n",
       "</table>\n",
       "</div>"
      ],
      "text/plain": [
       "        Order No             DateTime Stamp Currency  Total Shipping Country  \\\n",
       "2558  R754403637  29-03-2019 00:59:45 +0530      INR  44970              IND   \n",
       "2614  R446418996  06-01-2019 01:33:48 +0530      INR  46166              IND   \n",
       "2714  R754510307                        NaN      INR  36768              IND   \n",
       "\n",
       "     Shipping City Shipping State              Payment Method  \\\n",
       "2558      Varanasi          IN-UP  Offline Payment ₹44,970.00   \n",
       "2614      Varanasi          IN-UP  Offline Payment ₹46,166.00   \n",
       "2714      Varanasi          IN-UP                         NaN   \n",
       "\n",
       "                                           Product Name  Quantity  \n",
       "2558  Vmax HX 750 Remote Control Flying Drone No Camera        15  \n",
       "2614  Vmax HX 750 Remote Control Flying Drone No Camera         5  \n",
       "2714       HX 750 Remote Control Flying Drone No Camera         8  "
      ]
     },
     "execution_count": 54,
     "metadata": {},
     "output_type": "execute_result"
    }
   ],
   "source": [
    "product_sale[product_sale.duplicated()]"
   ]
  },
  {
   "cell_type": "code",
   "execution_count": 55,
   "metadata": {},
   "outputs": [],
   "source": [
    "product_sale.drop_duplicates(inplace=True)"
   ]
  },
  {
   "cell_type": "code",
   "execution_count": 56,
   "metadata": {},
   "outputs": [
    {
     "data": {
      "text/plain": [
       "Order No            object\n",
       "DateTime Stamp      object\n",
       "Currency            object\n",
       "Total               object\n",
       "Shipping Country    object\n",
       "Shipping City       object\n",
       "Shipping State      object\n",
       "Payment Method      object\n",
       "Product Name        object\n",
       "Quantity             int64\n",
       "dtype: object"
      ]
     },
     "execution_count": 56,
     "metadata": {},
     "output_type": "execute_result"
    }
   ],
   "source": [
    "product_sale.dtypes"
   ]
  },
  {
   "cell_type": "code",
   "execution_count": 57,
   "metadata": {},
   "outputs": [
    {
     "data": {
      "text/plain": [
       "array(['2299', '349', '899', '3199', '598', '999', '3499', '1499', '299',\n",
       "       '1000', '499', '63', '169', '150', '399', '1999', '1299', '599',\n",
       "       '699', '300', '1899', '799', '4999', '1', '379', '4399', '549',\n",
       "       '31999', '7800', '400', '369', '1199', '559', '199', '792', '219',\n",
       "       '279', '1798', '8999', '450', '469', '1300', '2798', '1399', '130',\n",
       "       '2999', '269', '429', '321', '949', '389', '584', '49', '798',\n",
       "       '3495', '19999', '5499', '2199', '20', '0', '3198', '5949', '2',\n",
       "       '3000', '7999', '21', '7998', '1449', '280', '7949', '140', '1699',\n",
       "       '669', '1098', '698', '1398', '1598', '101', '649', '749', '6499',\n",
       "       '2495', '160', '14098', '19949', '14949', '3999', '11997', '2249',\n",
       "       '449', '1149', '149', '350', '800', '5999', '1249', '1998', '2049',\n",
       "       '750', '7,18,281.00', '1649', '498', '3498', '330', '1748', '897',\n",
       "       '1698', '30870', '3449', '1548', '1700', '1650', '3149', '3350',\n",
       "       '13600', '34000', '3400', '17000', '6398', '8500', '14999',\n",
       "       '1,69,950.00', '4497', '29998', '7299', '80', '2400.2', '420',\n",
       "       '2100', '9360', '2397', '9597', '99', '1600', '6999', '8990',\n",
       "       '398', '345', '1599', '1992', '24999', '6949', '3298', '1949',\n",
       "       '600', '4949', '258', '16490', '2949', '6799', '13998', '1099',\n",
       "       '6199', '9197', '1467', '849', '2500', '126', '259', '100', '5097',\n",
       "       '230', '340', '4369.05', '50', '2099', '1596', '500', '380',\n",
       "       '44970', '200', '46166', '260', '43168', '35976', '37972', '5196',\n",
       "       '5399', '5199', '17578', '19900', '35774', '2399', '19176',\n",
       "       '19576', '9950', '1168', '2097', '13990', '22064.67', '36768',\n",
       "       '38519', '2998', '780', '10198', '22980', '18995', '22995',\n",
       "       '15597', '22485', '20238.75', '1960.91', '1799', '10398', '1549',\n",
       "       '70', '1095', '1550', '4599', '10500', '12600', '2799', '3399',\n",
       "       '1050', '790', '3799', '2499', '629', '250', '249', '522.5',\n",
       "       '1166.1', '2994', '569', '47799', '2700', '1879', '6750', '6000',\n",
       "       '1995', '650', '9500', '700', '5590', '570', '760', '12500', '285',\n",
       "       '9,49,050.00', '14000', '45000', '9000', '49950', '4650', '18000',\n",
       "       '1800', '2000', '1,00,000.00', '4000'], dtype=object)"
      ]
     },
     "execution_count": 57,
     "metadata": {},
     "output_type": "execute_result"
    }
   ],
   "source": [
    "product_sale['Total'].unique()"
   ]
  },
  {
   "cell_type": "code",
   "execution_count": 58,
   "metadata": {},
   "outputs": [
    {
     "data": {
      "text/html": [
       "<div>\n",
       "<style scoped>\n",
       "    .dataframe tbody tr th:only-of-type {\n",
       "        vertical-align: middle;\n",
       "    }\n",
       "\n",
       "    .dataframe tbody tr th {\n",
       "        vertical-align: top;\n",
       "    }\n",
       "\n",
       "    .dataframe thead th {\n",
       "        text-align: right;\n",
       "    }\n",
       "</style>\n",
       "<table border=\"1\" class=\"dataframe\">\n",
       "  <thead>\n",
       "    <tr style=\"text-align: right;\">\n",
       "      <th></th>\n",
       "      <th>Order No</th>\n",
       "      <th>DateTime Stamp</th>\n",
       "      <th>Currency</th>\n",
       "      <th>Total</th>\n",
       "      <th>Shipping Country</th>\n",
       "      <th>Shipping City</th>\n",
       "      <th>Shipping State</th>\n",
       "      <th>Payment Method</th>\n",
       "      <th>Product Name</th>\n",
       "      <th>Quantity</th>\n",
       "    </tr>\n",
       "  </thead>\n",
       "  <tbody>\n",
       "    <tr>\n",
       "      <th>879</th>\n",
       "      <td>R765288033</td>\n",
       "      <td>NaN</td>\n",
       "      <td>INR</td>\n",
       "      <td>7,18,281.00</td>\n",
       "      <td>IND</td>\n",
       "      <td>Bhilwara</td>\n",
       "      <td>IN-RJ</td>\n",
       "      <td>NaN</td>\n",
       "      <td>Cash On Delivery Services</td>\n",
       "      <td>999</td>\n",
       "    </tr>\n",
       "    <tr>\n",
       "      <th>1434</th>\n",
       "      <td>R078719573</td>\n",
       "      <td>NaN</td>\n",
       "      <td>INR</td>\n",
       "      <td>1,69,950.00</td>\n",
       "      <td>IND</td>\n",
       "      <td>Mumbai</td>\n",
       "      <td>IN-MH</td>\n",
       "      <td>NaN</td>\n",
       "      <td>Reliance Jio Phone</td>\n",
       "      <td>100</td>\n",
       "    </tr>\n",
       "    <tr>\n",
       "      <th>3002</th>\n",
       "      <td>R121638056</td>\n",
       "      <td>NaN</td>\n",
       "      <td>INR</td>\n",
       "      <td>9,49,050.00</td>\n",
       "      <td>IND</td>\n",
       "      <td>test</td>\n",
       "      <td>IN-AN</td>\n",
       "      <td>NaN</td>\n",
       "      <td>Bose Quiet Comfort 20 Acoustic Noise Cancellin...</td>\n",
       "      <td>999</td>\n",
       "    </tr>\n",
       "    <tr>\n",
       "      <th>3003</th>\n",
       "      <td>R121638056</td>\n",
       "      <td>NaN</td>\n",
       "      <td>INR</td>\n",
       "      <td>9,49,050.00</td>\n",
       "      <td>IND</td>\n",
       "      <td>test</td>\n",
       "      <td>IN-AN</td>\n",
       "      <td>NaN</td>\n",
       "      <td>AmbranePowerBank P-1310</td>\n",
       "      <td>999</td>\n",
       "    </tr>\n",
       "    <tr>\n",
       "      <th>3021</th>\n",
       "      <td>R168504447</td>\n",
       "      <td>NaN</td>\n",
       "      <td>INR</td>\n",
       "      <td>1,00,000.00</td>\n",
       "      <td>IND</td>\n",
       "      <td>CHENNAI</td>\n",
       "      <td>IN-TN</td>\n",
       "      <td>NaN</td>\n",
       "      <td>Electric Steam Cooker Maestro MC1</td>\n",
       "      <td>50</td>\n",
       "    </tr>\n",
       "  </tbody>\n",
       "</table>\n",
       "</div>"
      ],
      "text/plain": [
       "        Order No DateTime Stamp Currency        Total Shipping Country  \\\n",
       "879   R765288033            NaN      INR  7,18,281.00              IND   \n",
       "1434  R078719573            NaN      INR  1,69,950.00              IND   \n",
       "3002  R121638056            NaN      INR  9,49,050.00              IND   \n",
       "3003  R121638056            NaN      INR  9,49,050.00              IND   \n",
       "3021  R168504447            NaN      INR  1,00,000.00              IND   \n",
       "\n",
       "     Shipping City Shipping State Payment Method  \\\n",
       "879       Bhilwara          IN-RJ            NaN   \n",
       "1434        Mumbai          IN-MH            NaN   \n",
       "3002          test          IN-AN            NaN   \n",
       "3003          test          IN-AN            NaN   \n",
       "3021       CHENNAI          IN-TN            NaN   \n",
       "\n",
       "                                           Product Name  Quantity  \n",
       "879                           Cash On Delivery Services       999  \n",
       "1434                                 Reliance Jio Phone       100  \n",
       "3002  Bose Quiet Comfort 20 Acoustic Noise Cancellin...       999  \n",
       "3003                            AmbranePowerBank P-1310       999  \n",
       "3021                  Electric Steam Cooker Maestro MC1        50  "
      ]
     },
     "execution_count": 58,
     "metadata": {},
     "output_type": "execute_result"
    }
   ],
   "source": [
    "product_sale[product_sale['Total'].str.contains(',')]"
   ]
  },
  {
   "attachments": {},
   "cell_type": "markdown",
   "metadata": {},
   "source": [
    "Replacing the ',' with empty string and changing the datatype"
   ]
  },
  {
   "cell_type": "code",
   "execution_count": 59,
   "metadata": {},
   "outputs": [],
   "source": [
    "product_sale['Total']=product_sale['Total'].replace('\\D', '', regex=True).astype(int)"
   ]
  },
  {
   "cell_type": "code",
   "execution_count": 60,
   "metadata": {},
   "outputs": [
    {
     "data": {
      "text/plain": [
       "Order No            object\n",
       "DateTime Stamp      object\n",
       "Currency            object\n",
       "Total                int32\n",
       "Shipping Country    object\n",
       "Shipping City       object\n",
       "Shipping State      object\n",
       "Payment Method      object\n",
       "Product Name        object\n",
       "Quantity             int64\n",
       "dtype: object"
      ]
     },
     "execution_count": 60,
     "metadata": {},
     "output_type": "execute_result"
    }
   ],
   "source": [
    "product_sale.dtypes"
   ]
  },
  {
   "cell_type": "code",
   "execution_count": 100,
   "metadata": {},
   "outputs": [],
   "source": [
    "product_sale = product_sale[product_sale['Shipping Country'] == 'IND']"
   ]
  },
  {
   "attachments": {},
   "cell_type": "markdown",
   "metadata": {},
   "source": [
    "Filtering the values which are not null in the Payment Method"
   ]
  },
  {
   "cell_type": "code",
   "execution_count": 141,
   "metadata": {},
   "outputs": [],
   "source": [
    "product_sale = product_sale[product_sale['Payment Method'].notnull()]"
   ]
  },
  {
   "cell_type": "code",
   "execution_count": 142,
   "metadata": {},
   "outputs": [
    {
     "data": {
      "text/plain": [
       "(257, 10)"
      ]
     },
     "execution_count": 142,
     "metadata": {},
     "output_type": "execute_result"
    }
   ],
   "source": [
    "product_sale.shape"
   ]
  },
  {
   "attachments": {},
   "cell_type": "markdown",
   "metadata": {},
   "source": [
    "Changing the payment method into the right format"
   ]
  },
  {
   "cell_type": "code",
   "execution_count": 143,
   "metadata": {},
   "outputs": [
    {
     "name": "stderr",
     "output_type": "stream",
     "text": [
      "C:\\Users\\Admin\\AppData\\Local\\Temp\\ipykernel_11140\\1359200798.py:1: SettingWithCopyWarning:\n",
      "\n",
      "\n",
      "A value is trying to be set on a copy of a slice from a DataFrame.\n",
      "Try using .loc[row_indexer,col_indexer] = value instead\n",
      "\n",
      "See the caveats in the documentation: https://pandas.pydata.org/pandas-docs/stable/user_guide/indexing.html#returning-a-view-versus-a-copy\n",
      "\n"
     ]
    }
   ],
   "source": [
    "product_sale['Payment Method'] = np.where(product_sale['Payment Method'].str.contains('CCAven'), 'CCAvenue', 'Offline Payment')"
   ]
  },
  {
   "cell_type": "code",
   "execution_count": 150,
   "metadata": {},
   "outputs": [
    {
     "data": {
      "text/plain": [
       "array(['CCAvenue', 'Offline Payment'], dtype=object)"
      ]
     },
     "execution_count": 150,
     "metadata": {},
     "output_type": "execute_result"
    }
   ],
   "source": [
    "product_sale['Payment Method'].unique()"
   ]
  },
  {
   "attachments": {},
   "cell_type": "markdown",
   "metadata": {},
   "source": [
    "Applying the Groupby method in the required columns"
   ]
  },
  {
   "cell_type": "code",
   "execution_count": 154,
   "metadata": {},
   "outputs": [
    {
     "data": {
      "text/html": [
       "<div>\n",
       "<style scoped>\n",
       "    .dataframe tbody tr th:only-of-type {\n",
       "        vertical-align: middle;\n",
       "    }\n",
       "\n",
       "    .dataframe tbody tr th {\n",
       "        vertical-align: top;\n",
       "    }\n",
       "\n",
       "    .dataframe thead th {\n",
       "        text-align: right;\n",
       "    }\n",
       "</style>\n",
       "<table border=\"1\" class=\"dataframe\">\n",
       "  <thead>\n",
       "    <tr style=\"text-align: right;\">\n",
       "      <th></th>\n",
       "      <th>Product Name</th>\n",
       "      <th>Payment Method</th>\n",
       "      <th>Total</th>\n",
       "    </tr>\n",
       "  </thead>\n",
       "  <tbody>\n",
       "    <tr>\n",
       "      <th>0</th>\n",
       "      <td>1KG Chicken Biryani</td>\n",
       "      <td>CCAvenue</td>\n",
       "      <td>100.0</td>\n",
       "    </tr>\n",
       "    <tr>\n",
       "      <th>1</th>\n",
       "      <td>1KG Chicken Biryani (Chennai)</td>\n",
       "      <td>CCAvenue</td>\n",
       "      <td>145.0</td>\n",
       "    </tr>\n",
       "    <tr>\n",
       "      <th>2</th>\n",
       "      <td>Auto ePass 2003 FIPS USB Token</td>\n",
       "      <td>Offline Payment</td>\n",
       "      <td>650.0</td>\n",
       "    </tr>\n",
       "    <tr>\n",
       "      <th>3</th>\n",
       "      <td>Avengers Captain America Four Axis Aircraft Dr...</td>\n",
       "      <td>Offline Payment</td>\n",
       "      <td>2299.0</td>\n",
       "    </tr>\n",
       "    <tr>\n",
       "      <th>4</th>\n",
       "      <td>BOSE Sound True SQ2  Headphones (White,Black,Red)</td>\n",
       "      <td>CCAvenue</td>\n",
       "      <td>300.0</td>\n",
       "    </tr>\n",
       "  </tbody>\n",
       "</table>\n",
       "</div>"
      ],
      "text/plain": [
       "                                        Product Name   Payment Method   Total\n",
       "0                                1KG Chicken Biryani         CCAvenue   100.0\n",
       "1                      1KG Chicken Biryani (Chennai)         CCAvenue   145.0\n",
       "2                     Auto ePass 2003 FIPS USB Token  Offline Payment   650.0\n",
       "3  Avengers Captain America Four Axis Aircraft Dr...  Offline Payment  2299.0\n",
       "4  BOSE Sound True SQ2  Headphones (White,Black,Red)         CCAvenue   300.0"
      ]
     },
     "execution_count": 154,
     "metadata": {},
     "output_type": "execute_result"
    }
   ],
   "source": [
    "top_products = product_sale.groupby(['Product Name', 'Payment Method'], as_index=False)['Total'].mean()\n",
    "top_products.head()"
   ]
  },
  {
   "attachments": {},
   "cell_type": "markdown",
   "metadata": {},
   "source": [
    "Keeping Top 10 Products with their payment method"
   ]
  },
  {
   "cell_type": "code",
   "execution_count": 160,
   "metadata": {},
   "outputs": [
    {
     "data": {
      "text/html": [
       "<div>\n",
       "<style scoped>\n",
       "    .dataframe tbody tr th:only-of-type {\n",
       "        vertical-align: middle;\n",
       "    }\n",
       "\n",
       "    .dataframe tbody tr th {\n",
       "        vertical-align: top;\n",
       "    }\n",
       "\n",
       "    .dataframe thead th {\n",
       "        text-align: right;\n",
       "    }\n",
       "</style>\n",
       "<table border=\"1\" class=\"dataframe\">\n",
       "  <thead>\n",
       "    <tr style=\"text-align: right;\">\n",
       "      <th></th>\n",
       "      <th>Product Name</th>\n",
       "      <th>Payment Method</th>\n",
       "      <th>Total</th>\n",
       "    </tr>\n",
       "  </thead>\n",
       "  <tbody>\n",
       "    <tr>\n",
       "      <th>28</th>\n",
       "      <td>Drone Quadcopter 2.4G 6-Channel Without Camera</td>\n",
       "      <td>CCAvenue</td>\n",
       "      <td>1.012837e+06</td>\n",
       "    </tr>\n",
       "    <tr>\n",
       "      <th>41</th>\n",
       "      <td>HX770 V-Max Aircraft Drone</td>\n",
       "      <td>Offline Payment</td>\n",
       "      <td>2.832464e+05</td>\n",
       "    </tr>\n",
       "    <tr>\n",
       "      <th>38</th>\n",
       "      <td>HX-713 Remote Control Helicopter</td>\n",
       "      <td>Offline Payment</td>\n",
       "      <td>2.327492e+05</td>\n",
       "    </tr>\n",
       "    <tr>\n",
       "      <th>60</th>\n",
       "      <td>MitSonic 16 inches (40cm) FULL HD Gorilla Glas...</td>\n",
       "      <td>Offline Payment</td>\n",
       "      <td>2.210010e+05</td>\n",
       "    </tr>\n",
       "    <tr>\n",
       "      <th>36</th>\n",
       "      <td>HX 750 Remote Control Flying Drone No Camera</td>\n",
       "      <td>Offline Payment</td>\n",
       "      <td>1.397341e+05</td>\n",
       "    </tr>\n",
       "    <tr>\n",
       "      <th>59</th>\n",
       "      <td>Minions Mini Drone</td>\n",
       "      <td>Offline Payment</td>\n",
       "      <td>3.956217e+04</td>\n",
       "    </tr>\n",
       "    <tr>\n",
       "      <th>42</th>\n",
       "      <td>Hot Wheels Car 5 Gift Pack</td>\n",
       "      <td>Offline Payment</td>\n",
       "      <td>3.851900e+04</td>\n",
       "    </tr>\n",
       "    <tr>\n",
       "      <th>94</th>\n",
       "      <td>The Amazing Spider Man Q series 2.4GHz RC Quad...</td>\n",
       "      <td>Offline Payment</td>\n",
       "      <td>3.851900e+04</td>\n",
       "    </tr>\n",
       "    <tr>\n",
       "      <th>90</th>\n",
       "      <td>Spider Man Mini Drone</td>\n",
       "      <td>Offline Payment</td>\n",
       "      <td>2.762944e+04</td>\n",
       "    </tr>\n",
       "    <tr>\n",
       "      <th>62</th>\n",
       "      <td>MitSonic 16 inches (40cm) LED TV</td>\n",
       "      <td>Offline Payment</td>\n",
       "      <td>2.299500e+04</td>\n",
       "    </tr>\n",
       "  </tbody>\n",
       "</table>\n",
       "</div>"
      ],
      "text/plain": [
       "                                         Product Name   Payment Method  \\\n",
       "28     Drone Quadcopter 2.4G 6-Channel Without Camera         CCAvenue   \n",
       "41                         HX770 V-Max Aircraft Drone  Offline Payment   \n",
       "38                   HX-713 Remote Control Helicopter  Offline Payment   \n",
       "60  MitSonic 16 inches (40cm) FULL HD Gorilla Glas...  Offline Payment   \n",
       "36       HX 750 Remote Control Flying Drone No Camera  Offline Payment   \n",
       "59                                 Minions Mini Drone  Offline Payment   \n",
       "42                         Hot Wheels Car 5 Gift Pack  Offline Payment   \n",
       "94  The Amazing Spider Man Q series 2.4GHz RC Quad...  Offline Payment   \n",
       "90                              Spider Man Mini Drone  Offline Payment   \n",
       "62                   MitSonic 16 inches (40cm) LED TV  Offline Payment   \n",
       "\n",
       "           Total  \n",
       "28  1.012837e+06  \n",
       "41  2.832464e+05  \n",
       "38  2.327492e+05  \n",
       "60  2.210010e+05  \n",
       "36  1.397341e+05  \n",
       "59  3.956217e+04  \n",
       "42  3.851900e+04  \n",
       "94  3.851900e+04  \n",
       "90  2.762944e+04  \n",
       "62  2.299500e+04  "
      ]
     },
     "execution_count": 160,
     "metadata": {},
     "output_type": "execute_result"
    }
   ],
   "source": [
    "top_products = top_products.sort_values(by='Total', ascending=False)\n",
    "top_products = top_products.head(10)\n",
    "top_products"
   ]
  },
  {
   "cell_type": "code",
   "execution_count": 161,
   "metadata": {},
   "outputs": [
    {
     "data": {
      "text/html": [
       "<div>\n",
       "<style scoped>\n",
       "    .dataframe tbody tr th:only-of-type {\n",
       "        vertical-align: middle;\n",
       "    }\n",
       "\n",
       "    .dataframe tbody tr th {\n",
       "        vertical-align: top;\n",
       "    }\n",
       "\n",
       "    .dataframe thead th {\n",
       "        text-align: right;\n",
       "    }\n",
       "</style>\n",
       "<table border=\"1\" class=\"dataframe\">\n",
       "  <thead>\n",
       "    <tr style=\"text-align: right;\">\n",
       "      <th></th>\n",
       "      <th>Product Name</th>\n",
       "      <th>Payment Method</th>\n",
       "      <th>Total</th>\n",
       "    </tr>\n",
       "  </thead>\n",
       "  <tbody>\n",
       "    <tr>\n",
       "      <th>0</th>\n",
       "      <td>Drone Quadcopter 2.4G 6-Channel Without Camera</td>\n",
       "      <td>CCAvenue</td>\n",
       "      <td>1012837.0</td>\n",
       "    </tr>\n",
       "    <tr>\n",
       "      <th>1</th>\n",
       "      <td>HX770 V-Max Aircraft Drone</td>\n",
       "      <td>Offline Payment</td>\n",
       "      <td>283246.4</td>\n",
       "    </tr>\n",
       "    <tr>\n",
       "      <th>2</th>\n",
       "      <td>HX-713 Remote Control Helicopter</td>\n",
       "      <td>Offline Payment</td>\n",
       "      <td>232749.2</td>\n",
       "    </tr>\n",
       "    <tr>\n",
       "      <th>3</th>\n",
       "      <td>MitSonic 16 inches (40cm) FULL HD Gorilla Glas...</td>\n",
       "      <td>Offline Payment</td>\n",
       "      <td>221001.0</td>\n",
       "    </tr>\n",
       "    <tr>\n",
       "      <th>4</th>\n",
       "      <td>HX 750 Remote Control Flying Drone No Camera</td>\n",
       "      <td>Offline Payment</td>\n",
       "      <td>139734.1</td>\n",
       "    </tr>\n",
       "  </tbody>\n",
       "</table>\n",
       "</div>"
      ],
      "text/plain": [
       "                                        Product Name   Payment Method  \\\n",
       "0     Drone Quadcopter 2.4G 6-Channel Without Camera         CCAvenue   \n",
       "1                         HX770 V-Max Aircraft Drone  Offline Payment   \n",
       "2                   HX-713 Remote Control Helicopter  Offline Payment   \n",
       "3  MitSonic 16 inches (40cm) FULL HD Gorilla Glas...  Offline Payment   \n",
       "4       HX 750 Remote Control Flying Drone No Camera  Offline Payment   \n",
       "\n",
       "       Total  \n",
       "0  1012837.0  \n",
       "1   283246.4  \n",
       "2   232749.2  \n",
       "3   221001.0  \n",
       "4   139734.1  "
      ]
     },
     "execution_count": 161,
     "metadata": {},
     "output_type": "execute_result"
    }
   ],
   "source": [
    "top_products['Total'] = top_products['Total'].round(1)\n",
    "top_products.reset_index(drop=True, inplace=True)\n",
    "top_products.head()"
   ]
  },
  {
   "attachments": {},
   "cell_type": "markdown",
   "metadata": {},
   "source": [
    "Now, Visualizing the insights for better data understanding"
   ]
  },
  {
   "cell_type": "code",
   "execution_count": 169,
   "metadata": {},
   "outputs": [
    {
     "data": {
      "application/vnd.plotly.v1+json": {
       "config": {
        "plotlyServerURL": "https://plot.ly"
       },
       "data": [
        {
         "alignmentgroup": "True",
         "hovertemplate": "Payment Method=CCAvenue<br>Product Name=%{x}<br>Prices=%{text}<extra></extra>",
         "legendgroup": "CCAvenue",
         "marker": {
          "color": "#636efa",
          "pattern": {
           "shape": ""
          }
         },
         "name": "CCAvenue",
         "offsetgroup": "CCAvenue",
         "orientation": "v",
         "showlegend": true,
         "text": [
          1012837
         ],
         "textposition": "auto",
         "type": "bar",
         "x": [
          "Drone Quadcopter 2.4G 6-Channel Without Camera"
         ],
         "xaxis": "x",
         "y": [
          1012837
         ],
         "yaxis": "y"
        },
        {
         "alignmentgroup": "True",
         "hovertemplate": "Payment Method=Offline Payment<br>Product Name=%{x}<br>Prices=%{text}<extra></extra>",
         "legendgroup": "Offline Payment",
         "marker": {
          "color": "#EF553B",
          "pattern": {
           "shape": ""
          }
         },
         "name": "Offline Payment",
         "offsetgroup": "Offline Payment",
         "orientation": "v",
         "showlegend": true,
         "text": [
          283246.4,
          232749.2,
          221001,
          139734.1,
          39562.2,
          38519,
          38519,
          27629.4,
          22995
         ],
         "textposition": "auto",
         "type": "bar",
         "x": [
          "HX770 V-Max Aircraft Drone",
          "HX-713 Remote Control Helicopter",
          "MitSonic 16 inches (40cm) FULL HD Gorilla Glass LED TV",
          "HX 750 Remote Control Flying Drone No Camera",
          "Minions Mini Drone",
          "Hot Wheels Car 5 Gift Pack",
          "The Amazing Spider Man Q series 2.4GHz RC Quad-copter Drone",
          "Spider Man Mini Drone",
          "MitSonic 16 inches (40cm) LED TV"
         ],
         "xaxis": "x",
         "y": [
          283246.4,
          232749.2,
          221001,
          139734.1,
          39562.2,
          38519,
          38519,
          27629.4,
          22995
         ],
         "yaxis": "y"
        }
       ],
       "layout": {
        "barmode": "relative",
        "legend": {
         "title": {
          "text": "Payment Method"
         },
         "tracegroupgap": 0
        },
        "template": {
         "data": {
          "bar": [
           {
            "error_x": {
             "color": "#2a3f5f"
            },
            "error_y": {
             "color": "#2a3f5f"
            },
            "marker": {
             "line": {
              "color": "#E5ECF6",
              "width": 0.5
             },
             "pattern": {
              "fillmode": "overlay",
              "size": 10,
              "solidity": 0.2
             }
            },
            "type": "bar"
           }
          ],
          "barpolar": [
           {
            "marker": {
             "line": {
              "color": "#E5ECF6",
              "width": 0.5
             },
             "pattern": {
              "fillmode": "overlay",
              "size": 10,
              "solidity": 0.2
             }
            },
            "type": "barpolar"
           }
          ],
          "carpet": [
           {
            "aaxis": {
             "endlinecolor": "#2a3f5f",
             "gridcolor": "white",
             "linecolor": "white",
             "minorgridcolor": "white",
             "startlinecolor": "#2a3f5f"
            },
            "baxis": {
             "endlinecolor": "#2a3f5f",
             "gridcolor": "white",
             "linecolor": "white",
             "minorgridcolor": "white",
             "startlinecolor": "#2a3f5f"
            },
            "type": "carpet"
           }
          ],
          "choropleth": [
           {
            "colorbar": {
             "outlinewidth": 0,
             "ticks": ""
            },
            "type": "choropleth"
           }
          ],
          "contour": [
           {
            "colorbar": {
             "outlinewidth": 0,
             "ticks": ""
            },
            "colorscale": [
             [
              0,
              "#0d0887"
             ],
             [
              0.1111111111111111,
              "#46039f"
             ],
             [
              0.2222222222222222,
              "#7201a8"
             ],
             [
              0.3333333333333333,
              "#9c179e"
             ],
             [
              0.4444444444444444,
              "#bd3786"
             ],
             [
              0.5555555555555556,
              "#d8576b"
             ],
             [
              0.6666666666666666,
              "#ed7953"
             ],
             [
              0.7777777777777778,
              "#fb9f3a"
             ],
             [
              0.8888888888888888,
              "#fdca26"
             ],
             [
              1,
              "#f0f921"
             ]
            ],
            "type": "contour"
           }
          ],
          "contourcarpet": [
           {
            "colorbar": {
             "outlinewidth": 0,
             "ticks": ""
            },
            "type": "contourcarpet"
           }
          ],
          "heatmap": [
           {
            "colorbar": {
             "outlinewidth": 0,
             "ticks": ""
            },
            "colorscale": [
             [
              0,
              "#0d0887"
             ],
             [
              0.1111111111111111,
              "#46039f"
             ],
             [
              0.2222222222222222,
              "#7201a8"
             ],
             [
              0.3333333333333333,
              "#9c179e"
             ],
             [
              0.4444444444444444,
              "#bd3786"
             ],
             [
              0.5555555555555556,
              "#d8576b"
             ],
             [
              0.6666666666666666,
              "#ed7953"
             ],
             [
              0.7777777777777778,
              "#fb9f3a"
             ],
             [
              0.8888888888888888,
              "#fdca26"
             ],
             [
              1,
              "#f0f921"
             ]
            ],
            "type": "heatmap"
           }
          ],
          "heatmapgl": [
           {
            "colorbar": {
             "outlinewidth": 0,
             "ticks": ""
            },
            "colorscale": [
             [
              0,
              "#0d0887"
             ],
             [
              0.1111111111111111,
              "#46039f"
             ],
             [
              0.2222222222222222,
              "#7201a8"
             ],
             [
              0.3333333333333333,
              "#9c179e"
             ],
             [
              0.4444444444444444,
              "#bd3786"
             ],
             [
              0.5555555555555556,
              "#d8576b"
             ],
             [
              0.6666666666666666,
              "#ed7953"
             ],
             [
              0.7777777777777778,
              "#fb9f3a"
             ],
             [
              0.8888888888888888,
              "#fdca26"
             ],
             [
              1,
              "#f0f921"
             ]
            ],
            "type": "heatmapgl"
           }
          ],
          "histogram": [
           {
            "marker": {
             "pattern": {
              "fillmode": "overlay",
              "size": 10,
              "solidity": 0.2
             }
            },
            "type": "histogram"
           }
          ],
          "histogram2d": [
           {
            "colorbar": {
             "outlinewidth": 0,
             "ticks": ""
            },
            "colorscale": [
             [
              0,
              "#0d0887"
             ],
             [
              0.1111111111111111,
              "#46039f"
             ],
             [
              0.2222222222222222,
              "#7201a8"
             ],
             [
              0.3333333333333333,
              "#9c179e"
             ],
             [
              0.4444444444444444,
              "#bd3786"
             ],
             [
              0.5555555555555556,
              "#d8576b"
             ],
             [
              0.6666666666666666,
              "#ed7953"
             ],
             [
              0.7777777777777778,
              "#fb9f3a"
             ],
             [
              0.8888888888888888,
              "#fdca26"
             ],
             [
              1,
              "#f0f921"
             ]
            ],
            "type": "histogram2d"
           }
          ],
          "histogram2dcontour": [
           {
            "colorbar": {
             "outlinewidth": 0,
             "ticks": ""
            },
            "colorscale": [
             [
              0,
              "#0d0887"
             ],
             [
              0.1111111111111111,
              "#46039f"
             ],
             [
              0.2222222222222222,
              "#7201a8"
             ],
             [
              0.3333333333333333,
              "#9c179e"
             ],
             [
              0.4444444444444444,
              "#bd3786"
             ],
             [
              0.5555555555555556,
              "#d8576b"
             ],
             [
              0.6666666666666666,
              "#ed7953"
             ],
             [
              0.7777777777777778,
              "#fb9f3a"
             ],
             [
              0.8888888888888888,
              "#fdca26"
             ],
             [
              1,
              "#f0f921"
             ]
            ],
            "type": "histogram2dcontour"
           }
          ],
          "mesh3d": [
           {
            "colorbar": {
             "outlinewidth": 0,
             "ticks": ""
            },
            "type": "mesh3d"
           }
          ],
          "parcoords": [
           {
            "line": {
             "colorbar": {
              "outlinewidth": 0,
              "ticks": ""
             }
            },
            "type": "parcoords"
           }
          ],
          "pie": [
           {
            "automargin": true,
            "type": "pie"
           }
          ],
          "scatter": [
           {
            "fillpattern": {
             "fillmode": "overlay",
             "size": 10,
             "solidity": 0.2
            },
            "type": "scatter"
           }
          ],
          "scatter3d": [
           {
            "line": {
             "colorbar": {
              "outlinewidth": 0,
              "ticks": ""
             }
            },
            "marker": {
             "colorbar": {
              "outlinewidth": 0,
              "ticks": ""
             }
            },
            "type": "scatter3d"
           }
          ],
          "scattercarpet": [
           {
            "marker": {
             "colorbar": {
              "outlinewidth": 0,
              "ticks": ""
             }
            },
            "type": "scattercarpet"
           }
          ],
          "scattergeo": [
           {
            "marker": {
             "colorbar": {
              "outlinewidth": 0,
              "ticks": ""
             }
            },
            "type": "scattergeo"
           }
          ],
          "scattergl": [
           {
            "marker": {
             "colorbar": {
              "outlinewidth": 0,
              "ticks": ""
             }
            },
            "type": "scattergl"
           }
          ],
          "scattermapbox": [
           {
            "marker": {
             "colorbar": {
              "outlinewidth": 0,
              "ticks": ""
             }
            },
            "type": "scattermapbox"
           }
          ],
          "scatterpolar": [
           {
            "marker": {
             "colorbar": {
              "outlinewidth": 0,
              "ticks": ""
             }
            },
            "type": "scatterpolar"
           }
          ],
          "scatterpolargl": [
           {
            "marker": {
             "colorbar": {
              "outlinewidth": 0,
              "ticks": ""
             }
            },
            "type": "scatterpolargl"
           }
          ],
          "scatterternary": [
           {
            "marker": {
             "colorbar": {
              "outlinewidth": 0,
              "ticks": ""
             }
            },
            "type": "scatterternary"
           }
          ],
          "surface": [
           {
            "colorbar": {
             "outlinewidth": 0,
             "ticks": ""
            },
            "colorscale": [
             [
              0,
              "#0d0887"
             ],
             [
              0.1111111111111111,
              "#46039f"
             ],
             [
              0.2222222222222222,
              "#7201a8"
             ],
             [
              0.3333333333333333,
              "#9c179e"
             ],
             [
              0.4444444444444444,
              "#bd3786"
             ],
             [
              0.5555555555555556,
              "#d8576b"
             ],
             [
              0.6666666666666666,
              "#ed7953"
             ],
             [
              0.7777777777777778,
              "#fb9f3a"
             ],
             [
              0.8888888888888888,
              "#fdca26"
             ],
             [
              1,
              "#f0f921"
             ]
            ],
            "type": "surface"
           }
          ],
          "table": [
           {
            "cells": {
             "fill": {
              "color": "#EBF0F8"
             },
             "line": {
              "color": "white"
             }
            },
            "header": {
             "fill": {
              "color": "#C8D4E3"
             },
             "line": {
              "color": "white"
             }
            },
            "type": "table"
           }
          ]
         },
         "layout": {
          "annotationdefaults": {
           "arrowcolor": "#2a3f5f",
           "arrowhead": 0,
           "arrowwidth": 1
          },
          "autotypenumbers": "strict",
          "coloraxis": {
           "colorbar": {
            "outlinewidth": 0,
            "ticks": ""
           }
          },
          "colorscale": {
           "diverging": [
            [
             0,
             "#8e0152"
            ],
            [
             0.1,
             "#c51b7d"
            ],
            [
             0.2,
             "#de77ae"
            ],
            [
             0.3,
             "#f1b6da"
            ],
            [
             0.4,
             "#fde0ef"
            ],
            [
             0.5,
             "#f7f7f7"
            ],
            [
             0.6,
             "#e6f5d0"
            ],
            [
             0.7,
             "#b8e186"
            ],
            [
             0.8,
             "#7fbc41"
            ],
            [
             0.9,
             "#4d9221"
            ],
            [
             1,
             "#276419"
            ]
           ],
           "sequential": [
            [
             0,
             "#0d0887"
            ],
            [
             0.1111111111111111,
             "#46039f"
            ],
            [
             0.2222222222222222,
             "#7201a8"
            ],
            [
             0.3333333333333333,
             "#9c179e"
            ],
            [
             0.4444444444444444,
             "#bd3786"
            ],
            [
             0.5555555555555556,
             "#d8576b"
            ],
            [
             0.6666666666666666,
             "#ed7953"
            ],
            [
             0.7777777777777778,
             "#fb9f3a"
            ],
            [
             0.8888888888888888,
             "#fdca26"
            ],
            [
             1,
             "#f0f921"
            ]
           ],
           "sequentialminus": [
            [
             0,
             "#0d0887"
            ],
            [
             0.1111111111111111,
             "#46039f"
            ],
            [
             0.2222222222222222,
             "#7201a8"
            ],
            [
             0.3333333333333333,
             "#9c179e"
            ],
            [
             0.4444444444444444,
             "#bd3786"
            ],
            [
             0.5555555555555556,
             "#d8576b"
            ],
            [
             0.6666666666666666,
             "#ed7953"
            ],
            [
             0.7777777777777778,
             "#fb9f3a"
            ],
            [
             0.8888888888888888,
             "#fdca26"
            ],
            [
             1,
             "#f0f921"
            ]
           ]
          },
          "colorway": [
           "#636efa",
           "#EF553B",
           "#00cc96",
           "#ab63fa",
           "#FFA15A",
           "#19d3f3",
           "#FF6692",
           "#B6E880",
           "#FF97FF",
           "#FECB52"
          ],
          "font": {
           "color": "#2a3f5f"
          },
          "geo": {
           "bgcolor": "white",
           "lakecolor": "white",
           "landcolor": "#E5ECF6",
           "showlakes": true,
           "showland": true,
           "subunitcolor": "white"
          },
          "hoverlabel": {
           "align": "left"
          },
          "hovermode": "closest",
          "mapbox": {
           "style": "light"
          },
          "paper_bgcolor": "white",
          "plot_bgcolor": "#E5ECF6",
          "polar": {
           "angularaxis": {
            "gridcolor": "white",
            "linecolor": "white",
            "ticks": ""
           },
           "bgcolor": "#E5ECF6",
           "radialaxis": {
            "gridcolor": "white",
            "linecolor": "white",
            "ticks": ""
           }
          },
          "scene": {
           "xaxis": {
            "backgroundcolor": "#E5ECF6",
            "gridcolor": "white",
            "gridwidth": 2,
            "linecolor": "white",
            "showbackground": true,
            "ticks": "",
            "zerolinecolor": "white"
           },
           "yaxis": {
            "backgroundcolor": "#E5ECF6",
            "gridcolor": "white",
            "gridwidth": 2,
            "linecolor": "white",
            "showbackground": true,
            "ticks": "",
            "zerolinecolor": "white"
           },
           "zaxis": {
            "backgroundcolor": "#E5ECF6",
            "gridcolor": "white",
            "gridwidth": 2,
            "linecolor": "white",
            "showbackground": true,
            "ticks": "",
            "zerolinecolor": "white"
           }
          },
          "shapedefaults": {
           "line": {
            "color": "#2a3f5f"
           }
          },
          "ternary": {
           "aaxis": {
            "gridcolor": "white",
            "linecolor": "white",
            "ticks": ""
           },
           "baxis": {
            "gridcolor": "white",
            "linecolor": "white",
            "ticks": ""
           },
           "bgcolor": "#E5ECF6",
           "caxis": {
            "gridcolor": "white",
            "linecolor": "white",
            "ticks": ""
           }
          },
          "title": {
           "x": 0.05
          },
          "xaxis": {
           "automargin": true,
           "gridcolor": "white",
           "linecolor": "white",
           "ticks": "",
           "title": {
            "standoff": 15
           },
           "zerolinecolor": "white",
           "zerolinewidth": 2
          },
          "yaxis": {
           "automargin": true,
           "gridcolor": "white",
           "linecolor": "white",
           "ticks": "",
           "title": {
            "standoff": 15
           },
           "zerolinecolor": "white",
           "zerolinewidth": 2
          }
         }
        },
        "title": {
         "text": "Top 10 Products with Different Payment Methods"
        },
        "xaxis": {
         "anchor": "y",
         "domain": [
          0,
          1
         ],
         "title": {
          "text": "Product Name"
         }
        },
        "yaxis": {
         "anchor": "x",
         "domain": [
          0,
          1
         ],
         "title": {
          "text": "Prices"
         }
        }
       }
      }
     },
     "metadata": {},
     "output_type": "display_data"
    }
   ],
   "source": [
    "product_fig = px.bar(top_products, x='Product Name', y='Total', color='Payment Method', labels={'Total':'Prices'},\n",
    "        title='Top 10 Products with Different Payment Methods', text = 'Total')\n",
    "product_fig.show()"
   ]
  },
  {
   "attachments": {},
   "cell_type": "markdown",
   "metadata": {},
   "source": [
    "##### Result - Here we can see Drone Quadcopter has given the top contribution in the sale price"
   ]
  },
  {
   "attachments": {},
   "cell_type": "markdown",
   "metadata": {},
   "source": [
    "##### 5) Which state has contributed most in the sale."
   ]
  },
  {
   "cell_type": "code",
   "execution_count": 170,
   "metadata": {},
   "outputs": [
    {
     "data": {
      "text/html": [
       "<div>\n",
       "<style scoped>\n",
       "    .dataframe tbody tr th:only-of-type {\n",
       "        vertical-align: middle;\n",
       "    }\n",
       "\n",
       "    .dataframe tbody tr th {\n",
       "        vertical-align: top;\n",
       "    }\n",
       "\n",
       "    .dataframe thead th {\n",
       "        text-align: right;\n",
       "    }\n",
       "</style>\n",
       "<table border=\"1\" class=\"dataframe\">\n",
       "  <thead>\n",
       "    <tr style=\"text-align: right;\">\n",
       "      <th></th>\n",
       "      <th>Order No</th>\n",
       "      <th>DateTime Stamp</th>\n",
       "      <th>Currency</th>\n",
       "      <th>Total</th>\n",
       "      <th>Shipping Country</th>\n",
       "      <th>Shipping City</th>\n",
       "      <th>Shipping State</th>\n",
       "      <th>Payment Method</th>\n",
       "      <th>Product Name</th>\n",
       "      <th>Quantity</th>\n",
       "    </tr>\n",
       "  </thead>\n",
       "  <tbody>\n",
       "    <tr>\n",
       "      <th>0</th>\n",
       "      <td>R121113121</td>\n",
       "      <td>NaN</td>\n",
       "      <td>INR</td>\n",
       "      <td>2299</td>\n",
       "      <td>IND</td>\n",
       "      <td>Chandrapur</td>\n",
       "      <td>IN-MH</td>\n",
       "      <td>NaN</td>\n",
       "      <td>Falcon Drone Four Axis Aircraft with 2.4 GHz R...</td>\n",
       "      <td>1</td>\n",
       "    </tr>\n",
       "    <tr>\n",
       "      <th>1</th>\n",
       "      <td>R472890631</td>\n",
       "      <td>NaN</td>\n",
       "      <td>INR</td>\n",
       "      <td>2299</td>\n",
       "      <td>IND</td>\n",
       "      <td>Chandrapur</td>\n",
       "      <td>IN-MH</td>\n",
       "      <td>NaN</td>\n",
       "      <td>Falcon Drone Four Axis Aircraft with 2.4 GHz R...</td>\n",
       "      <td>1</td>\n",
       "    </tr>\n",
       "    <tr>\n",
       "      <th>2</th>\n",
       "      <td>R004476488</td>\n",
       "      <td>NaN</td>\n",
       "      <td>INR</td>\n",
       "      <td>2299</td>\n",
       "      <td>IND</td>\n",
       "      <td>Chandrapur</td>\n",
       "      <td>IN-MH</td>\n",
       "      <td>NaN</td>\n",
       "      <td>Falcon Drone Four Axis Aircraft with 2.4 GHz R...</td>\n",
       "      <td>1</td>\n",
       "    </tr>\n",
       "    <tr>\n",
       "      <th>3</th>\n",
       "      <td>R526038353</td>\n",
       "      <td>NaN</td>\n",
       "      <td>INR</td>\n",
       "      <td>2299</td>\n",
       "      <td>IND</td>\n",
       "      <td>Chandrapur</td>\n",
       "      <td>IN-MH</td>\n",
       "      <td>NaN</td>\n",
       "      <td>Falcon Drone Four Axis Aircraft with 2.4 GHz R...</td>\n",
       "      <td>1</td>\n",
       "    </tr>\n",
       "    <tr>\n",
       "      <th>4</th>\n",
       "      <td>R658530771</td>\n",
       "      <td>NaN</td>\n",
       "      <td>INR</td>\n",
       "      <td>349</td>\n",
       "      <td>IND</td>\n",
       "      <td>NEW DELHI</td>\n",
       "      <td>IN-DL</td>\n",
       "      <td>NaN</td>\n",
       "      <td>Barbie Doll (pink)</td>\n",
       "      <td>1</td>\n",
       "    </tr>\n",
       "  </tbody>\n",
       "</table>\n",
       "</div>"
      ],
      "text/plain": [
       "     Order No DateTime Stamp Currency Total Shipping Country Shipping City  \\\n",
       "0  R121113121            NaN      INR  2299              IND    Chandrapur   \n",
       "1  R472890631            NaN      INR  2299              IND    Chandrapur   \n",
       "2  R004476488            NaN      INR  2299              IND    Chandrapur   \n",
       "3  R526038353            NaN      INR  2299              IND    Chandrapur   \n",
       "4  R658530771            NaN      INR   349              IND     NEW DELHI   \n",
       "\n",
       "  Shipping State Payment Method  \\\n",
       "0          IN-MH            NaN   \n",
       "1          IN-MH            NaN   \n",
       "2          IN-MH            NaN   \n",
       "3          IN-MH            NaN   \n",
       "4          IN-DL            NaN   \n",
       "\n",
       "                                        Product Name  Quantity  \n",
       "0  Falcon Drone Four Axis Aircraft with 2.4 GHz R...         1  \n",
       "1  Falcon Drone Four Axis Aircraft with 2.4 GHz R...         1  \n",
       "2  Falcon Drone Four Axis Aircraft with 2.4 GHz R...         1  \n",
       "3  Falcon Drone Four Axis Aircraft with 2.4 GHz R...         1  \n",
       "4                                 Barbie Doll (pink)         1  "
      ]
     },
     "execution_count": 170,
     "metadata": {},
     "output_type": "execute_result"
    }
   ],
   "source": [
    "data.head()"
   ]
  },
  {
   "cell_type": "code",
   "execution_count": 172,
   "metadata": {},
   "outputs": [
    {
     "data": {
      "text/html": [
       "<div>\n",
       "<style scoped>\n",
       "    .dataframe tbody tr th:only-of-type {\n",
       "        vertical-align: middle;\n",
       "    }\n",
       "\n",
       "    .dataframe tbody tr th {\n",
       "        vertical-align: top;\n",
       "    }\n",
       "\n",
       "    .dataframe thead th {\n",
       "        text-align: right;\n",
       "    }\n",
       "</style>\n",
       "<table border=\"1\" class=\"dataframe\">\n",
       "  <thead>\n",
       "    <tr style=\"text-align: right;\">\n",
       "      <th></th>\n",
       "      <th>Order No</th>\n",
       "      <th>DateTime Stamp</th>\n",
       "      <th>Currency</th>\n",
       "      <th>Total</th>\n",
       "      <th>Shipping Country</th>\n",
       "      <th>Shipping City</th>\n",
       "      <th>Shipping State</th>\n",
       "      <th>Payment Method</th>\n",
       "      <th>Product Name</th>\n",
       "      <th>Quantity</th>\n",
       "    </tr>\n",
       "  </thead>\n",
       "  <tbody>\n",
       "    <tr>\n",
       "      <th>0</th>\n",
       "      <td>R121113121</td>\n",
       "      <td>NaN</td>\n",
       "      <td>INR</td>\n",
       "      <td>2299</td>\n",
       "      <td>IND</td>\n",
       "      <td>Chandrapur</td>\n",
       "      <td>IN-MH</td>\n",
       "      <td>NaN</td>\n",
       "      <td>Falcon Drone Four Axis Aircraft with 2.4 GHz R...</td>\n",
       "      <td>1</td>\n",
       "    </tr>\n",
       "    <tr>\n",
       "      <th>1</th>\n",
       "      <td>R472890631</td>\n",
       "      <td>NaN</td>\n",
       "      <td>INR</td>\n",
       "      <td>2299</td>\n",
       "      <td>IND</td>\n",
       "      <td>Chandrapur</td>\n",
       "      <td>IN-MH</td>\n",
       "      <td>NaN</td>\n",
       "      <td>Falcon Drone Four Axis Aircraft with 2.4 GHz R...</td>\n",
       "      <td>1</td>\n",
       "    </tr>\n",
       "    <tr>\n",
       "      <th>2</th>\n",
       "      <td>R004476488</td>\n",
       "      <td>NaN</td>\n",
       "      <td>INR</td>\n",
       "      <td>2299</td>\n",
       "      <td>IND</td>\n",
       "      <td>Chandrapur</td>\n",
       "      <td>IN-MH</td>\n",
       "      <td>NaN</td>\n",
       "      <td>Falcon Drone Four Axis Aircraft with 2.4 GHz R...</td>\n",
       "      <td>1</td>\n",
       "    </tr>\n",
       "    <tr>\n",
       "      <th>3</th>\n",
       "      <td>R526038353</td>\n",
       "      <td>NaN</td>\n",
       "      <td>INR</td>\n",
       "      <td>2299</td>\n",
       "      <td>IND</td>\n",
       "      <td>Chandrapur</td>\n",
       "      <td>IN-MH</td>\n",
       "      <td>NaN</td>\n",
       "      <td>Falcon Drone Four Axis Aircraft with 2.4 GHz R...</td>\n",
       "      <td>1</td>\n",
       "    </tr>\n",
       "    <tr>\n",
       "      <th>4</th>\n",
       "      <td>R658530771</td>\n",
       "      <td>NaN</td>\n",
       "      <td>INR</td>\n",
       "      <td>349</td>\n",
       "      <td>IND</td>\n",
       "      <td>NEW DELHI</td>\n",
       "      <td>IN-DL</td>\n",
       "      <td>NaN</td>\n",
       "      <td>Barbie Doll (pink)</td>\n",
       "      <td>1</td>\n",
       "    </tr>\n",
       "  </tbody>\n",
       "</table>\n",
       "</div>"
      ],
      "text/plain": [
       "     Order No DateTime Stamp Currency Total Shipping Country Shipping City  \\\n",
       "0  R121113121            NaN      INR  2299              IND    Chandrapur   \n",
       "1  R472890631            NaN      INR  2299              IND    Chandrapur   \n",
       "2  R004476488            NaN      INR  2299              IND    Chandrapur   \n",
       "3  R526038353            NaN      INR  2299              IND    Chandrapur   \n",
       "4  R658530771            NaN      INR   349              IND     NEW DELHI   \n",
       "\n",
       "  Shipping State Payment Method  \\\n",
       "0          IN-MH            NaN   \n",
       "1          IN-MH            NaN   \n",
       "2          IN-MH            NaN   \n",
       "3          IN-MH            NaN   \n",
       "4          IN-DL            NaN   \n",
       "\n",
       "                                        Product Name  Quantity  \n",
       "0  Falcon Drone Four Axis Aircraft with 2.4 GHz R...         1  \n",
       "1  Falcon Drone Four Axis Aircraft with 2.4 GHz R...         1  \n",
       "2  Falcon Drone Four Axis Aircraft with 2.4 GHz R...         1  \n",
       "3  Falcon Drone Four Axis Aircraft with 2.4 GHz R...         1  \n",
       "4                                 Barbie Doll (pink)         1  "
      ]
     },
     "execution_count": 172,
     "metadata": {},
     "output_type": "execute_result"
    }
   ],
   "source": [
    "state_sale = data.copy()\n",
    "state_sale.head()"
   ]
  },
  {
   "attachments": {},
   "cell_type": "markdown",
   "metadata": {},
   "source": [
    "Handling the duplicates in the dataset"
   ]
  },
  {
   "cell_type": "code",
   "execution_count": 174,
   "metadata": {},
   "outputs": [
    {
     "data": {
      "text/plain": [
       "3"
      ]
     },
     "execution_count": 174,
     "metadata": {},
     "output_type": "execute_result"
    }
   ],
   "source": [
    "state_sale.duplicated().sum()"
   ]
  },
  {
   "cell_type": "code",
   "execution_count": 175,
   "metadata": {},
   "outputs": [
    {
     "data": {
      "text/html": [
       "<div>\n",
       "<style scoped>\n",
       "    .dataframe tbody tr th:only-of-type {\n",
       "        vertical-align: middle;\n",
       "    }\n",
       "\n",
       "    .dataframe tbody tr th {\n",
       "        vertical-align: top;\n",
       "    }\n",
       "\n",
       "    .dataframe thead th {\n",
       "        text-align: right;\n",
       "    }\n",
       "</style>\n",
       "<table border=\"1\" class=\"dataframe\">\n",
       "  <thead>\n",
       "    <tr style=\"text-align: right;\">\n",
       "      <th></th>\n",
       "      <th>Order No</th>\n",
       "      <th>DateTime Stamp</th>\n",
       "      <th>Currency</th>\n",
       "      <th>Total</th>\n",
       "      <th>Shipping Country</th>\n",
       "      <th>Shipping City</th>\n",
       "      <th>Shipping State</th>\n",
       "      <th>Payment Method</th>\n",
       "      <th>Product Name</th>\n",
       "      <th>Quantity</th>\n",
       "    </tr>\n",
       "  </thead>\n",
       "  <tbody>\n",
       "    <tr>\n",
       "      <th>0</th>\n",
       "      <td>R121113121</td>\n",
       "      <td>NaN</td>\n",
       "      <td>INR</td>\n",
       "      <td>2299</td>\n",
       "      <td>IND</td>\n",
       "      <td>Chandrapur</td>\n",
       "      <td>IN-MH</td>\n",
       "      <td>NaN</td>\n",
       "      <td>Falcon Drone Four Axis Aircraft with 2.4 GHz R...</td>\n",
       "      <td>1</td>\n",
       "    </tr>\n",
       "    <tr>\n",
       "      <th>1</th>\n",
       "      <td>R472890631</td>\n",
       "      <td>NaN</td>\n",
       "      <td>INR</td>\n",
       "      <td>2299</td>\n",
       "      <td>IND</td>\n",
       "      <td>Chandrapur</td>\n",
       "      <td>IN-MH</td>\n",
       "      <td>NaN</td>\n",
       "      <td>Falcon Drone Four Axis Aircraft with 2.4 GHz R...</td>\n",
       "      <td>1</td>\n",
       "    </tr>\n",
       "    <tr>\n",
       "      <th>2</th>\n",
       "      <td>R004476488</td>\n",
       "      <td>NaN</td>\n",
       "      <td>INR</td>\n",
       "      <td>2299</td>\n",
       "      <td>IND</td>\n",
       "      <td>Chandrapur</td>\n",
       "      <td>IN-MH</td>\n",
       "      <td>NaN</td>\n",
       "      <td>Falcon Drone Four Axis Aircraft with 2.4 GHz R...</td>\n",
       "      <td>1</td>\n",
       "    </tr>\n",
       "    <tr>\n",
       "      <th>3</th>\n",
       "      <td>R526038353</td>\n",
       "      <td>NaN</td>\n",
       "      <td>INR</td>\n",
       "      <td>2299</td>\n",
       "      <td>IND</td>\n",
       "      <td>Chandrapur</td>\n",
       "      <td>IN-MH</td>\n",
       "      <td>NaN</td>\n",
       "      <td>Falcon Drone Four Axis Aircraft with 2.4 GHz R...</td>\n",
       "      <td>1</td>\n",
       "    </tr>\n",
       "    <tr>\n",
       "      <th>4</th>\n",
       "      <td>R658530771</td>\n",
       "      <td>NaN</td>\n",
       "      <td>INR</td>\n",
       "      <td>349</td>\n",
       "      <td>IND</td>\n",
       "      <td>NEW DELHI</td>\n",
       "      <td>IN-DL</td>\n",
       "      <td>NaN</td>\n",
       "      <td>Barbie Doll (pink)</td>\n",
       "      <td>1</td>\n",
       "    </tr>\n",
       "    <tr>\n",
       "      <th>...</th>\n",
       "      <td>...</td>\n",
       "      <td>...</td>\n",
       "      <td>...</td>\n",
       "      <td>...</td>\n",
       "      <td>...</td>\n",
       "      <td>...</td>\n",
       "      <td>...</td>\n",
       "      <td>...</td>\n",
       "      <td>...</td>\n",
       "      <td>...</td>\n",
       "    </tr>\n",
       "    <tr>\n",
       "      <th>3034</th>\n",
       "      <td>R243395005</td>\n",
       "      <td>NaN</td>\n",
       "      <td>INR</td>\n",
       "      <td>50</td>\n",
       "      <td>IND</td>\n",
       "      <td>Gccch</td>\n",
       "      <td>IN-AN</td>\n",
       "      <td>NaN</td>\n",
       "      <td>Ear Wired Earphones With Mic White</td>\n",
       "      <td>1</td>\n",
       "    </tr>\n",
       "    <tr>\n",
       "      <th>3035</th>\n",
       "      <td>R607209508</td>\n",
       "      <td>NaN</td>\n",
       "      <td>INR</td>\n",
       "      <td>500</td>\n",
       "      <td>IND</td>\n",
       "      <td>BERHAMPUR</td>\n",
       "      <td>IN-OR</td>\n",
       "      <td>NaN</td>\n",
       "      <td>I Kall K-66 White</td>\n",
       "      <td>1</td>\n",
       "    </tr>\n",
       "    <tr>\n",
       "      <th>3036</th>\n",
       "      <td>R140316623</td>\n",
       "      <td>NaN</td>\n",
       "      <td>INR</td>\n",
       "      <td>4000</td>\n",
       "      <td>IND</td>\n",
       "      <td>berhampur</td>\n",
       "      <td>IN-OR</td>\n",
       "      <td>NaN</td>\n",
       "      <td>Electric Steam Cooker Maestro MC1</td>\n",
       "      <td>2</td>\n",
       "    </tr>\n",
       "    <tr>\n",
       "      <th>3037</th>\n",
       "      <td>R192037084</td>\n",
       "      <td>NaN</td>\n",
       "      <td>INR</td>\n",
       "      <td>2000</td>\n",
       "      <td>IND</td>\n",
       "      <td>sdas</td>\n",
       "      <td>IN-AN</td>\n",
       "      <td>NaN</td>\n",
       "      <td>Electric Steam Cooker Maestro MC1</td>\n",
       "      <td>1</td>\n",
       "    </tr>\n",
       "    <tr>\n",
       "      <th>3038</th>\n",
       "      <td>R414254148</td>\n",
       "      <td>28-09-2016 19:05:30 +0530</td>\n",
       "      <td>INR</td>\n",
       "      <td>2000</td>\n",
       "      <td>IND</td>\n",
       "      <td>sdas</td>\n",
       "      <td>IN-AN</td>\n",
       "      <td>Offline Payment ₹2,000.00</td>\n",
       "      <td>Electric Steam Cooker Maestro MC1</td>\n",
       "      <td>1</td>\n",
       "    </tr>\n",
       "  </tbody>\n",
       "</table>\n",
       "<p>3036 rows × 10 columns</p>\n",
       "</div>"
      ],
      "text/plain": [
       "        Order No             DateTime Stamp Currency Total Shipping Country  \\\n",
       "0     R121113121                        NaN      INR  2299              IND   \n",
       "1     R472890631                        NaN      INR  2299              IND   \n",
       "2     R004476488                        NaN      INR  2299              IND   \n",
       "3     R526038353                        NaN      INR  2299              IND   \n",
       "4     R658530771                        NaN      INR   349              IND   \n",
       "...          ...                        ...      ...   ...              ...   \n",
       "3034  R243395005                        NaN      INR    50              IND   \n",
       "3035  R607209508                        NaN      INR   500              IND   \n",
       "3036  R140316623                        NaN      INR  4000              IND   \n",
       "3037  R192037084                        NaN      INR  2000              IND   \n",
       "3038  R414254148  28-09-2016 19:05:30 +0530      INR  2000              IND   \n",
       "\n",
       "     Shipping City Shipping State             Payment Method  \\\n",
       "0       Chandrapur          IN-MH                        NaN   \n",
       "1       Chandrapur          IN-MH                        NaN   \n",
       "2       Chandrapur          IN-MH                        NaN   \n",
       "3       Chandrapur          IN-MH                        NaN   \n",
       "4        NEW DELHI          IN-DL                        NaN   \n",
       "...            ...            ...                        ...   \n",
       "3034         Gccch          IN-AN                        NaN   \n",
       "3035     BERHAMPUR          IN-OR                        NaN   \n",
       "3036     berhampur          IN-OR                        NaN   \n",
       "3037          sdas          IN-AN                        NaN   \n",
       "3038          sdas          IN-AN  Offline Payment ₹2,000.00   \n",
       "\n",
       "                                           Product Name  Quantity  \n",
       "0     Falcon Drone Four Axis Aircraft with 2.4 GHz R...         1  \n",
       "1     Falcon Drone Four Axis Aircraft with 2.4 GHz R...         1  \n",
       "2     Falcon Drone Four Axis Aircraft with 2.4 GHz R...         1  \n",
       "3     Falcon Drone Four Axis Aircraft with 2.4 GHz R...         1  \n",
       "4                                    Barbie Doll (pink)         1  \n",
       "...                                                 ...       ...  \n",
       "3034                 Ear Wired Earphones With Mic White         1  \n",
       "3035                                  I Kall K-66 White         1  \n",
       "3036                  Electric Steam Cooker Maestro MC1         2  \n",
       "3037                  Electric Steam Cooker Maestro MC1         1  \n",
       "3038                  Electric Steam Cooker Maestro MC1         1  \n",
       "\n",
       "[3036 rows x 10 columns]"
      ]
     },
     "execution_count": 175,
     "metadata": {},
     "output_type": "execute_result"
    }
   ],
   "source": [
    "state_sale.drop_duplicates()"
   ]
  },
  {
   "cell_type": "code",
   "execution_count": 183,
   "metadata": {},
   "outputs": [],
   "source": [
    "state_sale = state_sale[state_sale['Shipping Country'] == 'IND']"
   ]
  },
  {
   "cell_type": "code",
   "execution_count": 192,
   "metadata": {},
   "outputs": [
    {
     "data": {
      "text/plain": [
       "67"
      ]
     },
     "execution_count": 192,
     "metadata": {},
     "output_type": "execute_result"
    }
   ],
   "source": [
    "state_sale.duplicated(subset=['Order No']).sum()"
   ]
  },
  {
   "cell_type": "code",
   "execution_count": 195,
   "metadata": {},
   "outputs": [
    {
     "data": {
      "text/plain": [
       "(2932, 10)"
      ]
     },
     "execution_count": 195,
     "metadata": {},
     "output_type": "execute_result"
    }
   ],
   "source": [
    "state_sale = state_sale.drop_duplicates(subset=['Order No'])\n",
    "state_sale.shape"
   ]
  },
  {
   "cell_type": "code",
   "execution_count": 199,
   "metadata": {},
   "outputs": [
    {
     "name": "stdout",
     "output_type": "stream",
     "text": [
      "<class 'pandas.core.frame.DataFrame'>\n",
      "Int64Index: 2932 entries, 0 to 3038\n",
      "Data columns (total 10 columns):\n",
      " #   Column            Non-Null Count  Dtype \n",
      "---  ------            --------------  ----- \n",
      " 0   Order No          2932 non-null   object\n",
      " 1   DateTime Stamp    207 non-null    object\n",
      " 2   Currency          2932 non-null   object\n",
      " 3   Total             2932 non-null   object\n",
      " 4   Shipping Country  2932 non-null   object\n",
      " 5   Shipping City     2913 non-null   object\n",
      " 6   Shipping State    2932 non-null   object\n",
      " 7   Payment Method    228 non-null    object\n",
      " 8   Product Name      2932 non-null   object\n",
      " 9   Quantity          2932 non-null   int64 \n",
      "dtypes: int64(1), object(9)\n",
      "memory usage: 252.0+ KB\n"
     ]
    }
   ],
   "source": [
    "state_sale.info()"
   ]
  },
  {
   "cell_type": "code",
   "execution_count": 201,
   "metadata": {},
   "outputs": [],
   "source": [
    "state_sale = state_sale[~state_sale['Total'].str.contains(',')]"
   ]
  },
  {
   "cell_type": "code",
   "execution_count": 202,
   "metadata": {},
   "outputs": [
    {
     "data": {
      "text/plain": [
       "(2928, 10)"
      ]
     },
     "execution_count": 202,
     "metadata": {},
     "output_type": "execute_result"
    }
   ],
   "source": [
    "state_sale.shape"
   ]
  },
  {
   "attachments": {},
   "cell_type": "markdown",
   "metadata": {},
   "source": [
    "Converting the 'Total' data type into int after float"
   ]
  },
  {
   "cell_type": "code",
   "execution_count": 211,
   "metadata": {},
   "outputs": [],
   "source": [
    "state_sale['Total'] = state_sale['Total'].astype(float)"
   ]
  },
  {
   "cell_type": "code",
   "execution_count": 212,
   "metadata": {},
   "outputs": [],
   "source": [
    "state_sale['Total'] = state_sale['Total'].astype(int)"
   ]
  },
  {
   "cell_type": "code",
   "execution_count": 213,
   "metadata": {},
   "outputs": [
    {
     "data": {
      "text/plain": [
       "Order No            object\n",
       "DateTime Stamp      object\n",
       "Currency            object\n",
       "Total                int32\n",
       "Shipping Country    object\n",
       "Shipping City       object\n",
       "Shipping State      object\n",
       "Payment Method      object\n",
       "Product Name        object\n",
       "Quantity             int64\n",
       "dtype: object"
      ]
     },
     "execution_count": 213,
     "metadata": {},
     "output_type": "execute_result"
    }
   ],
   "source": [
    "state_sale.dtypes"
   ]
  },
  {
   "cell_type": "code",
   "execution_count": 225,
   "metadata": {},
   "outputs": [
    {
     "data": {
      "text/html": [
       "<div>\n",
       "<style scoped>\n",
       "    .dataframe tbody tr th:only-of-type {\n",
       "        vertical-align: middle;\n",
       "    }\n",
       "\n",
       "    .dataframe tbody tr th {\n",
       "        vertical-align: top;\n",
       "    }\n",
       "\n",
       "    .dataframe thead th {\n",
       "        text-align: right;\n",
       "    }\n",
       "</style>\n",
       "<table border=\"1\" class=\"dataframe\">\n",
       "  <thead>\n",
       "    <tr style=\"text-align: right;\">\n",
       "      <th></th>\n",
       "      <th>Shipping State</th>\n",
       "      <th>Total</th>\n",
       "    </tr>\n",
       "  </thead>\n",
       "  <tbody>\n",
       "    <tr>\n",
       "      <th>0</th>\n",
       "      <td>IN-AN</td>\n",
       "      <td>2550.496599</td>\n",
       "    </tr>\n",
       "    <tr>\n",
       "      <th>1</th>\n",
       "      <td>IN-AP</td>\n",
       "      <td>1802.073446</td>\n",
       "    </tr>\n",
       "    <tr>\n",
       "      <th>2</th>\n",
       "      <td>IN-AR</td>\n",
       "      <td>1699.000000</td>\n",
       "    </tr>\n",
       "    <tr>\n",
       "      <th>3</th>\n",
       "      <td>IN-AS</td>\n",
       "      <td>2772.027027</td>\n",
       "    </tr>\n",
       "    <tr>\n",
       "      <th>4</th>\n",
       "      <td>IN-BR</td>\n",
       "      <td>2080.910569</td>\n",
       "    </tr>\n",
       "  </tbody>\n",
       "</table>\n",
       "</div>"
      ],
      "text/plain": [
       "  Shipping State        Total\n",
       "0          IN-AN  2550.496599\n",
       "1          IN-AP  1802.073446\n",
       "2          IN-AR  1699.000000\n",
       "3          IN-AS  2772.027027\n",
       "4          IN-BR  2080.910569"
      ]
     },
     "execution_count": 225,
     "metadata": {},
     "output_type": "execute_result"
    }
   ],
   "source": [
    "top_state_sale = state_sale.groupby(['Shipping State'], as_index=False)['Total'].mean()\n",
    "top_state_sale.head()"
   ]
  },
  {
   "cell_type": "code",
   "execution_count": 226,
   "metadata": {},
   "outputs": [],
   "source": [
    "top_state_sale.sort_values(ascending=False, by='Total', inplace=True)"
   ]
  },
  {
   "cell_type": "code",
   "execution_count": 228,
   "metadata": {},
   "outputs": [],
   "source": [
    "top_state_sale['Total']=top_state_sale['Total'].round(1)"
   ]
  },
  {
   "cell_type": "code",
   "execution_count": 229,
   "metadata": {},
   "outputs": [],
   "source": [
    "top_state_sale.reset_index(drop=True, inplace=True)"
   ]
  },
  {
   "cell_type": "code",
   "execution_count": 237,
   "metadata": {},
   "outputs": [
    {
     "data": {
      "text/html": [
       "<div>\n",
       "<style scoped>\n",
       "    .dataframe tbody tr th:only-of-type {\n",
       "        vertical-align: middle;\n",
       "    }\n",
       "\n",
       "    .dataframe tbody tr th {\n",
       "        vertical-align: top;\n",
       "    }\n",
       "\n",
       "    .dataframe thead th {\n",
       "        text-align: right;\n",
       "    }\n",
       "</style>\n",
       "<table border=\"1\" class=\"dataframe\">\n",
       "  <thead>\n",
       "    <tr style=\"text-align: right;\">\n",
       "      <th></th>\n",
       "      <th>Shipping State</th>\n",
       "      <th>Total</th>\n",
       "    </tr>\n",
       "  </thead>\n",
       "  <tbody>\n",
       "    <tr>\n",
       "      <th>0</th>\n",
       "      <td>IN-SK</td>\n",
       "      <td>31999.0</td>\n",
       "    </tr>\n",
       "    <tr>\n",
       "      <th>1</th>\n",
       "      <td>IN-NL</td>\n",
       "      <td>5761.8</td>\n",
       "    </tr>\n",
       "    <tr>\n",
       "      <th>2</th>\n",
       "      <td>IN-CH</td>\n",
       "      <td>5260.4</td>\n",
       "    </tr>\n",
       "    <tr>\n",
       "      <th>3</th>\n",
       "      <td>IN-HP</td>\n",
       "      <td>4876.2</td>\n",
       "    </tr>\n",
       "    <tr>\n",
       "      <th>4</th>\n",
       "      <td>IN-PY</td>\n",
       "      <td>4290.9</td>\n",
       "    </tr>\n",
       "    <tr>\n",
       "      <th>5</th>\n",
       "      <td>IN-UP</td>\n",
       "      <td>3938.1</td>\n",
       "    </tr>\n",
       "    <tr>\n",
       "      <th>6</th>\n",
       "      <td>IN-JK</td>\n",
       "      <td>3078.3</td>\n",
       "    </tr>\n",
       "    <tr>\n",
       "      <th>7</th>\n",
       "      <td>IN-MP</td>\n",
       "      <td>3050.0</td>\n",
       "    </tr>\n",
       "    <tr>\n",
       "      <th>8</th>\n",
       "      <td>IN-UT</td>\n",
       "      <td>2906.8</td>\n",
       "    </tr>\n",
       "    <tr>\n",
       "      <th>9</th>\n",
       "      <td>IN-AS</td>\n",
       "      <td>2772.0</td>\n",
       "    </tr>\n",
       "  </tbody>\n",
       "</table>\n",
       "</div>"
      ],
      "text/plain": [
       "  Shipping State    Total\n",
       "0          IN-SK  31999.0\n",
       "1          IN-NL   5761.8\n",
       "2          IN-CH   5260.4\n",
       "3          IN-HP   4876.2\n",
       "4          IN-PY   4290.9\n",
       "5          IN-UP   3938.1\n",
       "6          IN-JK   3078.3\n",
       "7          IN-MP   3050.0\n",
       "8          IN-UT   2906.8\n",
       "9          IN-AS   2772.0"
      ]
     },
     "execution_count": 237,
     "metadata": {},
     "output_type": "execute_result"
    }
   ],
   "source": [
    "top_state_sale = top_state_sale.head(10)\n",
    "top_state_sale"
   ]
  },
  {
   "attachments": {},
   "cell_type": "markdown",
   "metadata": {},
   "source": [
    "Replacing the states code into their standard original names"
   ]
  },
  {
   "cell_type": "code",
   "execution_count": 238,
   "metadata": {},
   "outputs": [],
   "source": [
    "top_state_sale['Shipping State'].replace({'IN-SK':'Sikkim', 'IN-NL':'Nagaland', 'IN-CH':'Chandigarh', 'IN-HP':'Himanchal Pradesh',\n",
    "                'IN-PY':'Puducherry', 'IN-UP':'Uttar Pradesh', 'IN-JK':'Jammu and Kashmir', 'IN-MP':'Madhya Pradesh', 'IN-UT':'Uttarakhand',\n",
    "                'IN-AS':'Assam'}, inplace=True)"
   ]
  },
  {
   "attachments": {},
   "cell_type": "markdown",
   "metadata": {},
   "source": [
    "Visualizing the data for better understanding"
   ]
  },
  {
   "cell_type": "code",
   "execution_count": 241,
   "metadata": {},
   "outputs": [
    {
     "data": {
      "application/vnd.plotly.v1+json": {
       "config": {
        "plotlyServerURL": "https://plot.ly"
       },
       "data": [
        {
         "alignmentgroup": "True",
         "hovertemplate": "State=%{x}<br>Avg_Sale=%{text}<extra></extra>",
         "legendgroup": "Sikkim",
         "marker": {
          "color": "#636efa",
          "pattern": {
           "shape": ""
          }
         },
         "name": "Sikkim",
         "offsetgroup": "Sikkim",
         "orientation": "v",
         "showlegend": true,
         "text": [
          31999
         ],
         "textposition": "auto",
         "type": "bar",
         "x": [
          "Sikkim"
         ],
         "xaxis": "x",
         "y": [
          31999
         ],
         "yaxis": "y"
        },
        {
         "alignmentgroup": "True",
         "hovertemplate": "State=%{x}<br>Avg_Sale=%{text}<extra></extra>",
         "legendgroup": "Nagaland",
         "marker": {
          "color": "#EF553B",
          "pattern": {
           "shape": ""
          }
         },
         "name": "Nagaland",
         "offsetgroup": "Nagaland",
         "orientation": "v",
         "showlegend": true,
         "text": [
          5761.8
         ],
         "textposition": "auto",
         "type": "bar",
         "x": [
          "Nagaland"
         ],
         "xaxis": "x",
         "y": [
          5761.8
         ],
         "yaxis": "y"
        },
        {
         "alignmentgroup": "True",
         "hovertemplate": "State=%{x}<br>Avg_Sale=%{text}<extra></extra>",
         "legendgroup": "Chandigarh",
         "marker": {
          "color": "#00cc96",
          "pattern": {
           "shape": ""
          }
         },
         "name": "Chandigarh",
         "offsetgroup": "Chandigarh",
         "orientation": "v",
         "showlegend": true,
         "text": [
          5260.4
         ],
         "textposition": "auto",
         "type": "bar",
         "x": [
          "Chandigarh"
         ],
         "xaxis": "x",
         "y": [
          5260.4
         ],
         "yaxis": "y"
        },
        {
         "alignmentgroup": "True",
         "hovertemplate": "State=%{x}<br>Avg_Sale=%{text}<extra></extra>",
         "legendgroup": "Himanchal Pradesh",
         "marker": {
          "color": "#ab63fa",
          "pattern": {
           "shape": ""
          }
         },
         "name": "Himanchal Pradesh",
         "offsetgroup": "Himanchal Pradesh",
         "orientation": "v",
         "showlegend": true,
         "text": [
          4876.2
         ],
         "textposition": "auto",
         "type": "bar",
         "x": [
          "Himanchal Pradesh"
         ],
         "xaxis": "x",
         "y": [
          4876.2
         ],
         "yaxis": "y"
        },
        {
         "alignmentgroup": "True",
         "hovertemplate": "State=%{x}<br>Avg_Sale=%{text}<extra></extra>",
         "legendgroup": "Puducherry",
         "marker": {
          "color": "#FFA15A",
          "pattern": {
           "shape": ""
          }
         },
         "name": "Puducherry",
         "offsetgroup": "Puducherry",
         "orientation": "v",
         "showlegend": true,
         "text": [
          4290.9
         ],
         "textposition": "auto",
         "type": "bar",
         "x": [
          "Puducherry"
         ],
         "xaxis": "x",
         "y": [
          4290.9
         ],
         "yaxis": "y"
        },
        {
         "alignmentgroup": "True",
         "hovertemplate": "State=%{x}<br>Avg_Sale=%{text}<extra></extra>",
         "legendgroup": "Uttar Pradesh",
         "marker": {
          "color": "#19d3f3",
          "pattern": {
           "shape": ""
          }
         },
         "name": "Uttar Pradesh",
         "offsetgroup": "Uttar Pradesh",
         "orientation": "v",
         "showlegend": true,
         "text": [
          3938.1
         ],
         "textposition": "auto",
         "type": "bar",
         "x": [
          "Uttar Pradesh"
         ],
         "xaxis": "x",
         "y": [
          3938.1
         ],
         "yaxis": "y"
        },
        {
         "alignmentgroup": "True",
         "hovertemplate": "State=%{x}<br>Avg_Sale=%{text}<extra></extra>",
         "legendgroup": "Jammu and Kashmir",
         "marker": {
          "color": "#FF6692",
          "pattern": {
           "shape": ""
          }
         },
         "name": "Jammu and Kashmir",
         "offsetgroup": "Jammu and Kashmir",
         "orientation": "v",
         "showlegend": true,
         "text": [
          3078.3
         ],
         "textposition": "auto",
         "type": "bar",
         "x": [
          "Jammu and Kashmir"
         ],
         "xaxis": "x",
         "y": [
          3078.3
         ],
         "yaxis": "y"
        },
        {
         "alignmentgroup": "True",
         "hovertemplate": "State=%{x}<br>Avg_Sale=%{text}<extra></extra>",
         "legendgroup": "Madhya Pradesh",
         "marker": {
          "color": "#B6E880",
          "pattern": {
           "shape": ""
          }
         },
         "name": "Madhya Pradesh",
         "offsetgroup": "Madhya Pradesh",
         "orientation": "v",
         "showlegend": true,
         "text": [
          3050
         ],
         "textposition": "auto",
         "type": "bar",
         "x": [
          "Madhya Pradesh"
         ],
         "xaxis": "x",
         "y": [
          3050
         ],
         "yaxis": "y"
        },
        {
         "alignmentgroup": "True",
         "hovertemplate": "State=%{x}<br>Avg_Sale=%{text}<extra></extra>",
         "legendgroup": "Uttarakhand",
         "marker": {
          "color": "#FF97FF",
          "pattern": {
           "shape": ""
          }
         },
         "name": "Uttarakhand",
         "offsetgroup": "Uttarakhand",
         "orientation": "v",
         "showlegend": true,
         "text": [
          2906.8
         ],
         "textposition": "auto",
         "type": "bar",
         "x": [
          "Uttarakhand"
         ],
         "xaxis": "x",
         "y": [
          2906.8
         ],
         "yaxis": "y"
        },
        {
         "alignmentgroup": "True",
         "hovertemplate": "State=%{x}<br>Avg_Sale=%{text}<extra></extra>",
         "legendgroup": "Assam",
         "marker": {
          "color": "#FECB52",
          "pattern": {
           "shape": ""
          }
         },
         "name": "Assam",
         "offsetgroup": "Assam",
         "orientation": "v",
         "showlegend": true,
         "text": [
          2772
         ],
         "textposition": "auto",
         "type": "bar",
         "x": [
          "Assam"
         ],
         "xaxis": "x",
         "y": [
          2772
         ],
         "yaxis": "y"
        }
       ],
       "layout": {
        "barmode": "relative",
        "legend": {
         "title": {
          "text": "State"
         },
         "tracegroupgap": 0
        },
        "template": {
         "data": {
          "bar": [
           {
            "error_x": {
             "color": "#2a3f5f"
            },
            "error_y": {
             "color": "#2a3f5f"
            },
            "marker": {
             "line": {
              "color": "#E5ECF6",
              "width": 0.5
             },
             "pattern": {
              "fillmode": "overlay",
              "size": 10,
              "solidity": 0.2
             }
            },
            "type": "bar"
           }
          ],
          "barpolar": [
           {
            "marker": {
             "line": {
              "color": "#E5ECF6",
              "width": 0.5
             },
             "pattern": {
              "fillmode": "overlay",
              "size": 10,
              "solidity": 0.2
             }
            },
            "type": "barpolar"
           }
          ],
          "carpet": [
           {
            "aaxis": {
             "endlinecolor": "#2a3f5f",
             "gridcolor": "white",
             "linecolor": "white",
             "minorgridcolor": "white",
             "startlinecolor": "#2a3f5f"
            },
            "baxis": {
             "endlinecolor": "#2a3f5f",
             "gridcolor": "white",
             "linecolor": "white",
             "minorgridcolor": "white",
             "startlinecolor": "#2a3f5f"
            },
            "type": "carpet"
           }
          ],
          "choropleth": [
           {
            "colorbar": {
             "outlinewidth": 0,
             "ticks": ""
            },
            "type": "choropleth"
           }
          ],
          "contour": [
           {
            "colorbar": {
             "outlinewidth": 0,
             "ticks": ""
            },
            "colorscale": [
             [
              0,
              "#0d0887"
             ],
             [
              0.1111111111111111,
              "#46039f"
             ],
             [
              0.2222222222222222,
              "#7201a8"
             ],
             [
              0.3333333333333333,
              "#9c179e"
             ],
             [
              0.4444444444444444,
              "#bd3786"
             ],
             [
              0.5555555555555556,
              "#d8576b"
             ],
             [
              0.6666666666666666,
              "#ed7953"
             ],
             [
              0.7777777777777778,
              "#fb9f3a"
             ],
             [
              0.8888888888888888,
              "#fdca26"
             ],
             [
              1,
              "#f0f921"
             ]
            ],
            "type": "contour"
           }
          ],
          "contourcarpet": [
           {
            "colorbar": {
             "outlinewidth": 0,
             "ticks": ""
            },
            "type": "contourcarpet"
           }
          ],
          "heatmap": [
           {
            "colorbar": {
             "outlinewidth": 0,
             "ticks": ""
            },
            "colorscale": [
             [
              0,
              "#0d0887"
             ],
             [
              0.1111111111111111,
              "#46039f"
             ],
             [
              0.2222222222222222,
              "#7201a8"
             ],
             [
              0.3333333333333333,
              "#9c179e"
             ],
             [
              0.4444444444444444,
              "#bd3786"
             ],
             [
              0.5555555555555556,
              "#d8576b"
             ],
             [
              0.6666666666666666,
              "#ed7953"
             ],
             [
              0.7777777777777778,
              "#fb9f3a"
             ],
             [
              0.8888888888888888,
              "#fdca26"
             ],
             [
              1,
              "#f0f921"
             ]
            ],
            "type": "heatmap"
           }
          ],
          "heatmapgl": [
           {
            "colorbar": {
             "outlinewidth": 0,
             "ticks": ""
            },
            "colorscale": [
             [
              0,
              "#0d0887"
             ],
             [
              0.1111111111111111,
              "#46039f"
             ],
             [
              0.2222222222222222,
              "#7201a8"
             ],
             [
              0.3333333333333333,
              "#9c179e"
             ],
             [
              0.4444444444444444,
              "#bd3786"
             ],
             [
              0.5555555555555556,
              "#d8576b"
             ],
             [
              0.6666666666666666,
              "#ed7953"
             ],
             [
              0.7777777777777778,
              "#fb9f3a"
             ],
             [
              0.8888888888888888,
              "#fdca26"
             ],
             [
              1,
              "#f0f921"
             ]
            ],
            "type": "heatmapgl"
           }
          ],
          "histogram": [
           {
            "marker": {
             "pattern": {
              "fillmode": "overlay",
              "size": 10,
              "solidity": 0.2
             }
            },
            "type": "histogram"
           }
          ],
          "histogram2d": [
           {
            "colorbar": {
             "outlinewidth": 0,
             "ticks": ""
            },
            "colorscale": [
             [
              0,
              "#0d0887"
             ],
             [
              0.1111111111111111,
              "#46039f"
             ],
             [
              0.2222222222222222,
              "#7201a8"
             ],
             [
              0.3333333333333333,
              "#9c179e"
             ],
             [
              0.4444444444444444,
              "#bd3786"
             ],
             [
              0.5555555555555556,
              "#d8576b"
             ],
             [
              0.6666666666666666,
              "#ed7953"
             ],
             [
              0.7777777777777778,
              "#fb9f3a"
             ],
             [
              0.8888888888888888,
              "#fdca26"
             ],
             [
              1,
              "#f0f921"
             ]
            ],
            "type": "histogram2d"
           }
          ],
          "histogram2dcontour": [
           {
            "colorbar": {
             "outlinewidth": 0,
             "ticks": ""
            },
            "colorscale": [
             [
              0,
              "#0d0887"
             ],
             [
              0.1111111111111111,
              "#46039f"
             ],
             [
              0.2222222222222222,
              "#7201a8"
             ],
             [
              0.3333333333333333,
              "#9c179e"
             ],
             [
              0.4444444444444444,
              "#bd3786"
             ],
             [
              0.5555555555555556,
              "#d8576b"
             ],
             [
              0.6666666666666666,
              "#ed7953"
             ],
             [
              0.7777777777777778,
              "#fb9f3a"
             ],
             [
              0.8888888888888888,
              "#fdca26"
             ],
             [
              1,
              "#f0f921"
             ]
            ],
            "type": "histogram2dcontour"
           }
          ],
          "mesh3d": [
           {
            "colorbar": {
             "outlinewidth": 0,
             "ticks": ""
            },
            "type": "mesh3d"
           }
          ],
          "parcoords": [
           {
            "line": {
             "colorbar": {
              "outlinewidth": 0,
              "ticks": ""
             }
            },
            "type": "parcoords"
           }
          ],
          "pie": [
           {
            "automargin": true,
            "type": "pie"
           }
          ],
          "scatter": [
           {
            "fillpattern": {
             "fillmode": "overlay",
             "size": 10,
             "solidity": 0.2
            },
            "type": "scatter"
           }
          ],
          "scatter3d": [
           {
            "line": {
             "colorbar": {
              "outlinewidth": 0,
              "ticks": ""
             }
            },
            "marker": {
             "colorbar": {
              "outlinewidth": 0,
              "ticks": ""
             }
            },
            "type": "scatter3d"
           }
          ],
          "scattercarpet": [
           {
            "marker": {
             "colorbar": {
              "outlinewidth": 0,
              "ticks": ""
             }
            },
            "type": "scattercarpet"
           }
          ],
          "scattergeo": [
           {
            "marker": {
             "colorbar": {
              "outlinewidth": 0,
              "ticks": ""
             }
            },
            "type": "scattergeo"
           }
          ],
          "scattergl": [
           {
            "marker": {
             "colorbar": {
              "outlinewidth": 0,
              "ticks": ""
             }
            },
            "type": "scattergl"
           }
          ],
          "scattermapbox": [
           {
            "marker": {
             "colorbar": {
              "outlinewidth": 0,
              "ticks": ""
             }
            },
            "type": "scattermapbox"
           }
          ],
          "scatterpolar": [
           {
            "marker": {
             "colorbar": {
              "outlinewidth": 0,
              "ticks": ""
             }
            },
            "type": "scatterpolar"
           }
          ],
          "scatterpolargl": [
           {
            "marker": {
             "colorbar": {
              "outlinewidth": 0,
              "ticks": ""
             }
            },
            "type": "scatterpolargl"
           }
          ],
          "scatterternary": [
           {
            "marker": {
             "colorbar": {
              "outlinewidth": 0,
              "ticks": ""
             }
            },
            "type": "scatterternary"
           }
          ],
          "surface": [
           {
            "colorbar": {
             "outlinewidth": 0,
             "ticks": ""
            },
            "colorscale": [
             [
              0,
              "#0d0887"
             ],
             [
              0.1111111111111111,
              "#46039f"
             ],
             [
              0.2222222222222222,
              "#7201a8"
             ],
             [
              0.3333333333333333,
              "#9c179e"
             ],
             [
              0.4444444444444444,
              "#bd3786"
             ],
             [
              0.5555555555555556,
              "#d8576b"
             ],
             [
              0.6666666666666666,
              "#ed7953"
             ],
             [
              0.7777777777777778,
              "#fb9f3a"
             ],
             [
              0.8888888888888888,
              "#fdca26"
             ],
             [
              1,
              "#f0f921"
             ]
            ],
            "type": "surface"
           }
          ],
          "table": [
           {
            "cells": {
             "fill": {
              "color": "#EBF0F8"
             },
             "line": {
              "color": "white"
             }
            },
            "header": {
             "fill": {
              "color": "#C8D4E3"
             },
             "line": {
              "color": "white"
             }
            },
            "type": "table"
           }
          ]
         },
         "layout": {
          "annotationdefaults": {
           "arrowcolor": "#2a3f5f",
           "arrowhead": 0,
           "arrowwidth": 1
          },
          "autotypenumbers": "strict",
          "coloraxis": {
           "colorbar": {
            "outlinewidth": 0,
            "ticks": ""
           }
          },
          "colorscale": {
           "diverging": [
            [
             0,
             "#8e0152"
            ],
            [
             0.1,
             "#c51b7d"
            ],
            [
             0.2,
             "#de77ae"
            ],
            [
             0.3,
             "#f1b6da"
            ],
            [
             0.4,
             "#fde0ef"
            ],
            [
             0.5,
             "#f7f7f7"
            ],
            [
             0.6,
             "#e6f5d0"
            ],
            [
             0.7,
             "#b8e186"
            ],
            [
             0.8,
             "#7fbc41"
            ],
            [
             0.9,
             "#4d9221"
            ],
            [
             1,
             "#276419"
            ]
           ],
           "sequential": [
            [
             0,
             "#0d0887"
            ],
            [
             0.1111111111111111,
             "#46039f"
            ],
            [
             0.2222222222222222,
             "#7201a8"
            ],
            [
             0.3333333333333333,
             "#9c179e"
            ],
            [
             0.4444444444444444,
             "#bd3786"
            ],
            [
             0.5555555555555556,
             "#d8576b"
            ],
            [
             0.6666666666666666,
             "#ed7953"
            ],
            [
             0.7777777777777778,
             "#fb9f3a"
            ],
            [
             0.8888888888888888,
             "#fdca26"
            ],
            [
             1,
             "#f0f921"
            ]
           ],
           "sequentialminus": [
            [
             0,
             "#0d0887"
            ],
            [
             0.1111111111111111,
             "#46039f"
            ],
            [
             0.2222222222222222,
             "#7201a8"
            ],
            [
             0.3333333333333333,
             "#9c179e"
            ],
            [
             0.4444444444444444,
             "#bd3786"
            ],
            [
             0.5555555555555556,
             "#d8576b"
            ],
            [
             0.6666666666666666,
             "#ed7953"
            ],
            [
             0.7777777777777778,
             "#fb9f3a"
            ],
            [
             0.8888888888888888,
             "#fdca26"
            ],
            [
             1,
             "#f0f921"
            ]
           ]
          },
          "colorway": [
           "#636efa",
           "#EF553B",
           "#00cc96",
           "#ab63fa",
           "#FFA15A",
           "#19d3f3",
           "#FF6692",
           "#B6E880",
           "#FF97FF",
           "#FECB52"
          ],
          "font": {
           "color": "#2a3f5f"
          },
          "geo": {
           "bgcolor": "white",
           "lakecolor": "white",
           "landcolor": "#E5ECF6",
           "showlakes": true,
           "showland": true,
           "subunitcolor": "white"
          },
          "hoverlabel": {
           "align": "left"
          },
          "hovermode": "closest",
          "mapbox": {
           "style": "light"
          },
          "paper_bgcolor": "white",
          "plot_bgcolor": "#E5ECF6",
          "polar": {
           "angularaxis": {
            "gridcolor": "white",
            "linecolor": "white",
            "ticks": ""
           },
           "bgcolor": "#E5ECF6",
           "radialaxis": {
            "gridcolor": "white",
            "linecolor": "white",
            "ticks": ""
           }
          },
          "scene": {
           "xaxis": {
            "backgroundcolor": "#E5ECF6",
            "gridcolor": "white",
            "gridwidth": 2,
            "linecolor": "white",
            "showbackground": true,
            "ticks": "",
            "zerolinecolor": "white"
           },
           "yaxis": {
            "backgroundcolor": "#E5ECF6",
            "gridcolor": "white",
            "gridwidth": 2,
            "linecolor": "white",
            "showbackground": true,
            "ticks": "",
            "zerolinecolor": "white"
           },
           "zaxis": {
            "backgroundcolor": "#E5ECF6",
            "gridcolor": "white",
            "gridwidth": 2,
            "linecolor": "white",
            "showbackground": true,
            "ticks": "",
            "zerolinecolor": "white"
           }
          },
          "shapedefaults": {
           "line": {
            "color": "#2a3f5f"
           }
          },
          "ternary": {
           "aaxis": {
            "gridcolor": "white",
            "linecolor": "white",
            "ticks": ""
           },
           "baxis": {
            "gridcolor": "white",
            "linecolor": "white",
            "ticks": ""
           },
           "bgcolor": "#E5ECF6",
           "caxis": {
            "gridcolor": "white",
            "linecolor": "white",
            "ticks": ""
           }
          },
          "title": {
           "x": 0.05
          },
          "xaxis": {
           "automargin": true,
           "gridcolor": "white",
           "linecolor": "white",
           "ticks": "",
           "title": {
            "standoff": 15
           },
           "zerolinecolor": "white",
           "zerolinewidth": 2
          },
          "yaxis": {
           "automargin": true,
           "gridcolor": "white",
           "linecolor": "white",
           "ticks": "",
           "title": {
            "standoff": 15
           },
           "zerolinecolor": "white",
           "zerolinewidth": 2
          }
         }
        },
        "title": {
         "text": "Top 10 States By Average Sale"
        },
        "xaxis": {
         "anchor": "y",
         "categoryarray": [
          "Sikkim",
          "Nagaland",
          "Chandigarh",
          "Himanchal Pradesh",
          "Puducherry",
          "Uttar Pradesh",
          "Jammu and Kashmir",
          "Madhya Pradesh",
          "Uttarakhand",
          "Assam"
         ],
         "categoryorder": "array",
         "domain": [
          0,
          1
         ],
         "title": {
          "text": "State"
         }
        },
        "yaxis": {
         "anchor": "x",
         "domain": [
          0,
          1
         ],
         "title": {
          "text": "Avg_Sale"
         }
        }
       }
      }
     },
     "metadata": {},
     "output_type": "display_data"
    }
   ],
   "source": [
    "px.bar(top_state_sale, x='Shipping State', y='Total', text='Total', labels={'Total':'Avg_Sale', 'Shipping State':'State'},\n",
    "        title='Top 10 States By Average Sale', color='Shipping State')"
   ]
  },
  {
   "attachments": {},
   "cell_type": "markdown",
   "metadata": {},
   "source": [
    "##### Result - Sikkim State has the most contribution in the growing of the company's sale."
   ]
  }
 ],
 "metadata": {
  "kernelspec": {
   "display_name": "Python 3",
   "language": "python",
   "name": "python3"
  },
  "language_info": {
   "codemirror_mode": {
    "name": "ipython",
    "version": 3
   },
   "file_extension": ".py",
   "mimetype": "text/x-python",
   "name": "python",
   "nbconvert_exporter": "python",
   "pygments_lexer": "ipython3",
   "version": "3.11.1"
  },
  "orig_nbformat": 4,
  "vscode": {
   "interpreter": {
    "hash": "72b2382ece9768098284d92bbc69d35954e75b60d1e25897d1389c232f4796f0"
   }
  }
 },
 "nbformat": 4,
 "nbformat_minor": 2
}
